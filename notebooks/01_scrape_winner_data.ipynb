{
 "cells": [
  {
   "cell_type": "code",
   "execution_count": 1,
   "id": "b45d68ce",
   "metadata": {},
   "outputs": [],
   "source": [
    "import pandas as pd\n",
    "\n",
    "import sys\n",
    "import os\n",
    "import glob\n",
    "\n",
    "sys.path.append(os.path.abspath(\"../scripts\"))\n",
    "\n",
    "from kpopdb_scraper import scrape_kpopdb_year"
   ]
  },
  {
   "cell_type": "code",
   "execution_count": 2,
   "id": "ecd76993",
   "metadata": {},
   "outputs": [
    {
     "name": "stderr",
     "output_type": "stream",
     "text": [
      "[INFO] Wrote ../data/tables/2023_Music_Bank.csv with 98 rows\n",
      "[INFO] Wrote ../data/tables/2023_Show_Music_Core.csv with 95 rows\n",
      "[INFO] Wrote ../data/tables/2023_Inkigayo.csv with 100 rows\n",
      "[INFO] Wrote ../data/tables/2023_Show_Champion.csv with 132 rows\n",
      "[INFO] Wrote ../data/tables/2023_M_Countdown.csv with 67 rows\n",
      "[INFO] Wrote ../data/tables/2023_Show.csv with 55 rows\n",
      "[INFO] Wrote ../data/tables/2024_Show_Music_Core.csv with 120 rows\n",
      "[INFO] Wrote ../data/tables/2024_Music_Bank.csv with 106 rows\n",
      "[INFO] Wrote ../data/tables/2024_Inkigayo.csv with 119 rows\n",
      "[INFO] Wrote ../data/tables/2024_Show_Champion.csv with 194 rows\n",
      "[INFO] Wrote ../data/tables/2024_Show.csv with 75 rows\n",
      "[INFO] Wrote ../data/tables/2024_M_Countdown.csv with 82 rows\n",
      "[INFO] Wrote ../data/tables/2025_Inkigayo.csv with 74 rows\n",
      "[INFO] Wrote ../data/tables/2025_Show.csv with 45 rows\n",
      "[INFO] Wrote ../data/tables/2025_Show_Music_Core.csv with 78 rows\n",
      "[INFO] Wrote ../data/tables/2025_Music_Bank.csv with 63 rows\n",
      "[INFO] Wrote ../data/tables/2025_M_Countdown.csv with 57 rows\n",
      "[INFO] Wrote ../data/tables/2025_Show_Champion.csv with 105 rows\n"
     ]
    }
   ],
   "source": [
    "for year in range(2023, 2026):\n",
    "    scrape_kpopdb_year(year, save_dir='../data/tables')"
   ]
  },
  {
   "cell_type": "code",
   "execution_count": 3,
   "id": "df664ee1",
   "metadata": {},
   "outputs": [],
   "source": [
    "csv_files = glob.glob(\"../data/tables/*.csv\")\n",
    "df = pd.concat([pd.read_csv(f) for f in csv_files], ignore_index=True)"
   ]
  },
  {
   "cell_type": "code",
   "execution_count": 4,
   "id": "fd7bb817",
   "metadata": {},
   "outputs": [
    {
     "name": "stdout",
     "output_type": "stream",
     "text": [
      "Show! Music Core null values with 293 rows\n",
      "Digital (CIRCLE)    59\n",
      "Album (CIRCLE)      74\n",
      "SNS (YouTube)       59\n",
      "Broadcast           64\n",
      "V.Committee         59\n",
      "Global Pre-Vote     60\n",
      "Text Live Vote      59\n",
      "App Live Vote       59\n",
      "dtype: int64\n",
      "\n",
      "M Countdown null values with 206 rows\n",
      "SNS (YouTube)                   68\n",
      "Broadcast                       75\n",
      "Digital (Circle Global Kpop)    68\n",
      "Physical (Circle Album)         74\n",
      "Pre-vote                        68\n",
      "Live Vote (Hidden)              76\n",
      "dtype: int64\n",
      "\n",
      "Show Champion null values with 431 rows\n",
      "Broadcast    19\n",
      "Pre-vote     20\n",
      "Digital      19\n",
      "Physical     19\n",
      "SNS          20\n",
      "dtype: int64\n",
      "\n",
      "Show null values with 175 rows\n",
      "Digital (CIRCLE)    37\n",
      "SNS (YouTube)       37\n",
      "Broadcast           52\n",
      "Pre-vote            52\n",
      "Album (Hanteo)      53\n",
      "Live Vote           37\n",
      "dtype: int64\n",
      "\n",
      "Inkigayo null values with 293 rows\n",
      "Song              1\n",
      "SNS (YouTube)    29\n",
      "Digital          29\n",
      "Live Vote        29\n",
      "Album Sales      29\n",
      "Pre-Vote         29\n",
      "On-Air           29\n",
      "dtype: int64\n",
      "\n",
      "Music Bank null values with 267 rows\n",
      "Broadcast         26\n",
      "Digital sales     26\n",
      "Voting            26\n",
      "Physical album    26\n",
      "Video views       26\n",
      "dtype: int64\n",
      "\n"
     ]
    }
   ],
   "source": [
    "show_list = df.Show.unique().tolist()\n",
    "for show in show_list:\n",
    "    filtered_df = df[df.Show == show]\n",
    "    print(f\"{show} null values with {filtered_df.shape[0]} rows\")\n",
    "    filtered_na = df[df.Show == show].isna().sum()\n",
    "    print(f\"{filtered_na[(filtered_na.values != filtered_df.shape[0]) & (filtered_na.values != 0)]}\\n\")"
   ]
  },
  {
   "cell_type": "code",
   "execution_count": 2,
   "id": "e9740914",
   "metadata": {},
   "outputs": [],
   "source": [
    "from sqlite_loader import initialize_connection, load_csv_to_sqlite, combine_all_shows\n",
    "\n",
    "conn = initialize_connection(\"../data/sql/raw_ingest.db\")\n",
    "\n",
    "csv_paths = glob.glob(\"../data/tables/*.csv\")\n",
    "\n",
    "for path in csv_paths:\n",
    "    filename = os.path.basename(path)\n",
    "    table_name = os.path.splitext(filename)[0].lower()\n",
    "    load_csv_to_sqlite(path, table_name, conn)\n",
    "\n",
    "conn.close()"
   ]
  },
  {
   "cell_type": "code",
   "execution_count": 3,
   "id": "0a5d9944",
   "metadata": {},
   "outputs": [
    {
     "name": "stdout",
     "output_type": "stream",
     "text": [
      "Manual updates applied based on row order.\n",
      "Clean database created at: ../data/sql/clean.db\n"
     ]
    }
   ],
   "source": [
    "from create_clean_db import build_clean_database\n",
    "\n",
    "build_clean_database()"
   ]
  }
 ],
 "metadata": {
  "kernelspec": {
   "display_name": "essentia",
   "language": "python",
   "name": "python3"
  },
  "language_info": {
   "codemirror_mode": {
    "name": "ipython",
    "version": 3
   },
   "file_extension": ".py",
   "mimetype": "text/x-python",
   "name": "python",
   "nbconvert_exporter": "python",
   "pygments_lexer": "ipython3",
   "version": "3.10.16"
  }
 },
 "nbformat": 4,
 "nbformat_minor": 5
}
