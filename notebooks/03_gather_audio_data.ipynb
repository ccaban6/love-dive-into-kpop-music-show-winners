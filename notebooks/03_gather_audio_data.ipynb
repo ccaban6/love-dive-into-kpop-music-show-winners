{
 "cells": [
  {
   "cell_type": "code",
   "execution_count": 1,
   "id": "dfbf175f",
   "metadata": {},
   "outputs": [
    {
     "name": "stderr",
     "output_type": "stream",
     "text": [
      "2025-09-09 10:48:28.806565: I tensorflow/core/platform/cpu_feature_guard.cc:210] This TensorFlow binary is optimized to use available CPU instructions in performance-critical operations.\n",
      "To enable the following instructions: SSE4.1 SSE4.2 AVX AVX2 AVX512F AVX512_VNNI AVX512_BF16 FMA, in other operations, rebuild TensorFlow with the appropriate compiler flags.\n"
     ]
    }
   ],
   "source": [
    "import pandas as pd\n",
    "import matplotlib.pyplot as plt\n",
    "import seaborn as sns\n",
    "\n",
    "import sys\n",
    "import os\n",
    "# Suppress TensorFlow GPU warnings and NUMA messages\n",
    "import tensorflow as tf\n",
    "import warnings\n",
    "\n",
    "# Set TensorFlow logging to only show errors\n",
    "os.environ['TF_CPP_MIN_LOG_LEVEL'] = '2'  # 0=all, 1=info, 2=warnings, 3=errors only\n",
    "tf.get_logger().setLevel('ERROR')\n",
    "\n",
    "# Suppress specific warnings\n",
    "warnings.filterwarnings('ignore', category=UserWarning, module='tensorflow')\n",
    "warnings.filterwarnings('ignore', message='.*NUMA node.*')\n",
    "warnings.filterwarnings('ignore', message='.*Could not identify NUMA node.*')\n",
    "\n",
    "sys.path.append(os.path.abspath(\"../scripts\"))"
   ]
  },
  {
   "cell_type": "code",
   "execution_count": null,
   "id": "09964a5b",
   "metadata": {},
   "outputs": [
    {
     "name": "stderr",
     "output_type": "stream",
     "text": [
      "[   INFO   ] MusicExtractorSVM: no classifier models were configured by default\n",
      "INFO:feature_extractor:Feature extractor initialized. Models will be loaded on first use.\n"
     ]
    },
    {
     "name": "stdout",
     "output_type": "stream",
     "text": [
      "Initializing feature extractor...\n",
      "Audio Processing Pipeline initialized\n",
      "Database: data/sql/clean.db\n",
      "Output directory: data/audio/raw\n",
      "Processed directory: data/processed\n",
      "Cache file: data/processed/processing_cache.json\n",
      "Processing songs from database...\n",
      "Found 457 unique song-artist combinations in database\n",
      "\n",
      "Processing song 1/457\n",
      "Artist-song combination 'G-Dragon - HOME SWEET HOME' already processed (file: G-Dragon - HOME SWEET HOME.wav), skipping...\n",
      "Successfully processed: G-Dragon - HOME SWEET HOME\n",
      "\n",
      "Processing song 2/457\n",
      "Artist-song combination 'aespa - Whiplash' already processed (file: aespa - Whiplash.wav), skipping...\n",
      "Successfully processed: aespa - Whiplash\n",
      "\n",
      "Processing song 3/457\n",
      "Artist-song combination 'ROSÉ - toxic till the end' already processed (file: ROSÉ - toxic till the end.wav), skipping...\n",
      "Successfully processed: ROSÉ - toxic till the end\n",
      "\n",
      "Processing song 4/457\n",
      "Artist-song combination 'Taeyeon - Letter To Myself' already processed (file: Taeyeon - Letter To Myself.wav), skipping...\n",
      "Successfully processed: Taeyeon - Letter To Myself\n",
      "\n",
      "Processing song 5/457\n",
      "Artist-song combination 'NCT DREAM - When I'm With You' already processed (file: NCT DREAM - When I'm With You.wav), skipping...\n",
      "Successfully processed: NCT DREAM - When I'm With You\n",
      "\n",
      "Processing song 6/457\n",
      "Artist-song combination 'G-Dragon - POWER' already processed (file: G-Dragon - POWER.wav), skipping...\n",
      "Successfully processed: G-Dragon - POWER\n",
      "\n",
      "Processing song 7/457\n",
      "Artist-song combination 'ROSÉ - APT (with Bruno Mars)' already processed (file: ROSÉ - APT (with Bruno Mars).wav), skipping...\n",
      "Successfully processed: ROSÉ - APT (with Bruno Mars)\n",
      "\n",
      "Processing song 8/457\n",
      "Artist-song combination 'THE BOYZ - TRIGGER' already processed (file: THE BOYZ - TRIGGER.wav), skipping...\n",
      "Successfully processed: THE BOYZ - TRIGGER\n",
      "\n",
      "Processing song 9/457\n",
      "Artist-song combination 'ILLIT - Cherish (My Love)' already processed (file: ILLIT - Cherish (My Love).wav), skipping...\n",
      "Successfully processed: ILLIT - Cherish (My Love)\n",
      "\n",
      "Processing song 10/457\n",
      "Artist-song combination 'SEVENTEEN - LOVE, MONEY, FAME' already processed (file: SEVENTEEN - LOVE, MONEY, FAME.wav), skipping...\n",
      "Successfully processed: SEVENTEEN - LOVE, MONEY, FAME\n",
      "\n",
      "Processing song 11/457\n",
      "Downloading aespa - Up (KARINA)...\n",
      "✅ Downloaded aespa - Up (KARINA) (2:47s)                 \n"
     ]
    },
    {
     "name": "stderr",
     "output_type": "stream",
     "text": [
      "/home/ccaban/Coding/Projects/kpop-music-winners/scripts/audio_pipeline.py:119: FutureWarning: get_duration() keyword argument 'filename' has been renamed to 'path' in version 0.10.0.\n",
      "\tThis alias will be removed in version 1.0.\n",
      "  duration = librosa.get_duration(filename=audio_file_path)\n",
      "INFO:feature_extractor:Loading model: tempocnn\n",
      "INFO:feature_extractor:Successfully loaded model: tempocnn\n"
     ]
    },
    {
     "name": "stdout",
     "output_type": "stream",
     "text": [
      "Audio file: /home/ccaban/Coding/Projects/kpop-music-winners/data/audio/raw/aespa - Up (KARINA).wav\n",
      "Sample rate: 16000 Hz\n",
      "Duration: 166.64 seconds\n",
      "Channels: 1\n",
      "Data type: float32\n",
      "✓ Sample rate is correct for Essentia models\n",
      "True\n",
      "Processing audio file: aespa - Up (KARINA).wav\n",
      "Extracting audio features...\n",
      "Extracting features from: /home/ccaban/Coding/Projects/kpop-music-winners/data/audio/raw/aespa - Up (KARINA).wav\n",
      "Audio loaded successfully. Duration: 166.64 seconds\n",
      "Extracting tempo using TempoCNN...\n"
     ]
    }
   ],
   "source": [
    "from audio_pipeline import AudioProcessingPipeline\n",
    "\n",
    "pipeline = AudioProcessingPipeline(\n",
    "    db_path=\"data/sql/clean.db\",\n",
    "    output_dir=\"data/audio/raw\",\n",
    "    processed_dir=\"data/processed\"\n",
    ")\n",
    "\n",
    "try:\n",
    "    print(\"Processing songs from database...\")\n",
    "    processed_songs = pipeline.process_songs_from_database(\n",
    "        table_name=\"all_awards\",  # Adjust table name based on your database schema\n",
    "        # limit=10,             # Process only 5 songs for demo\n",
    "        force_reprocess=False,  # Use cache to avoid reprocessing\n",
    "        song_column=\"song\",     # Column name for song titles\n",
    "        artist_column=\"artist\"  # Column name for artist names\n",
    "    )\n",
    "    \n",
    "    print(f\"\\n✅ Successfully processed {len(processed_songs)} unique songs\")\n",
    "    \n",
    "    # Save the results to JSON\n",
    "    if processed_songs:\n",
    "        output_file = pipeline.save_processed_metadata(\n",
    "            processed_songs, \n",
    "            \"database_processed_songs.json\"\n",
    "        )\n",
    "        print(f\"📁 Saved metadata to: {output_file}\")\n",
    "        \n",
    "        # Show summary of processed songs\n",
    "        print(\"\\nProcessed songs summary:\")\n",
    "        for i, song in enumerate(processed_songs, 1):\n",
    "            print(f\"  {i}. {song['artist']} - {song['song_title']} ({song['duration_seconds']:.1f}s)\")\n",
    "    \n",
    "    # Show processing summary\n",
    "    pipeline.get_processing_summary()\n",
    "    \n",
    "except Exception as e:\n",
    "    print(f\"❌ Error processing database: {e}\")\n",
    "    print(\"Make sure your database exists and has the correct table structure\")\n",
    "\n",
    "finally:\n",
    "    pipeline.cleanup()"
   ]
  },
  {
   "cell_type": "code",
   "execution_count": null,
   "id": "8b8f255d",
   "metadata": {},
   "outputs": [],
   "source": [
    "import pandas as pd\n",
    "import json\n",
    "\n",
    "with open(\"../data/processed/demo_database_processed_songs.json\", 'r') as f:\n",
    "    data = json.load(f)\n",
    "\n",
    "df = pd.json_normalize(data, sep=\"__\")\n",
    "df.head(5)"
   ]
  }
 ],
 "metadata": {
  "kernelspec": {
   "display_name": "essentia",
   "language": "python",
   "name": "python3"
  },
  "language_info": {
   "codemirror_mode": {
    "name": "ipython",
    "version": 3
   },
   "file_extension": ".py",
   "mimetype": "text/x-python",
   "name": "python",
   "nbconvert_exporter": "python",
   "pygments_lexer": "ipython3",
   "version": "3.10.16"
  }
 },
 "nbformat": 4,
 "nbformat_minor": 5
}
