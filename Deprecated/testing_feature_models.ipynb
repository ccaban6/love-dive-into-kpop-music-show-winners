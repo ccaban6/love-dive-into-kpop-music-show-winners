{
 "cells": [
  {
   "cell_type": "code",
   "execution_count": 1,
   "metadata": {},
   "outputs": [
    {
     "name": "stderr",
     "output_type": "stream",
     "text": [
      "2025-04-03 11:16:18.762582: W tensorflow/stream_executor/platform/default/dso_loader.cc:64] Could not load dynamic library 'libcudart.so.11.0'; dlerror: libcudart.so.11.0: cannot open shared object file: No such file or directory\n"
     ]
    }
   ],
   "source": [
    "import os\n",
    "os.environ['TF_CPP_MIN_LOG_LEVEL'] = '1' \n",
    "import essentia\n",
    "essentia.log.infoActive = False\n",
    "essentia.log.warningActive = False"
   ]
  },
  {
   "cell_type": "code",
   "execution_count": 1,
   "metadata": {},
   "outputs": [
    {
     "name": "stderr",
     "output_type": "stream",
     "text": [
      "2025-04-04 16:05:42.971239: I tensorflow/stream_executor/platform/default/dso_loader.cc:53] Successfully opened dynamic library libcudart.so.11.0\n",
      "[   INFO   ] MusicExtractorSVM: no classifier models were configured by default\n",
      "2025-04-04 16:05:43.361070: I tensorflow/core/platform/cpu_feature_guard.cc:142] This TensorFlow binary is optimized with oneAPI Deep Neural Network Library (oneDNN) to use the following CPU instructions in performance-critical operations:  SSE3 SSE4.1 SSE4.2 AVX AVX2 AVX512F FMA\n",
      "To enable them in other operations, rebuild TensorFlow with the appropriate compiler flags.\n",
      "2025-04-04 16:05:43.362842: I tensorflow/stream_executor/platform/default/dso_loader.cc:53] Successfully opened dynamic library libcuda.so.1\n",
      "2025-04-04 16:05:43.570631: I tensorflow/stream_executor/cuda/cuda_gpu_executor.cc:923] could not open file to read NUMA node: /sys/bus/pci/devices/0000:01:00.0/numa_node\n",
      "Your kernel may have been built without NUMA support.\n",
      "2025-04-04 16:05:43.570661: I tensorflow/core/common_runtime/gpu/gpu_device.cc:1733] Found device 0 with properties: \n",
      "pciBusID: 0000:01:00.0 name: NVIDIA GeForce RTX 4070 Ti SUPER computeCapability: 8.9\n",
      "coreClock: 2.61GHz coreCount: 66 deviceMemorySize: 15.99GiB deviceMemoryBandwidth: 625.91GiB/s\n",
      "2025-04-04 16:05:43.570679: I tensorflow/stream_executor/platform/default/dso_loader.cc:53] Successfully opened dynamic library libcudart.so.11.0\n",
      "2025-04-04 16:05:43.573709: I tensorflow/stream_executor/platform/default/dso_loader.cc:53] Successfully opened dynamic library libcublas.so.11\n",
      "2025-04-04 16:05:43.573740: I tensorflow/stream_executor/platform/default/dso_loader.cc:53] Successfully opened dynamic library libcublasLt.so.11\n",
      "2025-04-04 16:05:43.574385: I tensorflow/stream_executor/platform/default/dso_loader.cc:53] Successfully opened dynamic library libcufft.so.10\n",
      "2025-04-04 16:05:43.574523: I tensorflow/stream_executor/platform/default/dso_loader.cc:53] Successfully opened dynamic library libcurand.so.10\n",
      "2025-04-04 16:05:43.574837: I tensorflow/stream_executor/platform/default/dso_loader.cc:53] Successfully opened dynamic library libcusolver.so.11\n",
      "2025-04-04 16:05:43.575198: I tensorflow/stream_executor/platform/default/dso_loader.cc:53] Successfully opened dynamic library libcusparse.so.11\n",
      "2025-04-04 16:05:43.575285: I tensorflow/stream_executor/platform/default/dso_loader.cc:53] Successfully opened dynamic library libcudnn.so.8\n",
      "2025-04-04 16:05:43.575333: I tensorflow/stream_executor/cuda/cuda_gpu_executor.cc:923] could not open file to read NUMA node: /sys/bus/pci/devices/0000:01:00.0/numa_node\n",
      "Your kernel may have been built without NUMA support.\n",
      "2025-04-04 16:05:43.575349: I tensorflow/stream_executor/cuda/cuda_gpu_executor.cc:923] could not open file to read NUMA node: /sys/bus/pci/devices/0000:01:00.0/numa_node\n",
      "Your kernel may have been built without NUMA support.\n",
      "2025-04-04 16:05:43.575355: I tensorflow/core/common_runtime/gpu/gpu_device.cc:1871] Adding visible gpu devices: 0\n",
      "2025-04-04 16:05:44.046604: I tensorflow/core/common_runtime/gpu/gpu_device.cc:1258] Device interconnect StreamExecutor with strength 1 edge matrix:\n",
      "2025-04-04 16:05:44.046624: I tensorflow/core/common_runtime/gpu/gpu_device.cc:1264]      0 \n",
      "2025-04-04 16:05:44.046627: I tensorflow/core/common_runtime/gpu/gpu_device.cc:1277] 0:   N \n",
      "2025-04-04 16:05:44.046771: I tensorflow/stream_executor/cuda/cuda_gpu_executor.cc:923] could not open file to read NUMA node: /sys/bus/pci/devices/0000:01:00.0/numa_node\n",
      "Your kernel may have been built without NUMA support.\n",
      "2025-04-04 16:05:44.046823: I tensorflow/stream_executor/cuda/cuda_gpu_executor.cc:923] could not open file to read NUMA node: /sys/bus/pci/devices/0000:01:00.0/numa_node\n",
      "Your kernel may have been built without NUMA support.\n",
      "2025-04-04 16:05:44.046833: I tensorflow/core/common_runtime/gpu/gpu_device.cc:1501] Could not identify NUMA node of platform GPU id 0, defaulting to 0.  Your kernel may not have been built with NUMA support.\n",
      "2025-04-04 16:05:44.046852: I tensorflow/stream_executor/cuda/cuda_gpu_executor.cc:923] could not open file to read NUMA node: /sys/bus/pci/devices/0000:01:00.0/numa_node\n",
      "Your kernel may have been built without NUMA support.\n",
      "2025-04-04 16:05:44.046874: I tensorflow/core/common_runtime/gpu/gpu_device.cc:1418] Created TensorFlow device (/job:localhost/replica:0/task:0/device:GPU:0 with 13433 MB memory) -> physical GPU (device: 0, name: NVIDIA GeForce RTX 4070 Ti SUPER, pci bus id: 0000:01:00.0, compute capability: 8.9)\n",
      "2025-04-04 16:05:44.051089: I tensorflow/stream_executor/cuda/cuda_gpu_executor.cc:923] could not open file to read NUMA node: /sys/bus/pci/devices/0000:01:00.0/numa_node\n",
      "Your kernel may have been built without NUMA support.\n",
      "2025-04-04 16:05:44.051105: I tensorflow/core/common_runtime/gpu/gpu_device.cc:1733] Found device 0 with properties: \n",
      "pciBusID: 0000:01:00.0 name: NVIDIA GeForce RTX 4070 Ti SUPER computeCapability: 8.9\n",
      "coreClock: 2.61GHz coreCount: 66 deviceMemorySize: 15.99GiB deviceMemoryBandwidth: 625.91GiB/s\n",
      "2025-04-04 16:05:44.051120: I tensorflow/stream_executor/cuda/cuda_gpu_executor.cc:923] could not open file to read NUMA node: /sys/bus/pci/devices/0000:01:00.0/numa_node\n",
      "Your kernel may have been built without NUMA support.\n",
      "2025-04-04 16:05:44.051131: I tensorflow/stream_executor/cuda/cuda_gpu_executor.cc:923] could not open file to read NUMA node: /sys/bus/pci/devices/0000:01:00.0/numa_node\n",
      "Your kernel may have been built without NUMA support.\n",
      "2025-04-04 16:05:44.051135: I tensorflow/core/common_runtime/gpu/gpu_device.cc:1871] Adding visible gpu devices: 0\n",
      "2025-04-04 16:05:44.051143: I tensorflow/core/common_runtime/gpu/gpu_device.cc:1258] Device interconnect StreamExecutor with strength 1 edge matrix:\n",
      "2025-04-04 16:05:44.051146: I tensorflow/core/common_runtime/gpu/gpu_device.cc:1264]      0 \n",
      "2025-04-04 16:05:44.051148: I tensorflow/core/common_runtime/gpu/gpu_device.cc:1277] 0:   N \n",
      "2025-04-04 16:05:44.051245: I tensorflow/stream_executor/cuda/cuda_gpu_executor.cc:923] could not open file to read NUMA node: /sys/bus/pci/devices/0000:01:00.0/numa_node\n",
      "Your kernel may have been built without NUMA support.\n",
      "2025-04-04 16:05:44.051255: I tensorflow/core/common_runtime/gpu/gpu_device.cc:1501] Could not identify NUMA node of platform GPU id 0, defaulting to 0.  Your kernel may not have been built with NUMA support.\n",
      "2025-04-04 16:05:44.051273: I tensorflow/stream_executor/cuda/cuda_gpu_executor.cc:923] could not open file to read NUMA node: /sys/bus/pci/devices/0000:01:00.0/numa_node\n",
      "Your kernel may have been built without NUMA support.\n",
      "2025-04-04 16:05:44.051282: I tensorflow/core/common_runtime/gpu/gpu_device.cc:1418] Created TensorFlow device (/job:localhost/replica:0/task:0/device:GPU:0 with 13433 MB memory) -> physical GPU (device: 0, name: NVIDIA GeForce RTX 4070 Ti SUPER, pci bus id: 0000:01:00.0, compute capability: 8.9)\n",
      "2025-04-04 16:05:44.053673: I tensorflow/stream_executor/cuda/cuda_gpu_executor.cc:923] could not open file to read NUMA node: /sys/bus/pci/devices/0000:01:00.0/numa_node\n",
      "Your kernel may have been built without NUMA support.\n",
      "2025-04-04 16:05:44.053684: I tensorflow/core/common_runtime/gpu/gpu_device.cc:1733] Found device 0 with properties: \n",
      "pciBusID: 0000:01:00.0 name: NVIDIA GeForce RTX 4070 Ti SUPER computeCapability: 8.9\n",
      "coreClock: 2.61GHz coreCount: 66 deviceMemorySize: 15.99GiB deviceMemoryBandwidth: 625.91GiB/s\n",
      "2025-04-04 16:05:44.053697: I tensorflow/stream_executor/cuda/cuda_gpu_executor.cc:923] could not open file to read NUMA node: /sys/bus/pci/devices/0000:01:00.0/numa_node\n",
      "Your kernel may have been built without NUMA support.\n",
      "2025-04-04 16:05:44.053707: I tensorflow/stream_executor/cuda/cuda_gpu_executor.cc:923] could not open file to read NUMA node: /sys/bus/pci/devices/0000:01:00.0/numa_node\n",
      "Your kernel may have been built without NUMA support.\n",
      "2025-04-04 16:05:44.053711: I tensorflow/core/common_runtime/gpu/gpu_device.cc:1871] Adding visible gpu devices: 0\n",
      "2025-04-04 16:05:44.053718: I tensorflow/core/common_runtime/gpu/gpu_device.cc:1258] Device interconnect StreamExecutor with strength 1 edge matrix:\n",
      "2025-04-04 16:05:44.053721: I tensorflow/core/common_runtime/gpu/gpu_device.cc:1264]      0 \n",
      "2025-04-04 16:05:44.053723: I tensorflow/core/common_runtime/gpu/gpu_device.cc:1277] 0:   N \n",
      "2025-04-04 16:05:44.053816: I tensorflow/stream_executor/cuda/cuda_gpu_executor.cc:923] could not open file to read NUMA node: /sys/bus/pci/devices/0000:01:00.0/numa_node\n",
      "Your kernel may have been built without NUMA support.\n",
      "2025-04-04 16:05:44.053824: I tensorflow/core/common_runtime/gpu/gpu_device.cc:1501] Could not identify NUMA node of platform GPU id 0, defaulting to 0.  Your kernel may not have been built with NUMA support.\n",
      "2025-04-04 16:05:44.053839: I tensorflow/stream_executor/cuda/cuda_gpu_executor.cc:923] could not open file to read NUMA node: /sys/bus/pci/devices/0000:01:00.0/numa_node\n",
      "Your kernel may have been built without NUMA support.\n",
      "2025-04-04 16:05:44.053846: I tensorflow/core/common_runtime/gpu/gpu_device.cc:1418] Created TensorFlow device (/job:localhost/replica:0/task:0/device:GPU:0 with 13433 MB memory) -> physical GPU (device: 0, name: NVIDIA GeForce RTX 4070 Ti SUPER, pci bus id: 0000:01:00.0, compute capability: 8.9)\n",
      "2025-04-04 16:05:44.311134: I tensorflow/stream_executor/cuda/cuda_gpu_executor.cc:923] could not open file to read NUMA node: /sys/bus/pci/devices/0000:01:00.0/numa_node\n",
      "Your kernel may have been built without NUMA support.\n",
      "2025-04-04 16:05:44.311158: I tensorflow/core/common_runtime/gpu/gpu_device.cc:1733] Found device 0 with properties: \n",
      "pciBusID: 0000:01:00.0 name: NVIDIA GeForce RTX 4070 Ti SUPER computeCapability: 8.9\n",
      "coreClock: 2.61GHz coreCount: 66 deviceMemorySize: 15.99GiB deviceMemoryBandwidth: 625.91GiB/s\n",
      "2025-04-04 16:05:44.311176: I tensorflow/stream_executor/cuda/cuda_gpu_executor.cc:923] could not open file to read NUMA node: /sys/bus/pci/devices/0000:01:00.0/numa_node\n",
      "Your kernel may have been built without NUMA support.\n",
      "2025-04-04 16:05:44.311187: I tensorflow/stream_executor/cuda/cuda_gpu_executor.cc:923] could not open file to read NUMA node: /sys/bus/pci/devices/0000:01:00.0/numa_node\n",
      "Your kernel may have been built without NUMA support.\n",
      "2025-04-04 16:05:44.311191: I tensorflow/core/common_runtime/gpu/gpu_device.cc:1871] Adding visible gpu devices: 0\n",
      "2025-04-04 16:05:44.311215: I tensorflow/core/common_runtime/gpu/gpu_device.cc:1258] Device interconnect StreamExecutor with strength 1 edge matrix:\n",
      "2025-04-04 16:05:44.311218: I tensorflow/core/common_runtime/gpu/gpu_device.cc:1264]      0 \n",
      "2025-04-04 16:05:44.311221: I tensorflow/core/common_runtime/gpu/gpu_device.cc:1277] 0:   N \n",
      "2025-04-04 16:05:44.311328: I tensorflow/stream_executor/cuda/cuda_gpu_executor.cc:923] could not open file to read NUMA node: /sys/bus/pci/devices/0000:01:00.0/numa_node\n",
      "Your kernel may have been built without NUMA support.\n",
      "2025-04-04 16:05:44.311337: I tensorflow/core/common_runtime/gpu/gpu_device.cc:1501] Could not identify NUMA node of platform GPU id 0, defaulting to 0.  Your kernel may not have been built with NUMA support.\n",
      "2025-04-04 16:05:44.311351: I tensorflow/stream_executor/cuda/cuda_gpu_executor.cc:923] could not open file to read NUMA node: /sys/bus/pci/devices/0000:01:00.0/numa_node\n",
      "Your kernel may have been built without NUMA support.\n",
      "2025-04-04 16:05:44.311359: I tensorflow/core/common_runtime/gpu/gpu_device.cc:1418] Created TensorFlow device (/job:localhost/replica:0/task:0/device:GPU:0 with 13433 MB memory) -> physical GPU (device: 0, name: NVIDIA GeForce RTX 4070 Ti SUPER, pci bus id: 0000:01:00.0, compute capability: 8.9)\n",
      "2025-04-04 16:05:44.315338: I tensorflow/stream_executor/cuda/cuda_gpu_executor.cc:923] could not open file to read NUMA node: /sys/bus/pci/devices/0000:01:00.0/numa_node\n",
      "Your kernel may have been built without NUMA support.\n",
      "2025-04-04 16:05:44.315356: I tensorflow/core/common_runtime/gpu/gpu_device.cc:1733] Found device 0 with properties: \n",
      "pciBusID: 0000:01:00.0 name: NVIDIA GeForce RTX 4070 Ti SUPER computeCapability: 8.9\n",
      "coreClock: 2.61GHz coreCount: 66 deviceMemorySize: 15.99GiB deviceMemoryBandwidth: 625.91GiB/s\n",
      "2025-04-04 16:05:44.315376: I tensorflow/stream_executor/cuda/cuda_gpu_executor.cc:923] could not open file to read NUMA node: /sys/bus/pci/devices/0000:01:00.0/numa_node\n",
      "Your kernel may have been built without NUMA support.\n",
      "2025-04-04 16:05:44.315388: I tensorflow/stream_executor/cuda/cuda_gpu_executor.cc:923] could not open file to read NUMA node: /sys/bus/pci/devices/0000:01:00.0/numa_node\n",
      "Your kernel may have been built without NUMA support.\n",
      "2025-04-04 16:05:44.315391: I tensorflow/core/common_runtime/gpu/gpu_device.cc:1871] Adding visible gpu devices: 0\n",
      "2025-04-04 16:05:44.315408: I tensorflow/core/common_runtime/gpu/gpu_device.cc:1258] Device interconnect StreamExecutor with strength 1 edge matrix:\n",
      "2025-04-04 16:05:44.315412: I tensorflow/core/common_runtime/gpu/gpu_device.cc:1264]      0 \n",
      "2025-04-04 16:05:44.315416: I tensorflow/core/common_runtime/gpu/gpu_device.cc:1277] 0:   N \n",
      "2025-04-04 16:05:44.315551: I tensorflow/stream_executor/cuda/cuda_gpu_executor.cc:923] could not open file to read NUMA node: /sys/bus/pci/devices/0000:01:00.0/numa_node\n",
      "Your kernel may have been built without NUMA support.\n",
      "2025-04-04 16:05:44.315566: I tensorflow/core/common_runtime/gpu/gpu_device.cc:1501] Could not identify NUMA node of platform GPU id 0, defaulting to 0.  Your kernel may not have been built with NUMA support.\n",
      "2025-04-04 16:05:44.315593: I tensorflow/stream_executor/cuda/cuda_gpu_executor.cc:923] could not open file to read NUMA node: /sys/bus/pci/devices/0000:01:00.0/numa_node\n",
      "Your kernel may have been built without NUMA support.\n",
      "2025-04-04 16:05:44.315604: I tensorflow/core/common_runtime/gpu/gpu_device.cc:1418] Created TensorFlow device (/job:localhost/replica:0/task:0/device:GPU:0 with 13433 MB memory) -> physical GPU (device: 0, name: NVIDIA GeForce RTX 4070 Ti SUPER, pci bus id: 0000:01:00.0, compute capability: 8.9)\n",
      "2025-04-04 16:05:44.317228: I tensorflow/stream_executor/cuda/cuda_gpu_executor.cc:923] could not open file to read NUMA node: /sys/bus/pci/devices/0000:01:00.0/numa_node\n",
      "Your kernel may have been built without NUMA support.\n",
      "2025-04-04 16:05:44.317240: I tensorflow/core/common_runtime/gpu/gpu_device.cc:1733] Found device 0 with properties: \n",
      "pciBusID: 0000:01:00.0 name: NVIDIA GeForce RTX 4070 Ti SUPER computeCapability: 8.9\n",
      "coreClock: 2.61GHz coreCount: 66 deviceMemorySize: 15.99GiB deviceMemoryBandwidth: 625.91GiB/s\n",
      "2025-04-04 16:05:44.317254: I tensorflow/stream_executor/cuda/cuda_gpu_executor.cc:923] could not open file to read NUMA node: /sys/bus/pci/devices/0000:01:00.0/numa_node\n",
      "Your kernel may have been built without NUMA support.\n",
      "2025-04-04 16:05:44.317265: I tensorflow/stream_executor/cuda/cuda_gpu_executor.cc:923] could not open file to read NUMA node: /sys/bus/pci/devices/0000:01:00.0/numa_node\n",
      "Your kernel may have been built without NUMA support.\n",
      "2025-04-04 16:05:44.317269: I tensorflow/core/common_runtime/gpu/gpu_device.cc:1871] Adding visible gpu devices: 0\n",
      "2025-04-04 16:05:44.317279: I tensorflow/core/common_runtime/gpu/gpu_device.cc:1258] Device interconnect StreamExecutor with strength 1 edge matrix:\n",
      "2025-04-04 16:05:44.317282: I tensorflow/core/common_runtime/gpu/gpu_device.cc:1264]      0 \n",
      "2025-04-04 16:05:44.317284: I tensorflow/core/common_runtime/gpu/gpu_device.cc:1277] 0:   N \n",
      "2025-04-04 16:05:44.317372: I tensorflow/stream_executor/cuda/cuda_gpu_executor.cc:923] could not open file to read NUMA node: /sys/bus/pci/devices/0000:01:00.0/numa_node\n",
      "Your kernel may have been built without NUMA support.\n",
      "2025-04-04 16:05:44.317379: I tensorflow/core/common_runtime/gpu/gpu_device.cc:1501] Could not identify NUMA node of platform GPU id 0, defaulting to 0.  Your kernel may not have been built with NUMA support.\n",
      "2025-04-04 16:05:44.317392: I tensorflow/stream_executor/cuda/cuda_gpu_executor.cc:923] could not open file to read NUMA node: /sys/bus/pci/devices/0000:01:00.0/numa_node\n",
      "Your kernel may have been built without NUMA support.\n",
      "2025-04-04 16:05:44.317400: I tensorflow/core/common_runtime/gpu/gpu_device.cc:1418] Created TensorFlow device (/job:localhost/replica:0/task:0/device:GPU:0 with 13433 MB memory) -> physical GPU (device: 0, name: NVIDIA GeForce RTX 4070 Ti SUPER, pci bus id: 0000:01:00.0, compute capability: 8.9)\n",
      "2025-04-04 16:05:44.319659: I tensorflow/stream_executor/cuda/cuda_gpu_executor.cc:923] could not open file to read NUMA node: /sys/bus/pci/devices/0000:01:00.0/numa_node\n",
      "Your kernel may have been built without NUMA support.\n",
      "2025-04-04 16:05:44.319671: I tensorflow/core/common_runtime/gpu/gpu_device.cc:1733] Found device 0 with properties: \n",
      "pciBusID: 0000:01:00.0 name: NVIDIA GeForce RTX 4070 Ti SUPER computeCapability: 8.9\n",
      "coreClock: 2.61GHz coreCount: 66 deviceMemorySize: 15.99GiB deviceMemoryBandwidth: 625.91GiB/s\n",
      "2025-04-04 16:05:44.319686: I tensorflow/stream_executor/cuda/cuda_gpu_executor.cc:923] could not open file to read NUMA node: /sys/bus/pci/devices/0000:01:00.0/numa_node\n",
      "Your kernel may have been built without NUMA support.\n",
      "2025-04-04 16:05:44.319697: I tensorflow/stream_executor/cuda/cuda_gpu_executor.cc:923] could not open file to read NUMA node: /sys/bus/pci/devices/0000:01:00.0/numa_node\n",
      "Your kernel may have been built without NUMA support.\n",
      "2025-04-04 16:05:44.319701: I tensorflow/core/common_runtime/gpu/gpu_device.cc:1871] Adding visible gpu devices: 0\n",
      "2025-04-04 16:05:44.319709: I tensorflow/core/common_runtime/gpu/gpu_device.cc:1258] Device interconnect StreamExecutor with strength 1 edge matrix:\n",
      "2025-04-04 16:05:44.319712: I tensorflow/core/common_runtime/gpu/gpu_device.cc:1264]      0 \n",
      "2025-04-04 16:05:44.319714: I tensorflow/core/common_runtime/gpu/gpu_device.cc:1277] 0:   N \n",
      "2025-04-04 16:05:44.319797: I tensorflow/stream_executor/cuda/cuda_gpu_executor.cc:923] could not open file to read NUMA node: /sys/bus/pci/devices/0000:01:00.0/numa_node\n",
      "Your kernel may have been built without NUMA support.\n",
      "2025-04-04 16:05:44.319805: I tensorflow/core/common_runtime/gpu/gpu_device.cc:1501] Could not identify NUMA node of platform GPU id 0, defaulting to 0.  Your kernel may not have been built with NUMA support.\n",
      "2025-04-04 16:05:44.319818: I tensorflow/stream_executor/cuda/cuda_gpu_executor.cc:923] could not open file to read NUMA node: /sys/bus/pci/devices/0000:01:00.0/numa_node\n",
      "Your kernel may have been built without NUMA support.\n",
      "2025-04-04 16:05:44.319826: I tensorflow/core/common_runtime/gpu/gpu_device.cc:1418] Created TensorFlow device (/job:localhost/replica:0/task:0/device:GPU:0 with 13433 MB memory) -> physical GPU (device: 0, name: NVIDIA GeForce RTX 4070 Ti SUPER, pci bus id: 0000:01:00.0, compute capability: 8.9)\n",
      "2025-04-04 16:05:44.319981: I tensorflow/stream_executor/cuda/cuda_gpu_executor.cc:923] could not open file to read NUMA node: /sys/bus/pci/devices/0000:01:00.0/numa_node\n",
      "Your kernel may have been built without NUMA support.\n",
      "2025-04-04 16:05:44.319993: I tensorflow/core/common_runtime/gpu/gpu_device.cc:1733] Found device 0 with properties: \n",
      "pciBusID: 0000:01:00.0 name: NVIDIA GeForce RTX 4070 Ti SUPER computeCapability: 8.9\n",
      "coreClock: 2.61GHz coreCount: 66 deviceMemorySize: 15.99GiB deviceMemoryBandwidth: 625.91GiB/s\n",
      "2025-04-04 16:05:44.320007: I tensorflow/stream_executor/cuda/cuda_gpu_executor.cc:923] could not open file to read NUMA node: /sys/bus/pci/devices/0000:01:00.0/numa_node\n",
      "Your kernel may have been built without NUMA support.\n",
      "2025-04-04 16:05:44.320023: I tensorflow/stream_executor/cuda/cuda_gpu_executor.cc:923] could not open file to read NUMA node: /sys/bus/pci/devices/0000:01:00.0/numa_node\n",
      "Your kernel may have been built without NUMA support.\n",
      "2025-04-04 16:05:44.320027: I tensorflow/core/common_runtime/gpu/gpu_device.cc:1871] Adding visible gpu devices: 0\n",
      "2025-04-04 16:05:44.320034: I tensorflow/core/common_runtime/gpu/gpu_device.cc:1258] Device interconnect StreamExecutor with strength 1 edge matrix:\n",
      "2025-04-04 16:05:44.320037: I tensorflow/core/common_runtime/gpu/gpu_device.cc:1264]      0 \n",
      "2025-04-04 16:05:44.320039: I tensorflow/core/common_runtime/gpu/gpu_device.cc:1277] 0:   N \n",
      "2025-04-04 16:05:44.320116: I tensorflow/stream_executor/cuda/cuda_gpu_executor.cc:923] could not open file to read NUMA node: /sys/bus/pci/devices/0000:01:00.0/numa_node\n",
      "Your kernel may have been built without NUMA support.\n",
      "2025-04-04 16:05:44.320125: I tensorflow/core/common_runtime/gpu/gpu_device.cc:1501] Could not identify NUMA node of platform GPU id 0, defaulting to 0.  Your kernel may not have been built with NUMA support.\n",
      "2025-04-04 16:05:44.320138: I tensorflow/stream_executor/cuda/cuda_gpu_executor.cc:923] could not open file to read NUMA node: /sys/bus/pci/devices/0000:01:00.0/numa_node\n",
      "Your kernel may have been built without NUMA support.\n",
      "2025-04-04 16:05:44.320146: I tensorflow/core/common_runtime/gpu/gpu_device.cc:1418] Created TensorFlow device (/job:localhost/replica:0/task:0/device:GPU:0 with 13433 MB memory) -> physical GPU (device: 0, name: NVIDIA GeForce RTX 4070 Ti SUPER, pci bus id: 0000:01:00.0, compute capability: 8.9)\n",
      "2025-04-04 16:05:44.320554: I tensorflow/stream_executor/cuda/cuda_gpu_executor.cc:923] could not open file to read NUMA node: /sys/bus/pci/devices/0000:01:00.0/numa_node\n",
      "Your kernel may have been built without NUMA support.\n",
      "2025-04-04 16:05:44.320568: I tensorflow/core/common_runtime/gpu/gpu_device.cc:1733] Found device 0 with properties: \n",
      "pciBusID: 0000:01:00.0 name: NVIDIA GeForce RTX 4070 Ti SUPER computeCapability: 8.9\n",
      "coreClock: 2.61GHz coreCount: 66 deviceMemorySize: 15.99GiB deviceMemoryBandwidth: 625.91GiB/s\n",
      "2025-04-04 16:05:44.320584: I tensorflow/stream_executor/cuda/cuda_gpu_executor.cc:923] could not open file to read NUMA node: /sys/bus/pci/devices/0000:01:00.0/numa_node\n",
      "Your kernel may have been built without NUMA support.\n",
      "2025-04-04 16:05:44.320595: I tensorflow/stream_executor/cuda/cuda_gpu_executor.cc:923] could not open file to read NUMA node: /sys/bus/pci/devices/0000:01:00.0/numa_node\n",
      "Your kernel may have been built without NUMA support.\n",
      "2025-04-04 16:05:44.320599: I tensorflow/core/common_runtime/gpu/gpu_device.cc:1871] Adding visible gpu devices: 0\n",
      "2025-04-04 16:05:44.320606: I tensorflow/core/common_runtime/gpu/gpu_device.cc:1258] Device interconnect StreamExecutor with strength 1 edge matrix:\n",
      "2025-04-04 16:05:44.320609: I tensorflow/core/common_runtime/gpu/gpu_device.cc:1264]      0 \n",
      "2025-04-04 16:05:44.320611: I tensorflow/core/common_runtime/gpu/gpu_device.cc:1277] 0:   N \n",
      "2025-04-04 16:05:44.320702: I tensorflow/stream_executor/cuda/cuda_gpu_executor.cc:923] could not open file to read NUMA node: /sys/bus/pci/devices/0000:01:00.0/numa_node\n",
      "Your kernel may have been built without NUMA support.\n",
      "2025-04-04 16:05:44.320715: I tensorflow/core/common_runtime/gpu/gpu_device.cc:1501] Could not identify NUMA node of platform GPU id 0, defaulting to 0.  Your kernel may not have been built with NUMA support.\n",
      "2025-04-04 16:05:44.320742: I tensorflow/stream_executor/cuda/cuda_gpu_executor.cc:923] could not open file to read NUMA node: /sys/bus/pci/devices/0000:01:00.0/numa_node\n",
      "Your kernel may have been built without NUMA support.\n",
      "2025-04-04 16:05:44.320755: I tensorflow/core/common_runtime/gpu/gpu_device.cc:1418] Created TensorFlow device (/job:localhost/replica:0/task:0/device:GPU:0 with 13433 MB memory) -> physical GPU (device: 0, name: NVIDIA GeForce RTX 4070 Ti SUPER, pci bus id: 0000:01:00.0, compute capability: 8.9)\n",
      "2025-04-04 16:05:44.321243: I tensorflow/stream_executor/cuda/cuda_gpu_executor.cc:923] could not open file to read NUMA node: /sys/bus/pci/devices/0000:01:00.0/numa_node\n",
      "Your kernel may have been built without NUMA support.\n",
      "2025-04-04 16:05:44.321255: I tensorflow/core/common_runtime/gpu/gpu_device.cc:1733] Found device 0 with properties: \n",
      "pciBusID: 0000:01:00.0 name: NVIDIA GeForce RTX 4070 Ti SUPER computeCapability: 8.9\n",
      "coreClock: 2.61GHz coreCount: 66 deviceMemorySize: 15.99GiB deviceMemoryBandwidth: 625.91GiB/s\n",
      "2025-04-04 16:05:44.321269: I tensorflow/stream_executor/cuda/cuda_gpu_executor.cc:923] could not open file to read NUMA node: /sys/bus/pci/devices/0000:01:00.0/numa_node\n",
      "Your kernel may have been built without NUMA support.\n",
      "2025-04-04 16:05:44.321280: I tensorflow/stream_executor/cuda/cuda_gpu_executor.cc:923] could not open file to read NUMA node: /sys/bus/pci/devices/0000:01:00.0/numa_node\n",
      "Your kernel may have been built without NUMA support.\n",
      "2025-04-04 16:05:44.321283: I tensorflow/core/common_runtime/gpu/gpu_device.cc:1871] Adding visible gpu devices: 0\n",
      "2025-04-04 16:05:44.321291: I tensorflow/core/common_runtime/gpu/gpu_device.cc:1258] Device interconnect StreamExecutor with strength 1 edge matrix:\n",
      "2025-04-04 16:05:44.321294: I tensorflow/core/common_runtime/gpu/gpu_device.cc:1264]      0 \n",
      "2025-04-04 16:05:44.321297: I tensorflow/core/common_runtime/gpu/gpu_device.cc:1277] 0:   N \n",
      "2025-04-04 16:05:44.321408: I tensorflow/stream_executor/cuda/cuda_gpu_executor.cc:923] could not open file to read NUMA node: /sys/bus/pci/devices/0000:01:00.0/numa_node\n",
      "Your kernel may have been built without NUMA support.\n",
      "2025-04-04 16:05:44.321422: I tensorflow/core/common_runtime/gpu/gpu_device.cc:1501] Could not identify NUMA node of platform GPU id 0, defaulting to 0.  Your kernel may not have been built with NUMA support.\n",
      "2025-04-04 16:05:44.321446: I tensorflow/stream_executor/cuda/cuda_gpu_executor.cc:923] could not open file to read NUMA node: /sys/bus/pci/devices/0000:01:00.0/numa_node\n",
      "Your kernel may have been built without NUMA support.\n",
      "2025-04-04 16:05:44.321456: I tensorflow/core/common_runtime/gpu/gpu_device.cc:1418] Created TensorFlow device (/job:localhost/replica:0/task:0/device:GPU:0 with 13433 MB memory) -> physical GPU (device: 0, name: NVIDIA GeForce RTX 4070 Ti SUPER, pci bus id: 0000:01:00.0, compute capability: 8.9)\n",
      "2025-04-04 16:05:44.322079: I tensorflow/stream_executor/cuda/cuda_gpu_executor.cc:923] could not open file to read NUMA node: /sys/bus/pci/devices/0000:01:00.0/numa_node\n",
      "Your kernel may have been built without NUMA support.\n",
      "2025-04-04 16:05:44.322093: I tensorflow/core/common_runtime/gpu/gpu_device.cc:1733] Found device 0 with properties: \n",
      "pciBusID: 0000:01:00.0 name: NVIDIA GeForce RTX 4070 Ti SUPER computeCapability: 8.9\n",
      "coreClock: 2.61GHz coreCount: 66 deviceMemorySize: 15.99GiB deviceMemoryBandwidth: 625.91GiB/s\n",
      "2025-04-04 16:05:44.322111: I tensorflow/stream_executor/cuda/cuda_gpu_executor.cc:923] could not open file to read NUMA node: /sys/bus/pci/devices/0000:01:00.0/numa_node\n",
      "Your kernel may have been built without NUMA support.\n",
      "2025-04-04 16:05:44.322125: I tensorflow/stream_executor/cuda/cuda_gpu_executor.cc:923] could not open file to read NUMA node: /sys/bus/pci/devices/0000:01:00.0/numa_node\n",
      "Your kernel may have been built without NUMA support.\n",
      "2025-04-04 16:05:44.322130: I tensorflow/core/common_runtime/gpu/gpu_device.cc:1871] Adding visible gpu devices: 0\n",
      "2025-04-04 16:05:44.322140: I tensorflow/core/common_runtime/gpu/gpu_device.cc:1258] Device interconnect StreamExecutor with strength 1 edge matrix:\n",
      "2025-04-04 16:05:44.322144: I tensorflow/core/common_runtime/gpu/gpu_device.cc:1264]      0 \n",
      "2025-04-04 16:05:44.322146: I tensorflow/core/common_runtime/gpu/gpu_device.cc:1277] 0:   N \n",
      "2025-04-04 16:05:44.322255: I tensorflow/stream_executor/cuda/cuda_gpu_executor.cc:923] could not open file to read NUMA node: /sys/bus/pci/devices/0000:01:00.0/numa_node\n",
      "Your kernel may have been built without NUMA support.\n",
      "2025-04-04 16:05:44.322266: I tensorflow/core/common_runtime/gpu/gpu_device.cc:1501] Could not identify NUMA node of platform GPU id 0, defaulting to 0.  Your kernel may not have been built with NUMA support.\n",
      "2025-04-04 16:05:44.322284: I tensorflow/stream_executor/cuda/cuda_gpu_executor.cc:923] could not open file to read NUMA node: /sys/bus/pci/devices/0000:01:00.0/numa_node\n",
      "Your kernel may have been built without NUMA support.\n",
      "2025-04-04 16:05:44.322294: I tensorflow/core/common_runtime/gpu/gpu_device.cc:1418] Created TensorFlow device (/job:localhost/replica:0/task:0/device:GPU:0 with 13433 MB memory) -> physical GPU (device: 0, name: NVIDIA GeForce RTX 4070 Ti SUPER, pci bus id: 0000:01:00.0, compute capability: 8.9)\n",
      "2025-04-04 16:05:44.323121: I tensorflow/stream_executor/cuda/cuda_gpu_executor.cc:923] could not open file to read NUMA node: /sys/bus/pci/devices/0000:01:00.0/numa_node\n",
      "Your kernel may have been built without NUMA support.\n",
      "2025-04-04 16:05:44.323134: I tensorflow/core/common_runtime/gpu/gpu_device.cc:1733] Found device 0 with properties: \n",
      "pciBusID: 0000:01:00.0 name: NVIDIA GeForce RTX 4070 Ti SUPER computeCapability: 8.9\n",
      "coreClock: 2.61GHz coreCount: 66 deviceMemorySize: 15.99GiB deviceMemoryBandwidth: 625.91GiB/s\n",
      "2025-04-04 16:05:44.323148: I tensorflow/stream_executor/cuda/cuda_gpu_executor.cc:923] could not open file to read NUMA node: /sys/bus/pci/devices/0000:01:00.0/numa_node\n",
      "Your kernel may have been built without NUMA support.\n",
      "2025-04-04 16:05:44.323160: I tensorflow/stream_executor/cuda/cuda_gpu_executor.cc:923] could not open file to read NUMA node: /sys/bus/pci/devices/0000:01:00.0/numa_node\n",
      "Your kernel may have been built without NUMA support.\n",
      "2025-04-04 16:05:44.323164: I tensorflow/core/common_runtime/gpu/gpu_device.cc:1871] Adding visible gpu devices: 0\n",
      "2025-04-04 16:05:44.323172: I tensorflow/core/common_runtime/gpu/gpu_device.cc:1258] Device interconnect StreamExecutor with strength 1 edge matrix:\n",
      "2025-04-04 16:05:44.323174: I tensorflow/core/common_runtime/gpu/gpu_device.cc:1264]      0 \n",
      "2025-04-04 16:05:44.323177: I tensorflow/core/common_runtime/gpu/gpu_device.cc:1277] 0:   N \n",
      "2025-04-04 16:05:44.323260: I tensorflow/stream_executor/cuda/cuda_gpu_executor.cc:923] could not open file to read NUMA node: /sys/bus/pci/devices/0000:01:00.0/numa_node\n",
      "Your kernel may have been built without NUMA support.\n",
      "2025-04-04 16:05:44.323270: I tensorflow/core/common_runtime/gpu/gpu_device.cc:1501] Could not identify NUMA node of platform GPU id 0, defaulting to 0.  Your kernel may not have been built with NUMA support.\n",
      "2025-04-04 16:05:44.323283: I tensorflow/stream_executor/cuda/cuda_gpu_executor.cc:923] could not open file to read NUMA node: /sys/bus/pci/devices/0000:01:00.0/numa_node\n",
      "Your kernel may have been built without NUMA support.\n",
      "2025-04-04 16:05:44.323291: I tensorflow/core/common_runtime/gpu/gpu_device.cc:1418] Created TensorFlow device (/job:localhost/replica:0/task:0/device:GPU:0 with 13433 MB memory) -> physical GPU (device: 0, name: NVIDIA GeForce RTX 4070 Ti SUPER, pci bus id: 0000:01:00.0, compute capability: 8.9)\n",
      "2025-04-04 16:05:44.324460: I tensorflow/stream_executor/cuda/cuda_gpu_executor.cc:923] could not open file to read NUMA node: /sys/bus/pci/devices/0000:01:00.0/numa_node\n",
      "Your kernel may have been built without NUMA support.\n",
      "2025-04-04 16:05:44.324472: I tensorflow/core/common_runtime/gpu/gpu_device.cc:1733] Found device 0 with properties: \n",
      "pciBusID: 0000:01:00.0 name: NVIDIA GeForce RTX 4070 Ti SUPER computeCapability: 8.9\n",
      "coreClock: 2.61GHz coreCount: 66 deviceMemorySize: 15.99GiB deviceMemoryBandwidth: 625.91GiB/s\n",
      "2025-04-04 16:05:44.324486: I tensorflow/stream_executor/cuda/cuda_gpu_executor.cc:923] could not open file to read NUMA node: /sys/bus/pci/devices/0000:01:00.0/numa_node\n",
      "Your kernel may have been built without NUMA support.\n",
      "2025-04-04 16:05:44.324497: I tensorflow/stream_executor/cuda/cuda_gpu_executor.cc:923] could not open file to read NUMA node: /sys/bus/pci/devices/0000:01:00.0/numa_node\n",
      "Your kernel may have been built without NUMA support.\n",
      "2025-04-04 16:05:44.324500: I tensorflow/core/common_runtime/gpu/gpu_device.cc:1871] Adding visible gpu devices: 0\n",
      "2025-04-04 16:05:44.324509: I tensorflow/core/common_runtime/gpu/gpu_device.cc:1258] Device interconnect StreamExecutor with strength 1 edge matrix:\n",
      "2025-04-04 16:05:44.324511: I tensorflow/core/common_runtime/gpu/gpu_device.cc:1264]      0 \n",
      "2025-04-04 16:05:44.324514: I tensorflow/core/common_runtime/gpu/gpu_device.cc:1277] 0:   N \n",
      "2025-04-04 16:05:44.324596: I tensorflow/stream_executor/cuda/cuda_gpu_executor.cc:923] could not open file to read NUMA node: /sys/bus/pci/devices/0000:01:00.0/numa_node\n",
      "Your kernel may have been built without NUMA support.\n",
      "2025-04-04 16:05:44.324604: I tensorflow/core/common_runtime/gpu/gpu_device.cc:1501] Could not identify NUMA node of platform GPU id 0, defaulting to 0.  Your kernel may not have been built with NUMA support.\n",
      "2025-04-04 16:05:44.324617: I tensorflow/stream_executor/cuda/cuda_gpu_executor.cc:923] could not open file to read NUMA node: /sys/bus/pci/devices/0000:01:00.0/numa_node\n",
      "Your kernel may have been built without NUMA support.\n",
      "2025-04-04 16:05:44.324624: I tensorflow/core/common_runtime/gpu/gpu_device.cc:1418] Created TensorFlow device (/job:localhost/replica:0/task:0/device:GPU:0 with 13433 MB memory) -> physical GPU (device: 0, name: NVIDIA GeForce RTX 4070 Ti SUPER, pci bus id: 0000:01:00.0, compute capability: 8.9)\n",
      "2025-04-04 16:05:44.325708: I tensorflow/stream_executor/cuda/cuda_gpu_executor.cc:923] could not open file to read NUMA node: /sys/bus/pci/devices/0000:01:00.0/numa_node\n",
      "Your kernel may have been built without NUMA support.\n",
      "2025-04-04 16:05:44.325720: I tensorflow/core/common_runtime/gpu/gpu_device.cc:1733] Found device 0 with properties: \n",
      "pciBusID: 0000:01:00.0 name: NVIDIA GeForce RTX 4070 Ti SUPER computeCapability: 8.9\n",
      "coreClock: 2.61GHz coreCount: 66 deviceMemorySize: 15.99GiB deviceMemoryBandwidth: 625.91GiB/s\n",
      "2025-04-04 16:05:44.325734: I tensorflow/stream_executor/cuda/cuda_gpu_executor.cc:923] could not open file to read NUMA node: /sys/bus/pci/devices/0000:01:00.0/numa_node\n",
      "Your kernel may have been built without NUMA support.\n",
      "2025-04-04 16:05:44.325746: I tensorflow/stream_executor/cuda/cuda_gpu_executor.cc:923] could not open file to read NUMA node: /sys/bus/pci/devices/0000:01:00.0/numa_node\n",
      "Your kernel may have been built without NUMA support.\n",
      "2025-04-04 16:05:44.325750: I tensorflow/core/common_runtime/gpu/gpu_device.cc:1871] Adding visible gpu devices: 0\n",
      "2025-04-04 16:05:44.325758: I tensorflow/core/common_runtime/gpu/gpu_device.cc:1258] Device interconnect StreamExecutor with strength 1 edge matrix:\n",
      "2025-04-04 16:05:44.325761: I tensorflow/core/common_runtime/gpu/gpu_device.cc:1264]      0 \n",
      "2025-04-04 16:05:44.325763: I tensorflow/core/common_runtime/gpu/gpu_device.cc:1277] 0:   N \n",
      "2025-04-04 16:05:44.325858: I tensorflow/stream_executor/cuda/cuda_gpu_executor.cc:923] could not open file to read NUMA node: /sys/bus/pci/devices/0000:01:00.0/numa_node\n",
      "Your kernel may have been built without NUMA support.\n",
      "2025-04-04 16:05:44.325866: I tensorflow/core/common_runtime/gpu/gpu_device.cc:1501] Could not identify NUMA node of platform GPU id 0, defaulting to 0.  Your kernel may not have been built with NUMA support.\n",
      "2025-04-04 16:05:44.325879: I tensorflow/stream_executor/cuda/cuda_gpu_executor.cc:923] could not open file to read NUMA node: /sys/bus/pci/devices/0000:01:00.0/numa_node\n",
      "Your kernel may have been built without NUMA support.\n",
      "2025-04-04 16:05:44.325887: I tensorflow/core/common_runtime/gpu/gpu_device.cc:1418] Created TensorFlow device (/job:localhost/replica:0/task:0/device:GPU:0 with 13433 MB memory) -> physical GPU (device: 0, name: NVIDIA GeForce RTX 4070 Ti SUPER, pci bus id: 0000:01:00.0, compute capability: 8.9)\n",
      "2025-04-04 16:05:44.327003: I tensorflow/stream_executor/cuda/cuda_gpu_executor.cc:923] could not open file to read NUMA node: /sys/bus/pci/devices/0000:01:00.0/numa_node\n",
      "Your kernel may have been built without NUMA support.\n",
      "2025-04-04 16:05:44.327017: I tensorflow/core/common_runtime/gpu/gpu_device.cc:1733] Found device 0 with properties: \n",
      "pciBusID: 0000:01:00.0 name: NVIDIA GeForce RTX 4070 Ti SUPER computeCapability: 8.9\n",
      "coreClock: 2.61GHz coreCount: 66 deviceMemorySize: 15.99GiB deviceMemoryBandwidth: 625.91GiB/s\n",
      "2025-04-04 16:05:44.327035: I tensorflow/stream_executor/cuda/cuda_gpu_executor.cc:923] could not open file to read NUMA node: /sys/bus/pci/devices/0000:01:00.0/numa_node\n",
      "Your kernel may have been built without NUMA support.\n",
      "2025-04-04 16:05:44.327047: I tensorflow/stream_executor/cuda/cuda_gpu_executor.cc:923] could not open file to read NUMA node: /sys/bus/pci/devices/0000:01:00.0/numa_node\n",
      "Your kernel may have been built without NUMA support.\n",
      "2025-04-04 16:05:44.327050: I tensorflow/core/common_runtime/gpu/gpu_device.cc:1871] Adding visible gpu devices: 0\n",
      "2025-04-04 16:05:44.327058: I tensorflow/core/common_runtime/gpu/gpu_device.cc:1258] Device interconnect StreamExecutor with strength 1 edge matrix:\n",
      "2025-04-04 16:05:44.327061: I tensorflow/core/common_runtime/gpu/gpu_device.cc:1264]      0 \n",
      "2025-04-04 16:05:44.327063: I tensorflow/core/common_runtime/gpu/gpu_device.cc:1277] 0:   N \n",
      "2025-04-04 16:05:44.327158: I tensorflow/stream_executor/cuda/cuda_gpu_executor.cc:923] could not open file to read NUMA node: /sys/bus/pci/devices/0000:01:00.0/numa_node\n",
      "Your kernel may have been built without NUMA support.\n",
      "2025-04-04 16:05:44.327169: I tensorflow/core/common_runtime/gpu/gpu_device.cc:1501] Could not identify NUMA node of platform GPU id 0, defaulting to 0.  Your kernel may not have been built with NUMA support.\n",
      "2025-04-04 16:05:44.327187: I tensorflow/stream_executor/cuda/cuda_gpu_executor.cc:923] could not open file to read NUMA node: /sys/bus/pci/devices/0000:01:00.0/numa_node\n",
      "Your kernel may have been built without NUMA support.\n",
      "2025-04-04 16:05:44.327196: I tensorflow/core/common_runtime/gpu/gpu_device.cc:1418] Created TensorFlow device (/job:localhost/replica:0/task:0/device:GPU:0 with 13433 MB memory) -> physical GPU (device: 0, name: NVIDIA GeForce RTX 4070 Ti SUPER, pci bus id: 0000:01:00.0, compute capability: 8.9)\n",
      "2025-04-04 16:05:44.328278: I tensorflow/stream_executor/cuda/cuda_gpu_executor.cc:923] could not open file to read NUMA node: /sys/bus/pci/devices/0000:01:00.0/numa_node\n",
      "Your kernel may have been built without NUMA support.\n",
      "2025-04-04 16:05:44.328291: I tensorflow/core/common_runtime/gpu/gpu_device.cc:1733] Found device 0 with properties: \n",
      "pciBusID: 0000:01:00.0 name: NVIDIA GeForce RTX 4070 Ti SUPER computeCapability: 8.9\n",
      "coreClock: 2.61GHz coreCount: 66 deviceMemorySize: 15.99GiB deviceMemoryBandwidth: 625.91GiB/s\n",
      "2025-04-04 16:05:44.328305: I tensorflow/stream_executor/cuda/cuda_gpu_executor.cc:923] could not open file to read NUMA node: /sys/bus/pci/devices/0000:01:00.0/numa_node\n",
      "Your kernel may have been built without NUMA support.\n",
      "2025-04-04 16:05:44.328316: I tensorflow/stream_executor/cuda/cuda_gpu_executor.cc:923] could not open file to read NUMA node: /sys/bus/pci/devices/0000:01:00.0/numa_node\n",
      "Your kernel may have been built without NUMA support.\n",
      "2025-04-04 16:05:44.328320: I tensorflow/core/common_runtime/gpu/gpu_device.cc:1871] Adding visible gpu devices: 0\n",
      "2025-04-04 16:05:44.328328: I tensorflow/core/common_runtime/gpu/gpu_device.cc:1258] Device interconnect StreamExecutor with strength 1 edge matrix:\n",
      "2025-04-04 16:05:44.328331: I tensorflow/core/common_runtime/gpu/gpu_device.cc:1264]      0 \n",
      "2025-04-04 16:05:44.328333: I tensorflow/core/common_runtime/gpu/gpu_device.cc:1277] 0:   N \n",
      "2025-04-04 16:05:44.328430: I tensorflow/stream_executor/cuda/cuda_gpu_executor.cc:923] could not open file to read NUMA node: /sys/bus/pci/devices/0000:01:00.0/numa_node\n",
      "Your kernel may have been built without NUMA support.\n",
      "2025-04-04 16:05:44.328439: I tensorflow/core/common_runtime/gpu/gpu_device.cc:1501] Could not identify NUMA node of platform GPU id 0, defaulting to 0.  Your kernel may not have been built with NUMA support.\n",
      "2025-04-04 16:05:44.328453: I tensorflow/stream_executor/cuda/cuda_gpu_executor.cc:923] could not open file to read NUMA node: /sys/bus/pci/devices/0000:01:00.0/numa_node\n",
      "Your kernel may have been built without NUMA support.\n",
      "2025-04-04 16:05:44.328460: I tensorflow/core/common_runtime/gpu/gpu_device.cc:1418] Created TensorFlow device (/job:localhost/replica:0/task:0/device:GPU:0 with 13433 MB memory) -> physical GPU (device: 0, name: NVIDIA GeForce RTX 4070 Ti SUPER, pci bus id: 0000:01:00.0, compute capability: 8.9)\n",
      "2025-04-04 16:05:44.331341: I tensorflow/stream_executor/cuda/cuda_gpu_executor.cc:923] could not open file to read NUMA node: /sys/bus/pci/devices/0000:01:00.0/numa_node\n",
      "Your kernel may have been built without NUMA support.\n",
      "2025-04-04 16:05:44.331353: I tensorflow/core/common_runtime/gpu/gpu_device.cc:1733] Found device 0 with properties: \n",
      "pciBusID: 0000:01:00.0 name: NVIDIA GeForce RTX 4070 Ti SUPER computeCapability: 8.9\n",
      "coreClock: 2.61GHz coreCount: 66 deviceMemorySize: 15.99GiB deviceMemoryBandwidth: 625.91GiB/s\n",
      "2025-04-04 16:05:44.331367: I tensorflow/stream_executor/cuda/cuda_gpu_executor.cc:923] could not open file to read NUMA node: /sys/bus/pci/devices/0000:01:00.0/numa_node\n",
      "Your kernel may have been built without NUMA support.\n",
      "2025-04-04 16:05:44.331377: I tensorflow/stream_executor/cuda/cuda_gpu_executor.cc:923] could not open file to read NUMA node: /sys/bus/pci/devices/0000:01:00.0/numa_node\n",
      "Your kernel may have been built without NUMA support.\n",
      "2025-04-04 16:05:44.331382: I tensorflow/core/common_runtime/gpu/gpu_device.cc:1871] Adding visible gpu devices: 0\n",
      "2025-04-04 16:05:44.331392: I tensorflow/core/common_runtime/gpu/gpu_device.cc:1258] Device interconnect StreamExecutor with strength 1 edge matrix:\n",
      "2025-04-04 16:05:44.331396: I tensorflow/core/common_runtime/gpu/gpu_device.cc:1264]      0 \n",
      "2025-04-04 16:05:44.331413: I tensorflow/core/common_runtime/gpu/gpu_device.cc:1277] 0:   N \n",
      "2025-04-04 16:05:44.331504: I tensorflow/stream_executor/cuda/cuda_gpu_executor.cc:923] could not open file to read NUMA node: /sys/bus/pci/devices/0000:01:00.0/numa_node\n",
      "Your kernel may have been built without NUMA support.\n",
      "2025-04-04 16:05:44.331513: I tensorflow/core/common_runtime/gpu/gpu_device.cc:1501] Could not identify NUMA node of platform GPU id 0, defaulting to 0.  Your kernel may not have been built with NUMA support.\n",
      "2025-04-04 16:05:44.331528: I tensorflow/stream_executor/cuda/cuda_gpu_executor.cc:923] could not open file to read NUMA node: /sys/bus/pci/devices/0000:01:00.0/numa_node\n",
      "Your kernel may have been built without NUMA support.\n",
      "2025-04-04 16:05:44.331536: I tensorflow/core/common_runtime/gpu/gpu_device.cc:1418] Created TensorFlow device (/job:localhost/replica:0/task:0/device:GPU:0 with 13433 MB memory) -> physical GPU (device: 0, name: NVIDIA GeForce RTX 4070 Ti SUPER, pci bus id: 0000:01:00.0, compute capability: 8.9)\n",
      "2025-04-04 16:05:44.333302: I tensorflow/stream_executor/cuda/cuda_gpu_executor.cc:923] could not open file to read NUMA node: /sys/bus/pci/devices/0000:01:00.0/numa_node\n",
      "Your kernel may have been built without NUMA support.\n",
      "2025-04-04 16:05:44.333316: I tensorflow/core/common_runtime/gpu/gpu_device.cc:1733] Found device 0 with properties: \n",
      "pciBusID: 0000:01:00.0 name: NVIDIA GeForce RTX 4070 Ti SUPER computeCapability: 8.9\n",
      "coreClock: 2.61GHz coreCount: 66 deviceMemorySize: 15.99GiB deviceMemoryBandwidth: 625.91GiB/s\n",
      "2025-04-04 16:05:44.333334: I tensorflow/stream_executor/cuda/cuda_gpu_executor.cc:923] could not open file to read NUMA node: /sys/bus/pci/devices/0000:01:00.0/numa_node\n",
      "Your kernel may have been built without NUMA support.\n",
      "2025-04-04 16:05:44.333348: I tensorflow/stream_executor/cuda/cuda_gpu_executor.cc:923] could not open file to read NUMA node: /sys/bus/pci/devices/0000:01:00.0/numa_node\n",
      "Your kernel may have been built without NUMA support.\n",
      "2025-04-04 16:05:44.333353: I tensorflow/core/common_runtime/gpu/gpu_device.cc:1871] Adding visible gpu devices: 0\n",
      "2025-04-04 16:05:44.333366: I tensorflow/core/common_runtime/gpu/gpu_device.cc:1258] Device interconnect StreamExecutor with strength 1 edge matrix:\n",
      "2025-04-04 16:05:44.333370: I tensorflow/core/common_runtime/gpu/gpu_device.cc:1264]      0 \n",
      "2025-04-04 16:05:44.333373: I tensorflow/core/common_runtime/gpu/gpu_device.cc:1277] 0:   N \n",
      "2025-04-04 16:05:44.333474: I tensorflow/stream_executor/cuda/cuda_gpu_executor.cc:923] could not open file to read NUMA node: /sys/bus/pci/devices/0000:01:00.0/numa_node\n",
      "Your kernel may have been built without NUMA support.\n",
      "2025-04-04 16:05:44.333484: I tensorflow/core/common_runtime/gpu/gpu_device.cc:1501] Could not identify NUMA node of platform GPU id 0, defaulting to 0.  Your kernel may not have been built with NUMA support.\n",
      "2025-04-04 16:05:44.333501: I tensorflow/stream_executor/cuda/cuda_gpu_executor.cc:923] could not open file to read NUMA node: /sys/bus/pci/devices/0000:01:00.0/numa_node\n",
      "Your kernel may have been built without NUMA support.\n",
      "2025-04-04 16:05:44.333510: I tensorflow/core/common_runtime/gpu/gpu_device.cc:1418] Created TensorFlow device (/job:localhost/replica:0/task:0/device:GPU:0 with 13433 MB memory) -> physical GPU (device: 0, name: NVIDIA GeForce RTX 4070 Ti SUPER, pci bus id: 0000:01:00.0, compute capability: 8.9)\n",
      "2025-04-04 16:05:44.334622: I tensorflow/stream_executor/cuda/cuda_gpu_executor.cc:923] could not open file to read NUMA node: /sys/bus/pci/devices/0000:01:00.0/numa_node\n",
      "Your kernel may have been built without NUMA support.\n",
      "2025-04-04 16:05:44.334635: I tensorflow/core/common_runtime/gpu/gpu_device.cc:1733] Found device 0 with properties: \n",
      "pciBusID: 0000:01:00.0 name: NVIDIA GeForce RTX 4070 Ti SUPER computeCapability: 8.9\n",
      "coreClock: 2.61GHz coreCount: 66 deviceMemorySize: 15.99GiB deviceMemoryBandwidth: 625.91GiB/s\n",
      "2025-04-04 16:05:44.334649: I tensorflow/stream_executor/cuda/cuda_gpu_executor.cc:923] could not open file to read NUMA node: /sys/bus/pci/devices/0000:01:00.0/numa_node\n",
      "Your kernel may have been built without NUMA support.\n",
      "2025-04-04 16:05:44.334660: I tensorflow/stream_executor/cuda/cuda_gpu_executor.cc:923] could not open file to read NUMA node: /sys/bus/pci/devices/0000:01:00.0/numa_node\n",
      "Your kernel may have been built without NUMA support.\n",
      "2025-04-04 16:05:44.334663: I tensorflow/core/common_runtime/gpu/gpu_device.cc:1871] Adding visible gpu devices: 0\n",
      "2025-04-04 16:05:44.334671: I tensorflow/core/common_runtime/gpu/gpu_device.cc:1258] Device interconnect StreamExecutor with strength 1 edge matrix:\n",
      "2025-04-04 16:05:44.334674: I tensorflow/core/common_runtime/gpu/gpu_device.cc:1264]      0 \n",
      "2025-04-04 16:05:44.334676: I tensorflow/core/common_runtime/gpu/gpu_device.cc:1277] 0:   N \n",
      "2025-04-04 16:05:44.334759: I tensorflow/stream_executor/cuda/cuda_gpu_executor.cc:923] could not open file to read NUMA node: /sys/bus/pci/devices/0000:01:00.0/numa_node\n",
      "Your kernel may have been built without NUMA support.\n",
      "2025-04-04 16:05:44.334767: I tensorflow/core/common_runtime/gpu/gpu_device.cc:1501] Could not identify NUMA node of platform GPU id 0, defaulting to 0.  Your kernel may not have been built with NUMA support.\n",
      "2025-04-04 16:05:44.334780: I tensorflow/stream_executor/cuda/cuda_gpu_executor.cc:923] could not open file to read NUMA node: /sys/bus/pci/devices/0000:01:00.0/numa_node\n",
      "Your kernel may have been built without NUMA support.\n",
      "2025-04-04 16:05:44.334786: I tensorflow/core/common_runtime/gpu/gpu_device.cc:1418] Created TensorFlow device (/job:localhost/replica:0/task:0/device:GPU:0 with 13433 MB memory) -> physical GPU (device: 0, name: NVIDIA GeForce RTX 4070 Ti SUPER, pci bus id: 0000:01:00.0, compute capability: 8.9)\n",
      "2025-04-04 16:05:44.335732: I tensorflow/stream_executor/cuda/cuda_gpu_executor.cc:923] could not open file to read NUMA node: /sys/bus/pci/devices/0000:01:00.0/numa_node\n",
      "Your kernel may have been built without NUMA support.\n",
      "2025-04-04 16:05:44.335743: I tensorflow/core/common_runtime/gpu/gpu_device.cc:1733] Found device 0 with properties: \n",
      "pciBusID: 0000:01:00.0 name: NVIDIA GeForce RTX 4070 Ti SUPER computeCapability: 8.9\n",
      "coreClock: 2.61GHz coreCount: 66 deviceMemorySize: 15.99GiB deviceMemoryBandwidth: 625.91GiB/s\n",
      "2025-04-04 16:05:44.335757: I tensorflow/stream_executor/cuda/cuda_gpu_executor.cc:923] could not open file to read NUMA node: /sys/bus/pci/devices/0000:01:00.0/numa_node\n",
      "Your kernel may have been built without NUMA support.\n",
      "2025-04-04 16:05:44.335767: I tensorflow/stream_executor/cuda/cuda_gpu_executor.cc:923] could not open file to read NUMA node: /sys/bus/pci/devices/0000:01:00.0/numa_node\n",
      "Your kernel may have been built without NUMA support.\n",
      "2025-04-04 16:05:44.335771: I tensorflow/core/common_runtime/gpu/gpu_device.cc:1871] Adding visible gpu devices: 0\n",
      "2025-04-04 16:05:44.335778: I tensorflow/core/common_runtime/gpu/gpu_device.cc:1258] Device interconnect StreamExecutor with strength 1 edge matrix:\n",
      "2025-04-04 16:05:44.335781: I tensorflow/core/common_runtime/gpu/gpu_device.cc:1264]      0 \n",
      "2025-04-04 16:05:44.335783: I tensorflow/core/common_runtime/gpu/gpu_device.cc:1277] 0:   N \n",
      "2025-04-04 16:05:44.335875: I tensorflow/stream_executor/cuda/cuda_gpu_executor.cc:923] could not open file to read NUMA node: /sys/bus/pci/devices/0000:01:00.0/numa_node\n",
      "Your kernel may have been built without NUMA support.\n",
      "2025-04-04 16:05:44.335883: I tensorflow/core/common_runtime/gpu/gpu_device.cc:1501] Could not identify NUMA node of platform GPU id 0, defaulting to 0.  Your kernel may not have been built with NUMA support.\n",
      "2025-04-04 16:05:44.335896: I tensorflow/stream_executor/cuda/cuda_gpu_executor.cc:923] could not open file to read NUMA node: /sys/bus/pci/devices/0000:01:00.0/numa_node\n",
      "Your kernel may have been built without NUMA support.\n",
      "2025-04-04 16:05:44.335903: I tensorflow/core/common_runtime/gpu/gpu_device.cc:1418] Created TensorFlow device (/job:localhost/replica:0/task:0/device:GPU:0 with 13433 MB memory) -> physical GPU (device: 0, name: NVIDIA GeForce RTX 4070 Ti SUPER, pci bus id: 0000:01:00.0, compute capability: 8.9)\n",
      "2025-04-04 16:05:44.336799: I tensorflow/stream_executor/cuda/cuda_gpu_executor.cc:923] could not open file to read NUMA node: /sys/bus/pci/devices/0000:01:00.0/numa_node\n",
      "Your kernel may have been built without NUMA support.\n",
      "2025-04-04 16:05:44.336811: I tensorflow/core/common_runtime/gpu/gpu_device.cc:1733] Found device 0 with properties: \n",
      "pciBusID: 0000:01:00.0 name: NVIDIA GeForce RTX 4070 Ti SUPER computeCapability: 8.9\n",
      "coreClock: 2.61GHz coreCount: 66 deviceMemorySize: 15.99GiB deviceMemoryBandwidth: 625.91GiB/s\n",
      "2025-04-04 16:05:44.336824: I tensorflow/stream_executor/cuda/cuda_gpu_executor.cc:923] could not open file to read NUMA node: /sys/bus/pci/devices/0000:01:00.0/numa_node\n",
      "Your kernel may have been built without NUMA support.\n",
      "2025-04-04 16:05:44.336835: I tensorflow/stream_executor/cuda/cuda_gpu_executor.cc:923] could not open file to read NUMA node: /sys/bus/pci/devices/0000:01:00.0/numa_node\n",
      "Your kernel may have been built without NUMA support.\n",
      "2025-04-04 16:05:44.336839: I tensorflow/core/common_runtime/gpu/gpu_device.cc:1871] Adding visible gpu devices: 0\n",
      "2025-04-04 16:05:44.336846: I tensorflow/core/common_runtime/gpu/gpu_device.cc:1258] Device interconnect StreamExecutor with strength 1 edge matrix:\n",
      "2025-04-04 16:05:44.336849: I tensorflow/core/common_runtime/gpu/gpu_device.cc:1264]      0 \n",
      "2025-04-04 16:05:44.336851: I tensorflow/core/common_runtime/gpu/gpu_device.cc:1277] 0:   N \n",
      "2025-04-04 16:05:44.336937: I tensorflow/stream_executor/cuda/cuda_gpu_executor.cc:923] could not open file to read NUMA node: /sys/bus/pci/devices/0000:01:00.0/numa_node\n",
      "Your kernel may have been built without NUMA support.\n",
      "2025-04-04 16:05:44.336945: I tensorflow/core/common_runtime/gpu/gpu_device.cc:1501] Could not identify NUMA node of platform GPU id 0, defaulting to 0.  Your kernel may not have been built with NUMA support.\n",
      "2025-04-04 16:05:44.336959: I tensorflow/stream_executor/cuda/cuda_gpu_executor.cc:923] could not open file to read NUMA node: /sys/bus/pci/devices/0000:01:00.0/numa_node\n",
      "Your kernel may have been built without NUMA support.\n",
      "2025-04-04 16:05:44.336967: I tensorflow/core/common_runtime/gpu/gpu_device.cc:1418] Created TensorFlow device (/job:localhost/replica:0/task:0/device:GPU:0 with 13433 MB memory) -> physical GPU (device: 0, name: NVIDIA GeForce RTX 4070 Ti SUPER, pci bus id: 0000:01:00.0, compute capability: 8.9)\n",
      "2025-04-04 16:05:44.338318: I tensorflow/stream_executor/cuda/cuda_gpu_executor.cc:923] could not open file to read NUMA node: /sys/bus/pci/devices/0000:01:00.0/numa_node\n",
      "Your kernel may have been built without NUMA support.\n",
      "2025-04-04 16:05:44.338330: I tensorflow/core/common_runtime/gpu/gpu_device.cc:1733] Found device 0 with properties: \n",
      "pciBusID: 0000:01:00.0 name: NVIDIA GeForce RTX 4070 Ti SUPER computeCapability: 8.9\n",
      "coreClock: 2.61GHz coreCount: 66 deviceMemorySize: 15.99GiB deviceMemoryBandwidth: 625.91GiB/s\n",
      "2025-04-04 16:05:44.338345: I tensorflow/stream_executor/cuda/cuda_gpu_executor.cc:923] could not open file to read NUMA node: /sys/bus/pci/devices/0000:01:00.0/numa_node\n",
      "Your kernel may have been built without NUMA support.\n",
      "2025-04-04 16:05:44.338356: I tensorflow/stream_executor/cuda/cuda_gpu_executor.cc:923] could not open file to read NUMA node: /sys/bus/pci/devices/0000:01:00.0/numa_node\n",
      "Your kernel may have been built without NUMA support.\n",
      "2025-04-04 16:05:44.338361: I tensorflow/core/common_runtime/gpu/gpu_device.cc:1871] Adding visible gpu devices: 0\n",
      "2025-04-04 16:05:44.338370: I tensorflow/core/common_runtime/gpu/gpu_device.cc:1258] Device interconnect StreamExecutor with strength 1 edge matrix:\n",
      "2025-04-04 16:05:44.338373: I tensorflow/core/common_runtime/gpu/gpu_device.cc:1264]      0 \n",
      "2025-04-04 16:05:44.338375: I tensorflow/core/common_runtime/gpu/gpu_device.cc:1277] 0:   N \n",
      "2025-04-04 16:05:44.338464: I tensorflow/stream_executor/cuda/cuda_gpu_executor.cc:923] could not open file to read NUMA node: /sys/bus/pci/devices/0000:01:00.0/numa_node\n",
      "Your kernel may have been built without NUMA support.\n",
      "2025-04-04 16:05:44.338472: I tensorflow/core/common_runtime/gpu/gpu_device.cc:1501] Could not identify NUMA node of platform GPU id 0, defaulting to 0.  Your kernel may not have been built with NUMA support.\n",
      "2025-04-04 16:05:44.338486: I tensorflow/stream_executor/cuda/cuda_gpu_executor.cc:923] could not open file to read NUMA node: /sys/bus/pci/devices/0000:01:00.0/numa_node\n",
      "Your kernel may have been built without NUMA support.\n",
      "2025-04-04 16:05:44.338493: I tensorflow/core/common_runtime/gpu/gpu_device.cc:1418] Created TensorFlow device (/job:localhost/replica:0/task:0/device:GPU:0 with 13433 MB memory) -> physical GPU (device: 0, name: NVIDIA GeForce RTX 4070 Ti SUPER, pci bus id: 0000:01:00.0, compute capability: 8.9)\n",
      "2025-04-04 16:05:44.339583: I tensorflow/stream_executor/cuda/cuda_gpu_executor.cc:923] could not open file to read NUMA node: /sys/bus/pci/devices/0000:01:00.0/numa_node\n",
      "Your kernel may have been built without NUMA support.\n",
      "2025-04-04 16:05:44.339595: I tensorflow/core/common_runtime/gpu/gpu_device.cc:1733] Found device 0 with properties: \n",
      "pciBusID: 0000:01:00.0 name: NVIDIA GeForce RTX 4070 Ti SUPER computeCapability: 8.9\n",
      "coreClock: 2.61GHz coreCount: 66 deviceMemorySize: 15.99GiB deviceMemoryBandwidth: 625.91GiB/s\n",
      "2025-04-04 16:05:44.339608: I tensorflow/stream_executor/cuda/cuda_gpu_executor.cc:923] could not open file to read NUMA node: /sys/bus/pci/devices/0000:01:00.0/numa_node\n",
      "Your kernel may have been built without NUMA support.\n",
      "2025-04-04 16:05:44.339619: I tensorflow/stream_executor/cuda/cuda_gpu_executor.cc:923] could not open file to read NUMA node: /sys/bus/pci/devices/0000:01:00.0/numa_node\n",
      "Your kernel may have been built without NUMA support.\n",
      "2025-04-04 16:05:44.339623: I tensorflow/core/common_runtime/gpu/gpu_device.cc:1871] Adding visible gpu devices: 0\n",
      "2025-04-04 16:05:44.339631: I tensorflow/core/common_runtime/gpu/gpu_device.cc:1258] Device interconnect StreamExecutor with strength 1 edge matrix:\n",
      "2025-04-04 16:05:44.339634: I tensorflow/core/common_runtime/gpu/gpu_device.cc:1264]      0 \n",
      "2025-04-04 16:05:44.339636: I tensorflow/core/common_runtime/gpu/gpu_device.cc:1277] 0:   N \n",
      "2025-04-04 16:05:44.339729: I tensorflow/stream_executor/cuda/cuda_gpu_executor.cc:923] could not open file to read NUMA node: /sys/bus/pci/devices/0000:01:00.0/numa_node\n",
      "Your kernel may have been built without NUMA support.\n",
      "2025-04-04 16:05:44.339737: I tensorflow/core/common_runtime/gpu/gpu_device.cc:1501] Could not identify NUMA node of platform GPU id 0, defaulting to 0.  Your kernel may not have been built with NUMA support.\n",
      "2025-04-04 16:05:44.339750: I tensorflow/stream_executor/cuda/cuda_gpu_executor.cc:923] could not open file to read NUMA node: /sys/bus/pci/devices/0000:01:00.0/numa_node\n",
      "Your kernel may have been built without NUMA support.\n",
      "2025-04-04 16:05:44.339758: I tensorflow/core/common_runtime/gpu/gpu_device.cc:1418] Created TensorFlow device (/job:localhost/replica:0/task:0/device:GPU:0 with 13433 MB memory) -> physical GPU (device: 0, name: NVIDIA GeForce RTX 4070 Ti SUPER, pci bus id: 0000:01:00.0, compute capability: 8.9)\n",
      "2025-04-04 16:05:44.483030: I tensorflow/core/platform/cpu_feature_guard.cc:210] This TensorFlow binary is optimized to use available CPU instructions in performance-critical operations.\n",
      "To enable the following instructions: SSE4.1 SSE4.2 AVX AVX2 AVX512F AVX512_VNNI AVX512_BF16 FMA, in other operations, rebuild TensorFlow with the appropriate compiler flags.\n"
     ]
    }
   ],
   "source": [
    "from essentia_models import EssentiaPredictor"
   ]
  },
  {
   "cell_type": "code",
   "execution_count": 2,
   "metadata": {},
   "outputs": [
    {
     "name": "stderr",
     "output_type": "stream",
     "text": [
      "INFO:essentia_models:Initializing models in batches...\n",
      "INFO:essentia_models:Initializing model 1: vggish_embedding_model...\n",
      "2025-04-04 16:05:45.533342: I tensorflow/stream_executor/cuda/cuda_gpu_executor.cc:923] could not open file to read NUMA node: /sys/bus/pci/devices/0000:01:00.0/numa_node\n",
      "Your kernel may have been built without NUMA support.\n",
      "2025-04-04 16:05:45.533385: I tensorflow/core/common_runtime/gpu/gpu_device.cc:1733] Found device 0 with properties: \n",
      "pciBusID: 0000:01:00.0 name: NVIDIA GeForce RTX 4070 Ti SUPER computeCapability: 8.9\n",
      "coreClock: 2.61GHz coreCount: 66 deviceMemorySize: 15.99GiB deviceMemoryBandwidth: 625.91GiB/s\n",
      "2025-04-04 16:05:45.533410: I tensorflow/stream_executor/cuda/cuda_gpu_executor.cc:923] could not open file to read NUMA node: /sys/bus/pci/devices/0000:01:00.0/numa_node\n",
      "Your kernel may have been built without NUMA support.\n",
      "2025-04-04 16:05:45.533432: I tensorflow/stream_executor/cuda/cuda_gpu_executor.cc:923] could not open file to read NUMA node: /sys/bus/pci/devices/0000:01:00.0/numa_node\n",
      "Your kernel may have been built without NUMA support.\n",
      "2025-04-04 16:05:45.533441: I tensorflow/core/common_runtime/gpu/gpu_device.cc:1871] Adding visible gpu devices: 0\n",
      "2025-04-04 16:05:45.533467: I tensorflow/core/common_runtime/gpu/gpu_device.cc:1258] Device interconnect StreamExecutor with strength 1 edge matrix:\n",
      "2025-04-04 16:05:45.533471: I tensorflow/core/common_runtime/gpu/gpu_device.cc:1264]      0 \n",
      "2025-04-04 16:05:45.533473: I tensorflow/core/common_runtime/gpu/gpu_device.cc:1277] 0:   N \n",
      "2025-04-04 16:05:45.533580: I tensorflow/stream_executor/cuda/cuda_gpu_executor.cc:923] could not open file to read NUMA node: /sys/bus/pci/devices/0000:01:00.0/numa_node\n",
      "Your kernel may have been built without NUMA support.\n",
      "2025-04-04 16:05:45.533588: I tensorflow/core/common_runtime/gpu/gpu_device.cc:1501] Could not identify NUMA node of platform GPU id 0, defaulting to 0.  Your kernel may not have been built with NUMA support.\n",
      "2025-04-04 16:05:45.533603: I tensorflow/stream_executor/cuda/cuda_gpu_executor.cc:923] could not open file to read NUMA node: /sys/bus/pci/devices/0000:01:00.0/numa_node\n",
      "Your kernel may have been built without NUMA support.\n",
      "2025-04-04 16:05:45.533612: I tensorflow/core/common_runtime/gpu/gpu_device.cc:1418] Created TensorFlow device (/job:localhost/replica:0/task:0/device:GPU:0 with 13433 MB memory) -> physical GPU (device: 0, name: NVIDIA GeForce RTX 4070 Ti SUPER, pci bus id: 0000:01:00.0, compute capability: 8.9)\n",
      "2025-04-04 16:05:45.539285: I tensorflow/stream_executor/cuda/cuda_gpu_executor.cc:923] could not open file to read NUMA node: /sys/bus/pci/devices/0000:01:00.0/numa_node\n",
      "Your kernel may have been built without NUMA support.\n",
      "2025-04-04 16:05:45.539302: I tensorflow/core/common_runtime/gpu/gpu_device.cc:1733] Found device 0 with properties: \n",
      "pciBusID: 0000:01:00.0 name: NVIDIA GeForce RTX 4070 Ti SUPER computeCapability: 8.9\n",
      "coreClock: 2.61GHz coreCount: 66 deviceMemorySize: 15.99GiB deviceMemoryBandwidth: 625.91GiB/s\n",
      "2025-04-04 16:05:45.539318: I tensorflow/stream_executor/cuda/cuda_gpu_executor.cc:923] could not open file to read NUMA node: /sys/bus/pci/devices/0000:01:00.0/numa_node\n",
      "Your kernel may have been built without NUMA support.\n",
      "2025-04-04 16:05:45.539330: I tensorflow/stream_executor/cuda/cuda_gpu_executor.cc:923] could not open file to read NUMA node: /sys/bus/pci/devices/0000:01:00.0/numa_node\n",
      "Your kernel may have been built without NUMA support.\n",
      "2025-04-04 16:05:45.539334: I tensorflow/core/common_runtime/gpu/gpu_device.cc:1871] Adding visible gpu devices: 0\n",
      "2025-04-04 16:05:45.539350: I tensorflow/core/common_runtime/gpu/gpu_device.cc:1258] Device interconnect StreamExecutor with strength 1 edge matrix:\n",
      "2025-04-04 16:05:45.539353: I tensorflow/core/common_runtime/gpu/gpu_device.cc:1264]      0 \n",
      "2025-04-04 16:05:45.539356: I tensorflow/core/common_runtime/gpu/gpu_device.cc:1277] 0:   N \n",
      "2025-04-04 16:05:45.539474: I tensorflow/stream_executor/cuda/cuda_gpu_executor.cc:923] could not open file to read NUMA node: /sys/bus/pci/devices/0000:01:00.0/numa_node\n",
      "Your kernel may have been built without NUMA support.\n",
      "2025-04-04 16:05:45.539483: I tensorflow/core/common_runtime/gpu/gpu_device.cc:1501] Could not identify NUMA node of platform GPU id 0, defaulting to 0.  Your kernel may not have been built with NUMA support.\n",
      "2025-04-04 16:05:45.539497: I tensorflow/stream_executor/cuda/cuda_gpu_executor.cc:923] could not open file to read NUMA node: /sys/bus/pci/devices/0000:01:00.0/numa_node\n",
      "Your kernel may have been built without NUMA support.\n",
      "2025-04-04 16:05:45.539508: I tensorflow/core/common_runtime/gpu/gpu_device.cc:1418] Created TensorFlow device (/job:localhost/replica:0/task:0/device:GPU:0 with 13433 MB memory) -> physical GPU (device: 0, name: NVIDIA GeForce RTX 4070 Ti SUPER, pci bus id: 0000:01:00.0, compute capability: 8.9)\n",
      "2025-04-04 16:05:45.541010: I tensorflow/stream_executor/cuda/cuda_gpu_executor.cc:923] could not open file to read NUMA node: /sys/bus/pci/devices/0000:01:00.0/numa_node\n",
      "Your kernel may have been built without NUMA support.\n",
      "2025-04-04 16:05:45.541025: I tensorflow/core/common_runtime/gpu/gpu_device.cc:1733] Found device 0 with properties: \n",
      "pciBusID: 0000:01:00.0 name: NVIDIA GeForce RTX 4070 Ti SUPER computeCapability: 8.9\n",
      "coreClock: 2.61GHz coreCount: 66 deviceMemorySize: 15.99GiB deviceMemoryBandwidth: 625.91GiB/s\n",
      "2025-04-04 16:05:45.541039: I tensorflow/stream_executor/cuda/cuda_gpu_executor.cc:923] could not open file to read NUMA node: /sys/bus/pci/devices/0000:01:00.0/numa_node\n",
      "Your kernel may have been built without NUMA support.\n",
      "2025-04-04 16:05:45.541051: I tensorflow/stream_executor/cuda/cuda_gpu_executor.cc:923] could not open file to read NUMA node: /sys/bus/pci/devices/0000:01:00.0/numa_node\n",
      "Your kernel may have been built without NUMA support.\n",
      "2025-04-04 16:05:45.541055: I tensorflow/core/common_runtime/gpu/gpu_device.cc:1871] Adding visible gpu devices: 0\n",
      "2025-04-04 16:05:45.541070: I tensorflow/core/common_runtime/gpu/gpu_device.cc:1258] Device interconnect StreamExecutor with strength 1 edge matrix:\n",
      "2025-04-04 16:05:45.541073: I tensorflow/core/common_runtime/gpu/gpu_device.cc:1264]      0 \n",
      "2025-04-04 16:05:45.541075: I tensorflow/core/common_runtime/gpu/gpu_device.cc:1277] 0:   N \n",
      "2025-04-04 16:05:45.541189: I tensorflow/stream_executor/cuda/cuda_gpu_executor.cc:923] could not open file to read NUMA node: /sys/bus/pci/devices/0000:01:00.0/numa_node\n",
      "Your kernel may have been built without NUMA support.\n",
      "2025-04-04 16:05:45.541197: I tensorflow/core/common_runtime/gpu/gpu_device.cc:1501] Could not identify NUMA node of platform GPU id 0, defaulting to 0.  Your kernel may not have been built with NUMA support.\n",
      "2025-04-04 16:05:45.541211: I tensorflow/stream_executor/cuda/cuda_gpu_executor.cc:923] could not open file to read NUMA node: /sys/bus/pci/devices/0000:01:00.0/numa_node\n",
      "Your kernel may have been built without NUMA support.\n",
      "2025-04-04 16:05:45.541219: I tensorflow/core/common_runtime/gpu/gpu_device.cc:1418] Created TensorFlow device (/job:localhost/replica:0/task:0/device:GPU:0 with 13433 MB memory) -> physical GPU (device: 0, name: NVIDIA GeForce RTX 4070 Ti SUPER, pci bus id: 0000:01:00.0, compute capability: 8.9)\n",
      "[   INFO   ] TensorflowPredict: Successfully loaded graph file: `Models/audioset-vggish-3.pb`\n",
      "2025-04-04 16:05:45.879011: I tensorflow/stream_executor/cuda/cuda_gpu_executor.cc:923] could not open file to read NUMA node: /sys/bus/pci/devices/0000:01:00.0/numa_node\n",
      "Your kernel may have been built without NUMA support.\n",
      "2025-04-04 16:05:45.879039: I tensorflow/core/common_runtime/gpu/gpu_device.cc:1733] Found device 0 with properties: \n",
      "pciBusID: 0000:01:00.0 name: NVIDIA GeForce RTX 4070 Ti SUPER computeCapability: 8.9\n",
      "coreClock: 2.61GHz coreCount: 66 deviceMemorySize: 15.99GiB deviceMemoryBandwidth: 625.91GiB/s\n",
      "2025-04-04 16:05:45.879057: I tensorflow/stream_executor/cuda/cuda_gpu_executor.cc:923] could not open file to read NUMA node: /sys/bus/pci/devices/0000:01:00.0/numa_node\n",
      "Your kernel may have been built without NUMA support.\n",
      "2025-04-04 16:05:45.879068: I tensorflow/stream_executor/cuda/cuda_gpu_executor.cc:923] could not open file to read NUMA node: /sys/bus/pci/devices/0000:01:00.0/numa_node\n",
      "Your kernel may have been built without NUMA support.\n",
      "2025-04-04 16:05:45.879073: I tensorflow/core/common_runtime/gpu/gpu_device.cc:1871] Adding visible gpu devices: 0\n",
      "2025-04-04 16:05:45.879094: I tensorflow/core/common_runtime/gpu/gpu_device.cc:1258] Device interconnect StreamExecutor with strength 1 edge matrix:\n",
      "2025-04-04 16:05:45.879124: I tensorflow/core/common_runtime/gpu/gpu_device.cc:1264]      0 \n",
      "2025-04-04 16:05:45.879128: I tensorflow/core/common_runtime/gpu/gpu_device.cc:1277] 0:   N \n",
      "2025-04-04 16:05:45.879243: I tensorflow/stream_executor/cuda/cuda_gpu_executor.cc:923] could not open file to read NUMA node: /sys/bus/pci/devices/0000:01:00.0/numa_node\n",
      "Your kernel may have been built without NUMA support.\n",
      "2025-04-04 16:05:45.879252: I tensorflow/core/common_runtime/gpu/gpu_device.cc:1501] Could not identify NUMA node of platform GPU id 0, defaulting to 0.  Your kernel may not have been built with NUMA support.\n",
      "2025-04-04 16:05:45.879265: I tensorflow/stream_executor/cuda/cuda_gpu_executor.cc:923] could not open file to read NUMA node: /sys/bus/pci/devices/0000:01:00.0/numa_node\n",
      "Your kernel may have been built without NUMA support.\n",
      "2025-04-04 16:05:45.879274: I tensorflow/core/common_runtime/gpu/gpu_device.cc:1418] Created TensorFlow device (/job:localhost/replica:0/task:0/device:GPU:0 with 13433 MB memory) -> physical GPU (device: 0, name: NVIDIA GeForce RTX 4070 Ti SUPER, pci bus id: 0000:01:00.0, compute capability: 8.9)\n",
      "INFO:essentia_models:Model 1 (vggish_embedding_model) initialized in 0.45 seconds.\n",
      "INFO:essentia_models:Initializing model 2: effnet_embedding_model...\n",
      "2025-04-04 16:05:45.987913: I tensorflow/stream_executor/cuda/cuda_gpu_executor.cc:923] could not open file to read NUMA node: /sys/bus/pci/devices/0000:01:00.0/numa_node\n",
      "Your kernel may have been built without NUMA support.\n",
      "INFO:essentia_models:Model 2 (effnet_embedding_model) initialized in 0.19 seconds.\n",
      "2025-04-04 16:05:45.988008: I tensorflow/core/common_runtime/gpu/gpu_device.cc:1733] Found device 0 with properties: \n",
      "pciBusID: 0000:01:00.0 name: NVIDIA GeForce RTX 4070 Ti SUPER computeCapability: 8.9\n",
      "coreClock: 2.61GHz coreCount: 66 deviceMemorySize: 15.99GiB deviceMemoryBandwidth: 625.91GiB/s\n",
      "2025-04-04 16:05:45.988055: I tensorflow/stream_executor/cuda/cuda_gpu_executor.cc:923] could not open file to read NUMA node: /sys/bus/pci/devices/0000:01:00.0/numa_node\n",
      "Your kernel may have been built without NUMA support.\n",
      "2025-04-04 16:05:45.988073: I tensorflow/stream_executor/cuda/cuda_gpu_executor.cc:923] could not open file to read NUMA node: /sys/bus/pci/devices/0000:01:00.0/numa_node\n",
      "Your kernel may have been built without NUMA support.\n",
      "2025-04-04 16:05:45.988081: I tensorflow/core/common_runtime/gpu/gpu_device.cc:1871] Adding visible gpu devices: 0\n",
      "2025-04-04 16:05:45.988157: I tensorflow/core/common_runtime/gpu/gpu_device.cc:1258] Device interconnect StreamExecutor with strength 1 edge matrix:\n",
      "2025-04-04 16:05:45.988161: I tensorflow/core/common_runtime/gpu/gpu_device.cc:1264]      0 \n",
      "2025-04-04 16:05:45.988164: I tensorflow/core/common_runtime/gpu/gpu_device.cc:1277] 0:   N \n",
      "2025-04-04 16:05:45.988426: I tensorflow/stream_executor/cuda/cuda_gpu_executor.cc:923] could not open file to read NUMA node: /sys/bus/pci/devices/0000:01:00.0/numa_node\n",
      "Your kernel may have been built without NUMA support.\n",
      "2025-04-04 16:05:45.988440: I tensorflow/core/common_runtime/gpu/gpu_device.cc:1501] Could not identify NUMA node of platform GPU id 0, defaulting to 0.  Your kernel may not have been built with NUMA support.\n",
      "2025-04-04 16:05:45.988465: I tensorflow/stream_executor/cuda/cuda_gpu_executor.cc:923] could not open file to read NUMA node: /sys/bus/pci/devices/0000:01:00.0/numa_node\n",
      "Your kernel may have been built without NUMA support.\n",
      "2025-04-04 16:05:45.988498: I tensorflow/core/common_runtime/gpu/gpu_device.cc:1418] Created TensorFlow device (/job:localhost/replica:0/task:0/device:GPU:0 with 13433 MB memory) -> physical GPU (device: 0, name: NVIDIA GeForce RTX 4070 Ti SUPER, pci bus id: 0000:01:00.0, compute capability: 8.9)\n",
      "2025-04-04 16:05:45.992447: I tensorflow/stream_executor/cuda/cuda_gpu_executor.cc:923] could not open file to read NUMA node: /sys/bus/pci/devices/0000:01:00.0/numa_node\n",
      "Your kernel may have been built without NUMA support.\n",
      "2025-04-04 16:05:45.992460: I tensorflow/core/common_runtime/gpu/gpu_device.cc:1733] Found device 0 with properties: \n",
      "pciBusID: 0000:01:00.0 name: NVIDIA GeForce RTX 4070 Ti SUPER computeCapability: 8.9\n",
      "coreClock: 2.61GHz coreCount: 66 deviceMemorySize: 15.99GiB deviceMemoryBandwidth: 625.91GiB/s\n",
      "2025-04-04 16:05:45.992475: I tensorflow/stream_executor/cuda/cuda_gpu_executor.cc:923] could not open file to read NUMA node: /sys/bus/pci/devices/0000:01:00.0/numa_node\n",
      "Your kernel may have been built without NUMA support.\n",
      "2025-04-04 16:05:45.992487: I tensorflow/stream_executor/cuda/cuda_gpu_executor.cc:923] could notINFO:essentia_models:Initializing model 3: vggish_dance_model...\n",
      " open file to read NUMA node: /sys/bus/pci/devices/0000:01:00.0/numa_node\n",
      "Your kernel may have been built without NUMA support.\n",
      "2025-04-04 16:05:45.992490: I tensorflow/core/common_runtime/gpu/gpu_device.cc:1871] Adding visible gpu devices: 0\n",
      "2025-04-04 16:05:45.992504: I tensorflow/core/common_runtime/gpu/gpu_device.cc:1258] Device interconnect StreamExecutor with strength 1 edge matrix:\n",
      "2025-04-04 16:05:45.992507: I tensorflow/core/common_runtime/gpu/gpu_device.cc:1264]      0 \n",
      "2025-04-04 16:05:45.992509: I tensorflow/core/common_runtime/gpu/gpu_device.cc:1277] 0:   N \n",
      "2025-04-04 16:05:45.992615: I tensorflow/stream_executor/cuda/cuda_gpu_executor.cc:923] could not open file to read NUMA node: /sys/bus/pci/devices/0000:01:00.0/numa_node\n",
      "Your kernel may have been built without NUMA support.\n",
      "2025-04-04 16:05:45.992624: I tensorflow/core/common_runtime/gpu/gpu_device.cc:1501] Could not identify NUMA node of platform GPU id 0, defaulting to 0.  Your kernel may not have been built with NUMA support.\n",
      "2025-04-04 16:05:45.992638: I tensorflow/stream_executor/cuda/cuda_gpu_executor.cc:923] could not open file to read NUMA node: /sys/bus/pci/devices/0000:01:00.0/numa_node\n",
      "Your kernel may have been built without NUMA support.\n",
      "2025-04-04 16:05:45.992649: I tensorflow/core/common_runtime/gpu/gpu_device.cc:1418] Created TensorFlow device (/job:localhost/replica:0/task:0/device:GPU:0 with 13433 MB memory) -> physical GPU (device: 0, name: NVIDIA GeForce RTX 4070 Ti SUPER, pci bus id: 0000:01:00.0, compute capability: 8.9)\n",
      "2025-04-04 16:05:45.993991: I tensorflow/stream_executor/cuda/cuda_gpu_executor.cc:923] could not open file to read NUMA node: /sys/bus/pci/devices/0000:01:00.0/numa_node\n",
      "Your kernel may have been built without NUMA support.\n",
      "2025-04-04 16:05:45.994004: I tensorflow/core/common_runtime/gpu/gpu_device.cc:1733] Found device 0 with properties: \n",
      "pciBusID: 0000:01:00.0 name: NVIDIA GeForce RTX 4070 Ti SUPER computeCapability: 8.9\n",
      "coreClock: 2.61GHz coreCount: 66 deviceMemorySize: 15.99GiB deviceMemoryBandwidth: 625.91GiB/s\n",
      "2025-04-04 16:05:45.994019: I tensorflow/stream_executor/cuda/cuda_gpu_executor.cc:923] could not open file to read NUMA node: /sys/bus/pci/devices/0000:01:00.0/numa_node\n",
      "Your kernel may have been built without NUMA support.\n",
      "2025-04-04 16:05:45.994032: I tensorflow/stream_executor/cuda/cuda_gpu_executor.cc:923] could not open file to read NUMA node: /sys/bus/pci/devices/0000:01:00.0/numa_node\n",
      "Your kernel may have been built without NUMA support.\n",
      "2025-04-04 16:05:45.994035: I tensorflow/core/common_runtime/gpu/gpu_device.cc:1871] Adding visible gpu devices: 0\n",
      "2025-04-04 16:05:45.994044: I tensorflow/core/common_runtime/gpu/gpu_device.cc:1258] Device interconnect StreamExecutor with strength 1 edge matrix:\n",
      "2025-04-04 16:05:45.994047: I tensorflow/core/common_runtime/gpu/gpu_device.cc:1264]      0 \n",
      "2025-04-04 16:05:45.994050: I tensorflow/core/common_runtime/gpu/gpu_device.cc:1277] 0:   N \n",
      "2025-04-04 16:05:45.994144: I tensorflow/sINFO:essentia_models:Model 3 (vggish_dance_model) initialized in 0.12 seconds.\n",
      "INFO:essentia_models:Initializing model 4: vggish_party_model...\n",
      "tream_executor/cuda/cuda_gpu_executor.cc:923] could not open file to read NUMA node: /sys/bus/pci/devices/0000:01:00.0/numa_node\n",
      "Your kernel may have been built without NUMA support.\n",
      "2025-04-04 16:05:45.994154: I tensorflow/core/common_runtime/gpu/gpu_device.cc:1501] Could not identify NUMA node of platform GPU id 0, defaulting to 0.  Your kernel may not have been built with NUMA support.\n",
      "2025-04-04 16:05:45.994171: I tensorflow/stream_executor/cuda/cuda_gpu_executor.cc:923] could not open file to read NUMA node: /sys/bus/pci/devices/0000:01:00.0/numa_node\n",
      "Your kernel may have been built without NUMA support.\n",
      "2025-04-04 16:05:45.994180: I tensorflow/core/common_runtime/gpu/gpu_device.cc:1418] Created TensorFlow device (/job:localhost/replica:0/task:0/device:GPU:0 with 13433 MB memory) -> physical GPU (device: 0, name: NVIDIA GeForce RTX 4070 Ti SUPER, pci bus id: 0000:01:00.0, compute capability: 8.9)\n",
      "[   INFO   ] TensorflowPredict: Successfully loaded graph file: `Models/discogs-effnet-bs64-1.pb`\n",
      "2025-04-04 16:05:46.056580: I tensorflow/stream_executor/cuda/cuda_gpu_executor.cc:923] could not open file to read NUMA node: /sys/bus/pci/devices/0000:01:00.0/numa_node\n",
      "Your kernel may have been built without NUMA support.\n",
      "2025-04-04 16:05:46.056608: I tensorflow/core/common_runtime/gpu/gpu_device.cc:1733] Found device 0 with properties: \n",
      "pciBusID: 0000:01:00.0 name: NVIDIA GeForce RTX 4070 Ti SUPER computeCapability: 8.9\n",
      "coreClock: 2.61GHz coreCount: 66 deviceMemorySize: 15.99GiB deviceMemoryBandwidth: 625.91GiB/s\n",
      "2025-04-04 16:05:46.056625: I tensorflow/stream_executor/cuda/cuda_gpu_executor.cc:923] could not open file to read NUMA node: /sys/bus/pci/devices/0000:01:00.0/numa_node\n",
      "Your kernel may have been built without NUMA support.\n",
      "2025-04-04 16:05:46.056636: I tensorflow/stream_executor/cuda/cuda_gpu_executor.cc:923] could not open file to read NUMA node: /sys/bus/pci/devices/0000:01:00.0/numa_node\n",
      "Your kernel may have been built without NUMA support.\n",
      "2025-04-04 16:05:46.056640: I tensorflow/core/common_runtime/gpu/gpu_device.cc:1871] Adding visible gpu devices: 0\n",
      "2025-04-04 16:05:46.056664: I tensorflow/core/common_runtime/gpu/gpu_device.cc:1258] Device interconnect StreamExecutor with strength 1 edge matrix:\n",
      "2025-04-04 16:05:46.056668: I tensorflow/core/common_runtime/gpu/gpu_device.cc:1264]      0 \n",
      "2025-04-04 16:05:46.056670: I tensorflow/core/common_runtime/gpu/gpu_device.cc:1277] 0:   N \n",
      "2025-04-04 16:05:46.056789: I tensorflow/stream_executor/cuda/cuda_gpu_executor.cc:923] could not open file to read NUMA node: /sys/bus/pci/devices/0000:01:00.0/numa_node\n",
      "Your kernel may have been built without NUMA support.\n",
      "2025-04-04 16:05:46.056797: I tensorflow/core/common_runtime/gpu/gpu_device.cc:1501] Could not identify NUMA node of platform GPU id 0, defaulting to 0.  Your kernel may not have been built with NUMA support.\n",
      "2025-04-04 16:05:46.056811: I tensorflow/stream_executor/cuda/cuda_gpu_executor.cc:923] could not open file to read NUMA node: /sys/bus/pci/devices/0000:01:00.0/numa_node\n",
      "Your kernel may have been built without NUMA support.\n",
      "2025-04-04 16:05:46.056820: I tensorflow/core/common_runtime/gpu/gpu_device.cc:1418] Created TensorFlow device (/job:localhost/replica:0/task:0/device:GPU:0 with 13433 MB memory) -> physical GPU (device: 0, name: NVIDIA GeForce RTX 4070 Ti SUPER, pci bus id: 0000:01:00.0, compute capability: 8.9)\n",
      "2025-04-04 16:05:46.178816: I tensorflow/stream_executor/cuda/cuda_gpu_executor.cc:923] could not open file to read NUMA node: /sys/bus/pci/devices/0000:01:00.0/numa_node\n",
      "Your kernel may have been built without NUMA support.\n",
      "2025-04-04 16:05:46.178846: I tensorflow/core/common_runtime/gpu/gpu_device.cc:1733] Found device 0 with properties: \n",
      "pciBusID: 0000:01:00.0 name: NVIDIA GeForce RTX 4070 Ti SUPER computeCapability: 8.9\n",
      "coreClock: 2.61GHz coreCount: 66 deviceMemorySize: 15.99GiB deviceMemoryBandwidth: 625.91GiB/s\n",
      "2025-04-04 16:05:46.178863: I tensorflow/stream_executor/cuda/cuda_gpu_executor.cc:9INFO:essentia_models:Model 4 (vggish_party_model) initialized in 0.13 seconds.\n",
      "23] could not open file to read NUMA node: /sys/bus/pci/devices/0000:01:00.0/numa_node\n",
      "Your kernel may have been built without NUMA support.\n",
      "2025-04-04 16:05:46.178876: I tensorflow/stream_executor/cuda/cuda_gpu_executor.cc:923] could not open file to read NUMA node: /sys/bus/pci/devices/0000:01:00.0/numa_node\n",
      "Your kernel may have been built without NUMA support.\n",
      "2025-04-04 16:05:46.178880: I tensorflow/core/common_runtime/gpu/gpu_device.cc:1871] Adding visible gpu devices: 0\n",
      "2025-04-04 16:05:46.178905: I tensorflow/core/common_runtime/gpu/gpu_device.cc:1258] Device interconnect StreamExecutor with strength 1 edge matrix:\n",
      "2025-04-04 16:05:46.178908: I tensorflow/core/common_runtime/gpu/gpu_device.cc:1264]      0 \n",
      "2025-04-04 16:05:46.178911: I tensorflow/core/common_runtime/gpu/gpu_device.cc:1277] 0:   N \n",
      "2025-04-04 16:05:46.179049: I tensorflow/stream_executor/cuda/cuda_gpu_executor.cc:923] could not open file to read NUMA node: /sys/bus/pci/devices/0000:01:00.0/numa_node\n",
      "Your kernel may have been built without NUMA support.\n",
      "2025-04-04 16:05:46.179062: I tensorflow/core/common_runtime/gpu/gpu_device.cc:1501] Could not identify NUMA node of platform GPU id 0, defaulting to 0.  Your kernel may not have been built with NUMA support.\n",
      "2025-04-04 16:05:46.179086: I tensorflow/stream_executor/cuda/cuda_gpu_executor.cc:923] could not open file to read NUMA node: /sys/bus/pci/devices/0000:01:00.0/numa_node\n",
      "Your kernel may have been built without NUMA support.\n",
      "2025-04-04 16:05:46.179127: I tensorflow/core/common_runtime/gpu/gpu_device.cc:1418] Created TensorFlow device (/job:localhost/replica:0/task:0/device:GPU:0 with 13433 MB memory) -> physical GPU (device: 0, name: NVIDIA GeForce RTX 4070 Ti SUPER, pci bus id: 0000:01:00.0, compute capability: 8.9)\n",
      "2025-04-04 16:05:46.180113: I tensorflow/stream_executor/cuda/cuda_gpu_executor.cc:923] could not open file to read NUMA node: /sys/bus/pci/devices/0000:01:00.0/numa_node\n",
      "Your kernel may have been built without NUMA support.\n",
      "2025-04-04 16:05:46.180125: I tensorflow/core/common_runtime/gpu/gpu_device.cc:1733] Found device 0 with properties: \n",
      "pciBusID: 0000:01:00.0 name: NVIDIA GeForce RTX 4070 Ti SUPER computeCapability: 8.9\n",
      "coreClock: 2.61GHz coreCount: 66 deviceMemorySize: 15.99GiB deviceMemoryBandwidth: 625.91GiB/s\n",
      "2025-04-04 16:05:46.180138: I tensorflow/stream_executor/cuda/cuda_gpu_executor.cc:923] could not open file to read NUMA node: /sys/bus/pci/devices/0000:01:00.0/numa_node\n",
      "Your kernel may have been built without NUMA support.\n",
      "2025-04-04 16:05:46.180161: I tensorflow/stream_executor/cuda/cuda_gpu_executor.cc:923] could not open file to read NUMA node: /sys/bus/pci/devices/0000:01:00.0/numa_node\n",
      "Your kernel may have been built without NUMA support.\n",
      "2025-04-04 16:05:46.180170: I tensorflow/core/common_runtime/gpu/gpu_device.cc:1871] Adding visible gpu devices: 0\n",
      "2025-04-04 16:05:46.180181: I tensorflow/core/common_runtime/gpu/gpu_device.cc:1258] Device interconnect StreamExecutor with strength 1 edge matrix:\n",
      "2025-04-04 16:05:46.180184: I tensorflow/core/common_runtime/gpu/gpu_device.cc:1264]      0 \n",
      "2025-04-04 16:05:46.180186: I tensorflow/core/common_runtime/gpu/gpu_device.cc:1277] 0:   N \n",
      "2025-04-04 16:05:46.180274: I tensorflow/stream_executor/cuda/cuda_gpu_executor.cc:923] could not open file to read NUMA node: /sys/bus/pci/devices/0000:01:00.0/numa_node\n",
      "Your kernel may have been built without NUMA support.\n",
      "2025-04-04 16:05:46.180285: I tensorflow/core/common_runtime/gpu/gpu_device.cc:1501] Could not identify NUMA node of platform GPU id 0, defaulting to 0.  Your kernel may not have been built with NUMA support.\n",
      "2025-04-04 16:05:46.180300: I tensorflow/stream_executor/cuda/cuda_gpu_executor.cc:923] could not open file to read NUMA node: /sys/bus/pci/devices/0000:01:00.0/numa_node\n",
      "Your kernel may have been built without NUMA support.\n",
      "2025-04-04 16:05:46.180311: I tensorflow/core/common_runtime/gpu/gpu_device.cc:1418] Created TensorFlow device (/job:localhost/replica:0/task:0/device:GPU:0 with 13433 MB memory) -> physical GPU (device: 0, name: NVIDIA GeForce RTX 4070 Ti SUPER, pci bus id: 0000:01:00.0, compute capability: 8.9)\n",
      "2025-04-04 16:05:46.180824: I tensorflow/stream_executor/cuda/cuda_gpu_executor.cc:923] could not open file to read NUMA node: /sys/bus/pci/devices/0000:01:00.0/numa_node\n",
      "Your kernel may have been built without NUMA support.\n",
      "2025-04-04 16:05:46.180837: I tensorflow/core/common_runtime/gpu/gpu_device.cc:1733] Found device 0 with properties: \n",
      "pciBusID: 0000:01:00.0 name: NVIDIA GeForce RTX 4070 Ti SUPER computeCapability: 8.9\n",
      "coreClock: 2.61GHz coreCount: 66 deviceMemorySize: 15.99GiB deviceMemoryBandwidth: 625.91GiB/s\n",
      "2025-04-04 16:05:46.180854: I tensorflow/stream_executor/cuda/cuda_gpu_executor.cc:923] could not open file to read NUMA node: /sys/bus/pci/devices/0000:01:00.0/numa_node\n",
      "Your kernel may have been built without NUMA support.\n",
      "2025-04-04 16:05:46.180868: I tensorflow/stream_executor/cuda/cuda_gpu_executor.cc:923] could not oINFO:essentia_models:Initializing model 5: vggish_happy_model...\n",
      "pen file to read NUMA node: /sys/bus/pci/devices/0000:01:00.0/numa_node\n",
      "Your kernel may have been built without NUMA support.\n",
      "2025-04-04 16:05:46.180872: I tensorflow/core/common_runtime/gpu/gpu_device.cc:1871] Adding visible gpu devices: 0\n",
      "2025-04-04 16:05:46.180882: I tensorflow/core/common_runtime/gpu/gpu_device.cc:1258] Device interconnect StreamExecutor with strength 1 edge matrix:\n",
      "2025-04-04 16:05:46.180885: I tensorflow/core/common_runtime/gpu/gpu_device.cc:1264]      0 \n",
      "2025-04-04 16:05:46.180889: I tensorflow/core/common_runtime/gpu/gpu_device.cc:1277] 0:   N \n",
      "2025-04-04 16:05:46.180994: I tensorflow/stream_executor/cuda/cuda_gpu_executor.cc:923] could not open file to read NUMA node: /sys/bus/pci/devices/0000:01:00.0/numa_node\n",
      "Your kernel may have been built without NUMA support.\n",
      "2025-04-04 16:05:46.181005: I tensorflow/core/common_runtime/gpu/gpu_device.cc:1501] Could not identify NUMA node of platform GPU id 0, defaulting to 0.  Your kernel may not have been built with NUMA support.\n",
      "2025-04-04 16:05:46.181025: I tensorflow/stream_executor/cuda/cuda_gpu_executor.cc:923] could not open file to read NUMA node: /sys/bus/pci/devices/0000:01:00.0/numa_node\n",
      "Your kernel may have been built without NUMA support.\n",
      "2025-04-04 16:05:46.181036: I tensorflow/core/common_runtime/gpu/gpu_device.cc:1418] Created TensorFlow device (/job:localhost/replica:0/task:0/device:GPU:0 with 13433 MB memory) -> physical GPU (device: 0, name: NVIDIA GeForce RTX 4070 Ti SUPER, pci bus id: 0000:01:00.0, compute capability: 8.9)\n",
      "[   INFO   ] TensorflowPredict: Successfully loaded graph file: `Models/danceability-audioset-vggish-1.pb`\n",
      "2025-04-04 16:05:46.181566: I tensorflow/stream_executor/cuda/cuda_gpu_executor.cc:923] could not open file to read NUMA node: /sys/bus/pci/devices/0000:01:00.0/numa_node\n",
      "Your kernel may have been built without NUMA support.\n",
      "2025-04-04 16:05:46.181580: I tensorflow/core/common_runtime/gpu/gpu_device.cc:1733] Found device 0 with properties: \n",
      "pciBusID: 0000:01:00.0 name: NVIDIA GeForce RTX 4070 Ti SUPER computeCapability: 8.9\n",
      "coreClock: 2.61GHz coreCount: 66 deviceMemorySize: 15.99GiB deviceMemoryBandwidth: 625.91GiB/s\n",
      "2025-04-04 16:05:46.181596: I tensorflow/stream_executor/cuda/cuda_gpu_executor.cc:923] could not open file to read NUMA node: /sys/bus/pci/devices/0000:01:00.0/numa_node\n",
      "Your kernel may have been built without NUMA support.\n",
      "2025-04-04 16:05:46.181609: I tensorflow/stream_executor/cuda/cuda_gpu_executor.cc:923] could not open file to read NUMA node: /sys/bus/pci/devices/0000:01:00.0/numa_node\n",
      "Your kernel may have been built without NUMA support.\n",
      "2025-04-04 16:05:46.181614: I tensorflow/core/common_runtime/gpu/gpu_device.cc:1871] Adding visible gpu devices: 0\n",
      "2025-04-04 16:05:46.181623: I tensorflow/core/common_runtime/gpu/gpu_device.cc:1258] Device interconnect StreamExecutor with strength 1 edge matrix:\n",
      "2025-04-04 16:05:46.181627: I tensorflow/core/common_runtime/gpu/gpu_device.cc:1264]      0 \n",
      "2025-04-04 16:05:46.181630: I tensorflow/core/common_runtime/gpu/gpu_device.cc:1277] 0:   N \n",
      "2025-04-04 16:05:46.181720: I tensorflow/stream_executor/cuda/cuda_gpu_executor.cc:923] could not open file to read NUMA node: /sys/bus/pci/devices/0000:01:00.0/numa_node\n",
      "Your kernel may have been built without NUMA support.\n",
      "2025-04-04 16:05:46.181728: I tensorflow/core/common_runtime/gpu/gpu_device.cc:1501] Could not identify NUMA node of platform GPU id 0, defaulting to 0.  Your kernel may not have been built with NUMA support.\n",
      "2025-04-04 16:05:46.181742: I tensorflow/stream_executor/cuda/cuda_gpu_executor.cc:923] could not open file to read NUMA node: /sys/bus/pci/devices/0000:01:00.0/numa_node\n",
      "Your kernel may have been built without NUMA support.\n",
      "2025-04-04 16:05:46.181750: I tensorflow/core/common_runtime/gpu/gpu_device.cc:1418] Created TensorFlow device (/job:localhost/replica:0/task:0/device:GPU:0 with 13433 MB memory) -> physical GPU (device: 0, name: NVIDIA GeForce RTX 4070 Ti SUPER, pci bus id: 0000:01:00.0, compute capability: 8.9)\n",
      "2025-04-04 16:05:46.298480: I tensorflow/stream_executor/cuda/cuda_gpu_executor.cc:923] could not open file to read NUMA node: /sys/bus/pci/devices/0000:01:00.0/numa_node\n",
      "Your kernel may have been built without NUMA support.\n",
      "2025-04-04 16:05:46.298511: I tensorflow/core/common_runtime/gpu/gpu_device.cc:1733] Found device 0 with properties: \n",
      "pciBusID: 0000:01:00.0 name: NVIDIA GeForce RTX 4070 Ti SUPER computeCapability: 8.9\n",
      "coreClock: 2.61GHz coreCount: 66 deviceMemorySize: 15.99GiB deviceMemoryBandwidth: 625.91GiB/s\n",
      "2025-04-04 16:05:46.298533: I tensorflow/stream_executor/cuda/cuda_gpu_executor.cc:923] could not open file to read NUMA node: /sys/bus/pci/devices/0000:01:00.0/numa_node\n",
      "Your kernel may have been built without NUMA support.\n",
      "2025-04-04 16:05:46.298547: I tensorflow/stream_executor/cuda/cuda_gpu_executor.cc:923] could not open file to read NUMA node: /sys/bus/pci/devices/0000:01:00.0/numa_node\n",
      "Your kernel may have been built without NUMA support.\n",
      "2025-04-04 16:05:46.298552: I tensorflow/core/common_runtime/gpu/gpu_device.cc:1871] Adding visible gpu devices: 0\n",
      "2025-04-04 16:05:46.298579: I tensorflow/core/common_runtime/gpu/gpu_device.cc:1258] Device interconnect StreamExecutor with strength 1 edge matrix:\n",
      "2025-04-04 16:05:46.298583: I tensorflow/core/common_runtime/gpu/gpu_device.cc:1264]      0 \n",
      "2025-04-04 16:05:46.298586: I tensorflow/core/common_runtime/gpu/gpu_device.cc:1277] 0:   N \n",
      "2025-04-04 16:05:46.298733: I tensorflow/stream_executor/cuda/cuda_gpu_executor.cc:923] could not open file to read NUMA node: /sys/bus/pci/devices/0000:01:00.0/numa_node\n",
      "Your kernel may have been built without NUMA support.\n",
      "2025-04-04 16:05:46.298747: I tensorflow/core/common_runtime/gpu/gpu_device.cc:1501] Could not identify NUMA node of platform GPU id 0, defaulting to 0.  Your kernel may not have been built with NUMA support.\n",
      "2025-04-04 16:05:46.298776: I tensorflow/stream_executor/cuda/cuda_gpu_executor.cc:923] could not open file to read NUMA node: /sys/bus/pci/devices/0000:01:00.0/numa_node\n",
      "Your kernel may have been built without NUMA support.\n",
      "2025-04-04 16:05:46.298797: I tensorflow/core/common_runtime/gpu/gpu_device.cc:1418] Created TensorFlow device (/job:localhost/replica:0/task:0/device:GPU:0 with 13433 MB memory) -> physical GPU (device: 0, name: NVIDIA GeForce RTX 4070 Ti SUPER, pci bus id: 0000:01:00.0, compute capability: 8.9)\n",
      "2025-04-04 16:05:46.300049: I tensorflow/stream_executor/cuda/cuda_gpu_executor.cc:923] could not open file to read NUMA node: /sys/bus/pci/devices/0000:01:00.0/numa_node\n",
      "Your kernel may have been built without NUMA support.\n",
      "2025-04-04 16:05:46.300062: I tensorflow/core/common_runtime/gpu/gpu_device.cc:1733] Found device 0 with properties: \n",
      "pciBusID: 0000:01:00.0 name: NVIDIA GeForce RTX 4070 Ti SUPER computeCapability: 8.9\n",
      "coreClock: 2.61GHz coreCount: 66 deviceMemorySize: 15.99GiB deviceMemoryBandwidth: 625.91GiB/s\n",
      "2025-04-04 16:05:46.300093: I tensorflow/stream_executor/cuda/cuda_gpu_executor.cc:923] could not open file to read NUMA node: /sys/bus/pci/devices/0000:01:00.0/numa_node\n",
      "Your kernel may have been built without NUMA support.\n",
      "2025-04-04 16:05:46.300111: I tensorflow/stream_executor/cuda/cuda_gpu_executor.cc:923] could not open file to read NUMA node: /sys/bus/pci/devices/0000:01:00.0/numa_node\n",
      "Your kernel may have been built without NUMA support.\n",
      "2025-04-04 16:05:46.300115: I tensorflow/core/common_runtime/gpu/gpu_device.cc:1871] Adding visible gpu devices: 0\n",
      "2025-04-04 16:05:46.300125: I tensorflow/core/common_runtime/gpu/gpu_device.cc:1258] Device interconnect StreamExecutor with strength 1 edge matrix:\n",
      "2025-04-04 16:05:46.300128: I tensorflow/core/common_runtime/gpu/gpu_device.cc:1264]      0 \n",
      "2025-04-04 16:05:46.300130: I tensorflow/core/common_runtime/gpu/gpu_device.cc:1277] 0:   N \n",
      "2025-04-04 16:05:46.300221: I tensorflow/stream_executor/cuda/cuda_gpu_executor.cc:923] could not open file to read NUMA node: /sys/bus/pci/devices/0000:01:00.0/numa_node\n",
      "Your kernel may have been built without NUMA support.\n",
      "2025-04-04 16:05:46.300229: I tensorflow/core/common_runtime/gpu/gpu_device.cc:1501] Could not identify NUMA node of platform GPU id 0, defaulting to 0.  Your kernel may not have been built with NUMA support.\n",
      "2025-04-04 16:05:46.300243: I tensorflow/stream_executor/cuda/cuda_gpu_executor.cc:923] could not open file to read NUMA node: /sys/bus/pci/devices/0000:01:00.0/numa_node\n",
      "Your kernel may have been built without NUMA support.\n",
      "2025-04-04 16:05:46.300251: I tensorflow/core/common_runtime/gpu/gpu_device.cc:1418] Created TensorFlow device (/job:localhost/replica:0/task:0/device:GPU:0 with 13433 MB memory) -> physical GPU (device: 0, name: NVIDIA GeForce RTX 4070 Ti SUPER, pci bus id: 0000:01:00.0, compute capability: 8.9)\n",
      "2025-04-04 16:05:46.300739: I tensorflow/stream_executor/cuda/cuda_gpu_executor.cc:923] could not open file to read NUMA node: /sys/bus/pci/devices/0000:01:00.0/numa_node\n",
      "Your kernel may have been built without NUMA support.\n",
      "2025-04-04 16:05:46.300751: I tensorflow/core/common_runtime/gpu/gpu_device.cc:1733] Found device 0 with properties: \n",
      "pciBusID: 0000:01:00.0 name: NVIDIA GeForce RTX 4070 Ti SUPER computeCapability: 8.9\n",
      "coreClock: 2.61GHz coreCount: 66 deviceMemorySize: 15.99GiB deviceMemoryBandwidth: 625.91GiB/s\n",
      "2025-04-04 16:05:46.300767: I tensorflow/stream_executor/cuda/cuda_gpu_executor.cc:923] could not open file to read NUMA node: /sys/bus/pci/devices/0000:01:00.0/numa_node\n",
      "Your kernel may have been built without NUMA support.\n",
      "2025-04-04 16:05:46.300780: I tensorflow/stream_executor/cuda/cuda_gpu_executor.cc:923] could not open file to read NUMA node: /sys/bus/pci/devices/0000:01:00.0/numa_node\n",
      "Your kernel may have been built without NUMA support.\n",
      "2025-04-04 16:05:46.300785: I tensorflow/core/common_runtime/gpu/gpu_device.cc:1871] Adding visible gpu devices: 0\n",
      "2025-04-04 16:05:46.300794: I tensorflow/core/common_runtime/gpu/gpu_device.cc:1258] Device interconnect StreamExecutor with strength 1 edge matrix:\n",
      "2025-04-04 16:05:46.300797: I tensorflow/core/common_runtime/gpu/gpu_device.cc:1264]      0 \n",
      "2025-04-04 16:05:46.300800: I tensorflow/core/common_runtime/gpu/gpu_device.cc:1277] 0:   N \n",
      "2025-04-04 16:05:46.300889: I tensorflow/stream_executor/cuda/cuda_gpu_executor.cc:923] could not open file to read NUMA node: /sys/bus/pci/devices/0000:01:00.0/numa_node\n",
      "Your kernel may have been built without NUMA support.\n",
      "2025-04-04 16:05:46.300898: I tensorflow/core/common_runtime/gpu/gpu_device.cc:1501] Could not identify NUMA node of platform GPU id 0, defaulting to 0.  Your kernel may not have been built with NUMA support.\n",
      "2025-04-04 16:05:46.300913: I tensorflow/stream_executor/cuda/cuda_gpu_executor.cc:923] could not open file to read NUMA node: /sys/bus/pci/devices/0000:01:00.0/numa_node\n",
      "Your kernel may have been built without NUMA support.\n",
      "2025-04-04 16:05:46.300921: I tensorflow/core/common_runtime/gpu/gpu_device.cc:1418] Created TensorFlow device (/job:localhost/replica:0/task:0/device:GPU:0 with 13433 MB memory) -> physical GPU (device: 0, name: NVIDIA GeForce RTX 4070 Ti SUPER, pci bus id: 0000:01:00.0, compute capability: 8.9)\n",
      "[   INFO   ] TensorflowPredict: Successfully loaded graph file: `Models/mood_party-audioset-vggish-1.pb`\n",
      "2025-04-04 16:05:46.301359: I tensorflow/stream_executor/cuda/cuda_gpu_executor.cc:923] could not open file to read NUMA node: /sys/bus/pci/devices/0000:01:00.0/numa_node\n",
      "Your kernel may have been built without NUMA support.\n",
      "2025-04-04 16:05:46.301371: I tensorflow/core/common_runtime/gpu/gpu_device.cc:1733] Found device 0 with properties: \n",
      "pciBusID: 0000:01:00.0 name: NVIDIA GeForce RTX 4070 Ti SUPER computeCapability: 8.9\n",
      "coreClock: 2.61GHz coreCount: 66 deviceMemorySize: 15.99GiB deviceMemoryBandwidth: 625.91GiB/s\n",
      "2025-04-04 16:05:46.301386: I tensorflow/stream_executor/cuda/cuda_gpu_executor.cc:923] could not open file to read NUMA node: /sys/bus/pci/devices/0000:01:00.0/numa_node\n",
      "Your kernel may have been built without NUMA support.\n",
      "2025-04-04 16:05:46.301397: I tensorflow/stream_executor/cuda/cuda_gpu_executor.cc:923] could not open file to read NUMA node: /sys/bus/pci/devices/0000:01:00.0/numa_node\n",
      "Your kernel may have been built without NUMA support.\n",
      "2025-04-04 16:05:46.301401: I tensorflow/core/common_runtime/gpu/gpu_device.cc:1871] Adding visible gpu devices: 0\n",
      "2025-04-04 16:05:46.301409: I tensorflow/core/common_runtime/gpu/gpu_device.cc:1258] Device interconnect StreamExecutor with strength 1 edge matrix:\n",
      "2025-04-04 16:05:46.301411: I tensorflow/core/common_runtime/gpu/gpu_device.cc:1264]      0 \n",
      "2025-04-04 16:05:46.301414: I tensorflow/core/common_runtime/gpu/gpu_device.cc:1277] 0:   N \n",
      "2025-04-04 16:05:46.301491: I tensorflow/stream_executor/cuda/cuda_gpu_executor.cc:923] could not open file to read NUMA node: /sys/bus/pci/devices/0000:01:00.0/numa_node\n",
      "Your kernel may have been built without NUMA support.\n",
      "2025-04-04 16:05:46.301499: I tensorflow/core/common_runtime/gpu/gpu_device.cc:1501] Could not identify NUMA node of platform GPU id 0, defaulting to 0.  Your kernel may not have been built with NUMA support.\n",
      "2025-04-04 16:05:46.301511: I tensorflow/stream_executor/cuda/cuda_gpu_executor.cc:923] could not open file to read NUMA node: /sys/bus/pci/devices/0000:01:00.0/numa_node\n",
      "Your kernel may have been built without NUMA support.\n",
      "2025-04-04 16:05:46.301518: I tensorflow/core/common_runtime/gpu/gpu_device.cc:1418] Created TensorFlow device (/job:localhost/replica:0/task:0/device:GPU:0 with 13433 MB memory) -> physical GPU (device: 0, name: NVIDIA GeForce RTX 4070 Ti SUPER, pci bus id: 0000:01:00.0, compute capability: 8.9)\n",
      "2025-04-04 16:05:46.435164: I tensorflow/stream_executor/cuda/cuda_gpu_executor.cc:923] could not open file to read NUMA node: /sys/bus/pci/devices/0000:01:00.0/numa_node\n",
      "Your kernel may have been built without NUMA support.\n",
      "2025-04-04 16:05:46.435196: I tensorflow/core/common_runtime/gpu/gpu_device.cc:1733] Found device 0 with properties: \n",
      "pciBusID: 00INFO:essentia_models:Model 5 (vggish_happy_model) initialized in 0.11 seconds.\n",
      "00:01:00.0 name: NVIDIA GeForce RTX 4070 Ti SUPER computeCapability: 8.9\n",
      "coreClock: 2.61GHz coreCount: 66 deviceMemorySize: 15.99GiB deviceMemoryBandwidth: 625.91GiB/s\n",
      "2025-04-04 16:05:46.435215: I tensorflow/stream_executor/cuda/cuda_gpu_executor.cc:923] could not open file to read NUMA node: /sys/bus/pci/devices/0000:01:00.0/numa_node\n",
      "Your kernel may have been built without NUMA support.\n",
      "2025-04-04 16:05:46.435228: I tensorflow/stream_executor/cuda/cuda_gpu_executor.cc:923] could not open file to read NUMA node: /sys/bus/pci/devices/0000:01:00.0/numa_node\n",
      "Your kernel may have been built without NUMA support.\n",
      "2025-04-04 16:05:46.435232: I tensorflow/core/common_runtime/gpu/gpu_device.cc:1871] Adding visible gpu devices: 0\n",
      "2025-04-04 16:05:46.435258: I tensorflow/core/common_runtime/gpu/gpu_device.cc:1258] Device interconnect StreamExecutor with strength 1 edge matrix:\n",
      "2025-04-04 16:05:46.435261: I tensorflow/core/common_runtime/gpu/gpu_device.cc:1264]      0 \n",
      "2025-04-04 16:05:46.435263: I tensorflow/core/common_runtime/gpu/gpu_device.cc:1277] 0:   N \n",
      "2025-04-04 16:05:46.435386: I tensorflow/stream_executor/cuda/cuda_gpu_executor.cc:923] could not open file to read NUMA node: /sys/bus/pci/devices/0000:01:00.0/numa_node\n",
      "Your kernel may have been built without NUMA support.\n",
      "2025-04-04 16:05:46.435397: I tensorflow/core/common_runtime/gpu/gpu_device.cc:1501] Could not identify NUMA node of platform GPU id 0, defaulting to 0.  Your kernel may not have been built with NUMA support.\n",
      "2025-04-04 16:05:46.435413: I tensorflow/stream_executor/cuda/cuda_gpu_executor.cc:923] could not open file to read NUMA node: /sys/bus/pci/devices/0000:01:00.0/numa_node\n",
      "Your kernel may have been built without NUMA support.\n",
      "2025-04-04 16:05:46.435423: I tensorflow/core/common_runtime/gpu/gpu_device.cc:1418] Created TensorFlow device (/job:localhost/replica:0/task:0/device:GPU:0 with 13433 MB memory) -> physical GPU (device: 0, name: NVIDIA GeForce RTX 4070 Ti SUPER, pci bus id: 0000:01:00.0, compute capability: 8.9)\n",
      "2025-04-04 16:05:46.437161: I tensorflow/stream_executor/cuda/cuda_gpu_executor.cc:923] could not open file to read NUMA node: /sys/bus/pci/devices/0000:01:00.0/numa_node\n",
      "Your kernel may have been built without NUMA support.\n",
      "2025-04-04 16:05:46.437174: I tensorflow/core/common_runtime/gpu/gpu_device.cc:1733] Found device 0 with properties: \n",
      "pciBusID: 0000:01:00.0 name: NVIDIA GeForce RTX 4070 Ti SUPER computeCapability: 8.9\n",
      "coreClock: 2.61GHz coreCount: 66 deviceMemorySize: 15.99GiB deviceMemoryBandwidth: 625.91GiB/s\n",
      "2025-04-04 16:05:46.437188: I tensorflow/stream_executor/cuda/cuda_gpu_executor.cc:923] could not open file to read NUMA node: /sys/bus/pci/devices/0000:01:00.0/numa_node\n",
      "Your kernel may have been built without NUMA support.\n",
      "2025-04-04 16:05:46.437199: I tensorflow/stream_executor/cuda/cuda_gpu_executor.cc:923] could not open file to read NUMA node: /sys/bus/pci/devices/0000:01:00.0/numa_node\n",
      "Your kernel may have been built without NUMA support.\n",
      "2025-04-04 16:05:46.437203: I tensorflow/core/common_runtime/gpu/gpu_device.cc:1871] Adding visible gpu devices: 0\n",
      "2025-04-04 16:05:46.437216: I tensorflow/core/common_runtime/gpu/gpu_device.cc:1258] Device interconnect StreamExecutor with strength 1 edge matrix:\n",
      "2025-04-04 16:05:46.437219: I tensorflow/core/common_runtime/gpu/gpu_device.cc:1264]      0 \n",
      "2025-04-04 16:05:46.437222: I tensorflow/core/common_runtime/gpu/gpu_device.cc:1277] 0:   N \n",
      "2025-04-04 16:05:46.437354: I tensorflow/stream_executor/cuda/cuda_gpu_executor.cc:923] could not open file to read NUMA node: /sys/bus/pci/devices/0000:01:00.0/numa_node\n",
      "Your kernel may have been built without NUMA support.\n",
      "2025-04-04 16:05:46.437363: I tensorflow/core/common_runtime/gpu/gpu_device.cc:1501] Could not identify NUMA node of platform GPU id 0, defaulting to 0.  Your kernel may not have been built with NUMA support.\n",
      "2025-04-04 16:05:46.437377: I tensorflow/stream_executor/cuda/cuda_gpu_executor.cc:923] could not open file to read NUINFO:essentia_models:Initializing model 6: vggish_sad_model...\n",
      "MA node: /sys/bus/pci/devices/0000:01:00.0/numa_node\n",
      "Your kernel may have been built without NUMA support.\n",
      "2025-04-04 16:05:46.437387: I tensorflow/core/common_runtime/gpu/gpu_device.cc:1418] Created TensorFlow device (/job:localhost/replica:0/task:0/device:GPU:0 with 13433 MB memory) -> physical GPU (device: 0, name: NVIDIA GeForce RTX 4070 Ti SUPER, pci bus id: 0000:01:00.0, compute capability: 8.9)\n",
      "2025-04-04 16:05:46.438183: I tensorflow/stream_executor/cuda/cuda_gpu_executor.cc:923] could not open file to read NUMA node: /sys/bus/pci/devices/0000:01:00.0/numa_node\n",
      "Your kernel may have been built without NUMA support.\n",
      "2025-04-04 16:05:46.438195: I tensorflow/core/common_runtime/gpu/gpu_device.cc:1733] Found device 0 with properties: \n",
      "pciBusID: 0000:01:00.0 name: NVIDIA GeForce RTX 4070 Ti SUPER computeCapability: 8.9\n",
      "coreClock: 2.61GHz coreCount: 66 deviceMemorySize: 15.99GiB deviceMemoryBandwidth: 625.91GiB/s\n",
      "2025-04-04 16:05:46.438209: I tensorflow/stream_executor/cuda/cuda_gpu_executor.cc:923] could not open file to read NUMA node: /sys/bus/pci/devices/0000:01:00.0/numa_node\n",
      "Your kernel may have been built without NUMA support.\n",
      "2025-04-04 16:05:46.438375: I tensorflow/stream_executor/cuda/cuda_gpu_executor.cc:923] could not open file to read NUMA node: /sys/bus/pci/devices/0000:01:00.0/numa_node\n",
      "Your kernel may have been built without NUMA support.\n",
      "2025-04-04 16:05:46.438384: I tensorflow/core/common_runtime/gpu/gpu_device.cc:1871] Adding visible gpu devices: 0\n",
      "2025-04-04 16:05:46.438398: I tensorflow/core/common_runtime/gpu/gpu_device.cc:1258] Device interconnect StreamExecutor with strength 1 edge matrix:\n",
      "2025-04-04 16:05:46.438401: I tensorflow/core/common_runtime/gpu/gpu_device.cc:1264]      0 \n",
      "2025-04-04 16:05:46.438404: I tensorflow/core/common_runtime/gpu/gpu_device.cc:1277] 0:   N \n",
      "2025-04-04 16:05:46.438555: I tensorflow/stream_executor/cuda/cuda_gpu_executor.cc:923] could not open file to read NUMA node: /sys/bus/pci/devices/0000:01:00.0/numa_node\n",
      "Your kernel may have been built without NUMA support.\n",
      "2025-04-04 16:05:46.438566: I tensorflow/core/common_runtime/gpu/gpu_device.cc:1501] Could not identify NUMA node of platform GPU id 0, defaulting to 0.  Your kernel may not have been built with NUMA support.\n",
      "2025-04-04 16:05:46.438585: I tensorflow/stream_executor/cuda/cuda_gpu_executor.cc:923] could not open file to read NUMA node: /sys/bus/pci/devices/0000:01:00.0/numa_node\n",
      "Your kernel may have been built without NUMA support.\n",
      "2025-04-04 16:05:46.438595: I tensorflow/core/common_runtime/gpu/gpu_device.cc:1418] Created TensorFlow device (/job:localhost/replica:0/task:0/device:GPU:0 with 13433 MB memory) -> physical GPU (device: 0, name: NVIDIA GeForce RTX 4070 Ti SUPER, pci bus id: 0000:01:00.0, compute capability: 8.9)\n",
      "[   INFO   ] TensorflowPredict: Successfully loaded graph file: `Models/mood_happy-audioset-vggish-1.pb`\n",
      "2025-04-04 16:05:46.439268: I tensorflow/stream_executor/cuda/cuda_gpu_executor.cc:923] could not open file to read NUMA node: /sys/bus/pci/devices/0000:01:00.0/numa_node\n",
      "Your kernel may have been built without NUMA support.\n",
      "2025-04-04 16:05:46.439279: I tensorflow/core/common_runtime/gpu/gpu_device.cc:1733] Found device 0 with properties: \n",
      "pciBusID: 0000:01:00.0 name: NVIDIA GeForce RTX 4070 Ti SUPER computeCapability: 8.9\n",
      "coreClock: 2.61GHz coreCount: 66 deviceMemorySize: 15.99GiB deviceMemoryBandwidth: 625.91GiB/s\n",
      "2025-04-04 16:05:46.439293: I tensorflow/stream_executor/cuda/cuda_gpu_executor.cc:923] could not open file to read NUMA node: /sys/bus/pci/devices/0000:01:00.0/numa_node\n",
      "Your kernel may have been built without NUMA support.\n",
      "2025-04-04 16:05:46.439304: I tensorflow/stream_executor/cuda/cuda_gpu_executor.cc:923] could not open file to read NUMA node: /sys/bus/pci/devices/0000:01:00.0/numa_node\n",
      "Your kernel may have been built without NUMA support.\n",
      "2025-04-04 16:05:46.439308: I tensorflow/core/common_runtime/gpu/gpu_device.cc:1871] Adding visible gpu devices: 0\n",
      "2025-04-04 16:05:46.439318: I tensorflow/core/common_runtime/gpu/gpu_device.cc:1258] Device interconnect StreamExecutor with strength 1 edge matrix:\n",
      "2025-04-04 16:05:46.439321: I tensorflow/core/common_runtime/gpu/gpu_device.cc:1264]      0 \n",
      "2025-04-04 16:05:46.439323: I tensorflow/core/common_runtime/gpu/gpu_device.cc:1277] 0:   N \n",
      "2025-04-04 16:05:46.439425: I tensorflow/stream_executor/cuda/cuda_gpu_executor.cc:923] could not open file to read NUMA node: /sys/bus/pci/devices/0000:01:00.0/numa_node\n",
      "Your kernel may have been built without NUMA support.\n",
      "2025-04-04 16:05:46.439433: I tensorflow/core/common_runtime/gpu/gpu_device.cc:1501] Could not identify NUMA node of platform GPU id 0, defaulting to 0.  Your kernel may not have been built with NUMA support.\n",
      "2025-04-04 16:05:46.439446: I tensorflow/stream_executor/cuda/cuda_gpu_executor.cc:923] could not open file to read NUMA node: /sys/bus/pci/devices/0000:01:00.0/numa_node\n",
      "Your kernel may have been built without NUMA support.\n",
      "2025-04-04 16:05:46.439454: I tensorflow/core/common_runtime/gpu/gpu_device.cc:1418] Created TensorFlow device (/job:localhost/replica:0/task:0/device:GPU:0 with 13433 MB memory) -> physical GPU (device: 0, name: NVIDIA GeForce RTX 4070 Ti SUPER, pci bus id: 0000:01:00.0, compute capability: 8.9)\n",
      "2025-04-04 16:05:46.551946: I tensorflow/stream_executor/cuda/cuda_gpu_executor.cc:923] could not open file to read NUMA node: /sys/bus/pci/devices/0000:01:00.0/numa_node\n",
      "Your kernel may have been built without NUMA support.\n",
      "INFO:essentia_models:Model 6 (vggish_sad_model) initialized in 0.12 seconds.\n",
      "2025-04-04 16:05:46.551995: I tensorflow/core/common_runtime/gpu/gpu_device.cc:1733] Found device 0 with properties: \n",
      "pciBusID: 0000:01:00.0 name: NVIDIA GeForce RTX 4070 Ti SUPER computeCapability: 8.9\n",
      "coreClock: 2.61GHz coreCount: 66 deviceMemorySize: 15.99GiB deviceMemoryBandwidth: 625.91GiB/s\n",
      "2025-04-04 16:05:46.552025: I tensorflow/stream_executor/cuda/cuda_gpu_executor.cc:923] could not open file to read NUMA node: /sys/bus/pci/devices/0000:01:00.0/numa_node\n",
      "Your kernel may have been built without NUMA support.\n",
      "2025-04-04 16:05:46.552042: I tensorflow/stream_executor/cuda/cuda_gpu_executor.cc:923] could not open file to read NUMA node: /sys/bus/pci/devices/0000:01:00.0/numa_node\n",
      "Your kernel may have been built without NUMA support.\n",
      "2025-04-04 16:05:46.552047: I tensorflow/core/common_runtime/gpu/gpu_device.cc:1871] Adding visible gpu devices: 0\n",
      "2025-04-04 16:05:46.552073: I tensorflow/core/common_runtime/gpu/gpu_device.cc:1258] Device interconnect StreamExecutor with strength 1 edge matrix:\n",
      "2025-04-04 16:05:46.552077: I tensorflow/core/common_runtime/gpu/gpu_device.cc:1264]      0 \n",
      "2025-04-04 16:05:46.552080: I tensorflow/core/common_runtime/gpu/gpu_device.cc:1277] 0:   N \n",
      "2025-04-04 16:05:46.552186: I tensorflow/stream_executor/cuda/cuda_gpu_executor.cc:923] could not open file to read NUMA node: /sys/bus/pci/devices/0000:01:00.0/numa_node\n",
      "Your kernel may have been built without NUMA support.\n",
      "2025-04-04 16:05:46.552197: I tensorflow/core/common_runtime/gpu/gpu_device.cc:1501] Could not identify NUMA node of platform GPU id 0, defaulting to 0.  Your kernel may not have been built with NUMA support.\n",
      "2025-04-04 16:05:46.552214: I tensorflow/stream_executor/cuda/cuda_gpu_executor.cc:923] could not open file to read NUMA node: /sys/bus/pci/devices/0000:01:00.0/numa_node\n",
      "Your kernel may have been built without NUMA support.\n",
      "2025-04-04 16:05:46.552226: I tensorflow/core/common_runtime/gpu/gpu_device.cc:1418] Created TensorFlow device (/job:localhost/replica:0/task:0/device:GPU:0 with 13433 MB memory) -> physical GPU (device: 0, name: NVIDIA GeForce RTX 4070 Ti SUPER, pci bus id: 0000:01:00.0, compute capability: 8.9)\n",
      "2025-04-04 16:05:46.554861: I tensorflow/stream_executor/cuda/cuda_gpu_executor.cc:923] could not open file to read NUMA node: /sys/bus/pci/devices/0000:01:00.0/numa_node\n",
      "Your kernel may have been built without NUMA support.\n",
      "2025-04-04 16:05:46.554875: I tensorflow/core/common_runtime/gpu/gpu_device.cc:1733] Found device 0 with properties: \n",
      "pciBusID: 0000:01:00.0 name: NVIDIA GeForce RTX 4070 Ti SUPER computeCapability: 8.9\n",
      "coreClock: 2.61GHz coreCount: 66 deviceMemorySize: 15.99GiB deviceMemoryBandwidth: 625.91GiB/s\n",
      "2025-04-04 16:05:46.555066: I tensorflow/stream_executor/cuda/cuda_gpu_executor.cc:923] could not open file to read NUMA node: /sys/bus/pci/devices/0000:01:00.0/numa_node\n",
      "Your kernel may have been built without NUMA support.\n",
      "2025-04-04 16:05:46.555082: I tensorflow/stream_executor/cuda/cuda_gpu_executor.cc:923] could not open file to read NUMA node: /sys/bus/pci/devices/0000:01:00.0/numa_node\n",
      "Your kernel may have been built without NUMA support.\n",
      "2025-04-04 16:05:46.555087: I tensorflow/core/common_runtime/gpu/gpu_device.cc:1871] Adding visible gpu devices: 0\n",
      "2025-04-04 16:05:46.555105: I tensorflow/core/common_runtime/gpu/gpu_device.cc:1258] Device interconnect StreamExecutor with strength 1 edge matrix:\n",
      "2025-04-04 16:05:46.555108: I tensorflow/core/common_runtime/gpu/gpu_device.cc:1264]      0 \n",
      "2025-04-04 16:05:46.555111: I tensorflow/core/common_runtime/gpu/gpu_device.cc:1277] 0:   N \n",
      "2025-04-04 16:05:46.555212: I tensorflow/stream_executor/cuda/cuda_gpu_executor.cc:923] could not open file to read NUMA node: /sys/bus/pci/devices/0000:01:00.0/numa_node\n",
      "Your kernel may have been built without NUMA support.\n",
      "2025-04-04 16:05:46.555221: I tensorflow/core/common_runtime/gpu/gpu_device.cc:1501] Could not identify NUMA node of platform GPU id 0, defaulting to 0.  Your kernel may not have been built with NUMA support.\n",
      "2025-04-04 16:05:46.555238: I tensorflow/stream_executor/cuda/cuda_gpu_executor.cc:923] could not open file to read NUMA node: /sys/bus/pci/devices/0000:01:00.0/numa_node\n",
      "Your kernel may have been built without NUMA support.\n",
      "2025-04-04 16:05:46.555248: I tensorflow/core/common_runtime/gpu/gpu_device.cc:1418] Created TensorFlow device (/job:localhost/replica:0/task:0/device:GPU:0 with 13433 MB memory) -> physical GPU (device: 0, name: NVIDIA GeForce RTX 4070 Ti SUPER, pci bus id: 0000:01:00.0, compute capability: 8.9)\n",
      "2025-04-04 16:05:46.555680: I tensorflow/stream_executor/cuda/cuda_gpu_executor.cc:923] could not open file to read NUMA node: /sys/bus/pci/devices/0000:01:00.0/numa_node\n",
      "Your kernel may have been built without NUMA support.\n",
      "2025-04-04 16:05:46.555691: I tensorflow/core/common_runtime/gpu/gpu_device.cc:1733] Found device 0 with properties: \n",
      "pciBusID: 0000:01:00.0 name: NVIDIA GeForce RTX 4070 Ti SUPER computeCapability: 8.9\n",
      "coreClock: 2.61GHz coreCount: 66 deviceMemorySize: 15.99GiB deviceMemoryBandwidth: 625.91GiB/s\n",
      "2025-04-04 16:05:46.555704: I tensorflow/stream_executor/cuda/cuda_gpu_executor.cc:923] could not open file to read NUMA node: /sys/bus/pci/devices/0000:01:00.0/numa_node\n",
      "Your kernel may have been built without NUMA support.\n",
      "2025-04-04 16:05:46.555716: I tensorflow/stream_executor/cuda/cuda_gpu_executor.cc:923] could not open file to read NUMA node: /sys/bus/pci/devices/0000:01:00.0/numa_node\n",
      "Your kernel may have been built without NUMA support.\n",
      "2025-04-04 16:05:46.555719: I tensorflow/core/common_runtime/gpu/gpu_device.cc:1871] Adding visible gpu devices: 0\n",
      "2025-04-04 16:05:46.555727: I tensorflow/core/common_runtime/gpu/gpu_device.cc:1258] Device interconnect StreamExecutor with strength 1 edge matrix:\n",
      "2025-04-04 16:05:46.555730: I tensorflow/core/common_runtime/gpu/gpu_device.cc:1264]      0 \n",
      "2025-04-04 16:05:46.555732: I tensorflow/core/common_runtime/gpu/gpu_device.cc:1277] 0:   N \n",
      "2025-04-04 16:05:46.555800: I tensorflow/stream_executor/cuda/cuda_gpu_executor.cc:923] could not open file to read NUMA node: /sys/bus/pci/devices/0000:01:00.0/numa_node\n",
      "Your kernel may have been built without NUMA support.\n",
      "2025-04-04 16:05:46.555808: I tensorflow/core/common_runtime/gpu/gpu_device.cc:1501] Could not identify NUMA node of platform GPU id 0, defaulting to 0.  Your kernel may not have been built with NUMA support.\n",
      "2025-04-04 16:05:46.555821: I tensorflow/stream_executor/cuda/cuda_gpu_executor.cc:923] could not open file to read NUMA node: /sys/bus/pci/devices/0000:01:00.0/numa_node\n",
      "Your kernel may have been built without NUMA support.\n",
      "2025-04-04 16:05:46.555828: I tensorflow/core/common_runtime/gpu/gpu_device.cc:1418] Created TensorFlow device (/job:localhost/replica:0/task:0/device:GPU:0 with 13433 MB memory) -> physical GPU (device: 0, name: NVIDIA GeForce RTX 4070 Ti SUPER, pci bus id: 0000:01:00.0, compute capability: 8.9)\n",
      "[   INFO   ] TensorflowPredict: Successfully loaded graph file: `Models/mood_sad-audioset-vggish-1.pb`\n",
      "2025-04-04 16:05:46.556270: I tensorflow/stream_executor/cuda/cuda_gpu_executor.cc:923] could not open file to read NUMA node: /sys/bus/pci/devices/0000:01:00.0/numa_node\n",
      "Your kernel may have been built without NUMA support.\n",
      "2025-04-04 16:05:46.556281: I tensorflow/core/common_runtime/gpu/gpu_device.cc:1733] Found device 0 with properties: \n",
      "pciBusID: 0000:01:00.0 name: NVIDIA GeForce RTX 4070 Ti SUPER computeCapability: 8.9\n",
      "coreClock: 2.61GHz coreCount: 66 deviceMemorySize: 15.99GiB deviceMemoryBandwidth: 625.91GiB/s\n",
      "2025-04-04 16:05:46.556293: I tensorflow/stream_executor/cuda/cuda_gpu_executor.cc:923] could not open file to read NUMA node: /sys/bus/pci/devices/0000:01:00.0/numa_node\n",
      "Your kernel may have been built without NUMA support.\n",
      "2025-04-04 16:05:46.556304: I tensorflow/stream_executor/cuda/cuda_gpu_executor.cc:923] could not open file to read NUMA node: /sys/bus/pci/devices/0000:01:00.0/numa_node\n",
      "Your kernel may have been built without NUMA support.\n",
      "2025-04-04 16:05:46.556308: I tensorflow/core/common_runtime/gpu/gpu_device.cc:1871] Adding visible gpu devices: 0\n",
      "2025-04-04 16:05:46.556315: I tensorflow/core/common_runtime/gpu/gpu_device.cc:1258] Device interconnect StreamExecutor with strength 1 edge matrix:\n",
      "2025-04-04 16:05:46.556319: I tensorflow/core/common_runtime/gpu/gpu_device.cc:1264]      0 \n",
      "2025-04-04 16:05:46.556321: I tensorflow/core/common_runtime/gpu/gpu_device.cc:1277] 0:   N \n",
      "2025-04-04 16:05:46.556402: I tensorflow/stream_executor/cuda/cuda_gpu_executor.cc:923] could not open file to read NUMA node: /sys/bus/pci/devices/0000:01:00.0/numa_node\n",
      "Your kernel may have been built without NUMA support.\n",
      "2025-04-04 16:05:46.556410: I tensorflow/core/common_runtime/gpu/gpu_device.cc:1501] Could not identify NUMA node of platform GPU id 0, defaulting to 0.  Your kernel may not have been built with NUMA support.\n",
      "2025-04-04 16:05:46.556423: I tensorflow/stream_executor/cuda/cuda_gpu_executor.cc:923] could not open file to read NUMA nodeINFO:essentia_models:Initializing model 7: effnet_party_model...\n",
      ": /sys/bus/pci/devices/0000:01:00.0/numa_node\n",
      "Your kernel may have been built without NUMA support.\n",
      "2025-04-04 16:05:46.556429: I tensorflow/core/common_runtime/gpu/gpu_device.cc:1418] Created TensorFlow device (/job:localhost/replica:0/task:0/device:GPU:0 with 13433 MB memory) -> physical GPU (device: 0, name: NVIDIA GeForce RTX 4070 Ti SUPER, pci bus id: 0000:01:00.0, compute capability: 8.9)\n",
      "2025-04-04 16:05:46.674161: I tensorflow/stream_executor/cuda/cuda_gpu_executor.cc:923] could not open file to read NUMA node: /sys/bus/pci/devices/0000:01:00.0/numa_node\n",
      "Your kernel may have been built without NUMA support.\n",
      "2025-04-04 16:05:46.674216: I tensorflow/core/common_runtime/gpu/gpu_device.cc:1733] Found device 0 with properties: \n",
      "pciBusID: 0000:01:00.0 name: NVIDIA GeForce RTX 4070 Ti SUPER computeCapability: 8.9\n",
      "coreClock: 2.61GHz coreCount: 66 deviceMemorySize: 15.99GiB deviceMemoryBandwidth: 625.91GiB/s\n",
      "2025-04-04 16:05:46.674247: I tensorflow/stream_executor/cuda/cuda_gpu_executor.cc:923] could not open file to read NUMA node: /sys/bus/pci/devices/0000:01:00.0/numa_node\n",
      "Your kernel may have been built without NUMA support.\n",
      "2025-04-04 16:05:46.674264: I tensorflow/stream_executor/cuda/cuda_gpu_executor.cc:923] could not open file to read NUMA node: /sys/bus/pci/devices/0000:01:00.0/numa_node\n",
      "Your kernel may have been built without NUMA support.\n",
      "2025-04-04 16:05:46.674270: I tensorflow/core/common_runtime/gpu/gpu_device.cc:1871] Adding visible gpu devices: 0\n",
      "2025-04-04 16:05:46.674313: I tensorflow/core/common_runtime/gpu/gpu_device.cc:1258] Device interconnect StreamExecutor with strength 1 eINFO:essentia_models:Model 7 (effnet_party_model) initialized in 0.12 seconds.\n",
      "dge matrix:\n",
      "2025-04-04 16:05:46.674317: I tensorflow/core/common_runtime/gpu/gpu_device.cc:1264]      0 \n",
      "2025-04-04 16:05:46.674320: I tensorflow/core/common_runtime/gpu/gpu_device.cc:1277] 0:   N \n",
      "2025-04-04 16:05:46.674467: I tensorflow/stream_executor/cuda/cuda_gpu_executor.cc:923] could not open file to read NUMA node: /sys/bus/pci/devices/0000:01:00.0/numa_node\n",
      "Your kernel may have been built without NUMA support.\n",
      "2025-04-04 16:05:46.674478: I tensorflow/core/common_runtime/gpu/gpu_device.cc:1501] Could not identify NUMA node of platform GPU id 0, defaulting to 0.  Your kernel may not have been built with NUMA support.\n",
      "2025-04-04 16:05:46.674496: I tensorflow/stream_executor/cuda/cuda_gpu_executor.cc:923] could not open file to read NUMA node: /sys/bus/pci/devices/0000:01:00.0/numa_node\n",
      "Your kernel may have been built without NUMA support.\n",
      "2025-04-04 16:05:46.674510: I tensorflow/core/common_runtime/gpu/gpu_device.cc:1418] Created TensorFlow device (/job:localhost/replica:0/task:0INFO:essentia_models:Initializing model 8: effnet_happy_model...\n",
      "/device:GPU:0 with 13433 MB memory) -> physical GPU (device: 0, name: NVIDIA GeForce RTX 4070 Ti SUPER, pci bus id: 0000:01:00.0, compute capability: 8.9)\n",
      "2025-04-04 16:05:46.676936: I tensorflow/stream_executor/cuda/cuda_gpu_executor.cc:923] could not open file to read NUMA node: /sys/bus/pci/devices/0000:01:00.0/numa_node\n",
      "Your kernel may have been built without NUMA support.\n",
      "2025-04-04 16:05:46.676954: I tensorflow/core/common_runtime/gpu/gpu_device.cc:1733] Found device 0 with properties: \n",
      "pciBusID: 0000:01:00.0 name: NVIDIA GeForce RTX 4070 Ti SUPER computeCapability: 8.9\n",
      "coreClock: 2.61GHz coreCount: 66 deviceMemorySize: 15.99GiB deviceMemoryBandwidth: 625.91GiB/s\n",
      "2025-04-04 16:05:46.676973: I tensorflow/stream_executor/cuda/cuda_gpu_executor.cc:923] could not open file to read NUMA node: /sys/bus/pci/devices/0000:01:00.0/numa_node\n",
      "Your kernel may have been built without NUMA support.\n",
      "2025-04-04 16:05:46.676987: I tensorflow/stream_executor/cuda/cuda_gpu_executor.cc:923] could not open file to read NUMA node: /sys/bus/pci/devices/0000:01:00.0/numa_node\n",
      "Your kernel may have been built without NUMA support.\n",
      "2025-04-04 16:05:46.676991: I tensorflow/core/common_runtime/gpu/gpu_device.cc:1871] Adding visible gpu devices: 0\n",
      "2025-04-04 16:05:46.677007: I tensorflow/core/common_runtime/gpu/gpu_device.cc:1258] Device interconnect StreamExecutor with strength 1 edge matrix:\n",
      "2025-04-04 16:05:46.677010: I tensorflow/core/common_runtime/gpu/gpu_device.cc:1264]      0 \n",
      "2025-04-04 16:05:46.677014: I tensorflow/core/common_runtime/gpu/gpu_device.cc:1277] 0:   N \n",
      "2025-04-04 16:05:46.677178: I tensorflow/stream_executor/cuda/cuda_gpu_executor.cc:923] could not open file to read NUMA node: /sys/bus/pci/devices/0000:01:00.0/numa_node\n",
      "Your kernel may have been built without NUMA support.\n",
      "2025-04-04 16:05:46.677188: I tensorflow/core/common_runtime/gpu/gpu_device.cc:1501] Could not identify NUMA node of platform GPU id 0, defaulting to 0.  Your kernel may not have been built with NUMA support.\n",
      "2025-04-04 16:05:46.677205: I tensorflow/stream_executor/cuda/cuda_gpu_executor.cc:923] could not open file to read NUMA node: /sys/bus/pci/devices/0000:01:00.0/numa_node\n",
      "Your kernel may have been built without NUMA support.\n",
      "2025-04-04 16:05:46.677216: I tensorflow/core/common_runtime/gpu/gpu_device.cc:1418] Created TensorFlow device (/job:localhost/replica:0/task:0/device:GPU:0 with 13433 MB memory) -> physical GPU (device: 0, name: NVIDIA GeForce RTX 4070 Ti SUPER, pci bus id: 0000:01:00.0, compute capability: 8.9)\n",
      "2025-04-04 16:05:46.677825: I tensorflow/stream_executor/cuda/cuda_gpu_executor.cc:923] could not open file to read NUMA node: /sys/bus/pci/devices/0000:01:00.0/numa_node\n",
      "Your kernel may have been built without NUMA support.\n",
      "2025-04-04 16:05:46.677840: I tensorflow/core/common_runtime/gpu/gpu_device.cc:1733] Found device 0 with properties: \n",
      "pciBusID: 0000:01:00.0 name: NVIDIA GeForce RTX 4070 Ti SUPER computeCapability: 8.9\n",
      "coreClock: 2.61GHz coreCount: 66 deviINFO:essentia_models:Model 8 (effnet_happy_model) initialized in 0.12 seconds.\n",
      "ceMemorySize: 15.99GiB deviceMemoryBandwidth: 625.91GiB/s\n",
      "2025-04-04 16:05:46.677856: I tensorflow/stream_executor/cuda/cuda_gpu_executor.cc:923] could not open file to read NUMA node: /sys/bus/pci/devices/0000:01:00.0/numa_node\n",
      "Your kernel may have been built without NUMA support.\n",
      "2025-04-04 16:05:46.677871: I tensorflow/stream_executor/cuda/cuda_gpu_executor.cc:923] could not open file to read NUMA node: /sys/bus/pci/devices/0000:01:00.0/numa_node\n",
      "Your kernel may have been built without NUMA support.\n",
      "2025-04-04 16:05:46.677874: I tensorflow/core/common_runtime/gpu/gpu_device.cc:1871] Adding visible gpu devices: 0\n",
      "2025-04-04 16:05:46.677882: I tensorflow/core/common_runtime/gpu/gpu_device.cc:1258] Device interconnect StreamExecutor with strength 1 edge matrix:\n",
      "2025-04-04 16:05:46.677927: I tensorflow/core/common_runtime/gpu/gpu_device.cc:1264]      0 \n",
      "2025-04-04 16:05:46.677932: I tensorflow/core/common_runtime/gpu/gpu_device.cc:1277] 0:   N \n",
      "2025-04-04 16:05:46.678087: I tensorflow/stream_executor/cuda/cuda_gpu_executor.cc:923] could not open file to read NUMA node: /sys/bus/pci/devices/0000:01:00.0/numa_node\n",
      "Your kernel may have been built without NUMA support.\n",
      "2025-04-04 16:05:46.678096: I tensorflow/core/common_runtime/gpu/gpu_device.cc:1501] Could not identify NUMA node of platform GPU id 0, defaulting to 0.  Your kernel may not have been built with NUMA support.\n",
      "2025-04-04 16:05:46.678109: I tensorflow/stream_executor/cuda/cuda_gpu_executor.cc:923] could not open file to read NUMA node: /sys/bus/pci/devices/0000:01:00.0/numa_node\n",
      "Your kernel may have been built without NUMA support.\n",
      "2025-04-04 16:05:46.678117: I tensorflow/core/common_runtime/gpu/gpu_device.cc:1418] Created TensorFlow device (/job:localhost/replica:0/task:0/device:GPU:0 with 13433 MB memory) -> physical GPU (device: 0, name: NVIDIA GeForce RTX 4070 Ti SUPER, pci bus id: 0000:01:00.0, compute capability: 8.9)\n",
      "[   INFO   ] TensorflowPredict: Successfully loaded graph file: `Models/mood_party-discogs-effnet-1.pb`\n",
      "2025-04-04 16:05:46.678745: I tensorflow/stream_executor/cuda/cuda_gpu_executor.cc:923] could not open file to read NUMA node: /sys/bus/pci/devices/0000:01:00.0/numa_node\n",
      "Your kernel may have been built without NUMA support.\n",
      "2025-04-04 16:05:46.678756: I tensorflow/core/common_runtime/gpu/gpu_device.cc:1733] Found device 0 with properties: \n",
      "pciBusID: 0000:01:00.0 name: NVIDIA GeForce RTX 4070 Ti SUPER computeCapability: 8.9\n",
      "coreClock: 2.61GHz coreCount: 66 deviceMemorySize: 15.99GiB deviceMemoryBandwidth: 625.91GiB/s\n",
      "2025-04-04 16:05:46.678769: I tensorflow/stream_executor/cuda/cuda_gpu_executor.cc:923] could not open file to read NUMA node: /sys/bus/pci/devices/0000:01:00.0/numa_node\n",
      "Your kernel may have been built without NUMA support.\n",
      "2025-04-04 16:05:46.678779: I tensorflow/stream_executor/cuda/cuda_gpu_executor.cc:923] could not open file to read NUMA node: /sys/bus/pci/devices/0000:01:00.0/numa_node\n",
      "Your kernel may have been built without NUMA support.\n",
      "2025-04-INFO:essentia_models:Initializing model 9: effnet_sad_model...\n",
      "04 16:05:46.678782: I tensorflow/core/common_runtime/gpu/gpu_device.cc:1871] Adding visible gpu devices: 0\n",
      "2025-04-04 16:05:46.678790: I tensorflow/core/common_runtime/gpu/gpu_device.cc:1258] Device interconnect StreamExecutor with strength 1 edge matrix:\n",
      "2025-04-04 16:05:46.678793: I tensorflow/core/common_runtime/gpu/gpu_device.cc:1264]      0 \n",
      "2025-04-04 16:05:46.678796: I tensorflow/core/common_runtime/gpu/gpu_device.cc:1277] 0:   N \n",
      "2025-04-04 16:05:46.678879: I tensorflow/stream_executor/cuda/cuda_gpu_executor.cc:923] could not open file to read NUMA node: /sys/bus/pci/devices/0000:01:00.0/numa_node\n",
      "Your kernel may have been built without NUMA support.\n",
      "2025-04-04 16:05:46.678891: I tensorflow/core/common_runtime/gpu/gpu_device.cc:1501] Could not identify NUMA node of platform GPU id 0, defaulting to 0.  Your kernel may not have been built with NUMA support.\n",
      "2025-04-04 16:05:46.678939: I tensorflow/stream_executor/cuda/cuda_gpu_executor.cc:923] could not open file to read NUMA node: /sys/bus/pci/devices/0000:01:00.0/numa_node\n",
      "Your kernel may have been built without NUMA support.\n",
      "2025-04-04 16:05:46.678952: I tensorflow/core/common_runtime/gpu/gpu_device.cc:1418] Created TensorFlow device (/job:localhost/replica:0/task:0/device:GPU:0 with 13433 MB memory) -> physical GPU (device: 0, name: NVIDIA GeForce RTX 4070 Ti SUPER, pci bus id: 0000:01:00.0, compute capability: 8.9)\n",
      "2025-04-04 16:05:46.795157: I tensorflow/stream_executor/cuda/cuda_gpu_executor.cc:923] could not open file to read NUMA node: /sys/bus/pci/devices/0000:01:00.0/numa_node\n",
      "Your kernel may have been built without NUMA support.\n",
      "2025-04-04 16:05:46.795204: I tensorflow/core/common_runtime/gpu/gpu_device.cc:1733] Found device 0 with properties: \n",
      "pciBusID: 0000:01:00.0 name: NVIDIA GeForce RTX 4070 Ti SUPER computeCapability: 8.9\n",
      "coreClock: 2.61GHz coreCount: 66 deviceMemorySize: 15.99GiB deviceMemoryBandwidth: 625.91GiB/s\n",
      "2025-04-04 16:05:46.795233: I tensorflow/stream_executor/cuda/cuda_gpu_executor.cc:923] could not open file to read NUMA node: /sys/bus/pci/devices/0000:01:00.0/numa_node\n",
      "Your kernel may have been built without NUMA support.\n",
      "2025-04-04 16:05:46.795248: I tensorflow/stream_executor/cuda/cuda_gpu_executor.cc:923] could not open file to read NUMA node: /sys/bus/pci/devices/0000:01:00.0/numa_node\n",
      "Your kernel may have been built without NUMA support.\n",
      "2025-04-04 16:05:46.795255: I tensorflow/core/common_runtime/gpu/gpu_device.cc:1871] Adding visible gpu devices: 0\n",
      "2025-04-04 16:05:46.795317: I tensorflow/core/common_runtime/gpu/gpu_device.cc:1258] Device interconnect StreamExecutor with strength 1 edge matrix:\n",
      "2025-04-04 16:05:46.795321: I tensorflow/core/common_runtime/gpu/gpu_device.cc:1264]      0 \n",
      "2025-04-04 16:05:46.795324: I tensorflow/core/common_runtime/gpu/gpu_device.cc:1277] 0:   N \n",
      "2025-04-04 16:05:46.795517: I tensorflow/stream_executor/cuda/cuda_gpu_executor.cc:923] could not open file to read NUMA node: /sys/bus/pci/devices/0000:01:00.0/numa_node\n",
      "Your kernel may have been built without NUMA support.\n",
      "2025-04-04 16:05:46.795527: I tensorflow/core/common_runtime/gpu/gpu_device.cc:1501] Could not identify NUMA node of platform GPU id 0, defaulting to 0.  Your kernel may not have been built with NUMA support.\n",
      "2025-04-04 16:05:46.795543: I tensorflow/stream_executor/cuda/cuda_gpu_executor.cc:923] could not open file to read NUMA node: /sys/bus/pci/devices/0000:01:00.0/numa_node\n",
      "Your kernel may have been built without NUMA support.\n",
      "2025-04-04 16:05:46.795555: I tensorflow/core/common_runtime/gpu/gpu_device.cc:1418] Created TensorFlow device (/job:localhost/replica:0/task:0/device:GPU:0 with 13433 MB memory) -> physical GPU (device: 0, name: NVIDIA GeForce RTX 4070 Ti SUPER, pci bus id: 0000:01:00.0, compute capability: 8.9)\n",
      "2025-04-04 16:05:46.797777: I tensorflow/stream_executor/cuda/cuda_gpu_executor.cc:923] could not open file to read NUMA node: /sys/bus/pci/devices/0000:01:00.0/numa_node\n",
      "Your kernel may have been built without NUMA support.\n",
      "2025-04-04 16:05:46.797792: I tensorflow/core/common_runtime/gpu/gpu_device.cc:1733] Found device 0 with properties: \n",
      "pciBusID: 0000:01:00.0 name: NVIDIA GeForce RTX 4070 Ti SUPER computeCapability: 8.9\n",
      "coreClock: 2.61GHz coreCount: 66 deviceMemorySize: 15.99GiB deviceMemoryBandwidth: 625.91GiB/s\n",
      "2025-04-04 16:05:46.797810: I tensorflow/stream_executor/cuda/cuda_gpu_executor.cc:923] could not open file to read NUMA node: /sys/bus/pci/devices/0000:01:00.0/numa_node\n",
      "Your kernel may have been built without NUMA support.\n",
      "2025-04-04 16:05:46.797824: I tensorflow/stream_executor/cuda/cuda_gpu_executor.cc:923] could not open file to read NUMA node: /sys/bus/pci/devices/0000:01:00.0/numa_node\n",
      "Your kernel may have been built without NUMA support.\n",
      "2025-04-04 16:05:46.797829: I tensorflow/core/common_runtime/gpu/gpu_device.cc:1871] Adding visible gpu devices: 0\n",
      "2025-04-04 16:05:46.797839: I tensorflow/core/common_runtime/gpu/gpu_device.cc:1258] Device interconnect StreamExecutor with strength 1 edge matrix:\n",
      "2025-04-04 16:05:46.797843: I tensorflow/core/common_runtime/gpu/gpu_device.cc:1264]      0 \n",
      "2025-04-04 16:05:46.797845: I tensorflow/core/common_runtime/gpu/gpu_device.cc:1277] 0:   N \n",
      "2025-04-04 16:05:46.797962: I tensorflow/stream_executor/cuda/cuda_gpu_executor.cc:923] could not open file to read NUMA node: /sys/bus/pci/devices/0000:01:00.0/numa_node\n",
      "Your kernel may have been built without NUMA support.\n",
      "2025-04-04 16:05:46.797973: I tensorflow/core/common_runtime/gpu/gpu_device.cc:1501] Could not identify NUMA node of platform GPU id 0, defaulting to 0.  Your kernel may not have been built with NUMA support.\n",
      "2025-04-04 16:05:46.797991: I tensorflow/stream_executor/cuda/cuda_gpu_executor.cc:923] could not open file to read NUMA node: /sys/bus/pci/devices/0000:01:00.0/numa_node\n",
      "Your kernel may have been built without NUMA support.\n",
      "2025-04-04 16:05:46.798002: I tensorflow/core/common_runtime/gpu/gpu_device.cc:1418] Created TensorFlow device (/job:localhost/replica:0/task:0/device:GPU:0 with 13433 MB memory) -> physical GPU (device: 0, name: NVIDIA GeForce RTX 4070 Ti SUPER, pci bus id: 0000:01:00.0, compute capability: 8.9)\n",
      "2025-04-04 16:05:46.798541: I tensorflow/stream_executor/cuda/cuda_gpu_executor.cc:923] could not open file to read NUMA node: /sys/bus/pci/devices/0000:01:00.0/numa_node\n",
      "Your kernel may have been built without NUMA support.\n",
      "2025-04-04 16:05:46.798555: I tensorflow/core/common_runtime/gpu/gpu_device.cc:1733] Found device 0 with properties: \n",
      "pciBusID: 0000:01:00.0 name: NVIDIA GeForce RTX 4070 Ti SUPER computeCapability: 8.9\n",
      "coreClock: 2.61GHz coreCount: 66 deviceMemorySize: 15.99GiB deviceMemoryBandwidth: 625.91GiB/s\n",
      "2025-04-04 16:05:46.798571: I tensorflow/stream_executor/cuda/cuda_gpu_executor.cc:923] could not open file to read NUMA node: /sys/bus/pci/devices/0000:01:00.0/numa_node\n",
      "Your kernel may have been built without NUMA support.\n",
      "2025-04-04 16:05:46.798585: I tensorflow/stream_executor/cuda/cuda_gpu_executor.cc:923] could not open file to read NUMA node: /sys/bus/pci/devices/0000:01:00.0/numa_node\n",
      "Your kernel may have been built without NUMA support.\n",
      "2025-04-04 16:05:46.798590: I tensorflow/core/common_runtime/gpu/gpu_device.cc:1871] Adding visible gpu devices: 0\n",
      "2025-04-04 16:05:46.798599: I tensorflow/core/common_runtime/gpu/gpu_device.cc:1258] Device interconnect StreamExecutor with strength 1 edge matrix:\n",
      "2025-04-04 16:05:46.798602: I tensorflow/core/common_runtime/gpu/gpu_device.cc:1264]      0 \n",
      "2025-04-04 16:05:46.798605: I tensorflow/core/common_runtime/gpu/gpu_device.cc:1277] 0:   N \n",
      "2025-04-04 16:05:46.798702: I tensorflow/stream_executor/cuda/cuda_gpu_executor.cc:923] could not open file to read NUMA node: /sys/bus/pci/devices/0000:01:00.0/numa_node\n",
      "Your kernel may have been built without NUMA support.\n",
      "2025-04-04 16:05:46.798712: I tensorflow/core/common_runtime/gpu/gpu_device.cc:1501] Could not identify NUMA node of platform GPU id 0, defaulting to 0.  Your kernel may not have been built with NUMA support.\n",
      "2025-04-04 16:05:46.798728: I tensorflow/stream_executor/cuda/cuda_gpu_executor.cc:923] could not open file to read NUMA node: /sys/bus/pci/devices/0000:01:00.0/numa_node\n",
      "Your kernel may have been built without NUMA support.\n",
      "2025-04-04 16:05:46.798738: I tensorflow/core/common_runtime/gpu/gpu_device.cc:1418] Created TensorFlow device (/job:localhost/replica:0/task:0/device:GPU:0 with 13433 MB memory) -> physical GPU (device: 0, name: NVIDIA GeForce RTX 4070 Ti SUPER, pci bus id: 0000:01:00.0, compute capability: 8.9)\n",
      "[   INFO   ] TensorflowPredict: Successfully loaded graph file: `Models/mood_happy-discogs-effnet-1.pb`\n",
      "2025-04-04 16:05:46.799310: I tensorflow/stream_executor/cuda/cuda_gpu_executor.cc:923] could not open file to read NUMA node: /sys/bus/pci/devices/0000:01:00.0/numa_node\n",
      "Your kernel may have been built without NUMA support.\n",
      "2025-04-04 16:05:46.799321: I tensorflow/core/common_runtime/gpu/gpu_device.cc:1733] Found device 0 with properties: \n",
      "pciBusID: 0000:01:00.0 name: NVIDIA GeForce RTX 4070 Ti SUPER computeCapability: 8.9\n",
      "coreClock: 2.61GHz coreCount: 66 deviceMemorySize: 15.99GiB deviceMemoryBandwidth: 625.91GiB/s\n",
      "2025-04-04 16:05:46.799334: I tensorflow/stream_executor/cuda/cuda_gpu_executor.cc:923] could not open file to read NUMA node: /sys/bus/pci/devices/0000:01:00.0/numa_node\n",
      "Your kernel may have been built without NUMA support.\n",
      "2025-04-04 16:05:46.799344: I tensorflow/stream_executor/cuda/cuda_gpu_executor.cc:923] could not open file to read NUMA node: /sys/bus/pci/devices/0000:01:00.0/numa_node\n",
      "Your kernel may have been built without NUMA support.\n",
      "2025-04-04 16:05:46.799348: I tensorflow/core/common_runtime/gpu/gpu_device.cc:1871] Adding visible gpu devices: 0\n",
      "2025-04-04 16:05:46.799355: I tensorflow/core/common_runtime/gpu/gpu_device.cc:1258] Device interconnect StreamExecutor with strength 1 edge matrix:\n",
      "2025-04-04 16:05:46.799358: I tensorflow/core/common_runtime/gpu/gpu_device.cc:1264]      0 \n",
      "2025-04-04 16:05:46.799360: I tensorflow/core/common_runtime/gpu/gpu_device.cc:1277] 0:   N \n",
      "2025-04-04 16:05:46.799446: I tensorflow/stream_executor/cuda/cuda_gpu_executor.cc:923] could not open file to read NUMA node: /sys/bus/pci/devices/0000:01:00.0/numa_node\n",
      "Your kernel may have been built without NUMA support.\n",
      "2025-04-04 16:05:46.799453: I tensorflow/core/common_runtime/gpu/gpu_device.cc:1501] Could not identify NUMA node of platform GPU id 0, defaulting to 0.  Your kernel may not have been built with NUMA support.\n",
      "2025-04-04 16:05:46.799466: I tensorflow/stream_executor/cuda/cuda_gpu_executor.cc:923] could not open file to read NUMA node: /sys/bus/pci/devices/0000:01:00.0/numa_node\n",
      "Your kernel may have been built without NUMA support.\n",
      "2025-04-04 16:05:46.799472: I tensorflow/core/common_runtime/gpu/gpu_device.cc:1418] Created TensorFlow device (/job:localhost/replica:0/task:0/device:GPU:0 with 13433 MB memory) -> physical GPU (device: 0, name: NVIDIA GeForce RTX 4070 Ti SUPER, pci bus id: 0000:01:00.0, compute capability: 8.9)\n",
      "2025-04-04 16:05:46.916127: I tensorflow/stream_executor/cuda/cuda_gpu_executor.cc:923] could not open file to read NUMA node: /sys/bus/pci/devices/0000:01:00.0/numa_node\n",
      "Your kernel may have been built without NUMA support.\n",
      "INFO:essentia_models:Model 9 (effnet_sad_model) initialized in 0.12 seconds.\n",
      "2025-04-04 16:05:46.916173: I tensorflow/core/common_runtime/gpu/gpu_device.cc:1733] Found device 0 with properties: \n",
      "pciBusID: 0000:01:00.0 name: NVIDIA GeForce RTX 4070 Ti SUPER computeCapability: 8.9\n",
      "coreClock: 2.61GHz coreCount: 66 deviceMemorySize: 15.99GiB deviceMemoryBandwidth: 625.91GiB/s\n",
      "2025-04-04 16:05:46.916196: I tensorflow/stream_executor/cuda/cuda_gpu_executor.cc:923] could not open file to read NUMA node: /sys/bus/pci/devices/0000:01:00.0/numa_node\n",
      "Your kernel may have been built without NUMA support.\n",
      "2025-04-04 16:05:46.916209: I tensorflow/stream_executor/cuda/cuda_gpu_executor.cc:923] could not open file to read NUMA node: /sys/bus/pci/devices/0000:01:00.0/numa_node\n",
      "Your kernel may have been built without NUMA support.\n",
      "2025-04-04 16:05:46.916214: I tensorflow/core/common_runtime/gpu/gpu_device.cc:1871] Adding visible gpu devices: 0\n",
      "2025-04-04 16:05:46.916237: I tensorflow/core/common_runtime/gpu/gpu_device.cc:1258] Device interconnect StreamExecutor with strength 1 eINFO:essentia_models:Initializing model 10: effnet_approachability_model...\n",
      "dge matrix:\n",
      "2025-04-04 16:05:46.916240: I tensorflow/core/common_runtime/gpu/gpu_device.cc:1264]      0 \n",
      "2025-04-04 16:05:46.916243: I tensorflow/core/common_runtime/gpu/gpu_device.cc:1277] 0:   N \n",
      "2025-04-04 16:05:46.916365: I tensorflow/stream_executor/cuda/cuda_gpu_executor.cc:923] could not open file to read NUMA node: /sys/bus/pci/devices/0000:01:00.0/numa_node\n",
      "Your kernel may have been built without NUMA support.\n",
      "2025-04-04 16:05:46.916376: I tensorflow/core/common_runtime/gpu/gpu_device.cc:1501] Could not identify NUMA node of platform GPU id 0, defaulting to 0.  Your kernel may not have been built with NUMA support.\n",
      "2025-04-04 16:05:46.916396: I tensorflow/stream_executor/cuda/cuda_gpu_executor.cc:923] could not open file to read NUMA node: /sys/bus/pci/devices/0000:01:00.0/numa_node\n",
      "Your kernel may have been built without NUMA support.\n",
      "2025-04-04 16:05:46.916407: I tensorflow/core/common_runtime/gpu/gpu_device.cc:1418] Created TensorFlow device (/job:localhost/replica:0/task:0INFO:essentia_models:Model 10 (effnet_approachability_model) initialized in 0.13 seconds.\n",
      "/device:GPU:0 with 13433 MB memory) -> physical GPU (device: 0, name: NVIDIA GeForce RTX 4070 Ti SUPER, pci bus id: 0000:01:00.0, compute capability: 8.9)\n",
      "2025-04-04 16:05:46.917667: I tensorflow/stream_executor/cuda/cuda_gpu_executor.cc:923] could not open file to read NUMA node: /sys/bus/pci/devices/0000:01:00.0/numa_node\n",
      "Your kernel may have been built without NUMA support.\n",
      "2025-04-04 16:05:46.917680: I tensorflow/core/common_runtime/gpu/gpu_device.cc:1733] Found device 0 with properties: \n",
      "pciBusID: 0000:01:00.0 name: NVIDIA GeForce RTX 4070 Ti SUPER computeCapability: 8.9\n",
      "coreClock: 2.61GHz coreCount: 66 deviceMemorySize: 15.99GiB deviceMemoryBandwidth: 625.91GiB/s\n",
      "2025-04-04 16:05:46.917694: I tensorflow/stream_executor/cuda/cuda_gpu_executor.cc:923] could not open file to read NUMA node: /sys/bus/pci/devices/0000:01:00.0/numa_node\n",
      "Your kernel may have been built without NUMA support.\n",
      "2025-04-04 16:05:46.917705: I tensorflow/stream_executor/cuda/cuda_gpu_executor.cc:923] could not open file to read NUMA node: /sys/bus/pci/devices/0000:01:00.0/numa_node\n",
      "Your kernel may have been built without NUMA support.\n",
      "2025-04-04 16:05:46.917709: I tensorflow/core/common_runtime/gpu/gpu_device.cc:1871] Adding visible gpu devices: 0\n",
      "2025-04-04 16:05:46.917717: I tensorflow/core/common_runtime/gpu/gpu_device.cc:1258] Device interconnect StreamExecutor with strength 1 edge matrix:\n",
      "2025-04-04 16:05:46.917720: I tensorflow/core/common_runtime/gpu/gpu_device.cc:1264]      0 \n",
      "2025-04-04 16:05:46.917722: I tensorflow/core/common_runtime/gpu/gpu_device.cc:1277] 0:   N \n",
      "2025-04-04 16:05:46.917821: I tensorflow/stream_executor/cuda/cuda_gpu_executor.cc:923] could not open file to read NUMA node: /sys/bus/pci/devices/0000:01:00.0/numa_node\n",
      "Your kernel may have been built without NUMA support.\n",
      "2025-04-04 16:05:46.917831: I tensorflow/core/common_runtime/gpu/gpu_device.cc:1501] Could not identify NUMA node of platform GPU id 0, defaulting to 0.  Your kernel may not have been built with NUMA support.\n",
      "2025-04-04 16:05:46.917846: I tensorflow/stream_executor/cuda/cuda_gpu_executor.cc:923] could not open file to read NUMA node: /sys/bus/pci/devices/0000:01:00.0/numa_node\n",
      "Your kernel may have been built without NUMA support.\n",
      "2025-04-04 16:05:46.917856: I tensorflow/core/common_runtime/gpu/gpu_device.cc:1418] Created TensorFlow device (/job:localhost/replica:0/task:0/device:GPU:0 with 13433 MB memory) -> physical GPU (device: 0, name: NVIDIA GeForce RTX 4070 Ti SUPER, pci bus id: 0000:01:00.0, compute capability: 8.9)\n",
      "2025-04-04 16:05:46.918307: I tensorflow/stream_executor/cuda/cuda_gpu_executor.cc:923] could not open file to read NUMA node: /sys/bus/pci/devices/0000:01:00.0/numa_node\n",
      "Your kernel may have been built without NUMA support.\n",
      "2025-04-04 16:05:46.918319: I tensorflow/core/common_runtime/gpu/gpu_device.cc:1733] Found device 0 with properties: \n",
      "pciBusID: 0000:01:00.0 name: NVIDIA GeForce RTX 4070 Ti SUPER computeCapability: 8.9\n",
      "coreClock: 2.61GHz coreCount: 66 deviceMemorySize: 15.99GiB deviceMemoryBandwidth: 625.91GiB/s\n",
      "2025-04-04 16:05:46.918332: I tensorflow/stream_executor/cuda/cuda_gpu_executor.cc:923] could not open file to read NUMA node: /sys/bus/pci/devices/0000:01:00.0/numa_node\n",
      "Your kernel may have been built without NUMA support.\n",
      "2025-04-04 16:05:46.918363: I tensorflow/stream_executor/cuda/cuda_gpu_executor.cc:923] could not open file to read NUMA node: /sys/bus/pci/devices/0000:01:00.0/numa_node\n",
      "Your kernel may have been built without NUMA support.\n",
      "2025-04-04 16:05:46.918371: I tensorflow/core/common_runtime/gpu/gpu_device.cc:1871] Adding visible gpu devices: 0\n",
      "2025-04-04 16:05:46.918380: I tensorflow/core/common_runtime/gpu/gpu_device.cc:1258] Device interconnect StreamExecutor with strength 1 edge matrix:\n",
      "2025-04-04 16:05:46.918382: I tensorflow/core/common_runtime/gpu/gpu_device.cc:1264]      0 \n",
      "2025-04-04 16:05:46.918385: I tensorflow/core/common_runtime/gpu/gpu_device.cc:1277] 0:   N \n",
      "2025-04-04 16:05:46.918469: I tensorflow/stream_executor/cuda/cuda_gpu_executor.cc:923] could not open file to read NUMA node: /sys/bus/pci/devices/0000:01:00.0/numa_node\n",
      "Your kernel may have been built without NUMA support.\n",
      "2025-04-04 16:05:46.918477: I tensorflow/core/common_runtime/gpu/gpu_device.cc:1501] Could not identify NUMA node of platform GPU id 0, defaulting to 0.  Your kernel may not have been built with NUMA support.\n",
      "2025-04-04 16:05:46.918490: I tensorflow/stream_executor/cuda/cuda_gpu_executor.cc:923] could not open file to read NUMA node: /sys/bus/pci/devices/0000:01:00.0/numa_node\n",
      "Your kernel may have been built without NUMA support.\n",
      "2025-04-04 16:05:46.918497: I tensorflow/core/common_runtime/gpu/gpu_device.cc:1418] Created TensorFlow device (/job:localhost/replica:0/task:0/device:GPU:0 with 13433 MB memory) -> physical GPU (device: 0, name: NVIDIA GeForce RTX 4070 Ti SUPER, pci bus id: 0000:01:00.0, compute capability: 8.9)\n",
      "[   INFO   ] TensorflowPredict: Successfully loaded graph file: `Models/mood_sad-discogs-effnet-1.pb`\n",
      "2025-04-04 16:05:46.918984: I tensorflow/stream_executor/cuda/cuda_gpu_executor.cc:923] could not open file to read NUMA node: /sys/bus/pci/devices/0000:01:00.0/numa_node\n",
      "Your kernel may have been built without NUMA support.\n",
      "2025-04-04 16:05:46.918994: I tensorflow/core/common_runtime/gpu/gpu_device.cc:1733] Found device 0 with properties: \n",
      "pciBusID: 0000:01:00.0 name: NVIDIA GeForce RTX 4070 Ti SUPER computeCapability: 8.9\n",
      "coreClock: 2.61GHz coreCount: 66 deviceMemorySize: 15.99GiB deviceMemoryBandwidth: 625.91GiB/s\n",
      "2025-04-04 16:05:46.919006: I tensorflow/stream_executor/cuda/cuda_gpu_executor.cc:923] could not open file to read NUMA node: /sys/bus/pci/devices/0000:01:00.0/numa_node\n",
      "Your kernel may have been built without NUMA support.\n",
      "2025-04-04 16:05:46.919016: I tensorflow/stream_executor/cuda/cuda_gpu_executor.cc:923] could not open file to read NUMA node: /sys/bus/pci/devices/0000:01:00.0/numa_node\n",
      "Your kernel may have been built without NUMA support.\n",
      "2025-04-04 16:05:46.919020: I tensorflow/core/common_runtime/gpu/gpu_device.cc:1871] Adding visible gpu devices: 0\n",
      "2025-04-04 16:05:46.919045: I tensorflow/core/common_runtime/gpu/gpu_device.cc:1258] Device interconnect StreamExecutor with strength 1 edge matrix:\n",
      "2025-04-04 16:05:46.919052: I tensorflow/core/common_runtime/gpu/gpu_device.cc:1264]      0 \n",
      "2025-04-04 16:05:46.919055: I tensorflow/core/common_runtime/gpu/gpu_device.cc:1277] 0:   N \n",
      "2025-04-04 16:05:46.919154: I tensorflow/stream_executor/cuda/cuda_gpu_executor.cc:923] could not open file to read NUMA node: /sys/bus/pci/devices/0000:01:00.0/numa_node\n",
      "Your kernel may have been built without NUMA support.\n",
      "2025-04-04 16:05:46.919163: I tensorflow/core/common_runtime/gpu/gpu_device.cc:1501] Could not identify NUMA node of platform GPU id 0, defaulting to 0.  Your kernel may not have been built with NUMA support.\n",
      "2025-04-04 16:05:46.919177: I tensorflow/stream_executor/cuda/cuda_gpu_executor.cc:923] could not open file to read NUMA node: /sys/bus/pci/devices/0000:01:00.0/numa_node\n",
      "Your kernel may have been built without NUMA support.\n",
      "2025-04-04 16:05:46.919185: I tensorflow/core/common_runtime/gpu/gpu_device.cc:1418] Created TensorFlow device (/job:localhost/replica:0/task:0/device:GPU:0 with 13433 MB memory) -> physical GPU (device: 0, name: NVIDIA GeForce RTX 4070 Ti SUPER, pci bus id: 0000:01:00.0, compute capability: 8.9)\n",
      "2025-04-04 16:05:47.037241: I tensorflow/stream_executor/cuda/cuda_gpu_executor.cc:923] could not open file to read NUMA node: /sys/bus/pci/devices/0000:01:00.0/numa_node\n",
      "Your kernel may have been built without NUMA support.\n",
      "2025-04-04 16:05:47.037284: I tensorflow/core/common_runtime/gpu/gpu_device.cc:1733] Found device 0 with properties: \n",
      "pciBusID: 0000:01:00.0 name: NVIDIA GeForce RTX 4070 Ti SUPER computeCapability: 8.9\n",
      "coreClock: 2.61GHz coreCount: 66 deviceMemorySize: 15.99GiB deviceMemoryBandwidth: 625.91GiB/s\n",
      "2025-04-04 16:05:47.037307: I tensorflow/stream_executor/cuda/cuda_gpu_executor.INFO:essentia_models:Initializing model 11: effnet_engagement_model...\n",
      "cc:923] could not open file to read NUMA node: /sys/bus/pci/devices/0000:01:00.0/numa_node\n",
      "Your kernel may have been built without NUMA support.\n",
      "2025-04-04 16:05:47.037322: I tensorflow/stream_executor/cuda/cuda_gpu_executor.cc:923] could not open file to read NUMA node: /sys/bus/pci/devices/0000:01:00.0/numa_node\n",
      "Your kernel may have been built without NUMA support.\n",
      "2025-04-04 16:05:47.037327: I tensorflow/core/common_runtime/gpu/gpu_device.cc:1871] Adding visible gpu devices: 0\n",
      "2025-04-04 16:05:47.037362: I tensorflow/core/common_runtime/gpu/gpu_device.cc:1258] Device interconnect StreamExecutor with strength 1 edge matrix:\n",
      "2025-04-04 16:05:47.037366: I tensorflow/core/common_runtime/gpu/gpu_device.cc:1264]      0 \n",
      "2025-04-04 16:05:47.037369: I tensorflow/core/common_runtime/gpu/gpu_device.cc:1277] 0:   N \n",
      "2025-04-04 16:05:47.037550: I tensorflow/stream_executor/cuda/cuda_gpu_executor.cc:923] could not open file to read NUMA node: /sys/bus/pci/devices/0000:01:00.0/numa_node\n",
      "Your kernel may have been built without NUMA support.\n",
      "2025-04-04 16:05:47.037563: I tensorflow/core/common_runtime/gpu/gpu_device.cc:1501] Could not identify NUMA node of platform GPU id 0, defaulting to 0.  Your kernel may not have been built with NUMA support.\n",
      "2025-04-04 16:05:47.037587: I tensorflow/stream_executor/cuda/cuda_gpu_executor.cc:923] could not open file to read NUMA node: /sys/bus/pci/devices/0000:01:00.0/numa_node\n",
      "Your kernel may have been built without NUMA support.\n",
      "2025-04-04 16:05:47.037601: I tensorflow/core/common_runtime/gpu/gpu_device.cc:1418] Created TensorFlow device (/job:localhost/replica:0/task:0/device:GPU:0 with 13433 MB memory) -> physical GPU (device: 0, name: NVIDIA GeForce RTX 4070 Ti SUPER, pci bus id: 0000:01:00.0, compute capability: 8.9)\n",
      "2025-04-04 16:05:47.040383: I tensorflow/stream_executor/cuda/cuda_gpu_executor.cc:923] could not open file to read NUMA node: /sys/bus/pci/devices/0000:01:00.0/numa_node\n",
      "Your kernel may have been built without NUMA supportINFO:essentia_models:Model 11 (effnet_engagement_model) initialized in 0.13 seconds.\n",
      ".\n",
      "2025-04-04 16:05:47.040405: I tensorflow/core/common_runtime/gpu/gpu_device.cc:1733] Found device 0 with properties: \n",
      "pciBusID: 0000:01:00.0 name: NVIDIA GeForce RTX 4070 Ti SUPER computeCapability: 8.9\n",
      "coreClock: 2.61GHz coreCount: 66 deviceMemorySize: 15.99GiB deviceMemoryBandwidth: 625.91GiB/s\n",
      "2025-04-04 16:05:47.040425: I tensorflow/stream_executor/cuda/cuda_gpu_executor.cc:923] could not open file to read NUMA node: /sys/bus/pci/devices/0000:01:00.0/numa_node\n",
      "Your kernel may have been built without NUMA support.\n",
      "2025-04-04 16:05:47.040439: I tensorflow/stream_executor/cuda/cuda_gpu_executor.cc:923] could not open file to read NUMA node: /sys/bus/pci/devices/0000:01:00.0/numa_node\n",
      "Your kernel may have been built without NUMA support.\n",
      "2025-04-04 16:05:47.040443: I tensorflow/core/common_runtime/gpu/gpu_device.cc:1871] Adding visible gpu devices: 0\n",
      "2025-04-04 16:05:47.040467: I tensorflow/core/common_runtime/gpu/gpu_device.cc:1258] Device interconnect StreamExecutor with strength 1 edge matrix:\n",
      "2025-04-04 16:05:47.040471: I tensorflow/core/common_runtime/gpu/gpu_device.cc:1264]      0 \n",
      "2025-04-04 16:05:47.040474: I tensorflow/core/common_runtime/gpu/gpu_device.cc:1277] 0:   N \n",
      "2025-04-04 16:05:47.040625: I tensorflow/stream_executor/cuda/cuda_gpu_executor.cc:923] could not open file to read NUMA node: /sys/bus/pci/devices/0000:01:00.0/numa_node\n",
      "Your kernel may have been built without NUMA support.\n",
      "2025-04-04 16:05:47.040637: I tensorflow/core/common_runtime/gpu/gpu_device.cc:1501] Could not identify NUMA node of platform GPU id 0, defaulting to 0.  Your kernel may not have been built with NUMA support.\n",
      "2025-04-04 16:05:47.040656: I tensorflow/stream_executor/cuda/cuda_gpu_executor.cc:923] could not open file to read NUMA node: /sys/bus/pci/devices/0000:01:00.0/numa_node\n",
      "Your kernel may have been built without NUMA support.\n",
      "2025-04-04 16:05:47.040673: I tensorflow/core/common_runtime/gpu/gpu_device.cc:1418] Created TensorFlow device (/job:localhost/replica:0/task:0/device:GPU:0 with 13433 MB memory) -> physical GPU (device: 0, name: NVIDIA GeForce RTX 4070 Ti SUPER, pci bus id: 0000:01:00.0, compute capability: 8.9)\n",
      "2025-04-04 16:05:47.041838: I tensorflow/stream_executor/cuda/cuda_gpu_executor.cc:923] could not open file to read NUMA node: /sys/bus/pci/devices/0000:01:00.0/numa_node\n",
      "Your kernel may have been built without NUMA support.\n",
      "2025-04-04 16:05:47.041854: I tensorflow/core/common_runtime/gpu/gpu_device.cc:1733] Found device 0 with properties: \n",
      "pciBusID: 0000:01:00.0 name: NVIDIA GeForce RTX 4070 Ti SUPER computeCapability: 8.9\n",
      "coreClock: 2.61GHz coreCount: 66 deviceMemorySize: 15.99GiB deviceMemoryBandwidth: 625.91GiB/s\n",
      "2025-04-04 16:05:47.041868: I tensorflow/stream_executor/cuda/cuda_gpu_executor.cc:923] could not open file to read NUMA node: /sys/bus/pci/devices/0000:01:00.0/numa_node\n",
      "Your kernel may have been built without NUMA support.\n",
      "2025-04-04 16:05:47.041878: I tensorflow/stream_executor/cuda/cuda_gpu_executor.cc:923] could not open file to read NUMA node: /sys/bus/pci/devices/0000:01:00.0/numa_node\n",
      "Your kernel may have been built without NUMA support.\n",
      "2025-04-04 16:05:47.041882: I tensorflow/core/common_runtime/gpu/gpu_device.cc:1871] Adding visible gpu devices: 0\n",
      "2025-04-04 16:05:47.041902: I tensorflow/core/common_runtime/gpu/gpu_device.cc:1258] Device interconnect StreamExecutor with strength 1 edge matrix:\n",
      "2025-04-04 16:05:47.041905: I tensorflow/core/common_runtime/gpu/gpu_device.cc:1264]      0 \n",
      "2025-04-04 16:05:47.041907: I tensorflow/core/common_runtime/gpu/gpu_device.cc:1277] 0:   N \n",
      "2025-04-04 16:05:47.042009: I tensorflow/stream_executor/cuda/cuda_gpu_executor.cc:923] could not open file to read NUMA node: /sys/bus/pci/devices/0000:01:00.0/numa_node\n",
      "Your kernel may have been built without NUMA support.\n",
      "2025-04-04 16:05:47.042018: I tensorflow/core/common_runtime/gpu/gpu_device.cc:1501] Could not identify NUMA node of platform GPU id 0, defaulting to 0.  Your kernel may not have been built with NUMA support.\n",
      "2025-04-04 16:05:47.042031: I tensorflow/stream_executor/cuda/cuda_gpu_executor.cc:923] could not open file to read NUMA node: /sys/bus/pci/devices/0000:01:00.0/numa_node\n",
      "Your kernel may have been built without NUMA support.\n",
      "2025-04-04 16:05:47.042043: I tensorflow/core/common_runtime/gpu/gpu_device.cc:1418] Created TensorFlow device (/job:localhost/replica:0/task:0/device:GPU:0 with 13433 MB memory) -> physical GPU (device: 0, name: NVIDIA GeForce RTX 4070 Ti SUPER, pci bus id: 0000:01:00.0, compute capability: 8.9)\n",
      "[   INFO   ] TensorflowPredict: Successfully loaded graph file: `Models/approachability_2c-discogs-effnet-1.pb`\n",
      "2025-04-04 16:05:47.042675: I tensorflow/stream_executor/cuda/cuda_gpu_executor.cc:923] could not open file to read NUMA node: /sys/bus/pci/devices/0000:01:00.0/numa_node\n",
      "Your kernel may have been built without NUMA support.\n",
      "2025-04-04 16:05:47.042687: I tensorflow/core/common_runtime/gpu/gpu_device.cc:1733] Found device 0 with properties: \n",
      "pciBusIDINFO:essentia_models:Initializing model 12: effnet_timbre_model...\n",
      ": 0000:01:00.0 name: NVIDIA GeForce RTX 4070 Ti SUPER computeCapability: 8.9\n",
      "coreClock: 2.61GHz coreCount: 66 deviceMemorySize: 15.99GiB deviceMemoryBandwidth: 625.91GiB/s\n",
      "2025-04-04 16:05:47.042702: I tensorflow/stream_executor/cuda/cuda_gpu_executor.cc:923] could not open file to read NUMA node: /sys/bus/pci/devices/0000:01:00.0/numa_node\n",
      "Your kernel may have been built without NUMA support.\n",
      "2025-04-04 16:05:47.042713: I tensorflow/stream_executor/cuda/cuda_gpu_executor.cc:923] could not open file to read NUMA node: /sys/bus/pci/devices/0000:01:00.0/numa_node\n",
      "Your kernel may have been built without NUMA support.\n",
      "2025-04-04 16:05:47.042727: I tensorflow/core/common_runtime/gpu/gpu_device.cc:1871] Adding visible gpu devices: 0\n",
      "2025-04-04 16:05:47.042739: I tensorflow/core/common_runtime/gpu/gpu_device.cc:1258] Device interconnect StreamExecutor with strength 1 edge matrix:\n",
      "2025-04-04 16:05:47.042743: I tensorflow/core/common_runtime/gpu/gpu_device.cc:1264]      0 \n",
      "2025-04-04 16:05:47.042745: I tensorflow/core/common_runtime/gpu/gpu_device.cc:1277] 0:   N \n",
      "2025-04-04 16:05:47.042841: I tensorflow/stream_executor/cuda/cuda_gpu_executor.cc:923] could not open file to read NUMA node: /sys/bus/pci/devices/0000:01:00.0/numa_node\n",
      "Your kernel may have been built without NUMA support.\n",
      "2025-04-04 16:05:47.042851: I tensorflow/core/common_runtime/gpu/gpu_device.cc:1501] Could not identify NUMA node of platform GPU id 0, defaulting to 0.  Your kernel may not have been built with NUMA support.\n",
      "2025-04-04 16:05:47.042871: I tensorflow/stream_executor/cuda/cuda_gpu_executor.cc:923] could not open file to read NUMA node: /sys/bus/pci/devices/0000:01:00.0/numa_node\n",
      "Your kernel may have been built without NUMA support.\n",
      "2025-04-04 16:05:47.042880: I tensorflow/core/common_runtime/gpu/gpu_device.cc:1418] Created TensorFlow device (/job:localhost/replica:0/task:0/device:GPU:0 with 13433 MB memory) -> physical GPU (device: 0, name: NVIDIA GeForce RTX 4070 Ti SUPER, pci bus id: 0000:01:00.0, compute capability: 8.9)\n",
      "2025-04-04 16:05:47.165712: I tensorflow/stream_executor/cuda/cuda_gpu_executor.cc:923] could not open file to read NUMA node: /sys/bus/pci/devices/0000:01:00.0/numa_node\n",
      "Your kernel may have been built without NUMA support.\n",
      "2025-04-04 16:05:47.165763: I tensorflow/core/common_runtime/gpu/gpu_device.cc:1733] Found device 0 with properties: \n",
      "pciBusID: 0000:01:00.0 name: NVIDIA GeForce RTX 4070 Ti SUPER computeCapability: 8.9\n",
      "coreClock: 2.61GHz coreCount: 66 deviceMemorySize: 15.99GiB deviceMemoryBandwidth: 625.91GiB/s\n",
      "2025-04-04 16:05:47.165788: I tensorflow/stream_executor/cuda/cuda_gpu_executor.cc:923] could not open file to read NUMA node: /sys/bus/pci/devices/0000:01:00.0/numa_node\n",
      "Your kernel may have been built without NUMA support.\n",
      "2025-04-04 16:05:47.165802: I tensorflow/stream_executor/cuda/cuda_gpu_executor.cc:923] could not open file to read NUMA node: /sys/bus/pci/devices/0000:01:00.0/numa_node\n",
      "Your kernel may have been built without NUMA supportINFO:essentia_models:Model 12 (effnet_timbre_model) initialized in 0.12 seconds.\n",
      ".\n",
      "2025-04-04 16:05:47.165806: I tensorflow/core/common_runtime/gpu/gpu_device.cc:1871] Adding visible gpu devices: 0\n",
      "2025-04-04 16:05:47.165830: I tensorflow/core/common_runtime/gpu/gpu_device.cc:1258] Device interconnect StreamExecutor with strength 1 edge matrix:\n",
      "2025-04-04 16:05:47.165833: I tensorflow/core/common_runtime/gpu/gpu_device.cc:1264]      0 \n",
      "2025-04-04 16:05:47.165836: I tensorflow/core/common_runtime/gpu/gpu_device.cc:1277] 0:   N \n",
      "2025-04-04 16:05:47.165960: I tensorflow/stream_executor/cuda/cuda_gpu_executor.cc:923] could not open file to read NUMA node: /sys/bus/pci/devices/0000:01:00.0/numa_node\n",
      "Your kernel may have been built without NUMA support.\n",
      "2025-04-04 16:05:47.165969: I tensorflow/core/common_runtime/gpu/gpu_device.cc:1501] Could not identify NUMA node of platform GPU id 0, defaulting to 0.  Your kernel may not have been built with NUMA support.\n",
      "2025-04-04 16:05:47.165985: I tensorflow/stream_executor/cuda/cuda_gpu_executor.cc:923] could not open file to read NUMA node: /sys/bus/pci/devices/0000:01:00.0/numa_node\n",
      "Your kernel may have been built without NUMA support.\n",
      "2025-04-04 16:05:47.165996: I tensorflow/core/common_runtime/gpu/gpu_device.cc:1418] Created TensorFlow device (/job:localhost/replica:0/task:0/device:GPU:0 with 13433 MB memory) -> physical GPU (device: 0, name: NVIDIA GeForce RTX 4070 Ti SUPER, pci bus id: 0000:01:00.0, compute capability: 8.9)\n",
      "2025-04-04 16:05:47.167383: I tensorflow/stream_executor/cuda/cuda_gpu_executor.cc:923] could not open file to read NUMA node: /sys/bus/pci/devices/0000:01:00.0/numa_node\n",
      "Your kernel may have been built without NUMA support.\n",
      "2025-04-04 16:05:47.167396: I tensorflow/core/common_runtime/gpu/gpu_device.cc:1733] Found device 0 with properties: \n",
      "pciBusID: 0000:01:00.0 name: NVIDIA GeForce RTX 4070 Ti SUPER computeCapability: 8.9\n",
      "coreClock: 2.61GHz coreCount: 66 deviceMemorySize: 15.99GiB deviceMemoryBandwidth: 625.91GiB/s\n",
      "2025-04-04 16:05:47.167410: I tensorflow/stream_executor/cuda/cuda_gpu_executor.cc:923] could not open file to read NUMA node: /sys/bus/pci/devices/0000:01:00.0/numa_node\n",
      "Your kernel may have been built without NUMA support.\n",
      "2025-04-04 16:05:47.167421: I tensorflow/stream_executor/cuda/cuda_gpu_executor.cc:923] could not open file to read NUMA node: /sys/bus/pci/devices/0000:01:00.0/numa_node\n",
      "Your kernel may have been built without NUMA support.\n",
      "2025-04-04 16:05:47.167424: I tensorflow/core/common_runtime/gpu/gpu_device.cc:1871] Adding visible gpu devices: 0\n",
      "2025-04-04 16:05:47.167445: I tensorflow/core/common_runtime/gpu/gpu_device.cc:1258] Device interconnect StreamExecutor with strength 1 edge matrix:\n",
      "2025-04-04 16:05:47.167452: I tensorflow/core/common_runtime/gpu/gpu_device.cc:1264]      0 \n",
      "2025-04-04 16:05:47.167455: I tensorflow/core/common_runtime/gpu/gpu_device.cc:1277] 0:   N \n",
      "2025-04-04 16:05:47.167558: I tensorflow/stream_executor/cuda/cuda_gpu_executor.cc:923] could not open file to read NUMA node: /sys/bus/pci/devices/0000:01:00.0/numa_node\n",
      "Your kernel may have been built without NUMA support.\n",
      "2025-04-04 16:05:47.167566: I tensorflow/core/common_runtime/gpu/gpu_device.cc:1501] Could not identify NUMA node of platform GPU id 0, defaulting to 0.  Your kernel may not have been built with NUMA support.\n",
      "2025-04-04 16:05:47.167579: I tensorflow/stream_executor/cuda/cuda_gpu_executor.cc:923] could not open file to read NUMA node: /sys/bus/pci/devices/0000:01:00.0/numa_node\n",
      "Your kernel may have been built without NUMA support.\n",
      "2025-04-04 16:05:47.167587: I tensorflow/core/common_runtime/gpu/gpu_device.cc:1418] Created TensorFlow device (/job:localhost/replica:0/task:0/device:GPU:0 with 13433 MB memory) -> physical GPU (device: 0, name: NVIDIA GeForce RTX 4070 Ti SUPER, pci bus id: 0000:01:00.0, compute capability: 8.9)\n",
      "2025-04-04 16:05:47.167995: I tensorflow/stream_executor/cuda/cuda_gpu_executor.cc:923] could not open file to read NUMA node: /sys/bus/pci/devices/0000:01:00.0/numa_node\n",
      "Your kernel may have been built without INFO:essentia_models:Initializing model 13: effnet_genre_model...\n",
      "NUMA support.\n",
      "2025-04-04 16:05:47.168006: I tensorflow/core/common_runtime/gpu/gpu_device.cc:1733] Found device 0 with properties: \n",
      "pciBusID: 0000:01:00.0 name: NVIDIA GeForce RTX 4070 Ti SUPER computeCapability: 8.9\n",
      "coreClock: 2.61GHz coreCount: 66 deviceMemorySize: 15.99GiB deviceMemoryBandwidth: 625.91GiB/s\n",
      "2025-04-04 16:05:47.168019: I tensorflow/stream_executor/cuda/cuda_gpu_executor.cc:923] could not open file to read NUMA node: /sys/bus/pci/devices/0000:01:00.0/numa_node\n",
      "Your kernel may have been built without NUMA support.\n",
      "2025-04-04 16:05:47.168029: I tensorflow/stream_executor/cuda/cuda_gpu_executor.cc:923] could not open file to read NUMA node: /sys/bus/pci/devices/0000:01:00.0/numa_node\n",
      "Your kernel may have been built without NUMA support.\n",
      "2025-04-04 16:05:47.168033: I tensorflow/core/common_runtime/gpu/gpu_device.cc:1871] Adding visible gpu devices: 0\n",
      "2025-04-04 16:05:47.168040: I tensorflow/core/common_runtime/gpu/gpu_device.cc:1258] Device interconnect StreamExecutor with strength 1 edge matrix:\n",
      "2025-04-04 16:05:47.168043: I tensorflow/core/common_runtime/gpu/gpu_device.cc:1264]      0 \n",
      "2025-04-04 16:05:47.168045: I tensorflow/core/common_runtime/gpu/gpu_device.cc:1277] 0:   N \n",
      "2025-04-04 16:05:47.168182: I tensorflow/stream_executor/cuda/cuda_gpu_executor.cc:923] could not open file to read NUMA node: /sys/bus/pci/devices/0000:01:00.0/numa_node\n",
      "Your kernel may have been built without NUMA support.\n",
      "2025-04-04 16:05:47.168194: I tensorflow/core/common_runtime/gpu/gpu_device.cc:1501] Could not identify NUMA node of platform GPU id 0, defaulting to 0.  Your kernel may not have been built with NUMA support.\n",
      "2025-04-04 16:05:47.168215: I tensorflow/stream_executor/cuda/cuda_gpu_executor.cc:923] could not open file to read NUMA node: /sys/bus/pci/devices/0000:01:00.0/numa_node\n",
      "Your kernel may have been built without NUMA support.\n",
      "2025-04-04 16:05:47.168226: I tensorflow/core/common_runtime/gpu/gpu_device.cc:1418] Created TensorFlow device (/job:localhost/reINFO:essentia_models:Model 13 (effnet_genre_model) initialized in 0.12 seconds.\n",
      "plica:0/task:0/device:GPU:0 with 13433 MB memory) -> physical GPU (device: 0, name: NVIDIA GeForce RTX 4070 Ti SUPER, pci bus id: 0000:01:00.0, compute capability: 8.9)\n",
      "[   INFO   ] TensorflowPredict: Successfully loaded graph file: `Models/engagement_2c-discogs-effnet-1.pb`\n",
      "2025-04-04 16:05:47.168764: I tensorflow/stream_executor/cuda/cuda_gpu_executor.cc:923] could not open file to read NUMA node: /sys/bus/pci/devices/0000:01:00.0/numa_node\n",
      "Your kernel may have been built without NUMA support.\n",
      "2025-04-04 16:05:47.168779: I tensorflow/core/common_runtime/gpu/gpu_device.cc:1733] Found device 0 with properties: \n",
      "pciBusID: 0000:01:00.0 name: NVIDIA GeForce RTX 4070 Ti SUPER computeCapability: 8.9\n",
      "coreClock: 2.61GHz coreCount: 66 deviceMemorySize: 15.99GiB deviceMemoryBandwidth: 625.91GiB/s\n",
      "2025-04-04 16:05:47.168797: I tensorflow/stream_executor/cuda/cuda_gpu_executor.cc:923] could not open file to read NUMA node: /sys/bus/pci/devices/0000:01:00.0/numa_node\n",
      "Your kernel may have been builINFO:essentia_models:Initializing model 14: tempo_model...\n",
      "t without NUMA support.\n",
      "2025-04-04 16:05:47.168812: I tensorflow/stream_executor/cuda/cuda_gpu_executor.cc:923] could not open file to read NUMA node: /sys/bus/pci/devices/0000:01:00.0/numa_node\n",
      "Your kernel may have been built without NUMA support.\n",
      "2025-04-04 16:05:47.168816: I tensorflow/core/common_runtime/gpu/gpu_device.cc:1871] Adding visible gpu devices: 0\n",
      "2025-04-04 16:05:47.168826: I tensorflow/core/common_runtime/gpu/gpu_device.cc:1258] Device interconnect StreamExecutor with strength 1 edge matrix:\n",
      "2025-04-04 16:05:47.168829: I tensorflow/core/common_runtime/gpu/gpu_device.cc:1264]      0 \n",
      "2025-04-04 16:05:47.168832: I tensorflow/core/common_runtime/gpu/gpu_device.cc:1277] 0:   N \n",
      "2025-04-04 16:05:47.168930: I tensorflow/stream_executor/cuda/cuda_gpu_executor.cc:923] could not open file to read NUMA node: /sys/bus/pci/devices/0000:01:00.0/numa_node\n",
      "Your kernel may have been built without NUMA support.\n",
      "2025-04-04 16:05:47.168939: I tensorflow/core/common_runtime/gpu/gpu_device.cc:1501] Could not identify NUMA node of platform GPU id 0, defaulting to 0.  Your kernel may not have been built with NUMA support.\n",
      "2025-04-04 16:05:47.168964: I tensorflow/stream_executor/cuda/cuda_gpu_executor.cc:923] could not open file to read NUMA node: /sys/bus/pci/devices/0000:01:00.0/numa_node\n",
      "Your kernel may have been built without NUMA support.\n",
      "2025-04-04 16:05:47.168973: I tensorflow/core/common_runtime/gpu/gpu_device.cc:1418] Created TensorFlow device (/job:localhost/replica:0/task:0/device:GPU:0 with 13433 MB memory) -> physical GPU (device: 0, name: NVIDIA GeForce RTX 4070 Ti SUPER, pci bus id: 0000:01:00.0, compute capability: 8.9)\n",
      "2025-04-04 16:05:47.293853: I tensorflow/stream_executor/cuda/cuda_gpu_executor.cc:923] could not open file to read NUMA node: /sys/bus/pci/devices/0000:01:00.0/numa_node\n",
      "Your kernel may have been built without NUMA support.\n",
      "2025-04-04 16:05:47.293884: I tensorflow/core/common_runtime/gpu/gpu_device.cc:1733] Found device 0 with properties: \n",
      "pciBusID: 0000:01:00.0 name: NVIDIA GeForce RTX 4070 Ti SUPER computeCapability: 8.9\n",
      "coreClock: 2.61GHz coreCount: 66 deviceMemorySize: 15.99GiB deviceMemoryBandwidth: 625.91GiB/s\n",
      "2025-04-04 16:05:47.293905: I tensorflow/stream_executor/cuda/cuda_gpu_executor.cc:923] could not open file to read NUMA node: /sys/bus/pci/devices/0000:01:00.0/numa_node\n",
      "Your kernel may have been built without NUMA support.\n",
      "2025-04-04 16:05:47.293919: I tensorflow/stream_executor/cuda/cuda_gpu_executor.cc:923] could not open file to read NUMA node: /sys/bus/pci/devices/0000:01:00.0/numa_node\n",
      "Your kernel may have been built without NUMA support.\n",
      "2025-04-04 16:05:47.293924: I tensorflow/core/common_runtime/gpu/gpu_device.cc:1871] Adding visible gpu devices: 0\n",
      "2025-04-04 16:05:47.293949: I tensorflow/core/common_runtime/gpu/gpu_device.cc:1258] Device interconnect StreamExecutor with strength 1 edge matrix:\n",
      "2025-04-04 16:05:47.293953: I tensorflow/core/common_runtime/gpu/gpu_device.cc:1264]      0 \n",
      "2025-04-04 16:05:47.293956: I tensorflow/core/common_runtime/gpu/gpu_device.cc:1277] 0:   N \n",
      "2025-04-04 16:05:47.294080: I tensorflow/stream_executor/cuda/cuda_gpu_executor.cc:923] could not open file to read NUMA node: /sys/bus/pci/devices/0000:01:00.0/numa_node\n",
      "Your kernel may have been built without NUMA support.\n",
      "2025-04-04 16:05:47.294091: I tensorflow/core/common_runtime/gpu/gpu_device.cc:1501] Could not identify NUMA node of platform GPU id 0, defaulting to 0.  Your kernel may not have been built with NUMA support.\n",
      "2025-04-04 16:05:47.294106: I tensorflow/stream_executor/cuda/cuda_gpu_executor.cc:923] could not open file to read NUMA node: /sys/bus/pci/devices/0000:01:00.0/numa_node\n",
      "Your kernel may have been built without NUMA support.\n",
      "2025-04-04 16:05:47.294116: I tensorflow/core/common_runtime/gpu/gpu_device.cc:1418] Created TensorFlow device (/job:localhost/replica:0/task:0/device:GPU:0 with 13433 MB memory) -> physical GPU (device: 0, name: NVIDIA GeForce RTX 4070 Ti SUPER, pci bus id: 000INFO:essentia_models:Model 14 (tempo_model) initialized in 0.14 seconds.\n",
      "0:01:00.0, compute capability: 8.9)\n",
      "2025-04-04 16:05:47.295389: I tensorflow/stream_executor/cuda/cuda_gpu_executor.cc:923] could not open file to read NUMA node: /sys/bus/pci/devices/0000:01:00.0/numa_node\n",
      "Your kernel may have been built without NUMA support.\n",
      "2025-04-04 16:05:47.295403: I tensorflow/core/common_runtime/gpu/gpu_device.cc:1733] Found device 0 with properties: \n",
      "pciBusID: 0000:01:00.0 name: NVIDIA GeForce RTX 4070 Ti SUPER computeCapability: 8.9\n",
      "coreClock: 2.61GHz coreCount: 66 deviceMemorySize: 15.99GiB deviceMemoryBandwidth: 625.91GiB/s\n",
      "2025-04-04 16:05:47.295491: I tensorflow/stream_executor/cuda/cuda_gpu_executor.cc:923] could not open file to read NUMA node: /sys/bus/pci/devices/0000:01:00.0/numa_node\n",
      "Your kernel may have been built without NUMA support.\n",
      "2025-04-04 16:05:47.295508: I tensorflow/stream_executor/cuda/cuda_gpu_executor.cc:923] could not open file to read NUMA node: /sys/bus/pci/devices/0000:01:00.0/numa_node\n",
      "Your kernel may have been built without NUMA support.\n",
      "2025-04-04 16:05:47.295512: I tensorflow/core/common_runtime/gpu/gpu_device.cc:1871] Adding visible gpu devices: 0\n",
      "2025-04-04 16:05:47.295525: I tensorflow/core/common_runtime/gpu/gpu_device.cc:1258] Device interconnect StreamExecutor with strength 1 edge matrix:\n",
      "2025-04-04 16:05:47.295528: I tensorflow/core/common_runtime/gpu/gpu_device.cc:1264]      0 \n",
      "2025-04-04 16:05:47.295530: I tensorflow/core/common_runtime/gpu/gpu_device.cc:1277] 0:   N \n",
      "2025-04-04 16:05:47.295686: I tensorflow/stream_executor/cuda/cuda_gpu_executor.cc:923] could not open file to read NUMA node: /sys/bus/pci/devices/0000:01:00.0/numa_node\n",
      "Your kernel may have been built without NUMA support.\n",
      "2025-04-04 16:05:47.295696: I tensorflow/core/common_runtime/gpu/gpu_device.cc:1501] Could not identify NUMA node of platform GPU id 0, defaulting to 0.  Your kernel may not have been built with NUMA support.\n",
      "2025-04-04 16:05:47.295710: I tensorflow/stream_executor/cuda/cuda_gpu_executor.cc:923] could not open file to read NUMA node: /sys/bus/pci/devices/0000:01:00.0/numa_node\n",
      "Your kernel may have been built without NUMA support.\n",
      "2025-04-04 16:05:47.295720: I tensorflow/core/common_runtime/gpu/gpu_device.cc:1418] Created TensorFlow device (/job:localhost/replica:0/task:0/device:GPU:0 with 13433 MB memory) -> physical GPU (device: 0, name: NVIDIA GeForce RTX 4070 Ti SUPER, pci bus id: 0000:01:00.0, compute capability: 8.9)\n",
      "2025-04-04 16:05:47.296404: I tensorflow/stream_executor/cuda/cuda_gpu_executor.cc:923] could not open file to read NUMA node: /sys/bus/pci/devices/0000:01:00.0/numa_node\n",
      "Your kernel may have been built without NUMA support.\n",
      "2025-04-04 16:05:47.296417: I tensorflow/core/common_runtime/gpu/gpu_device.cc:1733] Found device 0 with properties: \n",
      "pciBusID: 0000:01:00.0 name: NVIDIA GeForce RTX 4070 Ti SUPER computeCapability: 8.9\n",
      "coreClock: 2.61GHz coreCount: 66 deviceMemorySize: 15.99GiB deviceMemoryBandwidth: 625.91GiB/s\n",
      "2025-04-04 16:05:47.296431: I tensorflow/stream_executor/cuda/cuda_gpu_executor.cc:923] could not open file to read NUMA node: /sys/bus/pci/devices/0000:01:00.0/numa_node\n",
      "Your kernel may have been built without NUMA support.\n",
      "2025-04-04 16:05:47.296442: I tensorflow/stream_executor/cuda/cuda_gpu_executor.cc:923] could not open file to read NUMA node: /sys/bus/pci/devices/0000:01:00.0/numa_node\n",
      "Your kernel may have been built without NUMA support.\n",
      "2025-04-04 16:05:47.296446: I tensorflow/core/common_runtime/gpu/gpu_device.cc:1871] Adding visible gpu devices: 0\n",
      "2025-04-04 16:05:47.296453: I tensorflow/core/common_runtime/gpu/gpu_device.cc:1258] Device interconnect StreamExecutor with strength 1 edge matrix:\n",
      "2025-04-04 16:05:47.296456: I tensorflow/core/common_runtime/gpu/gpu_device.cc:1264]      0 \n",
      "2025-04-04 16:05:47.296459: I tensorflow/core/common_runtime/gpu/gpu_device.cc:1277] 0:   N \n",
      "2025-04-04 16:05:47.296545: I tensorflow/stream_executor/cuda/cuda_gpu_executor.cc:923] could not open file to read NUMA node: /sys/bus/pci/devices/0000:01:00.0/numa_node\n",
      "Your kernel may have been built without NUMA support.\n",
      "2025-04-04 16:05:47.296554: I tensorflow/core/common_runtime/gpu/gpu_device.cc:1501] Could not identify NUMA node of platform GPU id 0, defaulting to 0.  Your kernel may not have been built with NUMA support.\n",
      "2025-04-04 16:05:47.296570: I tensorflow/stream_executor/cuda/cuda_gpu_executor.cc:923] could not open file to read NUMA node: /sys/bus/pci/devices/0000:01:00.0/numa_node\n",
      "Your kernel may have been built without NUMA support.\n",
      "2025-04-04 16:05:47.296578: I tensorflow/core/common_runtime/gpu/gpu_device.cc:1418] Created TensorFlow device (/job:localhost/replica:0/task:0/device:GPU:0 with 13433 MB memory) -> physical GPU (device: 0, name: NVIDIA GeForce RTX 4070 Ti SUPER, pci bus id: 0000:01:00.0, compute capability: 8.9)\n",
      "[   INFO   ] TensorflowPredict: Successfully loaded graph file: `Models/timbre-discogs-effnet-1.pb`\n",
      "2025-04-04 16:05:47.297030: I tensorflow/stream_executor/cuda/cuda_gpu_executor.cc:923] could not open file to read NUMA node: /sys/bus/pci/devices/0000:01:00.0/numa_node\n",
      "Your kernel may have been built without NUMA support.\n",
      "2025-04-04 16:05:47.297039: I tensorflow/core/common_runtime/gpu/gpu_device.cc:1733] Found device 0 with properties: \n",
      "pciBusID: 0000:01:00.0 name: NVIDIA GeForce RTX 4070 Ti SUPER computeCapability: 8.9\n",
      "coreClock: 2.61GHz coreCount: 66 deviceMemorySize: 15.99GiB deviceMemoryBandwidth: 625.91GiB/s\n",
      "2025-04-04 16:05:47.297053: I tensorflow/stream_executor/cuda/cuda_gpu_executor.cc:923] could not open file to read NUMA node: /sys/bus/pci/devices/0000:01:00.0/numa_node\n",
      "Your kernel may have been built without NUMA support.\n",
      "2025-04-04 16:05:47.297064: I tensorflow/stream_executor/cuda/cuda_gpu_executor.cc:923] could not open file to read NUMA node: /sys/bus/pci/devices/0000:01:00.0/numa_node\n",
      "Your kernel may have been built without NUMA support.\n",
      "2025-04-04 16:05:47.297067: I tensorflow/core/common_runtime/gpu/gpu_device.cc:1871] Adding visible gpu devices: 0\n",
      "2025-04-04 16:05:47.297075: I tensorflow/core/common_runtime/gpu/gpu_device.cc:1258] Device interconnect StreamExecutor with strength 1 edge matrix:\n",
      "2025-04-04 16:05:47.297078: I tensorflow/core/common_runtime/gpu/gpu_device.cc:1264]      0 \n",
      "2025-04-04 16:05:47.297080: I tensorflow/core/common_runtime/gpu/gpu_device.cc:1277] 0:   N \n",
      "2025-04-04 16:05:47.297159: I tensorflow/stream_executor/cuda/cuda_gpu_executor.cc:923] could not open file to read NUMA node: /sys/bus/pci/devices/0000:01:00.0/numa_node\n",
      "Your kernel may have been built without NUMA support.\n",
      "2025-04-04 16:05:47.297167: I tensorflow/core/common_runtime/gpu/gpu_device.cc:1501] Could not identify NUMA node of platform GPU id 0, defaulting to 0.  Your kernel may not have been built with NUMA support.\n",
      "2025-04-04 16:05:47.297180: I tensorflow/stream_executor/cuda/cuda_gpu_executor.cc:923] could not open file to read NUMA node: /sys/bus/pci/devices/0000:01:00.0/numa_node\n",
      "Your kernel may have been built without NUMA support.\n",
      "2025-04-04 16:05:47.297187: I tensorflow/core/common_runtime/gpu/gpu_device.cc:1418] Created TensorFlow device (/job:localhost/replica:0/task:0/device:GPU:0 with 13433 MB memory) -> physical GPU (device: 0, name: NVIDIA GeForce RTX 4070 Ti SUPER, pci bus id: 0000:01:00.0, compute capability: 8.9)\n",
      "2025-04-04 16:05:47.411761: I tensorflow/stream_executor/cuda/cuda_gpu_executor.cc:923] could not open file to read NUMA node: /sys/bus/pci/devices/0000:01:00.0/numa_node\n",
      "Your kernel may have been built without NUMA support.\n",
      "2025-04-04 16:05:47.411790: I tensorflow/core/common_runtime/gpu/gpu_device.cc:1733] Found device 0 with properties: \n",
      "pciBusID: 0000:01:00.0 name: NVIDIA GeForce RTX 4070 Ti SUPER computeCapability: 8.9\n",
      "coreClock: 2.61GHz coreCount: 66 deviceMemorySize: 15.99GiB deviceMemoryBandwidth: 625.91GiB/s\n",
      "2025-04-04 16:05:47.411808: I tensorflow/stream_executor/cuda/cuda_gpu_executor.cc:923] could not open file to read NUMA node: /sys/bus/pci/devices/0000:01:00.0/numa_node\n",
      "Your kernel may have been built without NUMA support.\n",
      "2025-04-04 16:05:47.411820: I tensorflow/stream_executor/cuda/cuda_gpu_executor.cc:923] could not open file to read NUMA node: /sys/bus/pci/devices/0000:01:00.0/numa_node\n",
      "Your kernel may have been built without NUMA support.\n",
      "2025-04-04 16:05:47.411824: I tensorflow/core/common_runtime/gpu/gpu_device.cc:1871] Adding visible gpu devices: 0\n",
      "2025-04-04 16:05:47.411927: I tensorflow/core/common_runtime/gpu/gpu_device.cc:1258] Device interconnect StreamExecutor with strength 1 edge matrix:\n",
      "2025-04-04 16:05:47.411937: I tensorflow/core/common_runtime/gpu/gpu_device.cc:1264]      0 \n",
      "2025-04-04 16:05:47.411941: I tensorflow/core/common_runtime/gpu/gpu_device.cc:1277] 0:   N \n",
      "2025-04-04 16:05:47.412078: I tensorflow/stream_executor/cuda/cuda_gpu_executor.cc:923] could not open file to read NUMA node: /sys/bus/pci/devices/0000:01:00.0/numa_node\n",
      "Your kernel may have been built without NUMA support.\n",
      "2025-04-04 16:05:47.412089: I tensorflow/core/common_runtime/gpu/gpu_device.cc:1501] Could not identify NUMA node of platform GPU id 0, defaulting to 0.  Your kernel may not have been built with NUMA support.\n",
      "2025-04-04 16:05:47.412111: I tensorflow/stream_executor/cuda/cuda_gpu_executor.cc:923] could not open file to read NUMA node: /sys/bus/pci/devices/0000:01:00.0/numa_node\n",
      "Your kernel may have been built without NUMA support.\n",
      "2025-04-04 16:05:47.412125: I tensorflow/core/common_runtime/gpu/gpu_device.cc:1418] Created TensorFlow device (/job:localhost/replica:0/task:0/device:GPU:0 with 13433 MB memory) -> physical GPU (device: 0, name: NVIDIA GeForce RTX 4070 Ti SUPER, pci bus id: 0000:01:00.0, compute capability: 8.9)\n",
      "2025-04-04 16:05:47.414462: I tensorflow/stream_executor/cuda/cuda_gpu_executor.cc:923] could not open file to read NUMA node: /sys/bus/pci/devices/0000:01:00.0/numa_node\n",
      "Your kernel may have been built without NUMA support.\n",
      "2025-04-04 16:05:47.414478: I tensorflow/core/common_runtime/gpu/gpu_device.cc:1733] Found device 0 with properties: \n",
      "pciBusID: 0000:01:00.0 name: NVIDIA GeForce RTX 4070 Ti SUPER computeCapability: 8.9\n",
      "coreClock: 2.61GHz coreCount: 66 deviceMemorySize: 15.99GiB deviceMemoryBandwidth: 625.91GiB/s\n",
      "2025-04-04 16:05:47.414496: I tensorflow/stream_executor/cuda/cuda_gpu_executor.cc:923] could not open file to read NUMA node: /sys/bus/pci/devices/0000:01:00.0/numa_node\n",
      "Your kernel may have been built without NUMA support.\n",
      "2025-04-04 16:05:47.414509: I tensorflow/stream_executor/cuda/cuda_gpu_executor.cc:923] could not open file to read NUMA node: /sys/bus/pci/devices/0000:01:00.0/numa_node\n",
      "Your kernel may have been built without NUMA support.\n",
      "2025-04-04 16:05:47.414514: I tensorflow/core/common_runtime/gpu/gpu_device.cc:1871] Adding visible gpu devices: 0\n",
      "2025-04-04 16:05:47.414526: I tensorflow/core/common_runtime/gpu/gpu_device.cc:1258] Device interconnect StreamExecutor with strength 1 edge matrix:\n",
      "2025-04-04 16:05:47.414530: I tensorflow/core/common_runtime/gpu/gpu_device.cc:1264]      0 \n",
      "2025-04-04 16:05:47.414533: I tensorflow/core/common_runtime/gpu/gpu_device.cc:1277] 0:   N \n",
      "2025-04-04 16:05:47.414689: I tensorflow/stream_executor/cuda/cuda_gpu_executor.cc:923] could not open file to read NUMA node: /sys/bus/pci/devices/0000:01:00.0/numa_node\n",
      "Your kernel may have been built without NUMA support.\n",
      "2025-04-04 16:05:47.414698: I tensorflow/core/common_runtime/gpu/gpu_device.cc:1501] Could not identify NUMA node of platform GPU id 0, defaulting to 0.  Your kernel may not have been built with NUMA support.\n",
      "2025-04-04 16:05:47.414713: I tensorflow/stream_executor/cuda/cuda_gpu_executor.cc:923] could not open file to read NUMA node: /sys/bus/pci/devices/0000:01:00.0/numa_node\n",
      "Your kernel may have been built without NUMA support.\n",
      "2025-04-04 16:05:47.414722: I tensorflow/core/common_runtime/gpu/gpu_device.cc:1418] Created TensorFlow device (/job:localhost/replica:0/task:0/device:GPU:0 with 13433 MB memory) -> physical GPU (device: 0, name: NVIDIA GeForce RTX 4070 Ti SUPER, pci bus id: 0000:01:00.0, compute capability: 8.9)\n",
      "2025-04-04 16:05:47.415254: I tensorflow/stream_executor/cuda/cuda_gpu_executor.cc:923] could not open file to read NUMA node: /sys/bus/pci/devices/0000:01:00.0/numa_node\n",
      "Your kernel may have been built without NUMA support.\n",
      "2025-04-04 16:05:47.415268: I tensorflow/core/common_runtime/gpu/gpu_device.cc:1733] Found device 0 with properties: \n",
      "pciBusID: 0000:01:00.0 name: NVIDIA GeForce RTX 4070 Ti SUPER computeCapability: 8.9\n",
      "coreClock: 2.61GHz coreCount: 66 deviceMemorySize: 15.99GiB deviceMemoryBandwidth: 625.91GiB/s\n",
      "2025-04-04 16:05:47.415284: I tensorflow/stream_executor/cuda/cuda_gpu_executor.cc:923] could not open file to read NUMA node: /sys/bus/pci/devices/0000:01:00.0/numa_node\n",
      "Your kernel may have been built without NUMA support.\n",
      "2025-04-04 16:05:47.415298: I tensorflow/stream_executor/cuda/cuda_gpu_executor.cc:923] could not open file to read NUMA node: /sys/bus/pci/devices/0000:01:00.0/numa_node\n",
      "Your kernel may have been built without NUMA support.\n",
      "2025-04-04 16:05:47.415302: I tensorflow/core/common_runtime/gpu/gpu_device.cc:1871] Adding visible gpu devices: 0\n",
      "2025-04-04 16:05:47.415312: I tensorflow/core/common_runtime/gpu/gpu_device.cc:1258] Device interconnect StreamExecutor with strength 1 edge matrix:\n",
      "2025-04-04 16:05:47.415317: I tensorflow/core/common_runtime/gpu/gpu_device.cc:1264]      0 \n",
      "2025-04-04 16:05:47.415320: I tensorflow/core/common_runtime/gpu/gpu_device.cc:1277] 0:   N \n",
      "2025-04-04 16:05:47.415406: I tensorflow/stream_executor/cuda/cuda_gpu_executor.cc:923] could not open file to read NUMA node: /sys/bus/pci/devices/0000:01:00.0/numa_node\n",
      "Your kernel may have been built without NUMA support.\n",
      "2025-04-04 16:05:47.415415: I tensorflow/core/common_runtime/gpu/gpu_device.cc:1501] Could not identify NUMA node of platform GPU id 0, defaulting to 0.  Your kernel may not have been built with NUMA support.\n",
      "2025-04-04 16:05:47.415428: I tensorflow/stream_executor/cuda/cuda_gpu_executor.cc:923] could not open file to read NUMA node: /sys/bus/pci/devices/0000:01:00.0/numa_node\n",
      "Your kernel may have been built without NUMA support.\n",
      "2025-04-04 16:05:47.415436: I tensorflow/core/common_runtime/gpu/gpu_device.cc:1418] Created TensorFlow device (/job:localhost/replica:0/task:0/device:GPU:0 with 13433 MB memory) -> physical GPU (device: 0, name: NVIDIA GeForce RTX 4070 Ti SUPER, pci bus id: 0000:01:00.0, compute capability: 8.9)\n",
      "[   INFO   ] TensorflowPredict: Successfully loaded graph file: `Models/genre_discogs400-discogs-effnet-1.pb`\n",
      "2025-04-04 16:05:47.416933: I tensorflow/stream_executor/cuda/cuda_gpu_executor.cc:923] could not open file to read NUMA node: /sys/bus/pci/devices/0000:01:00.0/numa_node\n",
      "Your kernel may have been built without NUMA support.\n",
      "2025-04-04 16:05:47.416944: I tensorflow/core/common_runtime/gpu/gpu_device.cc:1733] Found device 0 with properties: \n",
      "pciBusID: 0000:01:00.0 name: NVIDIA GeForce RTX 4070 Ti SUPER computeCapability: 8.9\n",
      "coreClock: 2.61GHz coreCount: 66 deviceMemorySize: 15.99GiB deviceMemoryBandwidth: 625.91GiB/s\n",
      "2025-04-04 16:05:47.416958: I tensorflow/stream_executor/cuda/cuda_gpu_executor.cc:923] could not open file to read NUMA node: /sys/bus/pci/devices/0000:01:00.0/numa_node\n",
      "Your kernel may have been built without NUMA support.\n",
      "2025-04-04 16:05:47.416969: I tensorflow/stream_executor/cuda/cuda_gpu_executor.cc:923] could not open file to read NUMA node: /sys/bus/pci/devices/0000:01:00.0/numa_node\n",
      "Your kernel may have been built without NUMA support.\n",
      "2025-04-04 16:05:47.416973: I tensorflow/core/common_runtime/gpu/gpu_device.cc:1871] Adding visible gpu devices: 0\n",
      "2025-04-04 16:05:47.416981: I tensorflow/core/common_runtime/gpu/gpu_device.cc:1258] Device interconnect StreamExecutor with strength 1 edge matrix:\n",
      "2025-04-04 16:05:47.416984: I tensorflow/core/common_runtime/gpu/gpu_device.cc:1264]      0 \n",
      "2025-04-04 16:05:47.416986: I tensorflow/core/common_runtime/gpu/gpu_device.cc:1277] 0:   N \n",
      "2025-04-04 16:05:47.417070: I tensorflow/stream_executor/cuda/cuda_gpu_executor.cc:923] could not open file to read NUMA node: /sys/bus/pci/devices/0000:01:00.0/numa_node\n",
      "Your kernel may have been built without NUMA support.\n",
      "2025-04-04 16:05:47.417081: I tensorflow/core/common_runtime/gpu/gpu_device.cc:1501] Could not identify NUMA node of platform GPU id 0, defaulting to 0.  Your kernel may not have been built with NUMA support.\n",
      "2025-04-04 16:05:47.417101: I tensorflow/stream_executor/cuda/cuda_gpu_executor.cc:923] could not open file to read NUMA node: /sys/bus/pci/devices/0000:01:00.0/numa_node\n",
      "Your kernel may have been built without NUMA support.\n",
      "2025-04-04 16:05:47.417108: I tensorflow/core/common_runtime/gpu/gpu_device.cc:1418] Created TensorFlow device (/job:localhost/replica:0/task:0/device:GPU:0 with 13433 MB memory) -> physical GPU (device: 0, name: NVIDIA GeForce RTX 4070 Ti SUPER, pci bus id: 0000:01:00.0, compute capability: 8.9)\n",
      "2025-04-04 16:05:47.534990: I tensorflow/stream_executor/cuda/cuda_gpu_executor.cc:923] could not open file to read NUMA node: /sys/bus/pci/devices/0000:01:00.0/numa_node\n",
      "Your kernel may have been built without NUMA support.\n",
      "2025-04-04 16:05:47.535018: I tensorflow/core/common_runtime/gpu/gpu_device.cc:1733] Found device 0 with properties: \n",
      "pciBusID: 0000:01:00.0 name: NVIDIA GeForce RTX 4070 Ti SUPER computeCapability: 8.9\n",
      "coreClock: 2.61GHz coreCount: 66 deviceMemorySize: 15.99GiB deviceMemoryBandwidth: 625.91GiB/s\n",
      "2025-04-04 16:05:47.535036: I tensorflow/stream_executor/cuda/cuda_gpu_executor.cc:923] could not open file to read NUMA node: /sys/bus/pci/devices/0000:01:00.0/numa_node\n",
      "Your kernel may have been built without NUMA support.\n",
      "2025-04-04 16:05:47.535048: I tensorflow/stream_executor/cuda/cuda_gpu_executor.cc:923] could not open file to read NUMA node: /sys/bus/pci/devices/0000:01:00.0/numa_node\n",
      "Your kernel may have been built without NUMA support.\n",
      "2025-04-04 16:05:47.535052: I tensorflow/core/common_runtime/gpu/gpu_device.cc:1871] Adding visible gpu devices: 0\n",
      "2025-04-04 16:05:47.535077: I tensorflow/core/common_runtime/gpu/gpu_device.cc:1258] Device interconnect StreamExecutor with strength 1 edge matrix:\n",
      "2025-04-04 16:05:47.535080: I tensorflow/core/common_runtime/gpu/gpu_device.cc:1264]      0 \n",
      "2025-04-04 16:05:47.535083: I tensorflow/core/common_runtime/gpu/gpu_device.cc:1277] 0:   N \n",
      "2025-04-04 16:05:47.535191: I tensorflow/stream_executor/cuda/cuda_gpu_executor.cc:923] could not open file to read NUMA node: /sys/bus/pci/devices/0000:01:00.0/numa_node\n",
      "Your kernel may have been built without NUMA support.\n",
      "2025-04-04 16:05:47.535200: I tensorflow/core/common_runtime/gpu/gpu_device.cc:1501] Could not identify NUMA node of platform GPU id 0, defaulting to 0.  Your kernel may not have been built with NUMA support.\n",
      "2025-04-04 16:05:47.535215: I tensorflow/stream_executor/cuda/cuda_gpu_executor.cc:923] could not open file to read NUMA node: /sys/bus/pci/devices/0000:01:00.0/numa_node\n",
      "Your kernel may have been built without NUMA support.\n",
      "2025-04-04 16:05:47.535225: I tensorflow/core/common_runtime/gpu/gpu_device.cc:1418] Created TensorFlow device (/job:localhost/replica:0/task:0/device:GPU:0 with 13433 MB memory) -> physical GPU (device: 0, name: NVIDIA GeForce RTX 4070 Ti SUPER, pci bus id: 0000:01:00.0, compute capability: 8.9)\n",
      "2025-04-04 16:05:47.538664: I tensorflow/stream_executor/cuda/cuda_gpu_executor.cc:923] could not open file to read NUMA node: /sys/bus/pci/devices/0000:01:00.0/numa_node\n",
      "Your kernel may have been built without NUMA support.\n",
      "2025-04-04 16:05:47.538680: I tensorflow/core/common_runtime/gpu/gpu_device.cc:1733] Found device 0 with properties: \n",
      "pciBusID: 0000:01:00.0 name: NVIDIA GeForce RTX 4070 Ti SUPER computeCapability: 8.9\n",
      "coreClock: 2.61GHz coreCount: 66 deviceMemorySize: 15.99GiB deviceMemoryBandwidth: 625.91GiB/s\n",
      "2025-04-04 16:05:47.538697: I tensorflow/stream_executor/cuda/cuda_gpu_executor.cc:923] could not open file to read NUMA node: /sys/bus/pci/devices/0000:01:00.0/numa_node\n",
      "Your kernel may have been built without NUMA support.\n",
      "2025-04-04 16:05:47.538708: I tensorflow/stream_executor/cuda/cuda_gpu_executor.cc:923] could not open file to read NUMA node: /sys/bus/pci/devices/0000:01:00.0/numa_node\n",
      "Your kernel may have been built without NUMA support.\n",
      "2025-04-04 16:05:47.538712: I tensorflow/core/common_runtime/gpu/gpu_device.cc:1871] Adding visible gpu devices: 0\n",
      "2025-04-04 16:05:47.538734: I tensorflow/core/common_runtime/gpu/gpu_device.cc:1258] Device interconnect StreamExecutor with strength 1 edge matrix:\n",
      "2025-04-04 16:05:47.538737: I tensorflow/core/common_runtime/gpu/gpu_device.cc:1264]      0 \n",
      "2025-04-04 16:05:47.538739: I tensorflow/core/common_runtime/gpu/gpu_device.cc:1277] 0:   N \n",
      "2025-04-04 16:05:47.538850: I tensorflow/stream_executor/cuda/cuda_gpu_executor.cc:923] could not open file to read NUMA node: /sys/bus/pci/devices/0000:01:00.0/numa_node\n",
      "Your kernel may have been built without NUMA support.\n",
      "2025-04-04 16:05:47.538858: I tensorflow/core/common_runtime/gpu/gpu_device.cc:1501] Could not identify NUMA node of platform GPU id 0, defaulting to 0.  Your kernel may not have been built with NUMA support.\n",
      "2025-04-04 16:05:47.538871: I tensorflow/stream_executor/cuda/cuda_gpu_executor.cc:923] could not open file to read NUMA node: /sys/bus/pci/devices/0000:01:00.0/numa_node\n",
      "Your kernel may have been built without NUMA support.\n",
      "2025-04-04 16:05:47.538880: I tensorflow/core/common_runtime/gpu/gpu_device.cc:1418] Created TensorFlow device (/job:localhost/replica:0/task:0/device:GPU:0 with 13433 MB memory) -> physical GPU (device: 0, name: NVIDIA GeForce RTX 4070 Ti SUPER, pci bus id: 0000:01:00.0, compute capability: 8.9)\n",
      "2025-04-04 16:05:47.540897: I tensorflow/stream_executor/cuda/cuda_gpu_executor.cc:923] could not open file to read NUMA node: /sys/bus/pci/devices/0000:01:00.0/numa_node\n",
      "Your kernel may have been built without NUMA support.\n",
      "2025-04-04 16:05:47.540911: I tensorflow/core/common_runtime/gpu/gpu_device.cc:1733] Found device 0 with properties: \n",
      "pciBusID: 0000:01:00.0 name: NVIDIA GeForce RTX 4070 Ti SUPER computeCapability: 8.9\n",
      "coreClock: 2.61GHz coreCount: 66 deviceMemorySize: 15.99GiB deviceMemoryBandwidth: 625.91GiB/s\n",
      "2025-04-04 16:05:47.540927: I tensorflow/stream_executor/cuda/cuda_gpu_executor.cc:923] could not open file to read NUMA node: /sys/bus/pci/devices/0000:01:00.0/numa_node\n",
      "Your kernel may have been built without NUMA support.\n",
      "2025-04-04 16:05:47.540939: I tensorflow/stream_executor/cuda/cuda_gpu_executor.cc:923] could not open file to read NUMA node: /sys/bus/pci/devices/0000:01:00.0/numa_node\n",
      "Your kernel may have been built without NUMA support.\n",
      "2025-04-04 16:05:47.540943: I tensorflow/core/common_runtime/gpu/gpu_device.cc:1871] Adding visible gpu devices: 0\n",
      "2025-04-04 16:05:47.540955: I tensorflow/core/common_runtime/gpu/gpu_device.cc:1258] Device interconnect StreamExecutor with strength 1 edge matrix:\n",
      "2025-04-04 16:05:47.540957: I tensorflow/core/common_runtime/gpu/gpu_device.cc:1264]      0 \n",
      "2025-04-04 16:05:47.540960: I tensorflow/core/common_runtime/gpu/gpu_device.cc:1277] 0:   N \n",
      "2025-04-04 16:05:47.541076: I tensorflow/stream_executor/cuda/cuda_gpu_executor.cc:923] could not open file to read NUMA node: /sys/bus/pci/devices/0000:01:00.0/numa_node\n",
      "Your kernel may have been built without NUMA support.\n",
      "2025-04-04 16:05:47.541086: I tensorflow/core/common_runtime/gpu/gpu_device.cc:1501] Could not identify NUMA node of platform GPU id 0, defaulting to 0.  Your kernel may not have been built with NUMA support.\n",
      "2025-04-04 16:05:47.541102: I tensorflow/stream_executor/cuda/cuda_gpu_executor.cc:923] could not open file to read NUMA node: /sys/bus/pci/devices/0000:01:00.0/numa_node\n",
      "Your kernel may have been built without NUMA support.\n",
      "2025-04-04 16:05:47.541112: I tensorflow/core/common_runtime/gpu/gpu_device.cc:1418] Created TensorFlow device (/job:localhost/replica:0/task:0/device:GPU:0 with 13433 MB memory) -> physical GPU (device: 0, name: NVIDIA GeForce RTX 4070 Ti SUPER, pci bus id: 0000:01:00.0, compute capability: 8.9)\n",
      "2025-04-04 16:05:47.542823: I tensorflow/stream_executor/cuda/cuda_gpu_executor.cc:923] could not open file to read NUMA node: /sys/bus/pci/devices/0000:01:00.0/numa_node\n",
      "Your kernel may have been built without NUMA support.\n",
      "2025-04-04 16:05:47.542837: I tensorflow/core/common_runtime/gpu/gpu_device.cc:1733] Found device 0 with properties: \n",
      "pciBusID: 0000:01:00.0 name: NVIDIA GeForce RTX 4070 Ti SUPER computeCapability: 8.9\n",
      "coreClock: 2.61GHz coreCount: 66 deviceMemorySize: 15.99GiB deviceMemoryBandwidth: 625.91GiB/s\n",
      "2025-04-04 16:05:47.542852: I tensorflow/stream_executor/cuda/cuda_gpu_executor.cc:923] could not open file to read NUMA node: /sys/bus/pci/devices/0000:01:00.0/numa_node\n",
      "Your kernel may have been built without NUMA support.\n",
      "2025-04-04 16:05:47.542863: I tensorflow/stream_executor/cuda/cuda_gpu_executor.cc:923] could not open file to read NUMA node: /sys/bus/pci/devices/0000:01:00.0/numa_node\n",
      "Your kernel may have been built without NUMA support.\n",
      "2025-04-04 16:05:47.542867: I tensorflow/core/common_runtime/gpu/gpu_device.cc:1871] Adding visible gpu devices: 0\n",
      "2025-04-04 16:05:47.542878: I tensorflow/core/common_runtime/gpu/gpu_device.cc:1258] Device interconnect StreamExecutor with strength 1 edge matrix:\n",
      "2025-04-04 16:05:47.542882: I tensorflow/core/common_runtime/gpu/gpu_device.cc:1264]      0 \n",
      "2025-04-04 16:05:47.542884: I tensorflow/core/common_runtime/gpu/gpu_device.cc:1277] 0:   N \n",
      "2025-04-04 16:05:47.542999: I tensorflow/stream_executor/cuda/cuda_gpu_executor.cc:923] could not open file to read NUMA node: /sys/bus/pci/devices/0000:01:00.0/numa_node\n",
      "Your kernel may have been built without NUMA support.\n",
      "2025-04-04 16:05:47.543010: I tensorflow/core/common_runtime/gpu/gpu_device.cc:1501] Could not identify NUMA node of platform GPU id 0, defaulting to 0.  Your kernel may not have been built with NUMA support.\n",
      "2025-04-04 16:05:47.543028: I tensorflow/stream_executor/cuda/cuda_gpu_executor.cc:923] could not open file to read NUMA node: /sys/bus/pci/devices/0000:01:00.0/numa_node\n",
      "Your kernel may have been built without NUMA support.\n",
      "2025-04-04 16:05:47.543038: I tensorflow/core/common_runtime/gpu/gpu_device.cc:1418] Created TensorFlow device (/job:localhost/replica:0/task:0/device:GPU:0 with 13433 MB memory) -> physical GPU (device: 0, name: NVIDIA GeForce RTX 4070 Ti SUPER, pci bus id: 0000:01:00.0, compute capability: 8.9)\n",
      "[   INFO   ] TensorflowPredict: Successfully loaded graph file: `Models/deeptemp-k16-3.pb`\n",
      "2025-04-04 16:05:47.547954: I tensorflow/stream_executor/cuda/cuda_gpu_executor.cc:923] could not open file to read NUMA node: /sys/bus/pci/devices/0000:01:00.0/numa_node\n",
      "Your kernel may have been built without NUMA support.\n",
      "2025-04-04 16:05:47.547965: I tensorflow/core/common_runtime/gpu/gpu_device.cc:1733] Found device 0 with properties: \n",
      "pciBusID: 0000:01:00.0 name: NVIDIA GeForce RTX 4070 Ti SUPER computeCapability: 8.9\n",
      "coreClock: 2.61GHz coreCount: 66 deviceMemorySize: 15.99GiB deviceMemoryBandwidth: 625.91GiB/s\n",
      "2025-04-04 16:05:47.547979: I tensorflow/stream_executor/cuda/cuda_gpu_executor.cc:923] could not open file to read NUMA node: /sys/bus/pci/devices/0000:01:00.0/numa_node\n",
      "Your kernel may have been built without NUMA support.\n",
      "2025-04-04 16:05:47.547991: I tensorflow/stream_executor/cuda/cuda_gpu_executor.cc:923] could not open file to read NUMA node: /sys/bus/pci/devices/0000:01:00.0/numa_node\n",
      "Your kernel may have been built without NUMA support.\n",
      "2025-04-04 16:05:47.547995: I tensorflow/core/common_runtime/gpu/gpu_device.cc:1871] Adding visible gpu devices: 0\n",
      "2025-04-04 16:05:47.548003: I tensorflow/core/common_runtime/gpu/gpu_device.cc:1258] Device interconnect StreamExecutor with strength 1 edge matrix:\n",
      "2025-04-04 16:05:47.548005: I tensorflow/core/common_runtime/gpu/gpu_device.cc:1264]      0 \n",
      "2025-04-04 16:05:47.548008: I tensorflow/core/common_runtime/gpu/gpu_device.cc:1277] 0:   N \n",
      "2025-04-04 16:05:47.548093: I tensorflow/stream_executor/cuda/cuda_gpu_executor.cc:923] could not open file to read NUMA node: /sys/bus/pci/devices/0000:01:00.0/numa_node\n",
      "Your kernel may have been built without NUMA support.\n",
      "2025-04-04 16:05:47.548101: I tensorflow/core/common_runtime/gpu/gpu_device.cc:1501] Could not identify NUMA node of platform GPU id 0, defaulting to 0.  Your kernel may not have been built with NUMA support.\n",
      "2025-04-04 16:05:47.548113: I tensorflow/stream_executor/cuda/cuda_gpu_executor.cc:923] could not open file to read NUMA node: /sys/bus/pci/devices/0000:01:00.0/numa_node\n",
      "Your kernel may have been built without NUMA support.\n",
      "2025-04-04 16:05:47.548120: I tensorflow/core/common_runtime/gpu/gpu_device.cc:1418] Created TensorFlow device (/job:localhost/replica:0/task:0/device:GPU:0 with 13433 MB memory) -> physical GPU (device: 0, name: NVIDIA GeForce RTX 4070 Ti SUPER, pci bus id: 0000:01:00.0, compute capability: 8.9)\n"
     ]
    }
   ],
   "source": [
    "predictor = EssentiaPredictor()"
   ]
  },
  {
   "cell_type": "code",
   "execution_count": 3,
   "metadata": {},
   "outputs": [
    {
     "ename": "TypeError",
     "evalue": "Error cannot convert argument UNDEFINED to VECTOR_REAL",
     "output_type": "error",
     "traceback": [
      "\u001b[0;31m---------------------------------------------------------------------------\u001b[0m",
      "\u001b[0;31mTypeError\u001b[0m                                 Traceback (most recent call last)",
      "File \u001b[0;32m~/miniforge3/envs/essentia/lib/python3.10/site-packages/essentia/standard.py:97\u001b[0m, in \u001b[0;36m_create_essentia_class.<locals>.Algo.compute\u001b[0;34m(self, *args)\u001b[0m\n\u001b[1;32m     96\u001b[0m \u001b[38;5;28;01mtry\u001b[39;00m:\n\u001b[0;32m---> 97\u001b[0m     convertedData \u001b[38;5;241m=\u001b[39m \u001b[43m_c\u001b[49m\u001b[38;5;241;43m.\u001b[39;49m\u001b[43mconvertData\u001b[49m\u001b[43m(\u001b[49m\u001b[43marg\u001b[49m\u001b[43m,\u001b[49m\u001b[43m \u001b[49m\u001b[43mgoalType\u001b[49m\u001b[43m)\u001b[49m\n\u001b[1;32m     98\u001b[0m \u001b[38;5;28;01mexcept\u001b[39;00m \u001b[38;5;167;01mTypeError\u001b[39;00m:\n",
      "File \u001b[0;32m~/miniforge3/envs/essentia/lib/python3.10/site-packages/essentia/common.py:349\u001b[0m, in \u001b[0;36mconvertData\u001b[0;34m(data, goalType)\u001b[0m\n\u001b[1;32m    347\u001b[0m         \u001b[38;5;28;01mreturn\u001b[39;00m [[col \u001b[38;5;28;01mfor\u001b[39;00m col \u001b[38;5;129;01min\u001b[39;00m row] \u001b[38;5;28;01mfor\u001b[39;00m row \u001b[38;5;129;01min\u001b[39;00m data]\n\u001b[0;32m--> 349\u001b[0m \u001b[38;5;28;01mraise\u001b[39;00m \u001b[38;5;167;01mTypeError\u001b[39;00m(\u001b[38;5;124m'\u001b[39m\u001b[38;5;124mCannot convert data from type \u001b[39m\u001b[38;5;132;01m%s\u001b[39;00m\u001b[38;5;124m (\u001b[39m\u001b[38;5;132;01m%s\u001b[39;00m\u001b[38;5;124m) to type \u001b[39m\u001b[38;5;132;01m%s\u001b[39;00m\u001b[38;5;124m'\u001b[39m \u001b[38;5;241m%\u001b[39m\n\u001b[1;32m    350\u001b[0m                 (\u001b[38;5;28mstr\u001b[39m(origType), \u001b[38;5;28mstr\u001b[39m(\u001b[38;5;28mtype\u001b[39m(data)), \u001b[38;5;28mstr\u001b[39m(goalType)))\n",
      "\u001b[0;31mTypeError\u001b[0m: Cannot convert data from type UNDEFINED (<class 'numpy.ndarray'>) to type VECTOR_REAL",
      "\nDuring handling of the above exception, another exception occurred:\n",
      "\u001b[0;31mTypeError\u001b[0m                                 Traceback (most recent call last)",
      "Cell \u001b[0;32mIn[3], line 1\u001b[0m\n\u001b[0;32m----> 1\u001b[0m crazy_pred \u001b[38;5;241m=\u001b[39m \u001b[43mpredictor\u001b[49m\u001b[38;5;241;43m.\u001b[39;49m\u001b[43mpredict_all\u001b[49m\u001b[43m(\u001b[49m\u001b[38;5;124;43m\"\u001b[39;49m\u001b[38;5;124;43mMusic/CRAZY.flac\u001b[39;49m\u001b[38;5;124;43m\"\u001b[39;49m\u001b[43m)\u001b[49m\n",
      "File \u001b[0;32m~/Coding/data-engineering-zoomcamp-Colin/project/essentia_models.py:116\u001b[0m, in \u001b[0;36mEssentiaPredictor.predict_all\u001b[0;34m(self, audio_file)\u001b[0m\n\u001b[1;32m    113\u001b[0m predictions \u001b[38;5;241m=\u001b[39m {}\n\u001b[1;32m    115\u001b[0m \u001b[38;5;66;03m# Process VGGish-based predictions:\u001b[39;00m\n\u001b[0;32m--> 116\u001b[0m vggish_embedding \u001b[38;5;241m=\u001b[39m \u001b[38;5;28;43mself\u001b[39;49m\u001b[38;5;241;43m.\u001b[39;49m\u001b[43mvggish_embedding_model\u001b[49m\u001b[43m(\u001b[49m\u001b[43maudio\u001b[49m\u001b[43m)\u001b[49m\n\u001b[1;32m    117\u001b[0m predictions[\u001b[38;5;124m\"\u001b[39m\u001b[38;5;124mvggish_dance\u001b[39m\u001b[38;5;124m\"\u001b[39m] \u001b[38;5;241m=\u001b[39m \u001b[38;5;241m100\u001b[39m \u001b[38;5;241m*\u001b[39m np\u001b[38;5;241m.\u001b[39mmean(\u001b[38;5;28mself\u001b[39m\u001b[38;5;241m.\u001b[39mvggish_dance_model(vggish_embedding)[:, \u001b[38;5;241m0\u001b[39m])\n\u001b[1;32m    118\u001b[0m predictions[\u001b[38;5;124m\"\u001b[39m\u001b[38;5;124mvggish_party\u001b[39m\u001b[38;5;124m\"\u001b[39m] \u001b[38;5;241m=\u001b[39m \u001b[38;5;241m100\u001b[39m \u001b[38;5;241m*\u001b[39m np\u001b[38;5;241m.\u001b[39mmean(\u001b[38;5;28mself\u001b[39m\u001b[38;5;241m.\u001b[39mvggish_party_model(vggish_embedding)[:, \u001b[38;5;241m0\u001b[39m])\n",
      "File \u001b[0;32m~/miniforge3/envs/essentia/lib/python3.10/site-packages/essentia/standard.py:123\u001b[0m, in \u001b[0;36m_create_essentia_class.<locals>.Algo.__call__\u001b[0;34m(self, *args)\u001b[0m\n\u001b[1;32m    122\u001b[0m \u001b[38;5;28;01mdef\u001b[39;00m\u001b[38;5;250m \u001b[39m\u001b[38;5;21m__call__\u001b[39m(\u001b[38;5;28mself\u001b[39m, \u001b[38;5;241m*\u001b[39margs):\n\u001b[0;32m--> 123\u001b[0m     \u001b[38;5;28;01mreturn\u001b[39;00m \u001b[38;5;28;43mself\u001b[39;49m\u001b[38;5;241;43m.\u001b[39;49m\u001b[43mcompute\u001b[49m\u001b[43m(\u001b[49m\u001b[38;5;241;43m*\u001b[39;49m\u001b[43margs\u001b[49m\u001b[43m)\u001b[49m\n",
      "File \u001b[0;32m~/miniforge3/envs/essentia/lib/python3.10/site-packages/essentia/standard.py:99\u001b[0m, in \u001b[0;36m_create_essentia_class.<locals>.Algo.compute\u001b[0;34m(self, *args)\u001b[0m\n\u001b[1;32m     97\u001b[0m         convertedData \u001b[38;5;241m=\u001b[39m _c\u001b[38;5;241m.\u001b[39mconvertData(arg, goalType)\n\u001b[1;32m     98\u001b[0m     \u001b[38;5;28;01mexcept\u001b[39;00m \u001b[38;5;167;01mTypeError\u001b[39;00m:\n\u001b[0;32m---> 99\u001b[0m         \u001b[38;5;28;01mraise\u001b[39;00m \u001b[38;5;167;01mTypeError\u001b[39;00m(\u001b[38;5;124m'\u001b[39m\u001b[38;5;124mError cannot convert argument \u001b[39m\u001b[38;5;132;01m%s\u001b[39;00m\u001b[38;5;124m to \u001b[39m\u001b[38;5;132;01m%s\u001b[39;00m\u001b[38;5;124m'\u001b[39m \\\n\u001b[1;32m    100\u001b[0m               \u001b[38;5;241m%\u001b[39m(\u001b[38;5;28mstr\u001b[39m(_c\u001b[38;5;241m.\u001b[39mdetermineEdt(arg)), \u001b[38;5;28mstr\u001b[39m(goalType)))\n\u001b[1;32m    102\u001b[0m     convertedArgs\u001b[38;5;241m.\u001b[39mappend(convertedData)\n\u001b[1;32m    104\u001b[0m results \u001b[38;5;241m=\u001b[39m \u001b[38;5;28mself\u001b[39m\u001b[38;5;241m.\u001b[39m__compute__(\u001b[38;5;241m*\u001b[39mconvertedArgs)\n",
      "\u001b[0;31mTypeError\u001b[0m: Error cannot convert argument UNDEFINED to VECTOR_REAL"
     ]
    }
   ],
   "source": [
    "crazy_pred = predictor.predict_all(\"Music/CRAZY.flac\")"
   ]
  },
  {
   "cell_type": "code",
   "execution_count": 5,
   "metadata": {},
   "outputs": [
    {
     "data": {
      "text/plain": [
       "{'vggish_dance': 95.4359769821167,\n",
       " 'vggish_party': 11.586987227201462,\n",
       " 'vggish_happy': 80.88999390602112,\n",
       " 'vggish_sad': 86.94853186607361,\n",
       " 'effnet_party': 1.1837365105748177,\n",
       " 'effnet_happy': 62.99726366996765,\n",
       " 'effnet_sad': 96.3132917881012,\n",
       " 'effnet_approachability': 60.21665930747986,\n",
       " 'effnet_engagement': 98.46222996711731,\n",
       " 'effnet_timbre_bright': 54.279571771621704,\n",
       " 'tempo': 130.0}"
      ]
     },
     "execution_count": 5,
     "metadata": {},
     "output_type": "execute_result"
    }
   ],
   "source": [
    "crazy_pred\n",
    "# print(f\"Duration: {crazy_pred['duration']:.2f} seconds\")"
   ]
  },
  {
   "cell_type": "markdown",
   "metadata": {},
   "source": [
    "## Exploring Duration"
   ]
  },
  {
   "cell_type": "code",
   "execution_count": 161,
   "metadata": {},
   "outputs": [
    {
     "name": "stdout",
     "output_type": "stream",
     "text": [
      "Duration: 2 minutes and 44 seconds\n",
      " 164.554\n"
     ]
    }
   ],
   "source": [
    "from pydub import AudioSegment\n",
    "\n",
    "def get_audio_duration(file_path):\n",
    "    audio = AudioSegment.from_file(file_path)\n",
    "    return len(audio) / 1000  # Convert milliseconds to seconds\n",
    "\n",
    "def convert_to_minutes_seconds(secs):\n",
    "    return int(secs // 60), int(secs % 60)\n",
    "\n",
    "duration = get_audio_duration(\"Music/CRAZY.flac\")\n",
    "mins, secs = convert_to_minutes_seconds(duration)\n",
    "print(f\"Duration: {mins} minutes and {secs} seconds\\n {duration}\")"
   ]
  },
  {
   "cell_type": "code",
   "execution_count": null,
   "metadata": {},
   "outputs": [
    {
     "name": "stderr",
     "output_type": "stream",
     "text": [
      "2025-03-24 12:56:22.772399: I tensorflow/stream_executor/cuda/cuda_gpu_executor.cc:923] could not open file to read NUMA node: /sys/bus/pci/devices/0000:01:00.0/numa_node\n",
      "Your kernel may have been built without NUMA support.\n"
     ]
    },
    {
     "name": "stdout",
     "output_type": "stream",
     "text": [
      "Music/Crazier.flac: {'vggish_dance': 73.39200973510742, 'vggish_party': 56.450074911117554, 'vggish_happy': 53.621429204940796, 'vggish_sad': 56.47348165512085, 'tempo': 88.0, 'effnet_approachability': 53.87740731239319, 'effnet_engagement': 83.38466882705688, 'effnet_timbre_bright': 47.82411754131317}\n"
     ]
    },
    {
     "name": "stderr",
     "output_type": "stream",
     "text": [
      "2025-03-24 12:56:22.772447: I tensorflow/core/common_runtime/gpu/gpu_device.cc:1733] Found device 0 with properties: \n",
      "pciBusID: 0000:01:00.0 name: NVIDIA GeForce RTX 4070 Ti SUPER computeCapability: 8.9\n",
      "coreClock: 2.61GHz coreCount: 66 deviceMemorySize: 15.99GiB deviceMemoryBandwidth: 625.91GiB/s\n",
      "2025-03-24 12:56:22.772457: W tensorflow/core/common_runtime/gpu/gpu_device.cc:1766] Cannot dlopen some GPU libraries. Please make sure the missing libraries mentioned above are installed properly if you would like to use GPU. Follow the guide at https://www.tensorflow.org/install/gpu for how to download and setup the required libraries for your platform.\n",
      "Skipping registering GPU devices...\n",
      "2025-03-24 12:56:22.772466: I tensorflow/core/common_runtime/gpu/gpu_device.cc:1258] Device interconnect StreamExecutor with strength 1 edge matrix:\n",
      "2025-03-24 12:56:22.772470: I tensorflow/core/common_runtime/gpu/gpu_device.cc:1264]      0 \n",
      "2025-03-24 12:56:22.772473: I tensorflow/core/common_runtime/gpu/gpu_device.cc:1277] 0:   N \n",
      "2025-03-24 12:56:22.775882: I tensorflow/stream_executor/cuda/cuda_gpu_executor.cc:923] could not open file to read NUMA node: /sys/bus/pci/devices/0000:01:00.0/numa_node\n",
      "Your kernel may have been built without NUMA support.\n",
      "2025-03-24 12:56:22.775894: I tensorflow/core/common_runtime/gpu/gpu_device.cc:1733] Found device 0 with properties: \n",
      "pciBusID: 0000:01:00.0 name: NVIDIA GeForce RTX 4070 Ti SUPER computeCapability: 8.9\n",
      "coreClock: 2.61GHz coreCount: 66 deviceMemorySize: 15.99GiB deviceMemoryBandwidth: 625.91GiB/s\n",
      "2025-03-24 12:56:22.775899: W tensorflow/core/common_runtime/gpu/gpu_device.cc:1766] Cannot dlopen some GPU libraries. Please make sure the missing libraries mentioned above are installed properly if you would like to use GPU. Follow the guide at https://www.tensorflow.org/install/gpu for how to download and setup the required libraries for your platform.\n",
      "Skipping registering GPU devices...\n",
      "2025-03-24 12:56:22.775905: I tensorflow/core/common_runtime/gpu/gpu_device.cc:1258] Device interconnect StreamExecutor with strength 1 edge matrix:\n",
      "2025-03-24 12:56:22.775908: I tensorflow/core/common_runtime/gpu/gpu_device.cc:1264]      0 \n",
      "2025-03-24 12:56:22.775910: I tensorflow/core/common_runtime/gpu/gpu_device.cc:1277] 0:   N \n",
      "2025-03-24 12:56:22.778435: I tensorflow/stream_executor/cuda/cuda_gpu_executor.cc:923] could not open file to read NUMA node: /sys/bus/pci/devices/0000:01:00.0/numa_node\n",
      "Your kernel may have been built without NUMA support.\n",
      "2025-03-24 12:56:22.778447: I tensorflow/core/common_runtime/gpu/gpu_device.cc:1733] Found device 0 with properties: \n",
      "pciBusID: 0000:01:00.0 name: NVIDIA GeForce RTX 4070 Ti SUPER computeCapability: 8.9\n",
      "coreClock: 2.61GHz coreCount: 66 deviceMemorySize: 15.99GiB deviceMemoryBandwidth: 625.91GiB/s\n",
      "2025-03-24 12:56:22.778452: W tensorflow/core/common_runtime/gpu/gpu_device.cc:1766] Cannot dlopen some GPU libraries. Please make sure the missing libraries mentioned above are installed properly if you would like to use GPU. Follow the guide at https://www.tensorflow.org/install/gpu for how to download and setup the required libraries for your platform.\n",
      "Skipping registering GPU devices...\n",
      "2025-03-24 12:56:22.778458: I tensorflow/core/common_runtime/gpu/gpu_device.cc:1258] Device interconnect StreamExecutor with strength 1 edge matrix:\n",
      "2025-03-24 12:56:22.778460: I tensorflow/core/common_runtime/gpu/gpu_device.cc:1264]      0 \n",
      "2025-03-24 12:56:22.778463: I tensorflow/core/common_runtime/gpu/gpu_device.cc:1277] 0:   N \n",
      "2025-03-24 12:56:22.781201: I tensorflow/stream_executor/cuda/cuda_gpu_executor.cc:923] could not open file to read NUMA node: /sys/bus/pci/devices/0000:01:00.0/numa_node\n",
      "Your kernel may have been built without NUMA support.\n",
      "2025-03-24 12:56:22.781214: I tensorflow/core/common_runtime/gpu/gpu_device.cc:1733] Found device 0 with properties: \n",
      "pciBusID: 0000:01:00.0 name: NVIDIA GeForce RTX 4070 Ti SUPER computeCapability: 8.9\n",
      "coreClock: 2.61GHz coreCount: 66 deviceMemorySize: 15.99GiB deviceMemoryBandwidth: 625.91GiB/s\n",
      "2025-03-24 12:56:22.781220: W tensorflow/core/common_runtime/gpu/gpu_device.cc:1766] Cannot dlopen some GPU libraries. Please make sure the missing libraries mentioned above are installed properly if you would like to use GPU. Follow the guide at https://www.tensorflow.org/install/gpu for how to download and setup the required libraries for your platform.\n",
      "Skipping registering GPU devices...\n",
      "2025-03-24 12:56:22.781226: I tensorflow/core/common_runtime/gpu/gpu_device.cc:1258] Device interconnect StreamExecutor with strength 1 edge matrix:\n",
      "2025-03-24 12:56:22.781229: I tensorflow/core/common_runtime/gpu/gpu_device.cc:1264]      0 \n",
      "2025-03-24 12:56:22.781231: I tensorflow/core/common_runtime/gpu/gpu_device.cc:1277] 0:   N \n",
      "2025-03-24 12:56:22.783787: I tensorflow/stream_executor/cuda/cuda_gpu_executor.cc:923] could not open file to read NUMA node: /sys/bus/pci/devices/0000:01:00.0/numa_node\n",
      "Your kernel may have been built without NUMA support.\n",
      "2025-03-24 12:56:22.783799: I tensorflow/core/common_runtime/gpu/gpu_device.cc:1733] Found device 0 with properties: \n",
      "pciBusID: 0000:01:00.0 name: NVIDIA GeForce RTX 4070 Ti SUPER computeCapability: 8.9\n",
      "coreClock: 2.61GHz coreCount: 66 deviceMemorySize: 15.99GiB deviceMemoryBandwidth: 625.91GiB/s\n",
      "2025-03-24 12:56:22.783805: W tensorflow/core/common_runtime/gpu/gpu_device.cc:1766] Cannot dlopen some GPU libraries. Please make sure the missing libraries mentioned above are installed properly if you would like to use GPU. Follow the guide at https://www.tensorflow.org/install/gpu for how to download and setup the required libraries for your platform.\n",
      "Skipping registering GPU devices...\n",
      "2025-03-24 12:56:22.783810: I tensorflow/core/common_runtime/gpu/gpu_device.cc:1258] Device interconnect StreamExecutor with strength 1 edge matrix:\n",
      "2025-03-24 12:56:22.783813: I tensorflow/core/common_runtime/gpu/gpu_device.cc:1264]      0 \n",
      "2025-03-24 12:56:22.783816: I tensorflow/core/common_runtime/gpu/gpu_device.cc:1277] 0:   N \n",
      "2025-03-24 12:56:22.896811: I tensorflow/stream_executor/cuda/cuda_gpu_executor.cc:923] could not open file to read NUMA node: /sys/bus/pci/devices/0000:01:00.0/numa_node\n",
      "Your kernel may have been built without NUMA support.\n",
      "2025-03-24 12:56:22.896841: I tensorflow/core/common_runtime/gpu/gpu_device.cc:1733] Found device 0 with properties: \n",
      "pciBusID: 0000:01:00.0 name: NVIDIA GeForce RTX 4070 Ti SUPER computeCapability: 8.9\n",
      "coreClock: 2.61GHz coreCount: 66 deviceMemorySize: 15.99GiB deviceMemoryBandwidth: 625.91GiB/s\n",
      "2025-03-24 12:56:22.896848: W tensorflow/core/common_runtime/gpu/gpu_device.cc:1766] Cannot dlopen some GPU libraries. Please make sure the missing libraries mentioned above are installed properly if you would like to use GPU. Follow the guide at https://www.tensorflow.org/install/gpu for how to download and setup the required libraries for your platform.\n",
      "Skipping registering GPU devices...\n",
      "2025-03-24 12:56:22.896856: I tensorflow/core/common_runtime/gpu/gpu_device.cc:1258] Device interconnect StreamExecutor with strength 1 edge matrix:\n",
      "2025-03-24 12:56:22.896859: I tensorflow/core/common_runtime/gpu/gpu_device.cc:1264]      0 \n",
      "2025-03-24 12:56:22.896862: I tensorflow/core/common_runtime/gpu/gpu_device.cc:1277] 0:   N \n",
      "2025-03-24 12:56:23.158991: I tensorflow/stream_executor/cuda/cuda_gpu_executor.cc:923] could not open file to read NUMA node: /sys/bus/pci/devices/0000:01:00.0/numa_node\n",
      "Your kernel may have been built without NUMA support.\n",
      "2025-03-24 12:56:23.159022: I tensorflow/core/common_runtime/gpu/gpu_device.cc:1733] Found device 0 with properties: \n",
      "pciBusID: 0000:01:00.0 name: NVIDIA GeForce RTX 4070 Ti SUPER computeCapability: 8.9\n",
      "coreClock: 2.61GHz coreCount: 66 deviceMemorySize: 15.99GiB deviceMemoryBandwidth: 625.91GiB/s\n",
      "2025-03-24 12:56:23.159029: W tensorflow/core/common_runtime/gpu/gpu_device.cc:1766] Cannot dlopen some GPU libraries. Please make sure the missing libraries mentioned above are installed pr"
     ]
    },
    {
     "name": "stdout",
     "output_type": "stream",
     "text": [
      "Music/CRAZY.flac: {'vggish_dance': 96.10866904258728, 'vggish_party': 11.082156747579575, 'vggish_happy': 66.98095202445984, 'vggish_sad': 94.19001340866089, 'tempo': 130.0, 'effnet_approachability': 7.326467335224152, 'effnet_engagement': 99.32321906089783, 'effnet_timbre_bright': 39.94540870189667}\n",
      "Music/Bad Religion.mp3: {'vggish_dance': 42.29871928691864, 'vggish_party': 74.32034015655518, 'vggish_happy': 54.88567352294922, 'vggish_sad': 45.97291648387909, 'tempo': 84.0, 'effnet_approachability': 64.2224371433258, 'effnet_engagement': 86.73343062400818, 'effnet_timbre_bright': 49.62194859981537}\n"
     ]
    },
    {
     "name": "stderr",
     "output_type": "stream",
     "text": [
      "operly if you would like to use GPU. Follow the guide at https://www.tensorflow.org/install/gpu for how to download and setup the required libraries for your platform.\n",
      "Skipping registering GPU devices...\n",
      "2025-03-24 12:56:23.159039: I tensorflow/core/common_runtime/gpu/gpu_device.cc:1258] Device interconnect StreamExecutor with strength 1 edge matrix:\n",
      "2025-03-24 12:56:23.159042: I tensorflow/core/common_runtime/gpu/gpu_device.cc:1264]      0 \n",
      "2025-03-24 12:56:23.159045: I tensorflow/core/common_runtime/gpu/gpu_device.cc:1277] 0:   N \n",
      "2025-03-24 12:56:23.163589: I tensorflow/stream_executor/cuda/cuda_gpu_executor.cc:923] could not open file to read NUMA node: /sys/bus/pci/devices/0000:01:00.0/numa_node\n",
      "Your kernel may have been built without NUMA support.\n",
      "2025-03-24 12:56:23.163602: I tensorflow/core/common_runtime/gpu/gpu_device.cc:1733] Found device 0 with properties: \n",
      "pciBusID: 0000:01:00.0 name: NVIDIA GeForce RTX 4070 Ti SUPER computeCapability: 8.9\n",
      "coreClock: 2.61GHz coreCount: 66 deviceMemorySize: 15.99GiB deviceMemoryBandwidth: 625.91GiB/s\n",
      "2025-03-24 12:56:23.163608: W tensorflow/core/common_runtime/gpu/gpu_device.cc:1766] Cannot dlopen some GPU libraries. Please make sure the missing libraries mentioned above are installed properly if you would like to use GPU. Follow the guide at https://www.tensorflow.org/install/gpu for how to download and setup the required libraries for your platform.\n",
      "Skipping registering GPU devices...\n",
      "2025-03-24 12:56:23.163614: I tensorflow/core/common_runtime/gpu/gpu_device.cc:1258] Device interconnect StreamExecutor with strength 1 edge matrix:\n",
      "2025-03-24 12:56:23.163616: I tensorflow/core/common_runtime/gpu/gpu_device.cc:1264]      0 \n",
      "2025-03-24 12:56:23.163619: I tensorflow/core/common_runtime/gpu/gpu_device.cc:1277] 0:   N \n",
      "2025-03-24 12:56:23.166641: I tensorflow/stream_executor/cuda/cuda_gpu_executor.cc:923] could not open file to read NUMA node: /sys/bus/pci/devices/0000:01:00.0/numa_node\n",
      "Your kernel may have been built without NUMA support.\n",
      "2025-03-24 12:56:23.166654: I tensorflow/core/common_runtime/gpu/gpu_device.cc:1733] Found device 0 with properties: \n",
      "pciBusID: 0000:01:00.0 name: NVIDIA GeForce RTX 4070 Ti SUPER computeCapability: 8.9\n",
      "coreClock: 2.61GHz coreCount: 66 deviceMemorySize: 15.99GiB deviceMemoryBandwidth: 625.91GiB/s\n",
      "2025-03-24 12:56:23.166659: W tensorflow/core/common_runtime/gpu/gpu_device.cc:1766] Cannot dlopen some GPU libraries. Please make sure the missing libraries mentioned above are installed properly if you would like to use GPU. Follow the guide at https://www.tensorflow.org/install/gpu for how to download and setup the required libraries for your platform.\n",
      "Skipping registering GPU devices...\n",
      "2025-03-24 12:56:23.166664: I tensorflow/core/common_runtime/gpu/gpu_device.cc:1258] Device interconnect StreamExecutor with strength 1 edge matrix:\n",
      "2025-03-24 12:56:23.166667: I tensorflow/core/common_runtime/gpu/gpu_device.cc:1264]      0 \n",
      "2025-03-24 12:56:23.166670: I tensorflow/core/common_runtime/gpu/gpu_device.cc:1277] 0:   N \n",
      "2025-03-24 12:56:23.169772: I tensorflow/stream_executor/cuda/cuda_gpu_executor.cc:923] could not open file to read NUMA node: /sys/bus/pci/devices/0000:01:00.0/numa_node\n",
      "Your kernel may have been built without NUMA support.\n",
      "2025-03-24 12:56:23.169784: I tensorflow/core/common_runtime/gpu/gpu_device.cc:1733] Found device 0 with properties: \n",
      "pciBusID: 0000:01:00.0 name: NVIDIA GeForce RTX 4070 Ti SUPER computeCapability: 8.9\n",
      "coreClock: 2.61GHz coreCount: 66 deviceMemorySize: 15.99GiB deviceMemoryBandwidth: 625.91GiB/s\n",
      "2025-03-24 12:56:23.169789: W tensorflow/core/common_runtime/gpu/gpu_device.cc:1766] Cannot dlopen some GPU libraries. Please make sure the missing libraries mentioned above are installed properly if you would like to use GPU. Follow the guide at https://www.tensorflow.org/install/gpu for how to download and setup the required libraries for your platform.\n",
      "Skipping registering GPU devices...\n",
      "2025-03-24 12:56:23.169794: I tensorflow/core/common_runtime/gpu/gpu_device.cc:1258] Device interconnect StreamExecutor with strength 1 edge matrix:\n",
      "2025-03-24 12:56:23.169797: I tensorflow/core/common_runtime/gpu/gpu_device.cc:1264]      0 \n",
      "2025-03-24 12:56:23.169800: I tensorflow/core/common_runtime/gpu/gpu_device.cc:1277] 0:   N \n",
      "2025-03-24 12:56:23.437793: I tensorflow/stream_executor/cuda/cuda_gpu_executor.cc:923] could not open file to read NUMA node: /sys/bus/pci/devices/0000:01:00.0/numa_node\n",
      "Your kernel may have been built without NUMA support.\n",
      "2025-03-24 12:56:23.437826: I tensorflow/core/common_runtime/gpu/gpu_device.cc:1733] Found device 0 with properties: \n",
      "pciBusID: 0000:01:00.0 name: NVIDIA GeForce RTX 4070 Ti SUPER computeCapability: 8.9\n",
      "coreClock: 2.61GHz coreCount: 66 deviceMemorySize: 15.99GiB deviceMemoryBandwidth: 625.91GiB/s\n",
      "2025-03-24 12:56:23.437834: W tensorflow/core/common_runtime/gpu/gpu_device.cc:1766] Cannot dlopen some GPU libraries. Please make sure the missing libraries mentioned above are installed properly if you would like to use GPU. Follow the guide at https://www.tensorflow.org/install/gpu for how to download and setup the required libraries for your platform.\n",
      "Skipping registering GPU devices...\n",
      "2025-03-24 12:56:23.437842: I tensorflow/core/common_runtime/gpu/gpu_device.cc:1258] Device interconnect StreamExecutor with strength 1 edge matrix:\n",
      "2025-03-24 12:56:23.437846: I tensorflow/core/common_runtime/gpu/gpu_device.cc:1264]      0 \n",
      "2025-03-24 12:56:23.437849: I tensorflow/core/common_runtime/gpu/gpu_device.cc:1277] 0:   N \n",
      "2025-03-24 12:56:23.441183: I tensorflow/stream_executor/cuda/cuda_gpu_executor.cc:923] could not open file to read NUMA node: /sys/bus/pci/devices/0000:01:00.0/numa_node\n",
      "Your kernel may have been built without NUMA support.\n",
      "2025-03-24 12:56:23.441197: I tensorflow/core/common_runtime/gpu/gpu_device.cc:1733] Found device 0 with properties: \n",
      "pciBusID: 0000:01:00.0 name: NVIDIA GeForce RTX 4070 Ti SUPER computeCapability: 8.9\n",
      "coreClock: 2.61GHz coreCount: 66 deviceMemorySize: 15.99GiB deviceMemoryBandwidth: 625.91GiB/s\n",
      "2025-03-24 12:56:23.441203: W tensorflow/core/common_runtime/gpu/gpu_device.cc:1766] Cannot dlopen some GPU libraries. Please make sure the missing libraries mentioned above are installed properly if you would like to use GPU. Follow the guide at https://www.tensorflow.org/install/gpu for how to download and setup the required libraries for your platform.\n",
      "Skipping registering GPU devices...\n",
      "2025-03-24 12:56:23.441208: I tensorflow/core/common_runtime/gpu/gpu_device.cc:1258] Device interconnect StreamExecutor with strength 1 edge matrix:\n",
      "2025-03-24 12:56:23.441211: I tensorflow/core/common_runtime/gpu/gpu_device.cc:1264]      0 \n",
      "2025-03-24 12:56:23.441214: I tensorflow/core/common_runtime/gpu/gpu_device.cc:1277] 0:   N \n",
      "2025-03-24 12:56:23.443754: I tensorflow/stream_executor/cuda/cuda_gpu_executor.cc:923] could not open file to read NUMA node: /sys/bus/pci/devices/0000:01:00.0/numa_node\n",
      "Your kernel may have been built without NUMA support.\n",
      "2025-03-24 12:56:23.443768: I tensorflow/core/common_runtime/gpu/gpu_device.cc:1733] Found device 0 with properties: \n",
      "pciBusID: 0000:01:00.0 name: NVIDIA GeForce RTX 4070 Ti SUPER computeCapability: 8.9\n",
      "coreClock: 2.61GHz coreCount: 66 deviceMemorySize: 15.99GiB deviceMemoryBandwidth: 625.91GiB/s\n",
      "2025-03-24 12:56:23.443773: W tensorflow/core/common_runtime/gpu/gpu_device.cc:1766] Cannot dlopen some GPU libraries. Please make sure the missing libraries mentioned above are installed properly if you would like to use GPU. Follow the guide at https://www.tensorflow.org/install/gpu for how to download and setup the required libraries for your platform.\n",
      "Skipping registering GPU devices...\n",
      "2025-03-24 12:56:23.443778: I tensorflow/core/common_runtime/gpu/gpu_device.cc:1258] Device interconnect StreamExecutor with strength 1 edge matrix:\n",
      "2025-03-24 12:56:23.443783: I tensorflow/core/common_runtime/gpu/gpu_device.cc:1264]      0 \n",
      "2025-03-24 12:56:23.443786: I tensorflow/c"
     ]
    },
    {
     "name": "stdout",
     "output_type": "stream",
     "text": [
      "Music/Red Flavor.mp3: {'vggish_dance': 77.06664800643921, 'vggish_party': 16.735434532165527, 'vggish_happy': 67.51852631568909, 'vggish_sad': 91.59044027328491, 'tempo': 125.0, 'effnet_approachability': 9.271001815795898, 'effnet_engagement': 98.47131371498108, 'effnet_timbre_bright': 43.431031703948975}\n"
     ]
    },
    {
     "name": "stderr",
     "output_type": "stream",
     "text": [
      "ore/common_runtime/gpu/gpu_device.cc:1277] 0:   N \n",
      "2025-03-24 12:56:23.447136: I tensorflow/stream_executor/cuda/cuda_gpu_executor.cc:923] could not open file to read NUMA node: /sys/bus/pci/devices/0000:01:00.0/numa_node\n",
      "Your kernel may have been built without NUMA support.\n",
      "2025-03-24 12:56:23.447150: I tensorflow/core/common_runtime/gpu/gpu_device.cc:1733] Found device 0 with properties: \n",
      "pciBusID: 0000:01:00.0 name: NVIDIA GeForce RTX 4070 Ti SUPER computeCapability: 8.9\n",
      "coreClock: 2.61GHz coreCount: 66 deviceMemorySize: 15.99GiB deviceMemoryBandwidth: 625.91GiB/s\n",
      "2025-03-24 12:56:23.447155: W tensorflow/core/common_runtime/gpu/gpu_device.cc:1766] Cannot dlopen some GPU libraries. Please make sure the missing libraries mentioned above are installed properly if you would like to use GPU. Follow the guide at https://www.tensorflow.org/install/gpu for how to download and setup the required libraries for your platform.\n",
      "Skipping registering GPU devices...\n",
      "2025-03-24 12:56:23.447161: I tensorflow/core/common_runtime/gpu/gpu_device.cc:1258] Device interconnect StreamExecutor with strength 1 edge matrix:\n",
      "2025-03-24 12:56:23.447164: I tensorflow/core/common_runtime/gpu/gpu_device.cc:1264]      0 \n",
      "2025-03-24 12:56:23.447166: I tensorflow/core/common_runtime/gpu/gpu_device.cc:1277] 0:   N \n",
      "2025-03-24 12:56:23.449562: I tensorflow/stream_executor/cuda/cuda_gpu_executor.cc:923] could not open file to read NUMA node: /sys/bus/pci/devices/0000:01:00.0/numa_node\n",
      "Your kernel may have been built without NUMA support.\n",
      "2025-03-24 12:56:23.449574: I tensorflow/core/common_runtime/gpu/gpu_device.cc:1733] Found device 0 with properties: \n",
      "pciBusID: 0000:01:00.0 name: NVIDIA GeForce RTX 4070 Ti SUPER computeCapability: 8.9\n",
      "coreClock: 2.61GHz coreCount: 66 deviceMemorySize: 15.99GiB deviceMemoryBandwidth: 625.91GiB/s\n",
      "2025-03-24 12:56:23.449580: W tensorflow/core/common_runtime/gpu/gpu_device.cc:1766] Cannot dlopen some GPU libraries. Please make sure the missing libraries mentioned above are installed properly if you would like to use GPU. Follow the guide at https://www.tensorflow.org/install/gpu for how to download and setup the required libraries for your platform.\n",
      "Skipping registering GPU devices...\n",
      "2025-03-24 12:56:23.449585: I tensorflow/core/common_runtime/gpu/gpu_device.cc:1258] Device interconnect StreamExecutor with strength 1 edge matrix:\n",
      "2025-03-24 12:56:23.449588: I tensorflow/core/common_runtime/gpu/gpu_device.cc:1264]      0 \n",
      "2025-03-24 12:56:23.449591: I tensorflow/core/common_runtime/gpu/gpu_device.cc:1277] 0:   N \n",
      "2025-03-24 12:56:23.572878: I tensorflow/stream_executor/cuda/cuda_gpu_executor.cc:923] could not open file to read NUMA node: /sys/bus/pci/devices/0000:01:00.0/numa_node\n",
      "Your kernel may have been built without NUMA support.\n",
      "2025-03-24 12:56:23.572910: I tensorflow/core/common_runtime/gpu/gpu_device.cc:1733] Found device 0 with properties: \n",
      "pciBusID: 0000:01:00.0 name: NVIDIA GeForce RTX 4070 Ti SUPER computeCapability: 8.9\n",
      "coreClock: 2.61GHz coreCount: 66 deviceMemorySize: 15.99GiB deviceMemoryBandwidth: 625.91GiB/s\n",
      "2025-03-24 12:56:23.572917: W tensorflow/core/common_runtime/gpu/gpu_device.cc:1766] Cannot dlopen some GPU libraries. Please make sure the missing libraries mentioned above are installed properly if you would like to use GPU. Follow the guide at https://www.tensorflow.org/install/gpu for how to download and setup the required libraries for your platform.\n",
      "Skipping registering GPU devices...\n",
      "2025-03-24 12:56:23.572927: I tensorflow/core/common_runtime/gpu/gpu_device.cc:1258] Device interconnect StreamExecutor with strength 1 edge matrix:\n",
      "2025-03-24 12:56:23.572930: I tensorflow/core/common_runtime/gpu/gpu_device.cc:1264]      0 \n",
      "2025-03-24 12:56:23.572933: I tensorflow/core/common_runtime/gpu/gpu_device.cc:1277] 0:   N \n",
      "2025-03-24 12:56:24.274768: I tensorflow/stream_executor/cuda/cuda_gpu_executor.cc:923] could not open file to read NUMA node: /sys/bus/pci/devices/0000:01:00.0/numa_node\n",
      "Your kernel may have been built without NUMA support.\n",
      "2025-03-24 12:56:24.274800: I tensorflow/core/common_runtime/gpu/gpu_device.cc:1733] Found device 0 with properties: \n",
      "pciBusID: 0000:01:00.0 name: NVIDIA GeForce RTX 4070 Ti SUPER computeCapability: 8.9\n",
      "coreClock: 2.61GHz coreCount: 66 deviceMemorySize: 15.99GiB deviceMemoryBandwidth: 625.91GiB/s\n",
      "2025-03-24 12:56:24.274807: W tensorflow/core/common_runtime/gpu/gpu_device.cc:1766] Cannot dlopen some GPU libraries. Please make sure the missing libraries mentioned above are installed properly if you would like to use GPU. Follow the guide at https://www.tensorflow.org/install/gpu for how to download and setup the required libraries for your platform.\n",
      "Skipping registering GPU devices...\n",
      "2025-03-24 12:56:24.274815: I tensorflow/core/common_runtime/gpu/gpu_device.cc:1258] Device interconnect StreamExecutor with strength 1 edge matrix:\n",
      "2025-03-24 12:56:24.274818: I tensorflow/core/common_runtime/gpu/gpu_device.cc:1264]      0 \n",
      "2025-03-24 12:56:24.274821: I tensorflow/core/common_runtime/gpu/gpu_device.cc:1277] 0:   N \n",
      "2025-03-24 12:56:24.278909: I tensorflow/stream_executor/cuda/cuda_gpu_executor.cc:923] could not open file to read NUMA node: /sys/bus/pci/devices/0000:01:00.0/numa_node\n",
      "Your kernel may have been built without NUMA support.\n",
      "2025-03-24 12:56:24.278922: I tensorflow/core/common_runtime/gpu/gpu_device.cc:1733] Found device 0 with properties: \n",
      "pciBusID: 0000:01:00.0 name: NVIDIA GeForce RTX 4070 Ti SUPER computeCapability: 8.9\n",
      "coreClock: 2.61GHz coreCount: 66 deviceMemorySize: 15.99GiB deviceMemoryBandwidth: 625.91GiB/s\n",
      "2025-03-24 12:56:24.278927: W tensorflow/core/common_runtime/gpu/gpu_device.cc:1766] Cannot dlopen some GPU libraries. Please make sure the missing libraries mentioned above are installed properly if you would like to use GPU. Follow the guide at https://www.tensorflow.org/install/gpu for how to download and setup the required libraries for your platform.\n",
      "Skipping registering GPU devices...\n",
      "2025-03-24 12:56:24.278933: I tensorflow/core/common_runtime/gpu/gpu_device.cc:1258] Device interconnect StreamExecutor with strength 1 edge matrix:\n",
      "2025-03-24 12:56:24.278936: I tensorflow/core/common_runtime/gpu/gpu_device.cc:1264]      0 \n",
      "2025-03-24 12:56:24.278938: I tensorflow/core/common_runtime/gpu/gpu_device.cc:1277] 0:   N \n",
      "2025-03-24 12:56:24.281926: I tensorflow/stream_executor/cuda/cuda_gpu_executor.cc:923] could not open file to read NUMA node: /sys/bus/pci/devices/0000:01:00.0/numa_node\n",
      "Your kernel may have been built without NUMA support.\n",
      "2025-03-24 12:56:24.281938: I tensorflow/core/common_runtime/gpu/gpu_device.cc:1733] Found device 0 with properties: \n",
      "pciBusID: 0000:01:00.0 name: NVIDIA GeForce RTX 4070 Ti SUPER computeCapability: 8.9\n",
      "coreClock: 2.61GHz coreCount: 66 deviceMemorySize: 15.99GiB deviceMemoryBandwidth: 625.91GiB/s\n",
      "2025-03-24 12:56:24.281943: W tensorflow/core/common_runtime/gpu/gpu_device.cc:1766] Cannot dlopen some GPU libraries. Please make sure the missing libraries mentioned above are installed properly if you would like to use GPU. Follow the guide at https://www.tensorflow.org/install/gpu for how to download and setup the required libraries for your platform.\n",
      "Skipping registering GPU devices...\n",
      "2025-03-24 12:56:24.281949: I tensorflow/core/common_runtime/gpu/gpu_device.cc:1258] Device interconnect StreamExecutor with strength 1 edge matrix:\n",
      "2025-03-24 12:56:24.281952: I tensorflow/core/common_runtime/gpu/gpu_device.cc:1264]      0 \n",
      "2025-03-24 12:56:24.281954: I tensorflow/core/common_runtime/gpu/gpu_device.cc:1277] 0:   N \n",
      "2025-03-24 12:56:24.285639: I tensorflow/stream_executor/cuda/cuda_gpu_executor.cc:923] could not open file to read NUMA node: /sys/bus/pci/devices/0000:01:00.0/numa_node\n",
      "Your kernel may have been built without NUMA support.\n",
      "2025-03-24 12:56:24.285652: I tensorflow/core/common_runtime/gpu/gpu_device.cc:1733] Found device 0 with properties: \n",
      "pciBusID: 0000:01:00.0 name: NVIDIA GeForce RTX 4070 Ti SUPER computeCapability: 8.9\n",
      "coreClock: 2.61GHz coreCount: 66 deviceMemorySize: 15.99GiB deviceMemoryBandwidth: 625.91GiB/s\n",
      "2025-03-24 12:56:24.285657: W tensorflow/core/common_runtime/gpu/gpu_device.cc:1766] Cannot dlopen some GPU libraries. Please make sure the missing libraries mentioned above are installed properly if you would like to use GPU. Follow the guide at https://www.tensorflow.org/install/gpu for how to download and setup the required libraries for your platform.\n",
      "Skipping registering GPU devices...\n",
      "2025-03-24 12:56:24.285664: I tensorflow/core/common_runtime/gpu/gpu_device.cc:1258] Device interconnect StreamExecutor with strength 1 edge matrix:\n",
      "2025-03-24 12:56:24.285667: I tensorflow/core/common_runtime/gpu/gpu_device.cc:1264]      0 \n",
      "2025-03-24 12:56:24.285669: I tensorflow/core/common_runtime/gpu/gpu_device.cc:1277] 0:   N \n",
      "2025-03-24 12:56:25.338928: I tensorflow/stream_executor/cuda/cuda_gpu_executor.cc:923] could not open file to read NUMA node: /sys/bus/pci/devices/0000:01:00.0/numa_node\n",
      "Your kernel may have been built without NUMA support.\n",
      "2025-03-24 12:56:25.338960: I tensorflow/core/common_runtime/gpu/gpu_device.cc:1733] Found device 0 with properties: \n",
      "pciBusID: 0000:01:00.0 name: NVIDIA GeForce RTX 4070 Ti SUPER computeCapability: 8.9\n",
      "coreClock: 2.61GHz coreCount: 66 deviceMemorySize: 15.99GiB deviceMemoryBandwidth: 625.91GiB/s\n",
      "2025-03-24 12:56:25.338970: W tensorflow/core/common_runtime/gpu/gpu_device.cc:1766] Cannot dlopen some GPU libraries. Please make sure the missing libraries mentioned above are installed properly if you would like to use GPU. Follow the guide at https://www.tensorflow.org/install/gpu for how to download and setup the required libraries for your platform.\n",
      "Skipping registering GPU devices...\n",
      "2025-03-24 12:56:25.338979: I tensorflow/core/common_runtime/gpu/gpu_device.cc:1258] Device interconnect StreamExecutor with strength 1 edge matrix:\n",
      "2025-03-24 12:56:25.338982: I tensorflow/core/common_runtime/gpu/gpu_device.cc:1264]      0 \n",
      "2025-03-24 12:56:25.338985: I tensorflow/core/common_runtime/gpu/gpu_device.cc:1277] 0:   N \n",
      "2025-03-24 12:56:25.344067: I tensorflow/stream_executor/cuda/cuda_gpu_executor.cc:923] could not open file to read NUMA node: /sys/bus/pci/devices/0000:01:00.0/numa_node\n",
      "Your kernel may have been built without NUMA support.\n",
      "2025-03-24 12:56:25.344082: I tensorflow/core/common_runtime/gpu/gpu_device.cc:1733] Found device 0 with properties: \n",
      "pciBusID: 0000:01:00.0 name: NVIDIA GeForce RTX 4070 Ti SUPER computeCapability: 8.9\n",
      "coreClock: 2.61GHz coreCount: 66 deviceMemorySize: 15.99GiB deviceMemoryBandwidth: 625.91GiB/s\n",
      "2025-03-24 12:56:25.344087: W tensorflow/core/common_runtime/gpu/gpu_device.cc:1766] Cannot dlopen some GPU libraries. Please make sure the missing libraries mentioned above are installed properly if you would like to use GPU. Follow the guide at https://www.tensorflow.org/install/gpu for how to download and setup the required libraries for your platform.\n",
      "Skipping registering GPU devices...\n",
      "2025-03-24 12:56:25.344093: I tensorflow/core/common_runtime/gpu/gpu_device.cc:1258] Device interconnect StreamExecutor with strength 1 edge matrix:\n",
      "2025-03-24 12:56:25.344105: I tensorflow/core/common_runtime/gpu/gpu_device.cc:1264]      0 \n",
      "2025-03-24 12:56:25.344112: I tensorflow/core/common_runtime/gpu/gpu_device.cc:1277] 0:   N \n",
      "2025-03-24 12:56:25.346838: I tensorflow/stream_executor/cuda/cuda_gpu_executor.cc:923] could not open file to read NUMA node: /sys/bus/pci/devices/0000:01:00.0/numa_node\n",
      "Your kernel may have been built without NUMA support.\n",
      "2025-03-24 12:56:25.346851: I tensorflow/core/common_runtime/gpu/gpu_device.cc:1733] Found device 0 with properties: \n",
      "pciBusID: 0000:01:00.0 name: NVIDIA GeForce RTX 4070 Ti SUPER computeCapability: 8.9\n",
      "coreClock: 2.61GHz coreCount: 66 deviceMemorySize: 15.99GiB deviceMemoryBandwidth: 625.91GiB/s\n",
      "2025-03-24 12:56:25.346856: W tensorflow/core/common_runtime/gpu/gpu_device.cc:1766] Cannot dlopen some GPU libraries. Please make sure the missing libraries mentioned above are installed properly if you would like to use GPU. Follow the guide at https://www.tensorflow.org/install/gpu for how to download and setup the required libraries for your platform.\n",
      "Skipping registering GPU devices...\n",
      "2025-03-24 12:56:25.346862: I tensorflow/core/common_runtime/gpu/gpu_device.cc:1258] Device interconnect StreamExecutor with strength 1 edge matrix:\n",
      "2025-03-24 12:56:25.346865: I tensorflow/core/common_runtime/gpu/gpu_device.cc:1264]      0 \n",
      "2025-03-24 12:56:25.346868: I tensorflow/core/common_runtime/gpu/gpu_device.cc:1277] 0:   N \n",
      "2025-03-24 12:56:25.349775: I tensorflow/stream_executor/cuda/cuda_gpu_executor.cc:923] could not open file to read NUMA node: /sys/bus/pci/devices/0000:01:00.0/numa_node\n",
      "Your kernel may have been built without NUMA support.\n",
      "2025-03-24 12:56:25.349788: I tensorflow/core/common_runtime/gpu/gpu_device.cc:1733] Found device 0 with properties: \n",
      "pciBusID: 0000:01:00.0 name: NVIDIA GeForce RTX 4070 Ti SUPER computeCapability: 8.9\n",
      "coreClock: 2.61GHz coreCount: 66 deviceMemorySize: 15.99GiB deviceMemoryBandwidth: 625.91GiB/s\n",
      "2025-03-24 12:56:25.349794: W tensorflow/core/common_runtime/gpu/gpu_device.cc:1766] Cannot dlopen some GPU libraries. Please make sure the missing libraries mentioned above are installed properly if you would like to use GPU. Follow the guide at https://www.tensorflow.org/install/gpu for how to download and setup the required libraries for your platform.\n",
      "Skipping registering GPU devices...\n",
      "2025-03-24 12:56:25.349799: I tensorflow/core/common_runtime/gpu/gpu_device.cc:1258] Device interconnect StreamExecutor with strength 1 edge matrix:\n",
      "2025-03-24 12:56:25.349802: I tensorflow/core/common_runtime/gpu/gpu_device.cc:1264]      0 \n",
      "2025-03-24 12:56:25.349805: I tensorflow/core/common_runtime/gpu/gpu_device.cc:1277] 0:   N \n",
      "2025-03-24 12:56:25.352438: I tensorflow/stream_executor/cuda/cuda_gpu_executor.cc:923] could not open file to read NUMA node: /sys/bus/pci/devices/0000:01:00.0/numa_node\n",
      "Your kernel may have been built without NUMA support.\n",
      "2025-03-24 12:56:25.352452: I tensorflow/core/common_runtime/gpu/gpu_device.cc:1733] Found device 0 with properties: \n",
      "pciBusID: 0000:01:00.0 name: NVIDIA GeForce RTX 4070 Ti SUPER computeCapability: 8.9\n",
      "coreClock: 2.61GHz coreCount: 66 deviceMemorySize: 15.99GiB deviceMemoryBandwidth: 625.91GiB/s\n",
      "2025-03-24 12:56:25.352458: W tensorflow/core/common_runtime/gpu/gpu_device.cc:1766] Cannot dlopen some GPU libraries. Please make sure the missing libraries mentioned above are installed properly if you would like to use GPU. Follow the guide at https://www.tensorflow.org/install/gpu for how to download and setup the required libraries for your platform.\n",
      "Skipping registering GPU devices...\n",
      "2025-03-24 12:56:25.352464: I tensorflow/core/common_runtime/gpu/gpu_device.cc:1258] Device interconnect StreamExecutor with strength 1 edge matrix:\n",
      "2025-03-24 12:56:25.352467: I tensorflow/core/common_runtime/gpu/gpu_device.cc:1264]      0 \n",
      "2025-03-24 12:56:25.352469: I tensorflow/core/common_runtime/gpu/gpu_device.cc:1277] 0:   N \n",
      "2025-03-24 12:56:25.478520: I tensorflow/stream_executor/cuda/cuda_gpu_executor.cc:923] could not open file to read NUMA node: /sys/bus/pci/devices/0000:01:00.0/numa_node\n",
      "Your kernel may have been built without NUMA support.\n",
      "2025-03-24 12:56:25.478556: I tensorflow/core/common_runtime/gpu/gpu_device.cc:1733] Found device 0 with properties: \n",
      "pciBusID: 0000:01:00.0 name: NVIDIA GeForce RTX 4070 Ti SUPER computeCapability: 8.9\n",
      "coreClock: 2.61GHz coreCount: 66 deviceMemorySize: 15.99GiB deviceMemoryBandwidth: 625.91GiB/s\n",
      "2025-03-24 12:56:25.478564: W tensorflow/core/common_runtime/gpu/gpu_device.cc:1766] Cannot dlopen some GPU libraries. Please make sure the missing libraries mentioned above are installed properly if you would like to use GPU. Follow the guide at https://www.tensorflow.org/install/gpu for how to download and setup the required libraries for your platform.\n",
      "Skipping registering GPU devices...\n",
      "2025-03-24 12:56:25.478574: I tensorflow/core/common_runtime/gpu/gpu_device.cc:1258] Device interconnect StreamExecutor with strength 1 edge matrix:\n",
      "2025-03-24 12:56:25.478577: I tensorflow/core/common_runtime/gpu/gpu_device.cc:1264]      0 \n",
      "2025-03-24 12:56:25.478580: I tensorflow/core/common_runtime/gpu/gpu_device.cc:1277] 0:   N \n",
      "2025-03-24 12:56:26.137594: I tensorflow/stream_executor/cuda/cuda_gpu_executor.cc:923] could not open file to read NUMA node: /sys/bus/pci/devices/0000:01:00.0/numa_node\n",
      "Your kernel may have been built without NUMA support.\n",
      "2025-03-24 12:56:26.137625: I tensorflow/core/common_runtime/gpu/gpu_device.cc:1733] Found device 0 with properties: \n",
      "pciBusID: 0000:01:00.0 name: NVIDIA GeForce RTX 4070 Ti SUPER computeCapability: 8.9\n",
      "coreClock: 2.61GHz coreCount: 66 deviceMemorySize: 15.99GiB deviceMemoryBandwidth: 625.91GiB/s\n",
      "2025-03-24 12:56:26.137636: W tensorflow/core/common_runtime/gpu/gpu_device.cc:1766] Cannot dlopen some GPU libraries. Please make sure the missing libraries mentioned above are installed properly if you would like to use GPU. Follow the guide at https://www.tensorflow.org/install/gpu for how to download and setup the required libraries for your platform.\n",
      "Skipping registering GPU devices...\n",
      "2025-03-24 12:56:26.137644: I tensorflow/core/common_runtime/gpu/gpu_device.cc:1258] Device interconnect StreamExecutor with strength 1 edge matrix:\n",
      "2025-03-24 12:56:26.137647: I tensorflow/core/common_runtime/gpu/gpu_device.cc:1264]      0 \n",
      "2025-03-24 12:56:26.137650: I tensorflow/core/common_runtime/gpu/gpu_device.cc:1277] 0:   N \n",
      "2025-03-24 12:56:26.141809: I tensorflow/stream_executor/cuda/cuda_gpu_executor.cc:923] could not open file to read NUMA node: /sys/bus/pci/devices/0000:01:00.0/numa_node\n",
      "Your kernel may have been built without NUMA support.\n",
      "2025-03-24 12:56:26.141824: I tensorflow/core/common_runtime/gpu/gpu_device.cc:1733] Found device 0 with properties: \n",
      "pciBusID: 0000:01:00.0 name: NVIDIA GeForce RTX 4070 Ti SUPER computeCapability: 8.9\n",
      "coreClock: 2.61GHz coreCount: 66 deviceMemorySize: 15.99GiB deviceMemoryBandwidth: 625.91GiB/s\n",
      "2025-03-24 12:56:26.141830: W tensorflow/core/common_runtime/gpu/gpu_device.cc:1766] Cannot dlopen some GPU libraries. Please make sure the missing libraries mentioned above are installed properly if you would like to use GPU. Follow the guide at https://www.tensorflow.org/install/gpu for how to download and setup the required libraries for your platform.\n",
      "Skipping registering GPU devices...\n",
      "2025-03-24 12:56:26.141836: I tensorflow/core/common_runtime/gpu/gpu_device.cc:1258] Device interconnect StreamExecutor with strength 1 edge matrix:\n",
      "2025-03-24 12:56:26.141839: I tensorflow/core/common_runtime/gpu/gpu_device.cc:1264]      0 \n",
      "2025-03-24 12:56:26.141841: I tensorflow/core/common_runtime/gpu/gpu_device.cc:1277] 0:   N \n",
      "2025-03-24 12:56:26.145133: I tensorflow/stream_executor/cuda/cuda_gpu_executor.cc:923] could not open file to read NUMA node: /sys/bus/pci/devices/0000:01:00.0/numa_node\n",
      "Your kernel may have been built without NUMA support.\n",
      "2025-03-24 12:56:26.145145: I tensorflow/core/common_runtime/gpu/gpu_device.cc:1733] Found device 0 with properties: \n",
      "pciBusID: 0000:01:00.0 name: NVIDIA GeForce RTX 4070 Ti SUPER computeCapability: 8.9\n",
      "coreClock: 2.61GHz coreCount: 66 deviceMemorySize: 15.99GiB deviceMemoryBandwidth: 625.91GiB/s\n",
      "2025-03-24 12:56:26.145151: W tensorflow/core/common_runtime/gpu/gpu_device.cc:1766] Cannot dlopen some GPU libraries. Please make sure the missing libraries mentioned above are installed properly if you would like to use GPU. Follow the guide at https://www.tensorflow.org/install/gpu for how to download and setup the required libraries for your platform.\n",
      "Skipping registering GPU devices...\n",
      "2025-03-24 12:56:26.145156: I tensorflow/core/common_runtime/gpu/gpu_device.cc:1258] Device interconnect StreamExecutor with strength 1 edge matrix:\n",
      "2025-03-24 12:56:26.145159: I tensorflow/core/common_runtime/gpu/gpu_device.cc:1264]      0 \n",
      "2025-03-24 12:56:26.145161: I tensorflow/core/common_runtime/gpu/gpu_device.cc:1277] 0:   N \n",
      "2025-03-24 12:56:26.148379: I tensorflow/stream_executor/cuda/cuda_gpu_executor.cc:923] could not open file to read NUMA node: /sys/bus/pci/devices/0000:01:00.0/numa_node\n",
      "Your kernel may have been built without NUMA support.\n",
      "2025-03-24 12:56:26.148391: I tensorflow/core/common_runtime/gpu/gpu_device.cc:1733] Found device 0 with properties: \n",
      "pciBusID: 0000:01:00.0 name: NVIDIA GeForce RTX 4070 Ti SUPER computeCapability: 8.9\n",
      "coreClock: 2.61GHz coreCount: 66 deviceMemorySize: 15.99GiB deviceMemoryBandwidth: 625.91GiB/s\n",
      "2025-03-24 12:56:26.148397: W tensorflow/core/common_runtime/gpu/gpu_device.cc:1766] Cannot dlopen some GPU libraries. Please make sure the missing libraries mentioned above are installed properly if you would like to use GPU. Follow the guide at https://www.tensorflow.org/install/gpu for how to download and setup the required libraries for your platform.\n",
      "Skipping registering GPU devices...\n",
      "2025-03-24 12:56:26.148402: I tensorflow/core/common_runtime/gpu/gpu_device.cc:1258] Device interconnect StreamExecutor with strength 1 edge matrix:\n",
      "2025-03-24 12:56:26.148405: I tensorflow/core/common_runtime/gpu/gpu_device.cc:1264]      0 \n",
      "2025-03-24 12:56:26.148408: I tensorflow/core/common_runtime/gpu/gpu_device.cc:1277] 0:   N \n",
      "2025-03-24 12:56:27.039340: I tensorflow/stream_executor/cuda/cuda_gpu_executor.cc:923] could not open file to read NUMA node: /sys/bus/pci/devices/0000:01:00.0/numa_node\n",
      "Your kernel may have been built without NUMA support.\n",
      "2025-03-24 12:56:27.039371: I tensorflow/core/common_runtime/gpu/gpu_device.cc:1733] Found device 0 with properties: \n",
      "pciBusID: 0000:01:00.0 name: NVIDIA GeForce RTX 4070 Ti SUPER computeCapability: 8.9\n",
      "coreClock: 2.61GHz coreCount: 66 deviceMemorySize: 15.99GiB deviceMemoryBandwidth: 625.91GiB/s\n",
      "2025-03-24 12:56:27.039379: W tensorflow/core/common_runtime/gpu/gpu_device.cc:1766] Cannot dlopen some GPU libraries. Please make sure the missing libraries mentioned above are installed properly if you would like to use GPU. Follow the guide at https://www.tensorflow.org/install/gpu for how to download and setup the required libraries for your platform.\n",
      "Skipping registering GPU devices...\n",
      "2025-03-24 12:56:27.039388: I tensorflow/core/common_runtime/gpu/gpu_device.cc:1258] Device interconnect StreamExecutor with strength 1 edge matrix:\n",
      "2025-03-24 12:56:27.039391: I tensorflow/core/common_runtime/gpu/gpu_device.cc:1264]      0 \n",
      "2025-03-24 12:56:27.039394: I tensorflow/core/common_runtime/gpu/gpu_device.cc:1277] 0:   N \n",
      "2025-03-24 12:56:27.043386: I tensorflow/stream_executor/cuda/cuda_gpu_executor.cc:923] could not open file to read NUMA node: /sys/bus/pci/devices/0000:01:00.0/numa_node\n",
      "Your kernel may have been built without NUMA support.\n",
      "2025-03-24 12:56:27.043399: I tensorflow/core/common_runtime/gpu/gpu_device.cc:1733] Found device 0 with properties: \n",
      "pciBusID: 0000:01:00.0 name: NVIDIA GeForce RTX 4070 Ti SUPER computeCapability: 8.9\n",
      "coreClock: 2.61GHz coreCount: 66 deviceMemorySize: 15.99GiB deviceMemoryBandwidth: 625.91GiB/s\n",
      "2025-03-24 12:56:27.043405: W tensorflow/core/common_runtime/gpu/gpu_device.cc:1766] Cannot dlopen some GPU libraries. Please make sure the missing libraries mentioned above are installed properly if you would like to use GPU. Follow the guide at https://www.tensorflow.org/install/gpu for how to download and setup the required libraries for your platform.\n",
      "Skipping registering GPU devices...\n",
      "2025-03-24 12:56:27.043410: I tensorflow/core/common_runtime/gpu/gpu_device.cc:1258] Device interconnect StreamExecutor with strength 1 edge matrix:\n",
      "2025-03-24 12:56:27.043413: I tensorflow/core/common_runtime/gpu/gpu_device.cc:1264]      0 \n",
      "2025-03-24 12:56:27.043416: I tensorflow/core/common_runtime/gpu/gpu_device.cc:1277] 0:   N \n",
      "2025-03-24 12:56:27.046110: I tensorflow/stream_executor/cuda/cuda_gpu_executor.cc:923] could not open file to read NUMA node: /sys/bus/pci/devices/0000:01:00.0/numa_node\n",
      "Your kernel may have been built without NUMA support.\n",
      "2025-03-24 12:56:27.046123: I tensorflow/core/common_runtime/gpu/gpu_device.cc:1733] Found device 0 with properties: \n",
      "pciBusID: 0000:01:00.0 name: NVIDIA GeForce RTX 4070 Ti SUPER computeCapability: 8.9\n",
      "coreClock: 2.61GHz coreCount: 66 deviceMemorySize: 15.99GiB deviceMemoryBandwidth: 625.91GiB/s\n",
      "2025-03-24 12:56:27.046129: W tensorflow/core/common_runtime/gpu/gpu_device.cc:1766] Cannot dlopen some GPU libraries. Please make sure the missing libraries mentioned above are installed properly if you would like to use GPU. Follow the guide at https://www.tensorflow.org/install/gpu for how to download and setup the required libraries for your platform.\n",
      "Skipping registering GPU devices...\n",
      "2025-03-24 12:56:27.046135: I tensorflow/core/common_runtime/gpu/gpu_device.cc:1258] Device interconnect StreamExecutor with strength 1 edge matrix:\n",
      "2025-03-24 12:56:27.046138: I tensorflow/core/common_runtime/gpu/gpu_device.cc:1264]      0 \n",
      "2025-03-24 12:56:27.046140: I tensorflow/core/common_runtime/gpu/gpu_device.cc:1277] 0:   N \n",
      "2025-03-24 12:56:27.049031: I tensorflow/stream_executor/cuda/cuda_gpu_executor.cc:923] could not open file to read NUMA node: /sys/bus/pci/devices/0000:01:00.0/numa_node\n",
      "Your kernel may have been built without NUMA support.\n",
      "2025-03-24 12:56:27.049043: I tensorflow/core/common_runtime/gpu/gpu_device.cc:1733] Found device 0 with properties: \n",
      "pciBusID: 0000:01:00.0 name: NVIDIA GeForce RTX 4070 Ti SUPER computeCapability: 8.9\n",
      "coreClock: 2.61GHz coreCount: 66 deviceMemorySize: 15.99GiB deviceMemoryBandwidth: 625.91GiB/s\n",
      "2025-03-24 12:56:27.049048: W tensorflow/core/common_runtime/gpu/gpu_device.cc:1766] Cannot dlopen some GPU libraries. Please make sure the missing libraries mentioned above are installed properly if you would like to use GPU. Follow the guide at https://www.tensorflow.org/install/gpu for how to download and setup the required libraries for your platform.\n",
      "Skipping registering GPU devices...\n",
      "2025-03-24 12:56:27.049053: I tensorflow/core/common_runtime/gpu/gpu_device.cc:1258] Device interconnect StreamExecutor with strength 1 edge matrix:\n",
      "2025-03-24 12:56:27.049056: I tensorflow/core/common_runtime/gpu/gpu_device.cc:1264]      0 \n",
      "2025-03-24 12:56:27.049059: I tensorflow/core/common_runtime/gpu/gpu_device.cc:1277] 0:   N \n",
      "2025-03-24 12:56:27.051651: I tensorflow/stream_executor/cuda/cuda_gpu_executor.cc:923] could not open file to read NUMA node: /sys/bus/pci/devices/0000:01:00.0/numa_node\n",
      "Your kernel may have been built without NUMA support.\n",
      "2025-03-24 12:56:27.051663: I tensorflow/core/common_runtime/gpu/gpu_device.cc:1733] Found device 0 with properties: \n",
      "pciBusID: 0000:01:00.0 name: NVIDIA GeForce RTX 4070 Ti SUPER computeCapability: 8.9\n",
      "coreClock: 2.61GHz coreCount: 66 deviceMemorySize: 15.99GiB deviceMemoryBandwidth: 625.91GiB/s\n",
      "2025-03-24 12:56:27.051669: W tensorflow/core/common_runtime/gpu/gpu_device.cc:1766] Cannot dlopen some GPU libraries. Please make sure the missing libraries mentioned above are installed properly if you would like to use GPU. Follow the guide at https://www.tensorflow.org/install/gpu for how to download and setup the required libraries for your platform.\n",
      "Skipping registering GPU devices...\n",
      "2025-03-24 12:56:27.051674: I tensorflow/core/common_runtime/gpu/gpu_device.cc:1258] Device interconnect StreamExecutor with strength 1 edge matrix:\n",
      "2025-03-24 12:56:27.051677: I tensorflow/core/common_runtime/gpu/gpu_device.cc:1264]      0 \n",
      "2025-03-24 12:56:27.051680: I tensorflow/core/common_runtime/gpu/gpu_device.cc:1277] 0:   N \n",
      "2025-03-24 12:56:27.171961: I tensorflow/stream_executor/cuda/cuda_gpu_executor.cc:923] could not open file to read NUMA node: /sys/bus/pci/devices/0000:01:00.0/numa_node\n",
      "Your kernel may have been built without NUMA support.\n",
      "2025-03-24 12:56:27.172000: I tensorflow/core/common_runtime/gpu/gpu_device.cc:1733] Found device 0 with properties: \n",
      "pciBusID: 0000:01:00.0 name: NVIDIA GeForce RTX 4070 Ti SUPER computeCapability: 8.9\n",
      "coreClock: 2.61GHz coreCount: 66 deviceMemorySize: 15.99GiB deviceMemoryBandwidth: 625.91GiB/s\n",
      "2025-03-24 12:56:27.172010: W tensorflow/core/common_runtime/gpu/gpu_device.cc:1766] Cannot dlopen some GPU libraries. Please make sure the missing libraries mentioned above are installed properly if you would like to use GPU. Follow the guide at https://www.tensorflow.org/install/gpu for how to download and setup the required libraries for your platform.\n",
      "Skipping registering GPU devices...\n",
      "2025-03-24 12:56:27.172021: I tensorflow/core/common_runtime/gpu/gpu_device.cc:1258] Device interconnect StreamExecutor with strength 1 edge matrix:\n",
      "2025-03-24 12:56:27.172025: I tensorflow/core/common_runtime/gpu/gpu_device.cc:1264]      0 \n",
      "2025-03-24 12:56:27.172028: I tensorflow/core/common_runtime/gpu/gpu_device.cc:1277] 0:   N \n",
      "2025-03-24 12:56:28.003143: I tensorflow/stream_executor/cuda/cuda_gpu_executor.cc:923] could not open file to read NUMA node: /sys/bus/pci/devices/0000:01:00.0/numa_node\n",
      "Your kernel may have been built without NUMA support.\n",
      "2025-03-24 12:56:28.003173: I tensorflow/core/common_runtime/gpu/gpu_device.cc:1733] Found device 0 with properties: \n",
      "pciBusID: 0000:01:00.0 name: NVIDIA GeForce RTX 4070 Ti SUPER computeCapability: 8.9\n",
      "coreClock: 2.61GHz coreCount: 66 deviceMemorySize: 15.99GiB deviceMemoryBandwidth: 625.91GiB/s\n",
      "2025-03-24 12:56:28.003180: W tensorflow/core/common_runtime/gpu/gpu_device.cc:1766] Cannot dlopen some GPU libraries. Please make sure the missing libraries mentioned above are installed properly if you would like to use GPU. Follow the guide at https://www.tensorflow.org/install/gpu for how to download and setup the required libraries for your platform.\n",
      "Skipping registering GPU devices...\n",
      "2025-03-24 12:56:28.003188: I tensorflow/core/common_runtime/gpu/gpu_device.cc:1258] Device interconnect StreamExecutor with strength 1 edge matrix:\n",
      "2025-03-24 12:56:28.003191: I tensorflow/core/common_runtime/gpu/gpu_device.cc:1264]      0 \n",
      "2025-03-24 12:56:28.003194: I tensorflow/core/common_runtime/gpu/gpu_device.cc:1277] 0:   N \n",
      "2025-03-24 12:56:28.007628: I tensorflow/stream_executor/cuda/cuda_gpu_executor.cc:923] could not open file to read NUMA node: /sys/bus/pci/devices/0000:01:00.0/numa_node\n",
      "Your kernel may have been built without NUMA support.\n",
      "2025-03-24 12:56:28.007641: I tensorflow/core/common_runtime/gpu/gpu_device.cc:1733] Found device 0 with properties: \n",
      "pciBusID: 0000:01:00.0 name: NVIDIA GeForce RTX 4070 Ti SUPER computeCapability: 8.9\n",
      "coreClock: 2.61GHz coreCount: 66 deviceMemorySize: 15.99GiB deviceMemoryBandwidth: 625.91GiB/s\n",
      "2025-03-24 12:56:28.007647: W tensorflow/core/common_runtime/gpu/gpu_device.cc:1766] Cannot dlopen some GPU libraries. Please make sure the missing libraries mentioned above are installed properly if you would like to use GPU. Follow the guide at https://www.tensorflow.org/install/gpu for how to download and setup the required libraries for your platform.\n",
      "Skipping registering GPU devices...\n",
      "2025-03-24 12:56:28.007652: I tensorflow/core/common_runtime/gpu/gpu_device.cc:1258] Device interconnect StreamExecutor with strength 1 edge matrix:\n",
      "2025-03-24 12:56:28.007655: I tensorflow/core/common_runtime/gpu/gpu_device.cc:1264]      0 \n",
      "2025-03-24 12:56:28.007658: I tensorflow/core/common_runtime/gpu/gpu_device.cc:1277] 0:   N \n",
      "2025-03-24 12:56:28.010856: I tensorflow/stream_executor/cuda/cuda_gpu_executor.cc:923] could not open file to read NUMA node: /sys/bus/pci/devices/0000:01:00.0/numa_node\n",
      "Your kernel may have been built without NUMA support.\n",
      "2025-03-24 12:56:28.010868: I tensorflow/core/common_runtime/gpu/gpu_device.cc:1733] Found device 0 with properties: \n",
      "pciBusID: 0000:01:00.0 name: NVIDIA GeForce RTX 4070 Ti SUPER computeCapability: 8.9\n",
      "coreClock: 2.61GHz coreCount: 66 deviceMemorySize: 15.99GiB deviceMemoryBandwidth: 625.91GiB/s\n",
      "2025-03-24 12:56:28.010873: W tensorflow/core/common_runtime/gpu/gpu_device.cc:1766] Cannot dlopen some GPU libraries. Please make sure the missing libraries mentioned above are installed properly if you would like to use GPU. Follow the guide at https://www.tensorflow.org/install/gpu for how to download and setup the required libraries for your platform.\n",
      "Skipping registering GPU devices...\n",
      "2025-03-24 12:56:28.010879: I tensorflow/core/common_runtime/gpu/gpu_device.cc:1258] Device interconnect StreamExecutor with strength 1 edge matrix:\n",
      "2025-03-24 12:56:28.010882: I tensorflow/core/common_runtime/gpu/gpu_device.cc:1264]      0 \n",
      "2025-03-24 12:56:28.010885: I tensorflow/core/common_runtime/gpu/gpu_device.cc:1277] 0:   N \n",
      "2025-03-24 12:56:28.014449: I tensorflow/stream_executor/cuda/cuda_gpu_executor.cc:923] could not open file to read NUMA node: /sys/bus/pci/devices/0000:01:00.0/numa_node\n",
      "Your kernel may have been built without NUMA support.\n",
      "2025-03-24 12:56:28.014461: I tensorflow/core/common_runtime/gpu/gpu_device.cc:1733] Found device 0 with properties: \n",
      "pciBusID: 0000:01:00.0 name: NVIDIA GeForce RTX 4070 Ti SUPER computeCapability: 8.9\n",
      "coreClock: 2.61GHz coreCount: 66 deviceMemorySize: 15.99GiB deviceMemoryBandwidth: 625.91GiB/s\n",
      "2025-03-24 12:56:28.014466: W tensorflow/core/common_runtime/gpu/gpu_device.cc:1766] Cannot dlopen some GPU libraries. Please make sure the missing libraries mentioned above are installed properly if you would like to use GPU. Follow the guide at https://www.tensorflow.org/install/gpu for how to download and setup the required libraries for your platform.\n",
      "Skipping registering GPU devices...\n",
      "2025-03-24 12:56:28.014471: I tensorflow/core/common_runtime/gpu/gpu_device.cc:1258] Device interconnect StreamExecutor with strength 1 edge matrix:\n",
      "2025-03-24 12:56:28.014474: I tensorflow/core/common_runtime/gpu/gpu_device.cc:1264]      0 \n",
      "2025-03-24 12:56:28.014477: I tensorflow/core/common_runtime/gpu/gpu_device.cc:1277] 0:   N \n"
     ]
    }
   ],
   "source": [
    "for track in music_path.iterdir():\n",
    "    song_preds = predictor.predict_all(str(track))\n",
    "    print(f\"{track}: {song_preds}\")"
   ]
  },
  {
   "cell_type": "code",
   "execution_count": 22,
   "metadata": {},
   "outputs": [],
   "source": [
    "from concurrent.futures import ThreadPoolExecutor\n",
    "\n",
    "def analyze_song_parallel(song_list, num_workers=4):\n",
    "    with ThreadPoolExecutor(max_workers=num_workers) as executor:\n",
    "        results = list(executor.map(predict_all, song_list))\n",
    "    return results"
   ]
  },
  {
   "cell_type": "code",
   "execution_count": 118,
   "metadata": {},
   "outputs": [
    {
     "name": "stdout",
     "output_type": "stream",
     "text": [
      "['Music/Crazier.flac', 'Music/CRAZY.flac', 'Music/Bad Religion.mp3', 'Music/Red Flavor.mp3']\n",
      "Vggish\n",
      "Danceability: 46.2%\n",
      "\n",
      "Vggish\n",
      "Danceability: 96.4%\n",
      "\n",
      "Vggish\n",
      "Danceability: 23.3%\n",
      "\n",
      "Vggish\n",
      "Danceability: 86.8%\n",
      "\n"
     ]
    },
    {
     "name": "stderr",
     "output_type": "stream",
     "text": [
      "2025-03-24 13:01:52.855868: I tensorflow/stream_executor/cuda/cuda_gpu_executor.cc:923] could not open file to read NUMA node: /sys/bus/pci/devices/0000:01:00.0/numa_node\n",
      "Your kernel may have been built without NUMA support.\n",
      "2025-03-24 13:01:52.855920: I tensorflow/core/common_runtime/gpu/gpu_device.cc:1733] Found device 0 with properties: \n",
      "pciBusID: 0000:01:00.0 name: NVIDIA GeForce RTX 4070 Ti SUPER computeCapability: 8.9\n",
      "coreClock: 2.61GHz coreCount: 66 deviceMemorySize: 15.99GiB deviceMemoryBandwidth: 625.91GiB/s\n",
      "2025-03-24 13:01:52.855931: W tensorflow/core/common_runtime/gpu/gpu_device.cc:1766] Cannot dlopen some GPU libraries. Please make sure the missing libraries mentioned above are installed properly if you would like to use GPU. Follow the guide at https://www.tensorflow.org/install/gpu for how to download and setup the required libraries for your platform.\n",
      "Skipping registering GPU devices...\n",
      "2025-03-24 13:01:52.855941: I tensorflow/core/common_runtime/gpu/gpu_device.cc:1258] Device interconnect StreamExecutor with strength 1 edge matrix:\n",
      "2025-03-24 13:01:52.855944: I tensorflow/core/common_runtime/gpu/gpu_device.cc:1264]      0 \n",
      "2025-03-24 13:01:52.855947: I tensorflow/core/common_runtime/gpu/gpu_device.cc:1277] 0:   N \n",
      "2025-03-24 13:01:53.715720: I tensorflow/stream_executor/cuda/cuda_gpu_executor.cc:923] could not open file to read NUMA node: /sys/bus/pci/devices/0000:01:00.0/numa_node\n",
      "Your kernel may have been built without NUMA support.\n",
      "2025-03-24 13:01:53.715751: I tensorflow/core/common_runtime/gpu/gpu_device.cc:1733] Found device 0 with properties: \n",
      "pciBusID: 0000:01:00.0 name: NVIDIA GeForce RTX 4070 Ti SUPER computeCapability: 8.9\n",
      "coreClock: 2.61GHz coreCount: 66 deviceMemorySize: 15.99GiB deviceMemoryBandwidth: 625.91GiB/s\n",
      "2025-03-24 13:01:53.715759: W tensorflow/core/common_runtime/gpu/gpu_device.cc:1766] Cannot dlopen some GPU libraries. Please make sure the missing libraries mentioned above are installed properly if you would like to use GPU. Follow the guide at https://www.tensorflow.org/install/gpu for how to download and setup the required libraries for your platform.\n",
      "Skipping registering GPU devices...\n",
      "2025-03-24 13:01:53.715768: I tensorflow/core/common_runtime/gpu/gpu_device.cc:1258] Device interconnect StreamExecutor with strength 1 edge matrix:\n",
      "2025-03-24 13:01:53.715771: I tensorflow/core/common_runtime/gpu/gpu_device.cc:1264]      0 \n",
      "2025-03-24 13:01:53.715774: I tensorflow/core/common_runtime/gpu/gpu_device.cc:1277] 0:   N \n",
      "2025-03-24 13:01:53.719104: I tensorflow/stream_executor/cuda/cuda_gpu_executor.cc:923] could not open file to read NUMA node: /sys/bus/pci/devices/0000:01:00.0/numa_node\n",
      "Your kernel may have been built without NUMA support.\n",
      "2025-03-24 13:01:53.719117: I tensorflow/core/common_runtime/gpu/gpu_device.cc:1733] Found device 0 with properties: \n",
      "pciBusID: 0000:01:00.0 name: NVIDIA GeForce RTX 4070 Ti SUPER computeCapability: 8.9\n",
      "coreClock: 2.61GHz coreCount: 66 deviceMemorySize: 15.99GiB deviceMemoryBandwidth: 625.91GiB/s\n",
      "2025-03-24 13:01:53.719122: W tensorflow/core/common_runtime/gpu/gpu_device.cc:1766] Cannot dlopen some GPU libraries. Please make sure the missing libraries mentioned above are installed properly if you would like to use GPU. Follow the guide at https://www.tensorflow.org/install/gpu for how to download and setup the required libraries for your platform.\n",
      "Skipping registering GPU devices...\n",
      "2025-03-24 13:01:53.719128: I tensorflow/core/common_runtime/gpu/gpu_device.cc:1258] Device interconnect StreamExecutor with strength 1 edge matrix:\n",
      "2025-03-24 13:01:53.719131: I tensorflow/core/common_runtime/gpu/gpu_device.cc:1264]      0 \n",
      "2025-03-24 13:01:53.719133: I tensorflow/core/common_runtime/gpu/gpu_device.cc:1277] 0:   N \n",
      "2025-03-24 13:01:53.989926: I tensorflow/stream_executor/cuda/cuda_gpu_executor.cc:923] could not open file to read NUMA node: /sys/bus/pci/devices/0000:01:00.0/numa_node\n",
      "Your kernel may have been built without NUMA support.\n",
      "2025-03-24 13:01:53.989952: I tensorflow/core/common_runtime/gpu/gpu_device.cc:1733] Found device 0 with properties: \n",
      "pciBusID: 0000:01:00.0 name: NVIDIA GeForce RTX 4070 Ti SUPER computeCapability: 8.9\n",
      "coreClock: 2.61GHz coreCount: 66 deviceMemorySize: 15.99GiB deviceMemoryBandwidth: 625.91GiB/s\n",
      "2025-03-24 13:01:53.989960: W tensorflow/core/common_runtime/gpu/gpu_device.cc:1766] Cannot dlopen some GPU libraries. Please make sure the missing libraries mentioned above are installed properly if you would like to use GPU. Follow the guide at https://www.tensorflow.org/install/gpu for how to download and setup the required libraries for your platform.\n",
      "Skipping registering GPU devices...\n",
      "2025-03-24 13:01:53.989970: I tensorflow/core/common_runtime/gpu/gpu_device.cc:1258] Device interconnect StreamExecutor with strength 1 edge matrix:\n",
      "2025-03-24 13:01:53.989975: I tensorflow/core/common_runtime/gpu/gpu_device.cc:1264]      0 \n",
      "2025-03-24 13:01:53.989981: I tensorflow/core/common_runtime/gpu/gpu_device.cc:1277] 0:   N \n",
      "2025-03-24 13:01:55.085984: I tensorflow/stream_executor/cuda/cuda_gpu_executor.cc:923] could not open file to read NUMA node: /sys/bus/pci/devices/0000:01:00.0/numa_node\n",
      "Your kernel may have been built without NUMA support.\n",
      "2025-03-24 13:01:55.086022: I tensorflow/core/common_runtime/gpu/gpu_device.cc:1733] Found device 0 with properties: \n",
      "pciBusID: 0000:01:00.0 name: NVIDIA GeForce RTX 4070 Ti SUPER computeCapability: 8.9\n",
      "coreClock: 2.61GHz coreCount: 66 deviceMemorySize: 15.99GiB deviceMemoryBandwidth: 625.91GiB/s\n",
      "2025-03-24 13:01:55.086033: W tensorflow/core/common_runtime/gpu/gpu_device.cc:1766] Cannot dlopen some GPU libraries. Please make sure the missing libraries mentioned above are installed properly if you would like to use GPU. Follow the guide at https://www.tensorflow.org/install/gpu for how to download and setup the required libraries for your platform.\n",
      "Skipping registering GPU devices...\n",
      "2025-03-24 13:01:55.086044: I tensorflow/core/common_runtime/gpu/gpu_device.cc:1258] Device interconnect StreamExecutor with strength 1 edge matrix:\n",
      "2025-03-24 13:01:55.086139: I tensorflow/core/common_runtime/gpu/gpu_device.cc:1264]      0 \n",
      "2025-03-24 13:01:55.086144: I tensorflow/core/common_runtime/gpu/gpu_device.cc:1277] 0:   N \n",
      "2025-03-24 13:01:55.089476: I tensorflow/stream_executor/cuda/cuda_gpu_executor.cc:923] could not open file to read NUMA node: /sys/bus/pci/devices/0000:01:00.0/numa_node\n",
      "Your kernel may have been built without NUMA support.\n",
      "2025-03-24 13:01:55.089490: I tensorflow/core/common_runtime/gpu/gpu_device.cc:1733] Found device 0 with properties: \n",
      "pciBusID: 0000:01:00.0 name: NVIDIA GeForce RTX 4070 Ti SUPER computeCapability: 8.9\n",
      "coreClock: 2.61GHz coreCount: 66 deviceMemorySize: 15.99GiB deviceMemoryBandwidth: 625.91GiB/s\n",
      "2025-03-24 13:01:55.089495: W tensorflow/core/common_runtime/gpu/gpu_device.cc:1766] Cannot dlopen some GPU libraries. Please make sure the missing libraries mentioned above are installed properly if you would like to use GPU. Follow the guide at https://www.tensorflow.org/install/gpu for how to download and setup the required libraries for your platform.\n",
      "Skipping registering GPU devices...\n",
      "2025-03-24 13:01:55.089501: I tensorflow/core/common_runtime/gpu/gpu_device.cc:1258] Device interconnect StreamExecutor with strength 1 edge matrix:\n",
      "2025-03-24 13:01:55.089504: I tensorflow/core/common_runtime/gpu/gpu_device.cc:1264]      0 \n",
      "2025-03-24 13:01:55.089507: I tensorflow/core/common_runtime/gpu/gpu_device.cc:1277] 0:   N \n",
      "2025-03-24 13:01:56.028499: I tensorflow/stream_executor/cuda/cuda_gpu_executor.cc:923] could not open file to read NUMA node: /sys/bus/pci/devices/0000:01:00.0/numa_node\n",
      "Your kernel may have been built without NUMA support.\n",
      "2025-03-24 13:01:56.028529: I tensorflow/core/common_runtime/gpu/gpu_device.cc:1733] Found device 0 with properties: \n",
      "pciBusID: 0000:01:00.0 name: NVIDIA GeForce RTX 4070 Ti SUPER computeCapability: 8.9\n",
      "coreClock: 2.61GHz coreCount: 66 deviceMemorySize: 15.99GiB deviceMemoryBandwidth: 625.91GiB/s\n",
      "2025-03-24 13:01:56.028537: W tensorflow/core/common_runtime/gpu/gpu_device.cc:1766] Cannot dlopen some GPU libraries. Please make sure the missing libraries mentioned above are installed properly if you would like to use GPU. Follow the guide at https://www.tensorflow.org/install/gpu for how to download and setup the required libraries for your platform.\n",
      "Skipping registering GPU devices...\n",
      "2025-03-24 13:01:56.028547: I tensorflow/core/common_runtime/gpu/gpu_device.cc:1258] Device interconnect StreamExecutor with strength 1 edge matrix:\n",
      "2025-03-24 13:01:56.028550: I tensorflow/core/common_runtime/gpu/gpu_device.cc:1264]      0 \n",
      "2025-03-24 13:01:56.028553: I tensorflow/core/common_runtime/gpu/gpu_device.cc:1277] 0:   N \n",
      "2025-03-24 13:01:56.031969: I tensorflow/stream_executor/cuda/cuda_gpu_executor.cc:923] could not open file to read NUMA node: /sys/bus/pci/devices/0000:01:00.0/numa_node\n",
      "Your kernel may have been built without NUMA support.\n",
      "2025-03-24 13:01:56.031982: I tensorflow/core/common_runtime/gpu/gpu_device.cc:1733] Found device 0 with properties: \n",
      "pciBusID: 0000:01:00.0 name: NVIDIA GeForce RTX 4070 Ti SUPER computeCapability: 8.9\n",
      "coreClock: 2.61GHz coreCount: 66 deviceMemorySize: 15.99GiB deviceMemoryBandwidth: 625.91GiB/s\n",
      "2025-03-24 13:01:56.031987: W tensorflow/core/common_runtime/gpu/gpu_device.cc:1766] Cannot dlopen some GPU libraries. Please make sure the missing libraries mentioned above are installed properly if you would like to use GPU. Follow the guide at https://www.tensorflow.org/install/gpu for how to download and setup the required libraries for your platform.\n",
      "Skipping registering GPU devices...\n",
      "2025-03-24 13:01:56.031992: I tensorflow/core/common_runtime/gpu/gpu_device.cc:1258] Device interconnect StreamExecutor with strength 1 edge matrix:\n",
      "2025-03-24 13:01:56.031995: I tensorflow/core/common_runtime/gpu/gpu_device.cc:1264]      0 \n",
      "2025-03-24 13:01:56.031998: I tensorflow/core/common_runtime/gpu/gpu_device.cc:1277] 0:   N \n"
     ]
    }
   ],
   "source": [
    "from pathlib import Path\n",
    "music_path = Path(\"Music\")\n",
    "music_list = [str(path) for path in music_path.iterdir()]\n",
    "print(music_list)\n",
    "music_features = analyze_song_parallel(music_list)"
   ]
  },
  {
   "cell_type": "code",
   "execution_count": 112,
   "metadata": {},
   "outputs": [
    {
     "data": {
      "text/plain": [
       "[0.46150574, 0.9638176, 0.23335414, 0.8676679]"
      ]
     },
     "execution_count": 112,
     "metadata": {},
     "output_type": "execute_result"
    }
   ],
   "source": [
    "music_features"
   ]
  },
  {
   "cell_type": "markdown",
   "metadata": {},
   "source": [
    "## Exploring Genre Tagging"
   ]
  },
  {
   "cell_type": "code",
   "execution_count": 68,
   "metadata": {},
   "outputs": [
    {
     "name": "stderr",
     "output_type": "stream",
     "text": [
      "2025-03-24 11:45:53.095554: I tensorflow/stream_executor/cuda/cuda_gpu_executor.cc:923] could not open file to read NUMA node: /sys/bus/pci/devices/0000:01:00.0/numa_node\n",
      "Your kernel may have been built without NUMA support.\n",
      "2025-03-24 11:45:53.095606: I tensorflow/core/common_runtime/gpu/gpu_device.cc:1733] Found device 0 with properties: \n",
      "pciBusID: 0000:01:00.0 name: NVIDIA GeForce RTX 4070 Ti SUPER computeCapability: 8.9\n",
      "coreClock: 2.61GHz coreCount: 66 deviceMemorySize: 15.99GiB deviceMemoryBandwidth: 625.91GiB/s\n",
      "2025-03-24 11:45:53.095616: W tensorflow/core/common_runtime/gpu/gpu_device.cc:1766] Cannot dlopen some GPU libraries. Please make sure the missing libraries mentioned above are installed properly if you would like to use GPU. Follow the guide at https://www.tensorflow.org/install/gpu for how to download and setup the required libraries for your platform.\n",
      "Skipping registering GPU devices...\n",
      "2025-03-24 11:45:53.095625: I tensorflow/core/common_runtime/gpu/gpu_device.cc:1258] Device interconnect StreamExecutor with strength 1 edge matrix:\n",
      "2025-03-24 11:45:53.095629: I tensorflow/core/common_runtime/gpu/gpu_device.cc:1264]      0 \n",
      "2025-03-24 11:45:53.095631: I tensorflow/core/common_runtime/gpu/gpu_device.cc:1277] 0:   N \n",
      "2025-03-24 11:45:53.096995: I tensorflow/stream_executor/cuda/cuda_gpu_executor.cc:923] could not open file to read NUMA node: /sys/bus/pci/devices/0000:01:00.0/numa_node\n",
      "Your kernel may have been built without NUMA support.\n",
      "2025-03-24 11:45:53.097007: I tensorflow/core/common_runtime/gpu/gpu_device.cc:1733] Found device 0 with properties: \n",
      "pciBusID: 0000:01:00.0 name: NVIDIA GeForce RTX 4070 Ti SUPER computeCapability: 8.9\n",
      "coreClock: 2.61GHz coreCount: 66 deviceMemorySize: 15.99GiB deviceMemoryBandwidth: 625.91GiB/s\n",
      "2025-03-24 11:45:53.097012: W tensorflow/core/common_runtime/gpu/gpu_device.cc:1766] Cannot dlopen some GPU libraries. Please make sure the missing libraries mentioned above are installed properly if you would like to use GPU. Follow the guide at https://www.tensorflow.org/install/gpu for how to download and setup the required libraries for your platform.\n",
      "Skipping registering GPU devices...\n",
      "2025-03-24 11:45:53.097017: I tensorflow/core/common_runtime/gpu/gpu_device.cc:1258] Device interconnect StreamExecutor with strength 1 edge matrix:\n",
      "2025-03-24 11:45:53.097020: I tensorflow/core/common_runtime/gpu/gpu_device.cc:1264]      0 \n",
      "2025-03-24 11:45:53.097023: I tensorflow/core/common_runtime/gpu/gpu_device.cc:1277] 0:   N \n",
      "2025-03-24 11:45:53.097581: I tensorflow/stream_executor/cuda/cuda_gpu_executor.cc:923] could not open file to read NUMA node: /sys/bus/pci/devices/0000:01:00.0/numa_node\n",
      "Your kernel may have been built without NUMA support.\n",
      "2025-03-24 11:45:53.097593: I tensorflow/core/common_runtime/gpu/gpu_device.cc:1733] Found device 0 with properties: \n",
      "pciBusID: 0000:01:00.0 name: NVIDIA GeForce RTX 4070 Ti SUPER computeCapability: 8.9\n",
      "coreClock: 2.61GHz coreCount: 66 deviceMemorySize: 15.99GiB deviceMemoryBandwidth: 625.91GiB/s\n",
      "2025-03-24 11:45:53.097598: W tensorflow/core/common_runtime/gpu/gpu_device.cc:1766] Cannot dlopen some GPU libraries. Please make sure the missing libraries mentioned above are installed properly if you would like to use GPU. Follow the guide at https://www.tensorflow.org/install/gpu for how to download and setup the required libraries for your platform.\n",
      "Skipping registering GPU devices...\n",
      "2025-03-24 11:45:53.097603: I tensorflow/core/common_runtime/gpu/gpu_device.cc:1258] Device interconnect StreamExecutor with strength 1 edge matrix:\n",
      "2025-03-24 11:45:53.097605: I tensorflow/core/common_runtime/gpu/gpu_device.cc:1264]      0 \n",
      "2025-03-24 11:45:53.097608: I tensorflow/core/common_runtime/gpu/gpu_device.cc:1277] 0:   N \n",
      "2025-03-24 11:45:53.098037: I tensorflow/stream_executor/cuda/cuda_gpu_executor.cc:923] could not open file to read NUMA node: /sys/bus/pci/devices/0000:01:00.0/numa_node\n",
      "Your kernel may have been built without NUMA support.\n",
      "2025-03-24 11:45:53.098049: I tensorflow/core/common_runtime/gpu/gpu_device.cc:1733] Found device 0 with properties: \n",
      "pciBusID: 0000:01:00.0 name: NVIDIA GeForce RTX 4070 Ti SUPER computeCapability: 8.9\n",
      "coreClock: 2.61GHz coreCount: 66 deviceMemorySize: 15.99GiB deviceMemoryBandwidth: 625.91GiB/s\n",
      "2025-03-24 11:45:53.098055: W tensorflow/core/common_runtime/gpu/gpu_device.cc:1766] Cannot dlopen some GPU libraries. Please make sure the missing libraries mentioned above are installed properly if you would like to use GPU. Follow the guide at https://www.tensorflow.org/install/gpu for how to download and setup the required libraries for your platform.\n",
      "Skipping registering GPU devices...\n",
      "2025-03-24 11:45:53.098060: I tensorflow/core/common_runtime/gpu/gpu_device.cc:1258] Device interconnect StreamExecutor with strength 1 edge matrix:\n",
      "2025-03-24 11:45:53.098063: I tensorflow/core/common_runtime/gpu/gpu_device.cc:1264]      0 \n",
      "2025-03-24 11:45:53.098066: I tensorflow/core/common_runtime/gpu/gpu_device.cc:1277] 0:   N \n",
      "2025-03-24 11:45:53.099504: I tensorflow/stream_executor/cuda/cuda_gpu_executor.cc:923] could not open file to read NUMA node: /sys/bus/pci/devices/0000:01:00.0/numa_node\n",
      "Your kernel may have been built without NUMA support.\n",
      "2025-03-24 11:45:53.099517: I tensorflow/core/common_runtime/gpu/gpu_device.cc:1733] Found device 0 with properties: \n",
      "pciBusID: 0000:01:00.0 name: NVIDIA GeForce RTX 4070 Ti SUPER computeCapability: 8.9\n",
      "coreClock: 2.61GHz coreCount: 66 deviceMemorySize: 15.99GiB deviceMemoryBandwidth: 625.91GiB/s\n",
      "2025-03-24 11:45:53.099537: W tensorflow/core/common_runtime/gpu/gpu_device.cc:1766] Cannot dlopen some GPU libraries. Please make sure the missing libraries mentioned above are installed properly if you would like to use GPU. Follow the guide at https://www.tensorflow.org/install/gpu for how to download and setup the required libraries for your platform.\n",
      "Skipping registering GPU devices...\n",
      "2025-03-24 11:45:53.099542: I tensorflow/core/common_runtime/gpu/gpu_device.cc:1258] Device interconnect StreamExecutor with strength 1 edge matrix:\n",
      "2025-03-24 11:45:53.099545: I tensorflow/core/common_runtime/gpu/gpu_device.cc:1264]      0 \n",
      "2025-03-24 11:45:53.099547: I tensorflow/core/common_runtime/gpu/gpu_device.cc:1277] 0:   N \n",
      "2025-03-24 11:45:53.100804: I tensorflow/stream_executor/cuda/cuda_gpu_executor.cc:923] could not open file to read NUMA node: /sys/bus/pci/devices/0000:01:00.0/numa_node\n",
      "Your kernel may have been built without NUMA support.\n",
      "2025-03-24 11:45:53.100816: I tensorflow/core/common_runtime/gpu/gpu_device.cc:1733] Found device 0 with properties: \n",
      "pciBusID: 0000:01:00.0 name: NVIDIA GeForce RTX 4070 Ti SUPER computeCapability: 8.9\n",
      "coreClock: 2.61GHz coreCount: 66 deviceMemorySize: 15.99GiB deviceMemoryBandwidth: 625.91GiB/s\n",
      "2025-03-24 11:45:53.100821: W tensorflow/core/common_runtime/gpu/gpu_device.cc:1766] Cannot dlopen some GPU libraries. Please make sure the missing libraries mentioned above are installed properly if you would like to use GPU. Follow the guide at https://www.tensorflow.org/install/gpu for how to download and setup the required libraries for your platform.\n",
      "Skipping registering GPU devices...\n",
      "2025-03-24 11:45:53.100826: I tensorflow/core/common_runtime/gpu/gpu_device.cc:1258] Device interconnect StreamExecutor with strength 1 edge matrix:\n",
      "2025-03-24 11:45:53.100829: I tensorflow/core/common_runtime/gpu/gpu_device.cc:1264]      0 \n",
      "2025-03-24 11:45:53.100831: I tensorflow/core/common_runtime/gpu/gpu_device.cc:1277] 0:   N \n",
      "2025-03-24 11:45:53.101904: I tensorflow/stream_executor/cuda/cuda_gpu_executor.cc:923] could not open file to read NUMA node: /sys/bus/pci/devices/0000:01:00.0/numa_node\n",
      "Your kernel may have been built without NUMA support.\n",
      "2025-03-24 11:45:53.101917: I tensorflow/core/common_runtime/gpu/gpu_device.cc:1733] Found device 0 with properties: \n",
      "pciBusID: 0000:01:00.0 name: NVIDIA GeForce RTX 4070 Ti SUPER computeCapability: 8.9\n",
      "coreClock: 2.61GHz coreCount: 66 deviceMemorySize: 15.99GiB deviceMemoryBandwidth: 625.91GiB/s\n",
      "2025-03-24 11:45:53.101922: W tensorflow/core/common_runtime/gpu/gpu_device.cc:1766] Cannot dlopen some GPU libraries. Please make sure the missing libraries mentioned above are installed properly if you would like to use GPU. Follow the guide at https://www.tensorflow.org/install/gpu for how to download and setup the required libraries for your platform.\n",
      "Skipping registering GPU devices...\n",
      "2025-03-24 11:45:53.101928: I tensorflow/core/common_runtime/gpu/gpu_device.cc:1258] Device interconnect StreamExecutor with strength 1 edge matrix:\n",
      "2025-03-24 11:45:53.101931: I tensorflow/core/common_runtime/gpu/gpu_device.cc:1264]      0 \n",
      "2025-03-24 11:45:53.101933: I tensorflow/core/common_runtime/gpu/gpu_device.cc:1277] 0:   N \n",
      "2025-03-24 11:45:53.112631: I tensorflow/stream_executor/cuda/cuda_gpu_executor.cc:923] could not open file to read NUMA node: /sys/bus/pci/devices/0000:01:00.0/numa_node\n",
      "Your kernel may have been built without NUMA support.\n",
      "2025-03-24 11:45:53.112644: I tensorflow/core/common_runtime/gpu/gpu_device.cc:1733] Found device 0 with properties: \n",
      "pciBusID: 0000:01:00.0 name: NVIDIA GeForce RTX 4070 Ti SUPER computeCapability: 8.9\n",
      "coreClock: 2.61GHz coreCount: 66 deviceMemorySize: 15.99GiB deviceMemoryBandwidth: 625.91GiB/s\n",
      "2025-03-24 11:45:53.112649: W tensorflow/core/common_runtime/gpu/gpu_device.cc:1766] Cannot dlopen some GPU libraries. Please make sure the missing libraries mentioned above are installed properly if you would like to use GPU. Follow the guide at https://www.tensorflow.org/install/gpu for how to download and setup the required libraries for your platform.\n",
      "Skipping registering GPU devices...\n",
      "2025-03-24 11:45:53.112654: I tensorflow/core/common_runtime/gpu/gpu_device.cc:1258] Device interconnect StreamExecutor with strength 1 edge matrix:\n",
      "2025-03-24 11:45:53.112657: I tensorflow/core/common_runtime/gpu/gpu_device.cc:1264]      0 \n",
      "2025-03-24 11:45:53.112660: I tensorflow/core/common_runtime/gpu/gpu_device.cc:1277] 0:   N \n"
     ]
    }
   ],
   "source": [
    "audio = MonoLoader(filename=\"Music/Red Flavor.mp3\", sampleRate=16000, resampleQuality=4)()\n",
    "embeddings = effnet_embedding_model(audio)\n",
    "\n",
    "genre_model = TensorflowPredict2D(graphFilename=\"Models/genre_discogs400-discogs-effnet-1.pb\", input=\"serving_default_model_Placeholder\", output=\"PartitionedCall:0\")\n",
    "predictions = genre_model(embeddings)"
   ]
  },
  {
   "cell_type": "code",
   "execution_count": 69,
   "metadata": {},
   "outputs": [
    {
     "name": "stdout",
     "output_type": "stream",
     "text": [
      "dict_keys(['name', 'type', 'link', 'version', 'description', 'author', 'email', 'release_date', 'framework', 'framework_version', 'classes', 'model_types', 'dataset', 'schema', 'citation', 'inference'])\n"
     ]
    }
   ],
   "source": [
    "import json\n",
    "genre_probs = np.mean(predictions, axis=0)\n",
    "with open('Models/genre_discogs400-discogs-effnet-1.json', 'r') as json_file:\n",
    "    metadata = json.load(json_file)\n",
    "print(metadata.keys())"
   ]
  },
  {
   "cell_type": "code",
   "execution_count": 70,
   "metadata": {},
   "outputs": [
    {
     "data": {
      "text/html": [
       "<div>\n",
       "<style scoped>\n",
       "    .dataframe tbody tr th:only-of-type {\n",
       "        vertical-align: middle;\n",
       "    }\n",
       "\n",
       "    .dataframe tbody tr th {\n",
       "        vertical-align: top;\n",
       "    }\n",
       "\n",
       "    .dataframe thead th {\n",
       "        text-align: right;\n",
       "    }\n",
       "</style>\n",
       "<table border=\"1\" class=\"dataframe\">\n",
       "  <thead>\n",
       "    <tr style=\"text-align: right;\">\n",
       "      <th></th>\n",
       "      <th>class</th>\n",
       "      <th>probs</th>\n",
       "    </tr>\n",
       "  </thead>\n",
       "  <tbody>\n",
       "    <tr>\n",
       "      <th>286</th>\n",
       "      <td>Pop---K-pop</td>\n",
       "      <td>0.755690</td>\n",
       "    </tr>\n",
       "    <tr>\n",
       "      <th>47</th>\n",
       "      <td>Electronic---Dance-pop</td>\n",
       "      <td>0.283809</td>\n",
       "    </tr>\n",
       "    <tr>\n",
       "      <th>278</th>\n",
       "      <td>Pop---Ballad</td>\n",
       "      <td>0.158018</td>\n",
       "    </tr>\n",
       "    <tr>\n",
       "      <th>125</th>\n",
       "      <td>Electronic---Synth-pop</td>\n",
       "      <td>0.116176</td>\n",
       "    </tr>\n",
       "    <tr>\n",
       "      <th>134</th>\n",
       "      <td>Electronic---Tropical House</td>\n",
       "      <td>0.078773</td>\n",
       "    </tr>\n",
       "    <tr>\n",
       "      <th>280</th>\n",
       "      <td>Pop---Bubblegum</td>\n",
       "      <td>0.060578</td>\n",
       "    </tr>\n",
       "    <tr>\n",
       "      <th>285</th>\n",
       "      <td>Pop---J-pop</td>\n",
       "      <td>0.044203</td>\n",
       "    </tr>\n",
       "    <tr>\n",
       "      <th>63</th>\n",
       "      <td>Electronic---Electro</td>\n",
       "      <td>0.043568</td>\n",
       "    </tr>\n",
       "    <tr>\n",
       "      <th>91</th>\n",
       "      <td>Electronic---House</td>\n",
       "      <td>0.042588</td>\n",
       "    </tr>\n",
       "    <tr>\n",
       "      <th>166</th>\n",
       "      <td>Funk / Soul---Contemporary R&amp;B</td>\n",
       "      <td>0.031440</td>\n",
       "    </tr>\n",
       "  </tbody>\n",
       "</table>\n",
       "</div>"
      ],
      "text/plain": [
       "                              class     probs\n",
       "286                     Pop---K-pop  0.755690\n",
       "47           Electronic---Dance-pop  0.283809\n",
       "278                    Pop---Ballad  0.158018\n",
       "125          Electronic---Synth-pop  0.116176\n",
       "134     Electronic---Tropical House  0.078773\n",
       "280                 Pop---Bubblegum  0.060578\n",
       "285                     Pop---J-pop  0.044203\n",
       "63             Electronic---Electro  0.043568\n",
       "91               Electronic---House  0.042588\n",
       "166  Funk / Soul---Contemporary R&B  0.031440"
      ]
     },
     "execution_count": 70,
     "metadata": {},
     "output_type": "execute_result"
    }
   ],
   "source": [
    "# metadata['classes']\n",
    "import pandas as pd\n",
    "probs_df = pd.DataFrame({\n",
    "    'class': metadata['classes'],\n",
    "    'probs': genre_probs\n",
    "    })\n",
    "probs_df.sort_values(by=\"probs\", ascending=False)[:10]"
   ]
  },
  {
   "cell_type": "code",
   "execution_count": 12,
   "metadata": {},
   "outputs": [
    {
     "name": "stderr",
     "output_type": "stream",
     "text": [
      "WARNING: [youtube] pYKPJl1PIIw: Signature extraction failed: Some formats may be missing\n"
     ]
    },
    {
     "name": "stdout",
     "output_type": "stream",
     "text": [
      "                                                                         \r"
     ]
    }
   ],
   "source": [
    "import download_audio\n",
    "song, artist = \"DDU-DU DDU-DU\", \"BLACKPINK\"\n",
    "file_path = download_audio.search_and_download_audio(song, artist)\n",
    "# yt_pred = predict_all(file_path)\n",
    "# download_audio.play_audio(file_path)"
   ]
  },
  {
   "cell_type": "code",
   "execution_count": null,
   "metadata": {},
   "outputs": [],
   "source": [
    "from essentia.standard import MonoLoader, TensorflowPredictMusiCNN, TensorflowPredict2D, KeyExtractor\n",
    "\n",
    "audio = MonoLoader(filename=file_path, sampleRate=16000, resampleQuality=0)()\n",
    "key, scale, strength = KeyExtractor()(audio)\n",
    "# embedding_model = TensorflowPredictMusiCNN(graphFilename=\"msd-musicnn-1.pb\", output=\"model/dense/BiasAdd\")\n",
    "# embeddings = embedding_model(audio)\n",
    "\n",
    "# model = TensorflowPredict2D(graphFilename=\"mood_sad-msd-musicnn-1.pb\", output=\"model/Softmax\")\n",
    "# predictions = model(embeddings)\n"
   ]
  },
  {
   "cell_type": "code",
   "execution_count": 20,
   "metadata": {},
   "outputs": [
    {
     "data": {
      "text/plain": [
       "('Bb', 'minor', 0.8639519810676575)"
      ]
     },
     "execution_count": 20,
     "metadata": {},
     "output_type": "execute_result"
    }
   ],
   "source": [
    "key, scale, strength"
   ]
  },
  {
   "cell_type": "code",
   "execution_count": 22,
   "metadata": {},
   "outputs": [
    {
     "data": {
      "text/plain": [
       "{'vggish_dance': 90.76996445655823,\n",
       " 'vggish_party': 22.6128488779068,\n",
       " 'vggish_happy': 66.56695008277893,\n",
       " 'vggish_sad': 77.31754779815674,\n",
       " 'effnet_party': 5.31119592487812,\n",
       " 'effnet_happy': 56.56581521034241,\n",
       " 'effnet_sad': 94.32440996170044,\n",
       " 'effnet_approachability': 67.33772158622742,\n",
       " 'effnet_engagement': 97.53063321113586,\n",
       " 'effnet_timbre_bright': 48.63938093185425,\n",
       " 'tempo': 140.0}"
      ]
     },
     "execution_count": 22,
     "metadata": {},
     "output_type": "execute_result"
    }
   ],
   "source": [
    "yt_pred"
   ]
  },
  {
   "cell_type": "code",
   "execution_count": 33,
   "metadata": {},
   "outputs": [
    {
     "name": "stderr",
     "output_type": "stream",
     "text": [
      "WARNING: [youtube] dp1KCxEvgAU: Signature extraction failed: Some formats may be missing\n"
     ]
    },
    {
     "name": "stdout",
     "output_type": "stream",
     "text": [
      "                                                                         \r"
     ]
    },
    {
     "name": "stderr",
     "output_type": "stream",
     "text": [
      "WARNING: [youtube] JOaexSYZuVQ: Signature extraction failed: Some formats may be missing\n"
     ]
    },
    {
     "name": "stdout",
     "output_type": "stream",
     "text": [
      "[download]  77.6% of ~   3.29MiB at    1.35MiB/s ETA 00:01 (frag 32/40)  Downloaded: 피카부 Peek-A-Boo by Red Velvet -> /tmp/피카부 Peek-A-Boo_Red Velvet.wav\n",
      "                                                                       \r"
     ]
    },
    {
     "name": "stderr",
     "output_type": "stream",
     "text": [
      "WARNING: [youtube] VrQWxC7kBlo: Signature extraction failed: Some formats may be missing\n"
     ]
    },
    {
     "name": "stdout",
     "output_type": "stream",
     "text": [
      "                                                                         \r"
     ]
    },
    {
     "name": "stderr",
     "output_type": "stream",
     "text": [
      "WARNING: [youtube] Y3DI2SojC2k: Signature extraction failed: Some formats may be missing\n"
     ]
    },
    {
     "name": "stdout",
     "output_type": "stream",
     "text": [
      "Downloaded: 빨간 맛 Red Flavor by Red Velvet -> /tmp/빨간 맛 Red Flavor_Red Velvet.wav\n",
      "Downloaded: Sunrise by GFRIEND -> /tmp/Sunrise_GFRIEND.wav\n",
      "Downloaded: LATATA by (G)I-DLE -> /tmp/LATATA_(G)I-DLE.wav\n"
     ]
    }
   ],
   "source": [
    "import download_audio\n",
    "\n",
    "song_batch = [(\"피카부 Peek-A-Boo\", \"Red Velvet\"), (\"빨간 맛 Red Flavor\", \"Red Velvet\"), (\"Sunrise\", \"GFRIEND\"), (\"LATATA\", \"(G)I-DLE\")]\n",
    "files_batch = download_audio.batch_download_songs(song_list=song_batch)"
   ]
  },
  {
   "cell_type": "code",
   "execution_count": 34,
   "metadata": {},
   "outputs": [
    {
     "data": {
      "text/plain": [
       "['/tmp/피카부 Peek-A-Boo_Red Velvet.wav',\n",
       " '/tmp/빨간 맛 Red Flavor_Red Velvet.wav',\n",
       " '/tmp/Sunrise_GFRIEND.wav',\n",
       " '/tmp/LATATA_(G)I-DLE.wav']"
      ]
     },
     "execution_count": 34,
     "metadata": {},
     "output_type": "execute_result"
    }
   ],
   "source": [
    "files_batch"
   ]
  },
  {
   "cell_type": "code",
   "execution_count": 35,
   "metadata": {},
   "outputs": [
    {
     "name": "stdout",
     "output_type": "stream",
     "text": [
      "Predictions for /tmp/피카부 Peek-A-Boo_Red Velvet.wav\n"
     ]
    },
    {
     "name": "stderr",
     "output_type": "stream",
     "text": [
      "2025-03-25 17:58:02.667442: W tensorflow/core/common_runtime/gpu/gpu_device.cc:1766] Cannot dlopen some GPU libraries. Please make sure the missing libraries mentioned above are installed properly if you would like to use GPU. Follow the guide at https://www.tensorflow.org/install/gpu for how to download and setup the required libraries for your platform.\n",
      "Skipping registering GPU devices...\n",
      "2025-03-25 17:58:02.671352: W tensorflow/core/common_runtime/gpu/gpu_device.cc:1766] Cannot dlopen some GPU libraries. Please make sure the missing libraries mentioned above are installed properly if you would like to use GPU. Follow the guide at https://www.tensorflow.org/install/gpu for how to download and setup the required libraries for your platform.\n",
      "Skipping registering GPU devices...\n",
      "2025-03-25 17:58:02.674244: W tensorflow/core/common_runtime/gpu/gpu_device.cc:1766] Cannot dlopen some GPU libraries. Please make sure the missing libraries mentioned above are installed properly if you would like to use GPU. Follow the guide at https://www.tensorflow.org/install/gpu for how to download and setup the required libraries for your platform.\n",
      "Skipping registering GPU devices...\n",
      "2025-03-25 17:58:02.677095: W tensorflow/core/common_runtime/gpu/gpu_device.cc:1766] Cannot dlopen some GPU libraries. Please make sure the missing libraries mentioned above are installed properly if you would like to use GPU. Follow the guide at https://www.tensorflow.org/install/gpu for how to download and setup the required libraries for your platform.\n",
      "Skipping registering GPU devices...\n",
      "2025-03-25 17:58:02.679828: W tensorflow/core/common_runtime/gpu/gpu_device.cc:1766] Cannot dlopen some GPU libraries. Please make sure the missing libraries mentioned above are installed properly if you would like to use GPU. Follow the guide at https://www.tensorflow.org/install/gpu for how to download and setup the required libraries for your platform.\n",
      "Skipping registering GPU devices...\n",
      "2025-03-25 17:58:03.464005: W tensorflow/core/common_runtime/gpu/gpu_device.cc:1766] Cannot dlopen some GPU libraries. Please make sure the missing libraries mentioned above are installed properly if you would like to use GPU. Follow the guide at https://www.tensorflow.org/install/gpu for how to download and setup the required libraries for your platform.\n",
      "Skipping registering GPU devices...\n",
      "2025-03-25 17:58:03.471064: W tensorflow/core/common_runtime/gpu/gpu_device.cc:1766] Cannot dlopen some GPU libraries. Please make sure the missing libraries mentioned above are installed properly if you would like to use GPU. Follow the guide at https://www.tensorflow.org/install/gpu for how to download and setup the required libraries for your platform.\n",
      "Skipping registering GPU devices...\n",
      "2025-03-25 17:58:03.474751: W tensorflow/core/common_runtime/gpu/gpu_device.cc:1766] Cannot dlopen some GPU libraries. Please make sure the missing libraries mentioned above are installed properly if you would like to use GPU. Follow the guide at https://www.tensorflow.org/install/gpu for how to download and setup the required libraries for your platform.\n",
      "Skipping registering GPU devices...\n",
      "2025-03-25 17:58:03.478873: W tensorflow/core/common_runtime/gpu/gpu_device.cc:1766] Cannot dlopen some GPU libraries. Please make sure the missing libraries mentioned above are installed properly if you would like to use GPU. Follow the guid"
     ]
    },
    {
     "name": "stdout",
     "output_type": "stream",
     "text": [
      "Predictions for /tmp/빨간 맛 Red Flavor_Red Velvet.wav\n"
     ]
    },
    {
     "name": "stderr",
     "output_type": "stream",
     "text": [
      "e at https://www.tensorflow.org/install/gpu for how to download and setup the required libraries for your platform.\n",
      "Skipping registering GPU devices...\n",
      "2025-03-25 17:58:03.482919: W tensorflow/core/common_runtime/gpu/gpu_device.cc:1766] Cannot dlopen some GPU libraries. Please make sure the missing libraries mentioned above are installed properly if you would like to use GPU. Follow the guide at https://www.tensorflow.org/install/gpu for how to download and setup the required libraries for your platform.\n",
      "Skipping registering GPU devices...\n",
      "2025-03-25 17:58:03.486587: W tensorflow/core/common_runtime/gpu/gpu_device.cc:1766] Cannot dlopen some GPU libraries. Please make sure the missing libraries mentioned above are installed properly if you would like to use GPU. Follow the guide at https://www.tensorflow.org/install/gpu for how to download and setup the required libraries for your platform.\n",
      "Skipping registering GPU devices...\n",
      "2025-03-25 17:58:03.490336: W tensorflow/core/common_runtime/gpu/gpu_device.cc:1766] Cannot dlopen some GPU libraries. Please make sure the missing libraries mentioned above are installed properly if you would like to use GPU. Follow the guide at https://www.tensorflow.org/install/gpu for how to download and setup the required libraries for your platform.\n",
      "Skipping registering GPU devices...\n",
      "2025-03-25 17:58:03.969219: W tensorflow/core/common_runtime/gpu/gpu_device.cc:1766] Cannot dlopen some GPU libraries. Please make sure the missing libraries mentioned above are installed properly if you would like to use GPU. Follow the guide at https://www.tensorflow.org/install/gpu for how to download and setup the required libraries for your platform.\n",
      "Skipping registering GPU devices...\n",
      "2025-03-25 17:58:09.440933: W tensorflow/core/common_runtime/gpu/gpu_device.cc:1766] Cannot dlopen some GPU libraries. Please make sure the missing libraries mentioned above are installed properly if you would like to use GPU. Follow the guide at https://www.tensorflow.org/install/gpu for how to download and setup the required libraries for your platform.\n",
      "Skipping registering GPU devices...\n",
      "2025-03-25 17:58:09.444625: W tensorflow/core/common_runtime/gpu/gpu_device.cc:1766] Cannot dlopen some GPU libraries. Please make sure the missing libraries mentioned above are installed properly if you would like to use GPU. Follow the guide at https://www.tensorflow.org/install/gpu for how to download and setup the required libraries for your platform.\n",
      "Skipping registering GPU devices...\n",
      "2025-03-25 17:58:09.447432: W tensorflow/core/common_runtime/gpu/gpu_device.cc:1766] Cannot dlopen some GPU libraries. Please make sure the missing libraries mentioned above are installed properly if you would like to use GPU. Follow the guide at https://www.tensorflow.org/install/gpu for how to download and setup the required libraries for your platform.\n",
      "Skipping registering GPU devices...\n",
      "2025-03-25 17:58:09.450507: W tensorflow/core/common_runtime/gpu/gpu_device.cc:1766] Cannot dlopen some GPU libraries. Please make sure the missing libraries mentioned above are installed properly if you would like to use GPU. Follow the guide at https://www.tensorflow.org/install/gpu for how to download and setup the required libraries for your platform.\n",
      "Skipping registering GPU devices...\n",
      "2025-03-25 17:58:09.453314: W tensorflow/core/common_runtime/gpu/gpu_device.cc:1766] Cannot dlopen some GPU libraries. Please make sure the missing libraries mentioned above are installed properly if you would like to use GPU. Follow the guide at https://www.tensorflow.org/install/gpu for how to download and setup the required libraries for your platform.\n",
      "Skipping registering GPU devices...\n",
      "2025-03-25 17:58:10.249204: W tensorflow/core/common_runtime/gpu/gpu_device.cc:1766] Cannot dlopen some GPU libraries. Please make sure the missing libraries mentioned above are installed properly if you would like to use GPU. Follow the guide at https://www.tensorflow.org/install/gpu for how to download and setup the required libraries for your platform.\n",
      "Skipping registering GPU devices...\n",
      "2025-03-25 17:58:10.253571: W tensorflow/core/common_runtime/gpu/gpu_device.cc:1766] Cannot dlopen some GPU libraries. Please make sure the missing libraries mentioned above are installed properly if you would like to use GPU. Follow the guide at https://www.tensorflow.org/install/gpu for how to download and setup the required libraries for your platform.\n",
      "Skipping registering GPU devices...\n",
      "2025-03-25 17:58:10.257310: W tensorflow/core/common_runtime/gpu/gpu_device.cc:1766] Cannot dlopen some GPU libraries. Please make sure the missing libraries mentioned above are installed properly if you would like to use GPU. Follow the guide at https://www.tensorflow.org/install/gpu for how to download and setup the required libraries for your platform.\n",
      "Skipping registering GPU devices...\n",
      "2025-03-25 17:58:10.261471: W tensorflow/core/common_runtime/gpu/gpu_device.cc:1766] Cannot dlopen some GPU libraries. Please make sure the missing libraries mentioned above are installed properly if you would like to use GPU. Follow the guide at https://www.tensorflow.org/install/gpu for how to download and setup the required libraries for your platform.\n",
      "Skipping registering GPU devices...\n",
      "2025-03-25 17:58:10.265039: W tensorflow/core/common_runtime/gpu/gpu_device.cc:1766] Cannot dlopen some GPU libraries. Please make sure the missing libraries mentioned above are installed properly if you would like to use GPU. Follow the guide at https://www.tensorflow.org/install/gpu for how to download and setup the required libraries for your platform.\n",
      "Skipping registering GPU devices...\n",
      "2025-03-25 17:58:10.268906: W tensorflow/core/common_runtime/gpu/gpu_device.cc:1766] Cannot dlopen some GPU libraries. Please make sure the missing libraries mentioned above are installed properly if you would like to use GPU. Follow the guide at https://www.tensorflow.org/install/gpu for how to download and setup the required libraries for your platform.\n",
      "Skipping registering GPU devices...\n",
      "2025-03-25 17:58:10.272318: W tensorflow/core/common_runtime/gpu/gpu_device.cc:1766] Cannot dlopen some GPU libraries. Please make sure the missing libraries mentioned above are installed properly if you would like to use GPU. Follow the guide at https://www.tensorflow.org/install/gpu for how to download and setup the required libraries for your platform.\n",
      "Skipping registering GPU devices...\n",
      "2025-03-25 17:58:10.754800: W tensorflow/core/common_runtime/gpu/gpu_device.cc:1766] Cannot dlopen some GPU libraries. Please make sure the missing libraries mentioned above are installed properly if you would like to use GPU. Follow the guide at https://www.tensorflow.org/install/gpu for how to download and setup the required libraries for your platform.\n",
      "Skipping registering GPU devices...\n"
     ]
    },
    {
     "name": "stdout",
     "output_type": "stream",
     "text": [
      "Predictions for /tmp/Sunrise_GFRIEND.wav\n"
     ]
    },
    {
     "name": "stderr",
     "output_type": "stream",
     "text": [
      "2025-03-25 17:58:16.190945: W tensorflow/core/common_runtime/gpu/gpu_device.cc:1766] Cannot dlopen some GPU libraries. Please make sure the missing libraries mentioned above are installed properly if you would like to use GPU. Follow the guide at https://www.tensorflow.org/install/gpu for how to download and setup the required libraries for your platform.\n",
      "Skipping registering GPU devices...\n",
      "2025-03-25 17:58:16.194986: W tensorflow/core/common_runtime/gpu/gpu_device.cc:1766] Cannot dlopen some GPU libraries. Please make sure the missing libraries mentioned above are installed properly if you would like to use GPU. Follow the guide at https://www.tensorflow.org/install/gpu for how to download and setup the required libraries for your platform.\n",
      "Skipping registering GPU devices...\n",
      "2025-03-25 17:58:16.197921: W tensorflow/core/common_runtime/gpu/gpu_device.cc:1766] Cannot dlopen some GPU libraries. Please make sure the missing libraries mentioned above are installed properly if you would like to use GPU. Follow the guide at https://www.tensorflow.org/install/gpu for how to download and setup the required libraries for your platform.\n",
      "Skipping registering GPU devices...\n",
      "2025-03-25 17:58:16.200892: W tensorflow/core/common_runtime/gpu/gpu_device.cc:1766] Cannot dlopen some GPU libraries. Please make sure the missing libraries mentioned above are installed properly if you would like to use GPU. Follow the guide at https://www.tensorflow.org/install/gpu for how to download and setup the required libraries for your platform.\n",
      "Skipping registering GPU devices...\n",
      "2025-03-25 17:58:16.203747: W tensorflow/core/common_runtime/gpu/gpu_device.cc:1766] Cannot dlopen some GPU libraries. Please make sure the missing libraries mentioned above are installed properly if you would like to use GPU. Follow the guide at https://www.tensorflow.org/install/gpu for how to download and setup the required libraries for your platform.\n",
      "Skipping registering GPU devices...\n",
      "2025-03-25 17:58:17.208966: W tensorflow/core/common_runtime/gpu/gpu_device.cc:1766] Cannot dlopen some GPU libraries. Please make sure the missing libraries mentioned above are installed properly if you would like to use GPU. Follow the guide at https://www.tensorflow.org/install/gpu for how to download and setup the required libraries for your platform.\n",
      "Skipping registering GPU devices...\n",
      "2025-03-25 17:58:17.213719: W tensorflow/core/common_runtime/gpu/gpu_device.cc:1766] Cannot dlopen some GPU libraries. Please make sure the missing libraries mentioned above are installed properly if you would like to use GPU. Follow the guide at https://www.tensorflow.org/install/gpu for how to download and setup the required libraries for your platform.\n",
      "Skipping registering GPU devices...\n",
      "2025-03-25 17:58:17.217659: W tensorflow/core/common_runtime/gpu/gpu_device.cc:1766] Cannot dlopen some GPU libraries. Please make sure the missing libraries mentioned above are installed properly if you would like to use GPU. Follow the guide at https://www.tensorflow.org/install/gpu for how to download and setup the required libraries for your platform.\n",
      "Skipping registering GPU devices...\n",
      "2025-03-25 17:58:17.221842: W tensorflow/core/common_runtime/gpu/gpu_device.cc:1766] Cannot dlopen some GPU libraries. Please make sure the missing libraries mentioned above are installed properly if you would like to use GPU. Follow the guide at https://www.tensorflow.org/install/gpu for how to download and setup the required libraries for your platform.\n",
      "Skipping registering GPU devices...\n",
      "2025-03-25 17:58:17.225954: W tensorflow/core/common_runtime/gpu/gpu_device.cc:1766] Cannot dlopen some GPU libraries. Please make sure the missing libraries mentioned above are installed properly if you would like to use GPU. Follow the guide at https://www.tensorflow.org/install/gpu for how to download and setup the required libraries for your platform.\n",
      "Skipping registering GPU devices...\n",
      "2025-03-25 17:58:17.230038: W tensorflow/core/common_runtime/gpu/gpu_device.cc:1766] Cannot dlopen some GPU libraries. Please make sure the missing libraries mentioned above are installed properly if you would like to use GPU. Follow the guide at https://www.tensorflow.org/install/gpu for how to download and setup the required libraries for your platform.\n",
      "Skipping registering GPU devices...\n",
      "2025-03-25 17:58:17.233907: W tensorflow/core/common_runtime/gpu/gpu_device.cc:1766] Cannot dlopen some GPU libraries. Please make sure the missing libraries mentioned above are installed properly if you would like to use GPU. Follow the guide at https://www.tensorflow.org/install/gpu for how to download and setup the required libraries for your platform.\n",
      "Skipping registering GPU devices...\n",
      "2025-03-25 17:58:17.816927: W tensorflow/core/common_runtime/gpu/gpu_device.cc:1766] Cannot dlopen some GPU libraries. Please make sure the missing libraries mentioned above are installed properly if you would like to use GPU. Follow the guide at https://www.tensorflow.org/install/gpu for how to download and setup the required libraries for your platform.\n",
      "Skipping registering GPU devices...\n",
      "2025-03-25 17:58:23.677499: W tensorflow/core/common_runtime/gpu/gpu_device.cc:1766] Cannot dlopen some GPU libraries. Please make sure the missing libraries mentioned above are installed properly if you would like to use GPU. Follow the guide at https://www.tensorflow.org/install/gpu for how to download and setup the required libraries for your platform.\n",
      "Skipping registering GPU devices...\n",
      "2025-03-25 17:58:23.681216: W tensorflow/core/common_runtime/gpu/gpu_device.cc:1766] Cannot dlopen some GPU libraries. Please make sure the missing libraries mentioned above are installed properly if you would like to use GPU. Follow the guide at https://www.tensorflow.org/install/gpu for how to download and setup the required libraries for your platform.\n",
      "Skipping registering GPU devices...\n",
      "2025-03-25 17:58:23.684074: W tensorflow/core/common_runtime/gpu/gpu_device.cc:1766] Cannot dlopen some GPU libraries. Please make sure the missing libraries mentioned above are installed properly if you would like to use GPU. Follow the guide at https://www.tensorflow.org/install/gpu for how to download and setup the required libraries for your platform.\n",
      "Skipping registering GPU devices...\n",
      "2025-03-25 17:58:23.687199: W tensorflow/core/common_runtime/gpu/gpu_device.cc:1766] Cannot dlopen some GPU libraries. Please make sure the missing libraries mentioned above are installed properly if you would like to use GPU. Follow the guide at https://www.tensorflow.org/install/gpu for how to download and setup the required libraries for your platform.\n",
      "Skipping registering GPU devices...\n",
      "2025-03-25 17:58:23.690278: W tensorflow/core/common_runtime/gpu/gpu_device.cc:1766] Cannot dlopen some GPU libraries. Please make sure the missing libraries mentioned above are installed properly if you would like to use GPU. Follow the guide at https://www.tensorflow.org/install/gpu for how to download and setup the required libraries for your platform.\n",
      "Skipping registering GPU devices...\n",
      "2025-03-25 17:58:24.717004: W tensorflow/core/common_runtime/gpu/gpu_device.cc:1766] Cannot dlopen some GPU libraries. Please make sure the missing libraries mentioned above are installed properly if you would like to use GPU. Follow the guide at https://www.tensorflow.org/install/gpu for how to downl"
     ]
    },
    {
     "name": "stdout",
     "output_type": "stream",
     "text": [
      "Predictions for /tmp/LATATA_(G)I-DLE.wav\n"
     ]
    },
    {
     "name": "stderr",
     "output_type": "stream",
     "text": [
      "oad and setup the required libraries for your platform.\n",
      "Skipping registering GPU devices...\n",
      "2025-03-25 17:58:24.721624: W tensorflow/core/common_runtime/gpu/gpu_device.cc:1766] Cannot dlopen some GPU libraries. Please make sure the missing libraries mentioned above are installed properly if you would like to use GPU. Follow the guide at https://www.tensorflow.org/install/gpu for how to download and setup the required libraries for your platform.\n",
      "Skipping registering GPU devices...\n",
      "2025-03-25 17:58:24.725504: W tensorflow/core/common_runtime/gpu/gpu_device.cc:1766] Cannot dlopen some GPU libraries. Please make sure the missing libraries mentioned above are installed properly if you would like to use GPU. Follow the guide at https://www.tensorflow.org/install/gpu for how to download and setup the required libraries for your platform.\n",
      "Skipping registering GPU devices...\n",
      "2025-03-25 17:58:24.729997: W tensorflow/core/common_runtime/gpu/gpu_device.cc:1766] Cannot dlopen some GPU libraries. Please make sure the missing libraries mentioned above are installed properly if you would like to use GPU. Follow the guide at https://www.tensorflow.org/install/gpu for how to download and setup the required libraries for your platform.\n",
      "Skipping registering GPU devices...\n",
      "2025-03-25 17:58:24.733939: W tensorflow/core/common_runtime/gpu/gpu_device.cc:1766] Cannot dlopen some GPU libraries. Please make sure the missing libraries mentioned above are installed properly if you would like to use GPU. Follow the guide at https://www.tensorflow.org/install/gpu for how to download and setup the required libraries for your platform.\n",
      "Skipping registering GPU devices...\n",
      "2025-03-25 17:58:24.738252: W tensorflow/core/common_runtime/gpu/gpu_device.cc:1766] Cannot dlopen some GPU libraries. Please make sure the missing libraries mentioned above are installed properly if you would like to use GPU. Follow the guide at https://www.tensorflow.org/install/gpu for how to download and setup the required libraries for your platform.\n",
      "Skipping registering GPU devices...\n",
      "2025-03-25 17:58:24.742068: W tensorflow/core/common_runtime/gpu/gpu_device.cc:1766] Cannot dlopen some GPU libraries. Please make sure the missing libraries mentioned above are installed properly if you would like to use GPU. Follow the guide at https://www.tensorflow.org/install/gpu for how to download and setup the required libraries for your platform.\n",
      "Skipping registering GPU devices...\n",
      "2025-03-25 17:58:25.266524: W tensorflow/core/common_runtime/gpu/gpu_device.cc:1766] Cannot dlopen some GPU libraries. Please make sure the missing libraries mentioned above are installed properly if you would like to use GPU. Follow the guide at https://www.tensorflow.org/install/gpu for how to download and setup the required libraries for your platform.\n",
      "Skipping registering GPU devices...\n"
     ]
    }
   ],
   "source": [
    "results = {}\n",
    "for file in files_batch:\n",
    "    print(f'Predictions for {file}')\n",
    "    results[file] = (predict_all(file))"
   ]
  },
  {
   "cell_type": "code",
   "execution_count": 36,
   "metadata": {},
   "outputs": [
    {
     "data": {
      "text/plain": [
       "{'/tmp/피카부 Peek-A-Boo_Red Velvet.wav': {'vggish_dance': 96.09702229499817,\n",
       "  'vggish_party': 11.518637835979462,\n",
       "  'vggish_happy': 76.75144672393799,\n",
       "  'vggish_sad': 86.43117547035217,\n",
       "  'effnet_party': 2.510114200413227,\n",
       "  'effnet_happy': 52.96717882156372,\n",
       "  'effnet_sad': 91.46500825881958,\n",
       "  'effnet_approachability': 84.73002314567566,\n",
       "  'effnet_engagement': 95.5964744091034,\n",
       "  'effnet_timbre_bright': 49.96837675571442,\n",
       "  'tempo': 115.0},\n",
       " '/tmp/빨간 맛 Red Flavor_Red Velvet.wav': {'vggish_dance': 88.29360604286194,\n",
       "  'vggish_party': 18.932001292705536,\n",
       "  'vggish_happy': 79.50311303138733,\n",
       "  'vggish_sad': 81.12900257110596,\n",
       "  'effnet_party': 3.963465243577957,\n",
       "  'effnet_happy': 72.73421287536621,\n",
       "  'effnet_sad': 90.094393491745,\n",
       "  'effnet_approachability': 90.41330814361572,\n",
       "  'effnet_engagement': 95.88048458099365,\n",
       "  'effnet_timbre_bright': 48.504793643951416,\n",
       "  'tempo': 125.0},\n",
       " '/tmp/Sunrise_GFRIEND.wav': {'vggish_dance': 75.79963207244873,\n",
       "  'vggish_party': 45.268407464027405,\n",
       "  'vggish_happy': 68.36094856262207,\n",
       "  'vggish_sad': 58.82805585861206,\n",
       "  'effnet_party': 12.937319278717041,\n",
       "  'effnet_happy': 46.19187414646149,\n",
       "  'effnet_sad': 80.72835206985474,\n",
       "  'effnet_approachability': 94.99699473381042,\n",
       "  'effnet_engagement': 92.78168082237244,\n",
       "  'effnet_timbre_bright': 52.30642557144165,\n",
       "  'tempo': 174.0},\n",
       " '/tmp/LATATA_(G)I-DLE.wav': {'vggish_dance': 91.29001498222351,\n",
       "  'vggish_party': 21.446236968040466,\n",
       "  'vggish_happy': 77.4939775466919,\n",
       "  'vggish_sad': 78.37687730789185,\n",
       "  'effnet_party': 2.7786914259195328,\n",
       "  'effnet_happy': 37.77147829532623,\n",
       "  'effnet_sad': 87.67022490501404,\n",
       "  'effnet_approachability': 92.29002594947815,\n",
       "  'effnet_engagement': 94.64013576507568,\n",
       "  'effnet_timbre_bright': 48.82800877094269,\n",
       "  'tempo': 98.0}}"
      ]
     },
     "execution_count": 36,
     "metadata": {},
     "output_type": "execute_result"
    }
   ],
   "source": [
    "results"
   ]
  },
  {
   "cell_type": "code",
   "execution_count": 1,
   "metadata": {},
   "outputs": [
    {
     "data": {
      "text/html": [
       "<div>\n",
       "<style scoped>\n",
       "    .dataframe tbody tr th:only-of-type {\n",
       "        vertical-align: middle;\n",
       "    }\n",
       "\n",
       "    .dataframe tbody tr th {\n",
       "        vertical-align: top;\n",
       "    }\n",
       "\n",
       "    .dataframe thead th {\n",
       "        text-align: right;\n",
       "    }\n",
       "</style>\n",
       "<table border=\"1\" class=\"dataframe\">\n",
       "  <thead>\n",
       "    <tr style=\"text-align: right;\">\n",
       "      <th></th>\n",
       "      <th>genre</th>\n",
       "      <th>artist_name</th>\n",
       "      <th>track_name</th>\n",
       "      <th>track_id</th>\n",
       "      <th>popularity</th>\n",
       "      <th>acousticness</th>\n",
       "      <th>danceability</th>\n",
       "      <th>duration_ms</th>\n",
       "      <th>energy</th>\n",
       "      <th>instrumentalness</th>\n",
       "      <th>key</th>\n",
       "      <th>liveness</th>\n",
       "      <th>loudness</th>\n",
       "      <th>mode</th>\n",
       "      <th>speechiness</th>\n",
       "      <th>tempo</th>\n",
       "      <th>time_signature</th>\n",
       "      <th>valence</th>\n",
       "      <th>girl_group</th>\n",
       "    </tr>\n",
       "  </thead>\n",
       "  <tbody>\n",
       "    <tr>\n",
       "      <th>0</th>\n",
       "      <td>Dance</td>\n",
       "      <td>ITZY</td>\n",
       "      <td>달라달라 DALLA DALLA</td>\n",
       "      <td>6G7DuXoSGeAf6BZivJdEjF</td>\n",
       "      <td>82</td>\n",
       "      <td>0.00116</td>\n",
       "      <td>0.790</td>\n",
       "      <td>199874</td>\n",
       "      <td>0.853</td>\n",
       "      <td>0.000042</td>\n",
       "      <td>B</td>\n",
       "      <td>0.3290</td>\n",
       "      <td>-4.564</td>\n",
       "      <td>Minor</td>\n",
       "      <td>0.0665</td>\n",
       "      <td>124.998</td>\n",
       "      <td>4/4</td>\n",
       "      <td>0.713</td>\n",
       "      <td>True</td>\n",
       "    </tr>\n",
       "    <tr>\n",
       "      <th>1</th>\n",
       "      <td>Dance</td>\n",
       "      <td>ITZY</td>\n",
       "      <td>WANT IT?</td>\n",
       "      <td>2O0QAxPowM2bQq9ibwbSZy</td>\n",
       "      <td>64</td>\n",
       "      <td>0.04280</td>\n",
       "      <td>0.745</td>\n",
       "      <td>200303</td>\n",
       "      <td>0.951</td>\n",
       "      <td>0.003860</td>\n",
       "      <td>F</td>\n",
       "      <td>0.2030</td>\n",
       "      <td>-2.425</td>\n",
       "      <td>Major</td>\n",
       "      <td>0.0527</td>\n",
       "      <td>127.957</td>\n",
       "      <td>4/4</td>\n",
       "      <td>0.606</td>\n",
       "      <td>True</td>\n",
       "    </tr>\n",
       "    <tr>\n",
       "      <th>2</th>\n",
       "      <td>Dance</td>\n",
       "      <td>Girls' Generation</td>\n",
       "      <td>Lion Heart</td>\n",
       "      <td>405SQUJdQut02dxtuQ0CZ3</td>\n",
       "      <td>60</td>\n",
       "      <td>0.12900</td>\n",
       "      <td>0.754</td>\n",
       "      <td>224258</td>\n",
       "      <td>0.788</td>\n",
       "      <td>0.002740</td>\n",
       "      <td>D</td>\n",
       "      <td>0.0775</td>\n",
       "      <td>-3.175</td>\n",
       "      <td>Major</td>\n",
       "      <td>0.0322</td>\n",
       "      <td>124.992</td>\n",
       "      <td>4/4</td>\n",
       "      <td>0.961</td>\n",
       "      <td>False</td>\n",
       "    </tr>\n",
       "    <tr>\n",
       "      <th>3</th>\n",
       "      <td>Dance</td>\n",
       "      <td>ITZY</td>\n",
       "      <td>달라달라 (DALLA DALLA)</td>\n",
       "      <td>0GU5GuJQQEnnREO2FxnVPT</td>\n",
       "      <td>59</td>\n",
       "      <td>0.00116</td>\n",
       "      <td>0.790</td>\n",
       "      <td>199874</td>\n",
       "      <td>0.853</td>\n",
       "      <td>0.000042</td>\n",
       "      <td>B</td>\n",
       "      <td>0.3290</td>\n",
       "      <td>-4.564</td>\n",
       "      <td>Minor</td>\n",
       "      <td>0.0665</td>\n",
       "      <td>124.998</td>\n",
       "      <td>4/4</td>\n",
       "      <td>0.713</td>\n",
       "      <td>True</td>\n",
       "    </tr>\n",
       "    <tr>\n",
       "      <th>4</th>\n",
       "      <td>Dance</td>\n",
       "      <td>Girls' Generation</td>\n",
       "      <td>I GOT A BOY</td>\n",
       "      <td>2WkPfNd237yc0l5KewCDpp</td>\n",
       "      <td>55</td>\n",
       "      <td>0.03420</td>\n",
       "      <td>0.502</td>\n",
       "      <td>271326</td>\n",
       "      <td>0.863</td>\n",
       "      <td>0.000000</td>\n",
       "      <td>E</td>\n",
       "      <td>0.5380</td>\n",
       "      <td>-1.273</td>\n",
       "      <td>Minor</td>\n",
       "      <td>0.2720</td>\n",
       "      <td>97.911</td>\n",
       "      <td>4/4</td>\n",
       "      <td>0.527</td>\n",
       "      <td>False</td>\n",
       "    </tr>\n",
       "    <tr>\n",
       "      <th>...</th>\n",
       "      <td>...</td>\n",
       "      <td>...</td>\n",
       "      <td>...</td>\n",
       "      <td>...</td>\n",
       "      <td>...</td>\n",
       "      <td>...</td>\n",
       "      <td>...</td>\n",
       "      <td>...</td>\n",
       "      <td>...</td>\n",
       "      <td>...</td>\n",
       "      <td>...</td>\n",
       "      <td>...</td>\n",
       "      <td>...</td>\n",
       "      <td>...</td>\n",
       "      <td>...</td>\n",
       "      <td>...</td>\n",
       "      <td>...</td>\n",
       "      <td>...</td>\n",
       "      <td>...</td>\n",
       "    </tr>\n",
       "    <tr>\n",
       "      <th>122</th>\n",
       "      <td>Pop</td>\n",
       "      <td>BTS</td>\n",
       "      <td>Hold Me Tight</td>\n",
       "      <td>08eReCl8B3bV1GA247IGc2</td>\n",
       "      <td>61</td>\n",
       "      <td>0.05110</td>\n",
       "      <td>0.631</td>\n",
       "      <td>274992</td>\n",
       "      <td>0.728</td>\n",
       "      <td>0.000000</td>\n",
       "      <td>F#</td>\n",
       "      <td>0.1710</td>\n",
       "      <td>-5.111</td>\n",
       "      <td>Major</td>\n",
       "      <td>0.2840</td>\n",
       "      <td>139.977</td>\n",
       "      <td>4/4</td>\n",
       "      <td>0.395</td>\n",
       "      <td>False</td>\n",
       "    </tr>\n",
       "    <tr>\n",
       "      <th>123</th>\n",
       "      <td>Pop</td>\n",
       "      <td>BTS</td>\n",
       "      <td>Attack on Bangtan</td>\n",
       "      <td>2BNuFV7ROaRHu2j3N6k729</td>\n",
       "      <td>62</td>\n",
       "      <td>0.20200</td>\n",
       "      <td>0.719</td>\n",
       "      <td>246526</td>\n",
       "      <td>0.962</td>\n",
       "      <td>0.000000</td>\n",
       "      <td>B</td>\n",
       "      <td>0.1650</td>\n",
       "      <td>-2.555</td>\n",
       "      <td>Minor</td>\n",
       "      <td>0.2650</td>\n",
       "      <td>117.999</td>\n",
       "      <td>4/4</td>\n",
       "      <td>0.669</td>\n",
       "      <td>False</td>\n",
       "    </tr>\n",
       "    <tr>\n",
       "      <th>124</th>\n",
       "      <td>Pop</td>\n",
       "      <td>BTS</td>\n",
       "      <td>Love Is Not Over (Full Length Edition)</td>\n",
       "      <td>3p5PbT7QMSQpTG5X1qUqk1</td>\n",
       "      <td>61</td>\n",
       "      <td>0.12400</td>\n",
       "      <td>0.462</td>\n",
       "      <td>221620</td>\n",
       "      <td>0.577</td>\n",
       "      <td>0.000000</td>\n",
       "      <td>D</td>\n",
       "      <td>0.1270</td>\n",
       "      <td>-5.089</td>\n",
       "      <td>Major</td>\n",
       "      <td>0.0846</td>\n",
       "      <td>102.972</td>\n",
       "      <td>4/4</td>\n",
       "      <td>0.278</td>\n",
       "      <td>False</td>\n",
       "    </tr>\n",
       "    <tr>\n",
       "      <th>125</th>\n",
       "      <td>Pop</td>\n",
       "      <td>BTS</td>\n",
       "      <td>Tomorrow</td>\n",
       "      <td>1n99s09TM651WSXOMxyoHF</td>\n",
       "      <td>61</td>\n",
       "      <td>0.00941</td>\n",
       "      <td>0.311</td>\n",
       "      <td>261575</td>\n",
       "      <td>0.887</td>\n",
       "      <td>0.000000</td>\n",
       "      <td>C#</td>\n",
       "      <td>0.2810</td>\n",
       "      <td>-2.578</td>\n",
       "      <td>Minor</td>\n",
       "      <td>0.2770</td>\n",
       "      <td>175.483</td>\n",
       "      <td>3/4</td>\n",
       "      <td>0.627</td>\n",
       "      <td>False</td>\n",
       "    </tr>\n",
       "    <tr>\n",
       "      <th>126</th>\n",
       "      <td>Pop</td>\n",
       "      <td>BTS</td>\n",
       "      <td>N.O</td>\n",
       "      <td>1hehPTlSVIhHEvCkVoe4HX</td>\n",
       "      <td>62</td>\n",
       "      <td>0.03890</td>\n",
       "      <td>0.594</td>\n",
       "      <td>209752</td>\n",
       "      <td>0.914</td>\n",
       "      <td>0.000000</td>\n",
       "      <td>B</td>\n",
       "      <td>0.4570</td>\n",
       "      <td>-3.764</td>\n",
       "      <td>Minor</td>\n",
       "      <td>0.1670</td>\n",
       "      <td>146.885</td>\n",
       "      <td>4/4</td>\n",
       "      <td>0.571</td>\n",
       "      <td>False</td>\n",
       "    </tr>\n",
       "  </tbody>\n",
       "</table>\n",
       "<p>127 rows × 19 columns</p>\n",
       "</div>"
      ],
      "text/plain": [
       "     genre        artist_name                              track_name  \\\n",
       "0    Dance               ITZY                        달라달라 DALLA DALLA   \n",
       "1    Dance               ITZY                                WANT IT?   \n",
       "2    Dance  Girls' Generation                              Lion Heart   \n",
       "3    Dance               ITZY                      달라달라 (DALLA DALLA)   \n",
       "4    Dance  Girls' Generation                             I GOT A BOY   \n",
       "..     ...                ...                                     ...   \n",
       "122    Pop                BTS                           Hold Me Tight   \n",
       "123    Pop                BTS                       Attack on Bangtan   \n",
       "124    Pop                BTS  Love Is Not Over (Full Length Edition)   \n",
       "125    Pop                BTS                                Tomorrow   \n",
       "126    Pop                BTS                                     N.O   \n",
       "\n",
       "                   track_id  popularity  acousticness  danceability  \\\n",
       "0    6G7DuXoSGeAf6BZivJdEjF          82       0.00116         0.790   \n",
       "1    2O0QAxPowM2bQq9ibwbSZy          64       0.04280         0.745   \n",
       "2    405SQUJdQut02dxtuQ0CZ3          60       0.12900         0.754   \n",
       "3    0GU5GuJQQEnnREO2FxnVPT          59       0.00116         0.790   \n",
       "4    2WkPfNd237yc0l5KewCDpp          55       0.03420         0.502   \n",
       "..                      ...         ...           ...           ...   \n",
       "122  08eReCl8B3bV1GA247IGc2          61       0.05110         0.631   \n",
       "123  2BNuFV7ROaRHu2j3N6k729          62       0.20200         0.719   \n",
       "124  3p5PbT7QMSQpTG5X1qUqk1          61       0.12400         0.462   \n",
       "125  1n99s09TM651WSXOMxyoHF          61       0.00941         0.311   \n",
       "126  1hehPTlSVIhHEvCkVoe4HX          62       0.03890         0.594   \n",
       "\n",
       "     duration_ms  energy  instrumentalness key  liveness  loudness   mode  \\\n",
       "0         199874   0.853          0.000042   B    0.3290    -4.564  Minor   \n",
       "1         200303   0.951          0.003860   F    0.2030    -2.425  Major   \n",
       "2         224258   0.788          0.002740   D    0.0775    -3.175  Major   \n",
       "3         199874   0.853          0.000042   B    0.3290    -4.564  Minor   \n",
       "4         271326   0.863          0.000000   E    0.5380    -1.273  Minor   \n",
       "..           ...     ...               ...  ..       ...       ...    ...   \n",
       "122       274992   0.728          0.000000  F#    0.1710    -5.111  Major   \n",
       "123       246526   0.962          0.000000   B    0.1650    -2.555  Minor   \n",
       "124       221620   0.577          0.000000   D    0.1270    -5.089  Major   \n",
       "125       261575   0.887          0.000000  C#    0.2810    -2.578  Minor   \n",
       "126       209752   0.914          0.000000   B    0.4570    -3.764  Minor   \n",
       "\n",
       "     speechiness    tempo time_signature  valence  girl_group  \n",
       "0         0.0665  124.998            4/4    0.713        True  \n",
       "1         0.0527  127.957            4/4    0.606        True  \n",
       "2         0.0322  124.992            4/4    0.961       False  \n",
       "3         0.0665  124.998            4/4    0.713        True  \n",
       "4         0.2720   97.911            4/4    0.527       False  \n",
       "..           ...      ...            ...      ...         ...  \n",
       "122       0.2840  139.977            4/4    0.395       False  \n",
       "123       0.2650  117.999            4/4    0.669       False  \n",
       "124       0.0846  102.972            4/4    0.278       False  \n",
       "125       0.2770  175.483            3/4    0.627       False  \n",
       "126       0.1670  146.885            4/4    0.571       False  \n",
       "\n",
       "[127 rows x 19 columns]"
      ]
     },
     "execution_count": 1,
     "metadata": {},
     "output_type": "execute_result"
    }
   ],
   "source": [
    "import pandas as pd\n",
    "\n",
    "danceability_df = pd.read_csv('kpop_danceability_df.csv')\n",
    "danceability_df"
   ]
  },
  {
   "cell_type": "markdown",
   "metadata": {},
   "source": [
    "## Attempt to download tracks for dataset"
   ]
  },
  {
   "cell_type": "code",
   "execution_count": 3,
   "metadata": {},
   "outputs": [],
   "source": [
    "mode_key_cols = [\"artist_name\", \"track_name\", \"key\", \"mode\"]\n",
    "check_gg_mode_key = danceability_df.loc[:, mode_key_cols]\n",
    "\n",
    "def find_mode_key(file_path):\n",
    "    audio = MonoLoader(filename=file_path, sampleRate=16000, resampleQuality=0)()\n",
    "    key, scale, strength = KeyExtractor()(audio)\n",
    "    return key, scale\n",
    "def download_songs(song_name, artist_name):\n",
    "    return download_audio.search_and_download_audio(song_name, artist_name)"
   ]
  },
  {
   "cell_type": "code",
   "execution_count": 4,
   "metadata": {},
   "outputs": [
    {
     "name": "stderr",
     "output_type": "stream",
     "text": [
      "WARNING: [youtube] A4IMQ81_46w: Signature extraction failed: Some formats may be missing\n",
      "WARNING: [youtube] uzt5RZKi3iI: Signature extraction failed: Some formats may be missing\n",
      "WARNING: [youtube] uzt5RZKi3iI: Signature extraction failed: Some formats may be missing\n"
     ]
    },
    {
     "name": "stdout",
     "output_type": "stream",
     "text": [
      "                                                                         \r"
     ]
    },
    {
     "name": "stderr",
     "output_type": "stream",
     "text": [
      "WARNING: [youtube] UMfJoFnR4Ew: Signature extraction failed: Some formats may be missing\n"
     ]
    },
    {
     "name": "stdout",
     "output_type": "stream",
     "text": [
      "                                                                         \r"
     ]
    },
    {
     "name": "stderr",
     "output_type": "stream",
     "text": [
      "WARNING: [youtube] xFszPGxSNhY: Signature extraction failed: Some formats may be missing\n"
     ]
    },
    {
     "name": "stdout",
     "output_type": "stream",
     "text": [
      "                                                                         \r"
     ]
    },
    {
     "name": "stderr",
     "output_type": "stream",
     "text": [
      "WARNING: [youtube] rLPpn1HMBS8: Signature extraction failed: Some formats may be missing\n"
     ]
    },
    {
     "name": "stdout",
     "output_type": "stream",
     "text": [
      "[download]  27.4% of ~   3.93MiB at  389.32KiB/s ETA 00:08 (frag 13/44) "
     ]
    },
    {
     "name": "stderr",
     "output_type": "stream",
     "text": [
      "WARNING: [youtube] 8eC-mFWpppQ: Signature extraction failed: Some formats may be missing\n"
     ]
    },
    {
     "name": "stdout",
     "output_type": "stream",
     "text": [
      "[download]  32.0% of ~   3.90MiB at  417.48KiB/s ETA 00:07 (frag 15/44)"
     ]
    },
    {
     "name": "stderr",
     "output_type": "stream",
     "text": [
      "WARNING: [youtube] gzWo1I4Scow: Signature extraction failed: Some formats may be missing\n"
     ]
    },
    {
     "name": "stdout",
     "output_type": "stream",
     "text": [
      "                                                                         \r"
     ]
    },
    {
     "name": "stderr",
     "output_type": "stream",
     "text": [
      "WARNING: [youtube] Qr2D1UNc93A: Signature extraction failed: Some formats may be missing\n"
     ]
    },
    {
     "name": "stdout",
     "output_type": "stream",
     "text": [
      "[download]  75.8% of ~   3.18MiB at  596.07KiB/s ETA 00:02 (frag 29/37) "
     ]
    },
    {
     "name": "stderr",
     "output_type": "stream",
     "text": [
      "WARNING: [youtube] t5VcnE2xKpo: Signature extraction failed: Some formats may be missing\n"
     ]
    },
    {
     "name": "stdout",
     "output_type": "stream",
     "text": [
      "                                                                         \r"
     ]
    },
    {
     "name": "stderr",
     "output_type": "stream",
     "text": [
      "WARNING: [youtube] 9k9El-VNtyI: Signature extraction failed: Some formats may be missing\n",
      "WARNING: [youtube] 0tWU94w_3ig: Signature extraction failed: Some formats may be missing\n"
     ]
    },
    {
     "name": "stdout",
     "output_type": "stream",
     "text": [
      "                                                                         \r"
     ]
    },
    {
     "name": "stderr",
     "output_type": "stream",
     "text": [
      "WARNING: [youtube] pYKPJl1PIIw: Signature extraction failed: Some formats may be missing\n"
     ]
    },
    {
     "name": "stdout",
     "output_type": "stream",
     "text": [
      "                                                                         \r"
     ]
    },
    {
     "name": "stderr",
     "output_type": "stream",
     "text": [
      "WARNING: [youtube] iKe70q941vg: Signature extraction failed: Some formats may be missing\n"
     ]
    },
    {
     "name": "stdout",
     "output_type": "stream",
     "text": [
      "[download]   9.7% of ~   4.21MiB at  350.32KiB/s ETA Unknown (frag 5/43)"
     ]
    },
    {
     "name": "stderr",
     "output_type": "stream",
     "text": [
      "WARNING: [youtube] ec873NIGDH8: Signature extraction failed: Some formats may be missing\n"
     ]
    },
    {
     "name": "stdout",
     "output_type": "stream",
     "text": [
      "[download]  97.0% of ~   3.48MiB at    1.18MiB/s ETA 00:01 (frag 31/33) "
     ]
    },
    {
     "name": "stderr",
     "output_type": "stream",
     "text": [
      "WARNING: [youtube] GNRXeJwWK0o: Signature extraction failed: Some formats may be missing\n"
     ]
    },
    {
     "name": "stdout",
     "output_type": "stream",
     "text": [
      "                                                                         \r"
     ]
    },
    {
     "name": "stderr",
     "output_type": "stream",
     "text": [
      "WARNING: [youtube] J-zcLaJjo-8: Signature extraction failed: Some formats may be missing\n"
     ]
    },
    {
     "name": "stdout",
     "output_type": "stream",
     "text": [
      "                                                                         \r"
     ]
    },
    {
     "name": "stderr",
     "output_type": "stream",
     "text": [
      "WARNING: [youtube] SxAvr92fRg4: Signature extraction failed: Some formats may be missing\n"
     ]
    },
    {
     "name": "stdout",
     "output_type": "stream",
     "text": [
      "[download]  34.6% of ~   3.78MiB at    1.47MiB/s ETA Unknown (frag 12/32)"
     ]
    },
    {
     "name": "stderr",
     "output_type": "stream",
     "text": [
      "WARNING: [youtube] Y4Zpm41f1VQ: Signature extraction failed: Some formats may be missing\n"
     ]
    },
    {
     "name": "stdout",
     "output_type": "stream",
     "text": [
      "[download]  76.4% of ~   4.38MiB at    1.41MiB/s ETA 00:01 (frag 43/55)  "
     ]
    },
    {
     "name": "stderr",
     "output_type": "stream",
     "text": [
      "WARNING: [youtube] vMRxHpcKjEY: Signature extraction failed: Some formats may be missing\n"
     ]
    },
    {
     "name": "stdout",
     "output_type": "stream",
     "text": [
      "                                                                         \r"
     ]
    },
    {
     "name": "stderr",
     "output_type": "stream",
     "text": [
      "WARNING: [youtube] gSsCZJM6OG0: Signature extraction failed: Some formats may be missing\n",
      "WARNING: [youtube] 64q9zY13PVc: Signature extraction failed: Some formats may be missing\n"
     ]
    },
    {
     "name": "stdout",
     "output_type": "stream",
     "text": [
      "                                                                         \r"
     ]
    },
    {
     "name": "stderr",
     "output_type": "stream",
     "text": [
      "WARNING: [youtube] NC_Lo8nRqfA: Signature extraction failed: Some formats may be missing\n"
     ]
    },
    {
     "name": "stdout",
     "output_type": "stream",
     "text": [
      "                                                                         \r"
     ]
    },
    {
     "name": "stderr",
     "output_type": "stream",
     "text": [
      "WARNING: [youtube] fzRIjAi9BkY: Signature extraction failed: Some formats may be missing\n"
     ]
    },
    {
     "name": "stdout",
     "output_type": "stream",
     "text": [
      "                                                                         \r"
     ]
    },
    {
     "name": "stderr",
     "output_type": "stream",
     "text": [
      "WARNING: [youtube] IaVfMF-jtT8: Signature extraction failed: Some formats may be missing\n"
     ]
    },
    {
     "name": "stdout",
     "output_type": "stream",
     "text": [
      "[download]  26.7% of ~   2.86MiB at    1.18MiB/s ETA Unknown (frag 7/30)"
     ]
    },
    {
     "name": "stderr",
     "output_type": "stream",
     "text": [
      "WARNING: [youtube] dyXhcS04MVY: Signature extraction failed: Some formats may be missing\n"
     ]
    },
    {
     "name": "stdout",
     "output_type": "stream",
     "text": [
      "                                                                         \r"
     ]
    },
    {
     "name": "stderr",
     "output_type": "stream",
     "text": [
      "WARNING: [youtube] husJE0_Y_FQ: Signature extraction failed: Some formats may be missing\n"
     ]
    },
    {
     "name": "stdout",
     "output_type": "stream",
     "text": [
      "[download]  57.5% of ~   3.88MiB at    1.24MiB/s ETA 00:01 (frag 28/47)  "
     ]
    },
    {
     "name": "stderr",
     "output_type": "stream",
     "text": [
      "WARNING: [youtube] 5gq_Ee89nY4: Signature extraction failed: Some formats may be missing\n"
     ]
    },
    {
     "name": "stdout",
     "output_type": "stream",
     "text": [
      "                                                                         \r"
     ]
    },
    {
     "name": "stderr",
     "output_type": "stream",
     "text": [
      "WARNING: [youtube] kwaOkrBWW5s: Signature extraction failed: Some formats may be missing\n"
     ]
    },
    {
     "name": "stdout",
     "output_type": "stream",
     "text": [
      "                                                                         \r"
     ]
    },
    {
     "name": "stderr",
     "output_type": "stream",
     "text": [
      "WARNING: [youtube] KOYar7UmX_Y: Signature extraction failed: Some formats may be missing\n"
     ]
    },
    {
     "name": "stdout",
     "output_type": "stream",
     "text": [
      "[download]  86.4% of ~   3.52MiB at    1.31MiB/s ETA 00:01 (frag 39/44)  "
     ]
    },
    {
     "name": "stderr",
     "output_type": "stream",
     "text": [
      "WARNING: [youtube] zz1MkneRm6A: Signature extraction failed: Some formats may be missing\n"
     ]
    },
    {
     "name": "stdout",
     "output_type": "stream",
     "text": [
      "                                                                         \r"
     ]
    },
    {
     "name": "stderr",
     "output_type": "stream",
     "text": [
      "WARNING: [youtube] -gibBYpzZbI: Signature extraction failed: Some formats may be missing\n"
     ]
    },
    {
     "name": "stdout",
     "output_type": "stream",
     "text": [
      "                                                                         \r"
     ]
    },
    {
     "name": "stderr",
     "output_type": "stream",
     "text": [
      "WARNING: [youtube] -QCp2nHYxe0: Signature extraction failed: Some formats may be missing\n"
     ]
    },
    {
     "name": "stdout",
     "output_type": "stream",
     "text": [
      "                                                                         \r"
     ]
    },
    {
     "name": "stderr",
     "output_type": "stream",
     "text": [
      "WARNING: [youtube] BmzAGDnJzss: Signature extraction failed: Some formats may be missing\n"
     ]
    },
    {
     "name": "stdout",
     "output_type": "stream",
     "text": [
      "[download]  34.6% of ~   2.85MiB at    1.28MiB/s ETA Unknown (frag 9/29)"
     ]
    },
    {
     "name": "stderr",
     "output_type": "stream",
     "text": [
      "WARNING: [youtube] uyWm8DUK06M: Signature extraction failed: Some formats may be missing\n"
     ]
    },
    {
     "name": "stdout",
     "output_type": "stream",
     "text": [
      "[download] 100.0% of ~   3.06MiB at    1.85MiB/s ETA 00:00 (frag 28/29)) "
     ]
    },
    {
     "name": "stderr",
     "output_type": "stream",
     "text": [
      "WARNING: [youtube] ITc-om9SVr4: Signature extraction failed: Some formats may be missing\n"
     ]
    },
    {
     "name": "stdout",
     "output_type": "stream",
     "text": [
      "                                                                         \r"
     ]
    },
    {
     "name": "stderr",
     "output_type": "stream",
     "text": [
      "WARNING: [youtube] 0A9YtG8aWaw: Signature extraction failed: Some formats may be missing\n"
     ]
    },
    {
     "name": "stdout",
     "output_type": "stream",
     "text": [
      "                                                                         \r"
     ]
    },
    {
     "name": "stderr",
     "output_type": "stream",
     "text": [
      "WARNING: [youtube] 4DCOsbO27oY: Signature extraction failed: Some formats may be missing\n"
     ]
    },
    {
     "name": "stdout",
     "output_type": "stream",
     "text": [
      "[download]   9.7% of ~   4.12MiB at  606.41KiB/s ETA Unknown (frag 5/43)"
     ]
    },
    {
     "name": "stderr",
     "output_type": "stream",
     "text": [
      "WARNING: [youtube] UAAhXOuqqdY: Signature extraction failed: Some formats may be missing\n"
     ]
    },
    {
     "name": "stdout",
     "output_type": "stream",
     "text": [
      "                                                                         \r"
     ]
    },
    {
     "name": "stderr",
     "output_type": "stream",
     "text": [
      "WARNING: [youtube] nscFXO1-Ftc: Signature extraction failed: Some formats may be missing\n"
     ]
    },
    {
     "name": "stdout",
     "output_type": "stream",
     "text": [
      "                                                                         \r"
     ]
    },
    {
     "name": "stderr",
     "output_type": "stream",
     "text": [
      "WARNING: [youtube] dp1KCxEvgAU: Signature extraction failed: Some formats may be missing\n"
     ]
    },
    {
     "name": "stdout",
     "output_type": "stream",
     "text": [
      "                                                                         \r"
     ]
    },
    {
     "name": "stderr",
     "output_type": "stream",
     "text": [
      "WARNING: [youtube] LTz8NjNQp-s: Signature extraction failed: Some formats may be missing\n"
     ]
    },
    {
     "name": "stdout",
     "output_type": "stream",
     "text": [
      "                                                                         \r"
     ]
    },
    {
     "name": "stderr",
     "output_type": "stream",
     "text": [
      "WARNING: [youtube] jyw2Vs_WQJE: Signature extraction failed: Some formats may be missing\n",
      "WARNING: [youtube] -ThId6ZWqsE: Signature extraction failed: Some formats may be missing\n"
     ]
    },
    {
     "name": "stdout",
     "output_type": "stream",
     "text": [
      "                                                                         \r"
     ]
    },
    {
     "name": "stderr",
     "output_type": "stream",
     "text": [
      "WARNING: [youtube] EBf6lwkChnQ: Signature extraction failed: Some formats may be missing\n"
     ]
    },
    {
     "name": "stdout",
     "output_type": "stream",
     "text": [
      "                                                                         \r"
     ]
    },
    {
     "name": "stderr",
     "output_type": "stream",
     "text": [
      "WARNING: [youtube] n_R0-YosZ3g: Signature extraction failed: Some formats may be missing\n"
     ]
    },
    {
     "name": "stdout",
     "output_type": "stream",
     "text": [
      "                                                                         \r"
     ]
    },
    {
     "name": "stderr",
     "output_type": "stream",
     "text": [
      "WARNING: [youtube] 9mwRYgMmSGE: Signature extraction failed: Some formats may be missing\n"
     ]
    },
    {
     "name": "stdout",
     "output_type": "stream",
     "text": [
      "[download]  55.7% of ~   4.11MiB at    1.07MiB/s ETA 00:02 (frag 21/36) "
     ]
    },
    {
     "name": "stderr",
     "output_type": "stream",
     "text": [
      "WARNING: [youtube] JOaexSYZuVQ: Signature extraction failed: Some formats may be missing\n"
     ]
    },
    {
     "name": "stdout",
     "output_type": "stream",
     "text": [
      "                                                                         \r"
     ]
    },
    {
     "name": "stderr",
     "output_type": "stream",
     "text": [
      "WARNING: [youtube] hQrEHRbQvJs: nsig extraction failed: Some formats may be missing\n",
      "         Install PhantomJS to workaround the issue. Please download it from https://phantomjs.org/download.html\n",
      "         n = a4rdoISx4gMmXEFXh ; player = https://www.youtube.com/s/player/363db69b/player_ias.vflset/en_US/base.js\n",
      "WARNING: [youtube] hQrEHRbQvJs: nsig extraction failed: Some formats may be missing\n",
      "         Install PhantomJS to workaround the issue. Please download it from https://phantomjs.org/download.html\n",
      "         n = -hcBh999ZYV42M2n5 ; player = https://www.youtube.com/s/player/363db69b/player_ias.vflset/en_US/base.js\n",
      "WARNING: [youtube] hQrEHRbQvJs: nsig extraction failed: Some formats may be missing\n",
      "         Install PhantomJS to workaround the issue. Please download it from https://phantomjs.org/download.html\n",
      "         n = XlCj_57hK3tfE6-12 ; player = https://www.youtube.com/s/player/363db69b/player_ias.vflset/en_US/base.js\n",
      "WARNING: [youtube] hQrEHRbQvJs: nsig extraction failed: Some formats may be missing\n",
      "         Install PhantomJS to workaround the issue. Please download it from https://phantomjs.org/download.html\n",
      "         n = B8dhKr9mRwyWDi4sK ; player = https://www.youtube.com/s/player/363db69b/player_ias.vflset/en_US/base.js\n"
     ]
    },
    {
     "name": "stdout",
     "output_type": "stream",
     "text": [
      "                                                                         \r"
     ]
    },
    {
     "name": "stderr",
     "output_type": "stream",
     "text": [
      "WARNING: [youtube] jip9EXrrf0o: Signature extraction failed: Some formats may be missing\n"
     ]
    },
    {
     "name": "stdout",
     "output_type": "stream",
     "text": [
      "                                                                         \r"
     ]
    },
    {
     "name": "stderr",
     "output_type": "stream",
     "text": [
      "WARNING: [youtube] _xjZtbeKd4E: Signature extraction failed: Some formats may be missing\n"
     ]
    },
    {
     "name": "stdout",
     "output_type": "stream",
     "text": [
      "[download]  47.8% of ~   3.67MiB at    1.43MiB/s ETA 00:01 (frag 22/44)  "
     ]
    },
    {
     "name": "stderr",
     "output_type": "stream",
     "text": [
      "WARNING: [youtube] AEm5O3VnKi8: Signature extraction failed: Some formats may be missing\n"
     ]
    },
    {
     "name": "stdout",
     "output_type": "stream",
     "text": [
      "                                                                         \r"
     ]
    },
    {
     "name": "stderr",
     "output_type": "stream",
     "text": [
      "WARNING: [youtube] Cz6BUM4F2tY: Signature extraction failed: Some formats may be missing\n"
     ]
    },
    {
     "name": "stdout",
     "output_type": "stream",
     "text": [
      "                                                                         \r"
     ]
    },
    {
     "name": "stderr",
     "output_type": "stream",
     "text": [
      "WARNING: [youtube] GiKZ_4EkYsA: Signature extraction failed: Some formats may be missing\n"
     ]
    },
    {
     "name": "stdout",
     "output_type": "stream",
     "text": [
      "                                                                         \r"
     ]
    },
    {
     "name": "stderr",
     "output_type": "stream",
     "text": [
      "WARNING: [youtube] e0hlAEeeNLk: Signature extraction failed: Some formats may be missing\n"
     ]
    },
    {
     "name": "stdout",
     "output_type": "stream",
     "text": [
      "[download]  69.3% of ~   3.35MiB at    1.58MiB/s ETA 00:00 (frag 28/39)  "
     ]
    },
    {
     "name": "stderr",
     "output_type": "stream",
     "text": [
      "WARNING: [youtube] ewdfHYZS0_w: Signature extraction failed: Some formats may be missing\n"
     ]
    },
    {
     "name": "stdout",
     "output_type": "stream",
     "text": [
      "                                                                         \r"
     ]
    },
    {
     "name": "stderr",
     "output_type": "stream",
     "text": [
      "WARNING: [youtube] 4lQvwoiIXPQ: Signature extraction failed: Some formats may be missing\n"
     ]
    },
    {
     "name": "stdout",
     "output_type": "stream",
     "text": [
      "                                                                         \r"
     ]
    },
    {
     "name": "stderr",
     "output_type": "stream",
     "text": [
      "WARNING: [youtube] VEZ_Ui6d9AM: Signature extraction failed: Some formats may be missing\n"
     ]
    },
    {
     "name": "stdout",
     "output_type": "stream",
     "text": [
      "                                                                         \r"
     ]
    },
    {
     "name": "stderr",
     "output_type": "stream",
     "text": [
      "WARNING: [youtube] qi3dicwdbdQ: Signature extraction failed: Some formats may be missing\n",
      "WARNING: [youtube] obH7iPDAn2Q: Signature extraction failed: Some formats may be missing\n"
     ]
    },
    {
     "name": "stdout",
     "output_type": "stream",
     "text": [
      "                                                                         \r"
     ]
    },
    {
     "name": "stderr",
     "output_type": "stream",
     "text": [
      "WARNING: [youtube] zdLvqiOmWq4: Signature extraction failed: Some formats may be missing\n"
     ]
    },
    {
     "name": "stdout",
     "output_type": "stream",
     "text": [
      "                                                                         \r"
     ]
    },
    {
     "name": "stderr",
     "output_type": "stream",
     "text": [
      "WARNING: [youtube] uyWm8DUK06M: Signature extraction failed: Some formats may be missing\n"
     ]
    },
    {
     "name": "stdout",
     "output_type": "stream",
     "text": [
      "[download]   1.3% of ~   6.29MiB at    3.79KiB/s ETA Unknown (frag 1/39)"
     ]
    },
    {
     "name": "stderr",
     "output_type": "stream",
     "text": [
      "WARNING: [youtube] 9MFnF-U7x80: Signature extraction failed: Some formats may be missing\n"
     ]
    },
    {
     "name": "stdout",
     "output_type": "stream",
     "text": [
      "[download]  46.1% of ~   3.11MiB at    1.37MiB/s ETA Unknown (frag 18/37)"
     ]
    },
    {
     "name": "stderr",
     "output_type": "stream",
     "text": [
      "WARNING: [youtube] 4-fuTsZv7bM: Signature extraction failed: Some formats may be missing\n"
     ]
    },
    {
     "name": "stdout",
     "output_type": "stream",
     "text": [
      "                                                                         \r"
     ]
    },
    {
     "name": "stderr",
     "output_type": "stream",
     "text": [
      "WARNING: [youtube] 38k5zr1e0HI: Signature extraction failed: Some formats may be missing\n"
     ]
    },
    {
     "name": "stdout",
     "output_type": "stream",
     "text": [
      "                                                                         \r"
     ]
    },
    {
     "name": "stderr",
     "output_type": "stream",
     "text": [
      "WARNING: [youtube] Od8BLS0huVU: Signature extraction failed: Some formats may be missing\n"
     ]
    },
    {
     "name": "stdout",
     "output_type": "stream",
     "text": [
      "                                                                         \r"
     ]
    },
    {
     "name": "stderr",
     "output_type": "stream",
     "text": [
      "WARNING: [youtube] Xy9heqcKLAI: Signature extraction failed: Some formats may be missing\n"
     ]
    },
    {
     "name": "stdout",
     "output_type": "stream",
     "text": [
      "                                                                         \r"
     ]
    },
    {
     "name": "stderr",
     "output_type": "stream",
     "text": [
      "WARNING: [youtube] BiPKFk85iF4: Signature extraction failed: Some formats may be missing\n"
     ]
    },
    {
     "name": "stdout",
     "output_type": "stream",
     "text": [
      "                                                                         \r"
     ]
    },
    {
     "name": "stderr",
     "output_type": "stream",
     "text": [
      "WARNING: [youtube] 4GsipdjoFmw: Signature extraction failed: Some formats may be missing\n"
     ]
    },
    {
     "name": "stdout",
     "output_type": "stream",
     "text": [
      "                                                                         \r"
     ]
    },
    {
     "name": "stderr",
     "output_type": "stream",
     "text": [
      "WARNING: [youtube] RXj3eL8mhos: Signature extraction failed: Some formats may be missing\n"
     ]
    },
    {
     "name": "stdout",
     "output_type": "stream",
     "text": [
      "[download]  58.4% of ~   3.96MiB at  439.48KiB/s ETA 00:04 (frag 29/48) "
     ]
    },
    {
     "name": "stderr",
     "output_type": "stream",
     "text": [
      "WARNING: [youtube] 639hc_F2TZU: Signature extraction failed: Some formats may be missing\n"
     ]
    },
    {
     "name": "stdout",
     "output_type": "stream",
     "text": [
      "[download]  55.4% of ~   4.60MiB at    1.37MiB/s ETA 00:01 (frag 32/56)  "
     ]
    },
    {
     "name": "stderr",
     "output_type": "stream",
     "text": [
      "WARNING: [youtube] 5BeNHgKEVjs: Signature extraction failed: Some formats may be missing\n"
     ]
    },
    {
     "name": "stdout",
     "output_type": "stream",
     "text": [
      "                                                                         \r"
     ]
    },
    {
     "name": "stderr",
     "output_type": "stream",
     "text": [
      "WARNING: [youtube] SCB3ZlRJSIs: Signature extraction failed: Some formats may be missing\n"
     ]
    },
    {
     "name": "stdout",
     "output_type": "stream",
     "text": [
      "                                                                         \r"
     ]
    },
    {
     "name": "stderr",
     "output_type": "stream",
     "text": [
      "WARNING: [youtube] ZXyToCnqOU0: Signature extraction failed: Some formats may be missing\n"
     ]
    },
    {
     "name": "stdout",
     "output_type": "stream",
     "text": [
      "                                                                         \r"
     ]
    },
    {
     "name": "stderr",
     "output_type": "stream",
     "text": [
      "WARNING: [youtube] h-wATDal7_0: Signature extraction failed: Some formats may be missing\n"
     ]
    },
    {
     "name": "stdout",
     "output_type": "stream",
     "text": [
      "[download]   3.8% of ~   6.29MiB at  300.78KiB/s ETA Unknown (frag 3/59)"
     ]
    },
    {
     "name": "stderr",
     "output_type": "stream",
     "text": [
      "WARNING: [youtube] lu0XVRP_Bfc: Signature extraction failed: Some formats may be missing\n"
     ]
    },
    {
     "name": "stdout",
     "output_type": "stream",
     "text": [
      "[download]  35.7% of ~   4.91MiB at    1.32MiB/s ETA 00:02 (frag 22/59)) "
     ]
    },
    {
     "name": "stderr",
     "output_type": "stream",
     "text": [
      "WARNING: [youtube] VMqDSntAbC0: Signature extraction failed: Some formats may be missing\n"
     ]
    },
    {
     "name": "stdout",
     "output_type": "stream",
     "text": [
      "                                                                         \r"
     ]
    },
    {
     "name": "stderr",
     "output_type": "stream",
     "text": [
      "WARNING: [youtube] JKlFuOpPhrk: Signature extraction failed: Some formats may be missing\n"
     ]
    },
    {
     "name": "stdout",
     "output_type": "stream",
     "text": [
      "                                                                         \r"
     ]
    },
    {
     "name": "stderr",
     "output_type": "stream",
     "text": [
      "WARNING: [youtube] gSsCZJM6OG0: Signature extraction failed: Some formats may be missing\n"
     ]
    },
    {
     "name": "stdout",
     "output_type": "stream",
     "text": [
      "[download]  17.1% of ~   4.20MiB at  882.70KiB/s ETA Unknown (frag 8/54)"
     ]
    },
    {
     "name": "stderr",
     "output_type": "stream",
     "text": [
      "WARNING: [youtube] 639hc_F2TZU: Signature extraction failed: Some formats may be missing\n"
     ]
    },
    {
     "name": "stdout",
     "output_type": "stream",
     "text": [
      "[download]  31.6% of ~   4.54MiB at    1.20MiB/s ETA 00:02 (frag 18/54)  "
     ]
    },
    {
     "name": "stderr",
     "output_type": "stream",
     "text": [
      "WARNING: [youtube] Y3DI2SojC2k: Signature extraction failed: Some formats may be missing\n"
     ]
    },
    {
     "name": "stdout",
     "output_type": "stream",
     "text": [
      "                                                                         \r"
     ]
    },
    {
     "name": "stderr",
     "output_type": "stream",
     "text": [
      "WARNING: [youtube] QbjmVyP9RFg: Signature extraction failed: Some formats may be missing\n"
     ]
    },
    {
     "name": "stdout",
     "output_type": "stream",
     "text": [
      "                                                                         \r"
     ]
    },
    {
     "name": "stderr",
     "output_type": "stream",
     "text": [
      "WARNING: [youtube] BGQveM9aiBM: Signature extraction failed: Some formats may be missing\n",
      "WARNING: [youtube] zz1MkneRm6A: Signature extraction failed: Some formats may be missing\n"
     ]
    },
    {
     "name": "stdout",
     "output_type": "stream",
     "text": [
      "                                                                         \r"
     ]
    },
    {
     "name": "stderr",
     "output_type": "stream",
     "text": [
      "WARNING: [youtube] He322O1JWgU: Signature extraction failed: Some formats may be missing\n"
     ]
    },
    {
     "name": "stdout",
     "output_type": "stream",
     "text": [
      "                                                                         \r"
     ]
    },
    {
     "name": "stderr",
     "output_type": "stream",
     "text": [
      "WARNING: [youtube] DwqpODkMSPY: nsig extraction failed: Some formats may be missing\n",
      "         Install PhantomJS to workaround the issue. Please download it from https://phantomjs.org/download.html\n",
      "         n = LQRzN0krFr5ySFwrp ; player = https://www.youtube.com/s/player/363db69b/player_ias.vflset/en_US/base.js\n",
      "WARNING: [youtube] DwqpODkMSPY: nsig extraction failed: Some formats may be missing\n",
      "         Install PhantomJS to workaround the issue. Please download it from https://phantomjs.org/download.html\n",
      "         n = Dn-X7X7lxQ0ft5UvL ; player = https://www.youtube.com/s/player/363db69b/player_ias.vflset/en_US/base.js\n",
      "WARNING: [youtube] DwqpODkMSPY: nsig extraction failed: Some formats may be missing\n",
      "         Install PhantomJS to workaround the issue. Please download it from https://phantomjs.org/download.html\n",
      "         n = LwOmwRN3ndUO5Y1AK ; player = https://www.youtube.com/s/player/363db69b/player_ias.vflset/en_US/base.js\n",
      "WARNING: [youtube] DwqpODkMSPY: nsig extraction failed: Some formats may be missing\n",
      "         Install PhantomJS to workaround the issue. Please download it from https://phantomjs.org/download.html\n",
      "         n = 1ihaIvd4VdIcmaqw0 ; player = https://www.youtube.com/s/player/363db69b/player_ias.vflset/en_US/base.js\n"
     ]
    },
    {
     "name": "stdout",
     "output_type": "stream",
     "text": [
      "                                                                         \r"
     ]
    },
    {
     "name": "stderr",
     "output_type": "stream",
     "text": [
      "WARNING: [youtube] hShEm-xqlPo: Signature extraction failed: Some formats may be missing\n"
     ]
    },
    {
     "name": "stdout",
     "output_type": "stream",
     "text": [
      "                                                                         \r"
     ]
    },
    {
     "name": "stderr",
     "output_type": "stream",
     "text": [
      "WARNING: [youtube] DG6DtnDnQu4: Signature extraction failed: Some formats may be missing\n"
     ]
    },
    {
     "name": "stdout",
     "output_type": "stream",
     "text": [
      "[download]  32.0% of ~   3.74MiB at  996.17KiB/s ETA Unknown (frag 15/44)"
     ]
    },
    {
     "name": "stderr",
     "output_type": "stream",
     "text": [
      "WARNING: [youtube] BQ7vGQn5GzA: Signature extraction failed: Some formats may be missing\n"
     ]
    },
    {
     "name": "stdout",
     "output_type": "stream",
     "text": [
      "                                                                         \r"
     ]
    },
    {
     "name": "stderr",
     "output_type": "stream",
     "text": [
      "WARNING: [youtube] BGQveM9aiBM: Signature extraction failed: Some formats may be missing\n"
     ]
    },
    {
     "name": "stdout",
     "output_type": "stream",
     "text": [
      "                                                                         \r"
     ]
    },
    {
     "name": "stderr",
     "output_type": "stream",
     "text": [
      "WARNING: [youtube] 4fWWsAYxeOM: Signature extraction failed: Some formats may be missing\n"
     ]
    },
    {
     "name": "stdout",
     "output_type": "stream",
     "text": [
      "[download]  71.9% of ~   3.35MiB at    1.31MiB/s ETA 00:01 (frag 29/39)  "
     ]
    },
    {
     "name": "stderr",
     "output_type": "stream",
     "text": [
      "WARNING: [youtube] GsFvjsatO-k: Signature extraction failed: Some formats may be missing\n"
     ]
    },
    {
     "name": "stdout",
     "output_type": "stream",
     "text": [
      "[download]  89.8% of ~   3.15MiB at    1.37MiB/s ETA 00:00 (frag 34/39)"
     ]
    },
    {
     "name": "stderr",
     "output_type": "stream",
     "text": [
      "WARNING: [youtube] IICF6kWdenY: Signature extraction failed: Some formats may be missing\n"
     ]
    },
    {
     "name": "stdout",
     "output_type": "stream",
     "text": [
      "                                                                         \r"
     ]
    },
    {
     "name": "stderr",
     "output_type": "stream",
     "text": [
      "WARNING: [youtube] iG6K6E6VzuU: Signature extraction failed: Some formats may be missing\n"
     ]
    },
    {
     "name": "stdout",
     "output_type": "stream",
     "text": [
      "                                                                         \r"
     ]
    },
    {
     "name": "stderr",
     "output_type": "stream",
     "text": [
      "WARNING: [youtube] T1pfB2LwKqs: Signature extraction failed: Some formats may be missing\n"
     ]
    },
    {
     "name": "stdout",
     "output_type": "stream",
     "text": [
      "                                                                         \r"
     ]
    },
    {
     "name": "stderr",
     "output_type": "stream",
     "text": [
      "WARNING: [youtube] q-EjQQHQQoA: Signature extraction failed: Some formats may be missing\n",
      "WARNING: [youtube] fpimnj4SNjQ: Signature extraction failed: Some formats may be missing\n"
     ]
    },
    {
     "name": "stdout",
     "output_type": "stream",
     "text": [
      "                                                                         \r"
     ]
    },
    {
     "name": "stderr",
     "output_type": "stream",
     "text": [
      "WARNING: [youtube] bf0cjpzXlg4: Signature extraction failed: Some formats may be missing\n"
     ]
    },
    {
     "name": "stdout",
     "output_type": "stream",
     "text": [
      "                                                                         \r"
     ]
    },
    {
     "name": "stderr",
     "output_type": "stream",
     "text": [
      "WARNING: [youtube] vI6fFkHitac: Signature extraction failed: Some formats may be missing\n",
      "WARNING: [youtube] -LZdZ7xqJdE: Signature extraction failed: Some formats may be missing\n"
     ]
    },
    {
     "name": "stdout",
     "output_type": "stream",
     "text": [
      "[download]  77.5% of ~   2.63MiB at    1.33MiB/s ETA 00:00 (frag 25/31)  "
     ]
    },
    {
     "name": "stderr",
     "output_type": "stream",
     "text": [
      "WARNING: [youtube] bnYJz_-fB6A: Signature extraction failed: Some formats may be missing\n"
     ]
    },
    {
     "name": "stdout",
     "output_type": "stream",
     "text": [
      "                                                                         \r"
     ]
    },
    {
     "name": "stderr",
     "output_type": "stream",
     "text": [
      "WARNING: [youtube] 9UK3V5xhED0: Signature extraction failed: Some formats may be missing\n"
     ]
    },
    {
     "name": "stdout",
     "output_type": "stream",
     "text": [
      "                                                                         \r"
     ]
    },
    {
     "name": "stderr",
     "output_type": "stream",
     "text": [
      "WARNING: [youtube] NYmKrd5U_kg: Signature extraction failed: Some formats may be missing\n"
     ]
    },
    {
     "name": "stdout",
     "output_type": "stream",
     "text": [
      "                                                                         \r"
     ]
    },
    {
     "name": "stderr",
     "output_type": "stream",
     "text": [
      "WARNING: [youtube] m5_J7xuYxzs: Signature extraction failed: Some formats may be missing\n"
     ]
    },
    {
     "name": "stdout",
     "output_type": "stream",
     "text": [
      "[download]  11.4% of ~   4.18MiB at  315.77KiB/s ETA Unknown (frag 6/45)"
     ]
    },
    {
     "name": "stderr",
     "output_type": "stream",
     "text": [
      "WARNING: [youtube] CxqCtR57lrI: Signature extraction failed: Some formats may be missing\n"
     ]
    },
    {
     "name": "stdout",
     "output_type": "stream",
     "text": [
      "                                                                         \r"
     ]
    },
    {
     "name": "stderr",
     "output_type": "stream",
     "text": [
      "WARNING: [youtube] LKNly7yX6Hg: Signature extraction failed: Some formats may be missing\n"
     ]
    },
    {
     "name": "stdout",
     "output_type": "stream",
     "text": [
      "                                                                         \r"
     ]
    },
    {
     "name": "stderr",
     "output_type": "stream",
     "text": [
      "WARNING: [youtube] 9Iha7lszlCs: Signature extraction failed: Some formats may be missing\n"
     ]
    },
    {
     "name": "stdout",
     "output_type": "stream",
     "text": [
      "[download]  98.9% of ~   2.97MiB at  929.69KiB/s ETA 00:02 (frag 20/21) "
     ]
    },
    {
     "name": "stderr",
     "output_type": "stream",
     "text": [
      "WARNING: [youtube] HmCN9wiDKyM: nsig extraction failed: Some formats may be missing\n",
      "         Install PhantomJS to workaround the issue. Please download it from https://phantomjs.org/download.html\n",
      "         n = zCUKGYp9c2WeBxqTN ; player = https://www.youtube.com/s/player/4fcd6e4a/player_ias.vflset/en_US/base.js\n"
     ]
    },
    {
     "name": "stdout",
     "output_type": "stream",
     "text": [
      "[download]  99.0% of ~   3.00MiB at  952.42KiB/s ETA 00:02 (frag 20/21)"
     ]
    },
    {
     "name": "stderr",
     "output_type": "stream",
     "text": [
      "WARNING: [youtube] HmCN9wiDKyM: nsig extraction failed: Some formats may be missing\n",
      "         Install PhantomJS to workaround the issue. Please download it from https://phantomjs.org/download.html\n",
      "         n = 7ew5Ftmsq2sgWUnNQ ; player = https://www.youtube.com/s/player/4fcd6e4a/player_ias.vflset/en_US/base.js\n"
     ]
    },
    {
     "name": "stdout",
     "output_type": "stream",
     "text": [
      "[download]  98.8% of ~   3.00MiB at  952.42KiB/s ETA 00:02 (frag 21/21)"
     ]
    },
    {
     "name": "stderr",
     "output_type": "stream",
     "text": [
      "WARNING: [youtube] HmCN9wiDKyM: nsig extraction failed: Some formats may be missing\n",
      "         Install PhantomJS to workaround the issue. Please download it from https://phantomjs.org/download.html\n",
      "         n = gakUaARzePsQWxEgT ; player = https://www.youtube.com/s/player/4fcd6e4a/player_ias.vflset/en_US/base.js\n"
     ]
    },
    {
     "name": "stdout",
     "output_type": "stream",
     "text": [
      "                                                                       \r"
     ]
    },
    {
     "name": "stderr",
     "output_type": "stream",
     "text": [
      "WARNING: [youtube] HmCN9wiDKyM: nsig extraction failed: Some formats may be missing\n",
      "         Install PhantomJS to workaround the issue. Please download it from https://phantomjs.org/download.html\n",
      "         n = 3lSJlNgr3XkUVNzAQ ; player = https://www.youtube.com/s/player/4fcd6e4a/player_ias.vflset/en_US/base.js\n",
      "WARNING: [youtube] dolgk5P2Bb8: Signature extraction failed: Some formats may be missing\n"
     ]
    },
    {
     "name": "stdout",
     "output_type": "stream",
     "text": [
      "[download]  10.5% of ~   4.52MiB at  281.57KiB/s ETA 00:07 (frag 6/49)  "
     ]
    },
    {
     "name": "stderr",
     "output_type": "stream",
     "text": [
      "WARNING: [youtube] I47TUcJj9po: Signature extraction failed: Some formats may be missing\n"
     ]
    },
    {
     "name": "stdout",
     "output_type": "stream",
     "text": [
      "                                                                         \r"
     ]
    },
    {
     "name": "stderr",
     "output_type": "stream",
     "text": [
      "WARNING: [youtube] s3Fs7dlZ7WY: Signature extraction failed: Some formats may be missing\n"
     ]
    },
    {
     "name": "stdout",
     "output_type": "stream",
     "text": [
      "[download]  79.4% of ~   4.92MiB at    1.36MiB/s ETA 00:01 (frag 49/63)  "
     ]
    },
    {
     "name": "stderr",
     "output_type": "stream",
     "text": [
      "WARNING: [youtube] BzYGbjSdBUI: Signature extraction failed: Some formats may be missing\n"
     ]
    },
    {
     "name": "stdout",
     "output_type": "stream",
     "text": [
      "[download]  60.2% of ~   3.44MiB at    1.96MiB/s ETA Unknown (frag 19/30)"
     ]
    },
    {
     "name": "stderr",
     "output_type": "stream",
     "text": [
      "WARNING: [youtube] 2WvGOE95Rjo: Signature extraction failed: Some formats may be missing\n"
     ]
    },
    {
     "name": "stdout",
     "output_type": "stream",
     "text": [
      "[download]  75.6% of ~   3.69MiB at  613.32KiB/s ETA 00:02 (frag 35/45)  "
     ]
    },
    {
     "name": "stderr",
     "output_type": "stream",
     "text": [
      "WARNING: [youtube] -YIj6H4ShQA: Signature extraction failed: Some formats may be missing\n"
     ]
    },
    {
     "name": "stdout",
     "output_type": "stream",
     "text": [
      "                                                                         \r"
     ]
    },
    {
     "name": "stderr",
     "output_type": "stream",
     "text": [
      "WARNING: [youtube] 1_0LRhtdUBo: Signature extraction failed: Some formats may be missing\n"
     ]
    },
    {
     "name": "stdout",
     "output_type": "stream",
     "text": [
      "                                                                         \r"
     ]
    },
    {
     "name": "stderr",
     "output_type": "stream",
     "text": [
      "WARNING: [youtube] hwBh13zqlVE: Signature extraction failed: Some formats may be missing\n"
     ]
    },
    {
     "name": "stdout",
     "output_type": "stream",
     "text": [
      "[download]  19.3% of ~   4.12MiB at  915.84KiB/s ETA Unknown (frag 10/47)"
     ]
    },
    {
     "name": "stderr",
     "output_type": "stream",
     "text": [
      "WARNING: [youtube] 5i7_T3HDZNA: Signature extraction failed: Some formats may be missing\n"
     ]
    },
    {
     "name": "stdout",
     "output_type": "stream",
     "text": [
      "[download]  46.9% of ~   3.91MiB at    1.31MiB/s ETA 00:01 (frag 23/47)) "
     ]
    },
    {
     "name": "stderr",
     "output_type": "stream",
     "text": [
      "WARNING: [youtube] VrQWxC7kBlo: Signature extraction failed: Some formats may be missing\n"
     ]
    },
    {
     "name": "stdout",
     "output_type": "stream",
     "text": [
      "                                                                         \r"
     ]
    },
    {
     "name": "stderr",
     "output_type": "stream",
     "text": [
      "WARNING: [youtube] FJuOEuvMAnE: Signature extraction failed: Some formats may be missing\n"
     ]
    },
    {
     "name": "stdout",
     "output_type": "stream",
     "text": [
      "                                                                         \r"
     ]
    },
    {
     "name": "stderr",
     "output_type": "stream",
     "text": [
      "WARNING: [youtube] m5BMmuwcGtg: Signature extraction failed: Some formats may be missing\n"
     ]
    },
    {
     "name": "stdout",
     "output_type": "stream",
     "text": [
      "[download]  19.3% of ~   3.72MiB at  861.52KiB/s ETA Unknown (frag 9/42)"
     ]
    },
    {
     "name": "stderr",
     "output_type": "stream",
     "text": [
      "WARNING: [youtube] E30APZxHh4c: Signature extraction failed: Some formats may be missing\n"
     ]
    },
    {
     "name": "stdout",
     "output_type": "stream",
     "text": [
      "[download]  33.5% of ~   3.57MiB at    1.27MiB/s ETA Unknown (frag 15/42)"
     ]
    },
    {
     "name": "stderr",
     "output_type": "stream",
     "text": [
      "WARNING: [youtube] I7na3x3mGZ8: Signature extraction failed: Some formats may be missing\n"
     ]
    },
    {
     "name": "stdout",
     "output_type": "stream",
     "text": [
      "                                                                         \r"
     ]
    },
    {
     "name": "stderr",
     "output_type": "stream",
     "text": [
      "WARNING: [youtube] 9A7IyKB0Oec: Signature extraction failed: Some formats may be missing\n"
     ]
    },
    {
     "name": "stdout",
     "output_type": "stream",
     "text": [
      "                                                                         \r"
     ]
    },
    {
     "name": "stderr",
     "output_type": "stream",
     "text": [
      "WARNING: [youtube] qPC5s_R6cfE: Signature extraction failed: Some formats may be missing\n"
     ]
    },
    {
     "name": "stdout",
     "output_type": "stream",
     "text": [
      "                                                                         \r"
     ]
    },
    {
     "name": "stderr",
     "output_type": "stream",
     "text": [
      "WARNING: [youtube] iZLt0FfCsKI: Signature extraction failed: Some formats may be missing\n"
     ]
    },
    {
     "name": "stdout",
     "output_type": "stream",
     "text": [
      "                                                                         \r"
     ]
    },
    {
     "name": "stderr",
     "output_type": "stream",
     "text": [
      "WARNING: [youtube] k-J_LxWLXeo: Signature extraction failed: Some formats may be missing\n"
     ]
    },
    {
     "name": "stdout",
     "output_type": "stream",
     "text": [
      "                                                                         \r"
     ]
    },
    {
     "name": "stderr",
     "output_type": "stream",
     "text": [
      "WARNING: [youtube] cwo4HK6pJeQ: Signature extraction failed: Some formats may be missing\n"
     ]
    },
    {
     "name": "stdout",
     "output_type": "stream",
     "text": [
      "                                                                         \r"
     ]
    }
   ],
   "source": [
    "# check_gg_mode_key[['key', 'scale']] = check_gg_mode_key[].apply(find_mode_key)\n",
    "# check_gg_mode_key['track_link'] = check_gg_mode_key.apply(lambda x: download_songs(x.track_name, x.artist_name), axis=1)\n",
    "import download_audio \n",
    "track_links = download_audio.download_songs_in_dataframe(check_gg_mode_key)"
   ]
  },
  {
   "cell_type": "code",
   "execution_count": 16,
   "metadata": {},
   "outputs": [
    {
     "data": {
      "text/html": [
       "<div>\n",
       "<style scoped>\n",
       "    .dataframe tbody tr th:only-of-type {\n",
       "        vertical-align: middle;\n",
       "    }\n",
       "\n",
       "    .dataframe tbody tr th {\n",
       "        vertical-align: top;\n",
       "    }\n",
       "\n",
       "    .dataframe thead th {\n",
       "        text-align: right;\n",
       "    }\n",
       "</style>\n",
       "<table border=\"1\" class=\"dataframe\">\n",
       "  <thead>\n",
       "    <tr style=\"text-align: right;\">\n",
       "      <th></th>\n",
       "      <th>artist_name</th>\n",
       "      <th>track_name</th>\n",
       "      <th>key</th>\n",
       "      <th>mode</th>\n",
       "    </tr>\n",
       "  </thead>\n",
       "  <tbody>\n",
       "    <tr>\n",
       "      <th>0</th>\n",
       "      <td>ITZY</td>\n",
       "      <td>달라달라 DALLA DALLA</td>\n",
       "      <td>B</td>\n",
       "      <td>Minor</td>\n",
       "    </tr>\n",
       "    <tr>\n",
       "      <th>1</th>\n",
       "      <td>ITZY</td>\n",
       "      <td>WANT IT?</td>\n",
       "      <td>F</td>\n",
       "      <td>Major</td>\n",
       "    </tr>\n",
       "    <tr>\n",
       "      <th>2</th>\n",
       "      <td>Girls' Generation</td>\n",
       "      <td>Lion Heart</td>\n",
       "      <td>D</td>\n",
       "      <td>Major</td>\n",
       "    </tr>\n",
       "    <tr>\n",
       "      <th>3</th>\n",
       "      <td>ITZY</td>\n",
       "      <td>달라달라 (DALLA DALLA)</td>\n",
       "      <td>B</td>\n",
       "      <td>Minor</td>\n",
       "    </tr>\n",
       "    <tr>\n",
       "      <th>4</th>\n",
       "      <td>Girls' Generation</td>\n",
       "      <td>I GOT A BOY</td>\n",
       "      <td>E</td>\n",
       "      <td>Minor</td>\n",
       "    </tr>\n",
       "    <tr>\n",
       "      <th>...</th>\n",
       "      <td>...</td>\n",
       "      <td>...</td>\n",
       "      <td>...</td>\n",
       "      <td>...</td>\n",
       "    </tr>\n",
       "    <tr>\n",
       "      <th>122</th>\n",
       "      <td>BTS</td>\n",
       "      <td>Hold Me Tight</td>\n",
       "      <td>F#</td>\n",
       "      <td>Major</td>\n",
       "    </tr>\n",
       "    <tr>\n",
       "      <th>123</th>\n",
       "      <td>BTS</td>\n",
       "      <td>Attack on Bangtan</td>\n",
       "      <td>B</td>\n",
       "      <td>Minor</td>\n",
       "    </tr>\n",
       "    <tr>\n",
       "      <th>124</th>\n",
       "      <td>BTS</td>\n",
       "      <td>Love Is Not Over (Full Length Edition)</td>\n",
       "      <td>D</td>\n",
       "      <td>Major</td>\n",
       "    </tr>\n",
       "    <tr>\n",
       "      <th>125</th>\n",
       "      <td>BTS</td>\n",
       "      <td>Tomorrow</td>\n",
       "      <td>C#</td>\n",
       "      <td>Minor</td>\n",
       "    </tr>\n",
       "    <tr>\n",
       "      <th>126</th>\n",
       "      <td>BTS</td>\n",
       "      <td>N.O</td>\n",
       "      <td>B</td>\n",
       "      <td>Minor</td>\n",
       "    </tr>\n",
       "  </tbody>\n",
       "</table>\n",
       "<p>127 rows × 4 columns</p>\n",
       "</div>"
      ],
      "text/plain": [
       "           artist_name                              track_name key   mode\n",
       "0                 ITZY                        달라달라 DALLA DALLA   B  Minor\n",
       "1                 ITZY                                WANT IT?   F  Major\n",
       "2    Girls' Generation                              Lion Heart   D  Major\n",
       "3                 ITZY                      달라달라 (DALLA DALLA)   B  Minor\n",
       "4    Girls' Generation                             I GOT A BOY   E  Minor\n",
       "..                 ...                                     ...  ..    ...\n",
       "122                BTS                           Hold Me Tight  F#  Major\n",
       "123                BTS                       Attack on Bangtan   B  Minor\n",
       "124                BTS  Love Is Not Over (Full Length Edition)   D  Major\n",
       "125                BTS                                Tomorrow  C#  Minor\n",
       "126                BTS                                     N.O   B  Minor\n",
       "\n",
       "[127 rows x 4 columns]"
      ]
     },
     "execution_count": 16,
     "metadata": {},
     "output_type": "execute_result"
    }
   ],
   "source": [
    "check_gg_mode_key"
   ]
  },
  {
   "cell_type": "code",
   "execution_count": 9,
   "metadata": {},
   "outputs": [
    {
     "data": {
      "text/plain": [
       "['/tmp/달라달라 DALLA DALLA_ITZY.wav',\n",
       " '/tmp/달라달라 (DALLA DALLA)_ITZY.wav',\n",
       " \"/tmp/Lion Heart_Girls' Generation.wav\",\n",
       " '/tmp/WANT IT?_ITZY.wav',\n",
       " \"/tmp/I GOT A BOY_Girls' Generation.wav\",\n",
       " \"/tmp/All Night_Girls' Generation.wav\",\n",
       " \"/tmp/The Boys_Girls' Generation.wav\",\n",
       " \"/tmp/Mr.Mr._Girls' Generation.wav\",\n",
       " \"/tmp/Holiday_Girls' Generation.wav\",\n",
       " \"/tmp/Catch Me If You Can - Korean Version_Girls' Generation.wav\",\n",
       " \"/tmp/You Think_Girls' Generation.wav\",\n",
       " '/tmp/FAKE LOVE_BTS.wav',\n",
       " '/tmp/DDU-DU DDU-DU_BLACKPINK.wav',\n",
       " '/tmp/IDOL_BTS.wav',\n",
       " '/tmp/Euphoria_BTS.wav',\n",
       " '/tmp/Blood Sweat & Tears_BTS.wav',\n",
       " '/tmp/CROWN_TOMORROW X TOGETHER.wav',\n",
       " '/tmp/DNA_BTS.wav',\n",
       " '/tmp/Spring Day_BTS.wav',\n",
       " '/tmp/MIC Drop (feat. Desiigner) [Steve Aoki Remix]_BTS.wav',\n",
       " \"/tmp/As If It's Your Last_BLACKPINK.wav\",\n",
       " '/tmp/Serendipity (Full Length Edition)_BTS.wav',\n",
       " '/tmp/Trivia 轉 : Seesaw_BTS.wav',\n",
       " '/tmp/Save Me_BTS.wav',\n",
       " '/tmp/Bad Boy_Red Velvet.wav',\n",
       " \"/tmp/I'm Fine_BTS.wav\",\n",
       " '/tmp/BOOMBAYAH_BLACKPINK.wav',\n",
       " '/tmp/Epiphany_BTS.wav',\n",
       " '/tmp/Burning Up (Fire)_BTS.wav',\n",
       " '/tmp/La Vie en Rose_IZ*ONE.wav',\n",
       " '/tmp/MIC Drop (Steve Aoki Remix) [Full Length Edition]_BTS.wav',\n",
       " '/tmp/Forever Young_BLACKPINK.wav',\n",
       " '/tmp/Not Today_BTS.wav',\n",
       " '/tmp/PLAYING WITH FIRE_BLACKPINK.wav',\n",
       " '/tmp/Singularity_BTS.wav',\n",
       " '/tmp/The Truth Untold_BTS.wav',\n",
       " '/tmp/RBB (Really Bad Boy)_Red Velvet.wav',\n",
       " '/tmp/Senorita_(G)I-DLE.wav',\n",
       " '/tmp/Airplane pt.2_BTS.wav',\n",
       " '/tmp/Cat & Dog_TOMORROW X TOGETHER.wav',\n",
       " '/tmp/피카부 Peek-A-Boo_Red Velvet.wav',\n",
       " '/tmp/Blue Orangeade_TOMORROW X TOGETHER.wav',\n",
       " '/tmp/Lie_BTS.wav',\n",
       " '/tmp/Our Summer_TOMORROW X TOGETHER.wav',\n",
       " '/tmp/Anpanman_BTS.wav',\n",
       " '/tmp/Love Maze_BTS.wav',\n",
       " '/tmp/Answer : Love Myself_BTS.wav',\n",
       " '/tmp/LATATA_(G)I-DLE.wav',\n",
       " '/tmp/Say My Name_ATEEZ.wav',\n",
       " '/tmp/I Need U_BTS.wav',\n",
       " '/tmp/Trivia 起 : Just Dance_BTS.wav',\n",
       " '/tmp/Go Go_BTS.wav',\n",
       " \"/tmp/Don't Leave Me_BTS.wav\",\n",
       " '/tmp/Trivia 承 : Love_BTS.wav',\n",
       " '/tmp/HANN (Alone)_(G)I-DLE.wav',\n",
       " '/tmp/Home_SEVENTEEN.wav',\n",
       " '/tmp/WHISTLE_BLACKPINK.wav',\n",
       " '/tmp/Pied Piper_BTS.wav',\n",
       " '/tmp/Paradise_BTS.wav',\n",
       " '/tmp/Dope_BTS.wav',\n",
       " '/tmp/So What_BTS.wav',\n",
       " '/tmp/Intro: Singularity_BTS.wav',\n",
       " '/tmp/Good to Me_SEVENTEEN.wav',\n",
       " \"/tmp/Don't Wanna Cry_SEVENTEEN.wav\",\n",
       " '/tmp/Magic Shop_BTS.wav',\n",
       " '/tmp/BTS Cypher 4_BTS.wav',\n",
       " '/tmp/Butterfly_BTS.wav',\n",
       " '/tmp/Run_BTS.wav',\n",
       " '/tmp/Silver Spoon_BTS.wav',\n",
       " '/tmp/Nap of a star_TOMORROW X TOGETHER.wav',\n",
       " '/tmp/Tear_BTS.wav',\n",
       " '/tmp/Danger_BTS.wav',\n",
       " '/tmp/House of Cards (Full Length Edition)_BTS.wav',\n",
       " '/tmp/Power Up_Red Velvet.wav',\n",
       " '/tmp/134340_BTS.wav',\n",
       " '/tmp/Best Of Me_BTS.wav',\n",
       " '/tmp/Let Go_BTS.wav',\n",
       " '/tmp/21st Century Girl_BTS.wav',\n",
       " '/tmp/빨간 맛 Red Flavor_Red Velvet.wav',\n",
       " '/tmp/Intro: Serendipity_BTS.wav',\n",
       " '/tmp/Outro: Tear_BTS.wav',\n",
       " '/tmp/HALA HALA (Hearts Awakened, Live Alive)_ATEEZ.wav',\n",
       " '/tmp/Dimple_BTS.wav',\n",
       " '/tmp/MIC Drop_BTS.wav',\n",
       " '/tmp/Really_BLACKPINK.wav',\n",
       " '/tmp/Pirate King_ATEEZ.wav',\n",
       " '/tmp/No More Dream_BTS.wav',\n",
       " '/tmp/Outro: Wings_BTS.wav',\n",
       " '/tmp/Stigma_BTS.wav',\n",
       " '/tmp/dimple_BTS.wav',\n",
       " '/tmp/PIRI_DREAMCATCHER.wav',\n",
       " '/tmp/Oh My!_SEVENTEEN.wav',\n",
       " '/tmp/Boy in Luv_BTS.wav',\n",
       " '/tmp/Epilogue: Young Forever_BTS.wav',\n",
       " '/tmp/War of Hormone_BTS.wav',\n",
       " '/tmp/See U Later_BLACKPINK.wav',\n",
       " '/tmp/Getting Closer_SEVENTEEN.wav',\n",
       " '/tmp/Just One Day_BTS.wav',\n",
       " '/tmp/CLAP_SEVENTEEN.wav',\n",
       " '/tmp/We Are Bulletproof Pt.2_BTS.wav',\n",
       " '/tmp/STAY_BLACKPINK.wav',\n",
       " '/tmp/Awake_BTS.wav',\n",
       " '/tmp/Intro: Boy Meets Evil_BTS.wav',\n",
       " '/tmp/THANKS_SEVENTEEN.wav',\n",
       " '/tmp/Begin_BTS.wav',\n",
       " '/tmp/Dumb Dumb_Red Velvet.wav',\n",
       " '/tmp/VERY NICE_SEVENTEEN.wav',\n",
       " '/tmp/BTS Cypher Pt.3: Killer_BTS.wav',\n",
       " '/tmp/Treasure_ATEEZ.wav',\n",
       " '/tmp/Boyz with Fun_BTS.wav',\n",
       " '/tmp/Russian Roulette_Red Velvet.wav',\n",
       " '/tmp/Crystal Snow_BTS.wav',\n",
       " '/tmp/Her_BTS.wav',\n",
       " '/tmp/Lost_BTS.wav',\n",
       " '/tmp/Bad Boy - (English Version) [Bonus Track]_Red Velvet.wav',\n",
       " '/tmp/FAKE LOVE (Rocking Vibe Mix)_BTS.wav',\n",
       " '/tmp/Sunrise_GFRIEND.wav',\n",
       " '/tmp/Let Me Know_BTS.wav',\n",
       " '/tmp/Coffee_BTS.wav',\n",
       " '/tmp/MAMA_BTS.wav',\n",
       " '/tmp/Like_BTS.wav',\n",
       " '/tmp/2! 3!_BTS.wav',\n",
       " '/tmp/Hold Me Tight_BTS.wav',\n",
       " '/tmp/Attack on Bangtan_BTS.wav',\n",
       " '/tmp/Love Is Not Over (Full Length Edition)_BTS.wav',\n",
       " '/tmp/Tomorrow_BTS.wav',\n",
       " '/tmp/N.O_BTS.wav']"
      ]
     },
     "execution_count": 9,
     "metadata": {},
     "output_type": "execute_result"
    }
   ],
   "source": [
    "track_links"
   ]
  },
  {
   "cell_type": "code",
   "execution_count": null,
   "metadata": {},
   "outputs": [
    {
     "name": "stderr",
     "output_type": "stream",
     "text": [
      "2025-03-25 21:39:29.063784: W tensorflow/core/common_runtime/gpu/gpu_device.cc:1766] Cannot dlopen some GPU libraries. Please make sure the missing libraries mentioned above are installed properly if you would like to use GPU. Follow the guide at https://www.tensorflow.org/install/gpu for how to download and setup the required libraries for your platform.\n",
      "Skipping registering GPU devices...\n",
      "2025-03-25 21:39:30.130299: W tensorflow/core/common_runtime/gpu/gpu_device.cc:1766] Cannot dlopen some GPU libraries. Please make sure the missing libraries mentioned above are installed properly if you would like to use GPU. Follow the guide at https://www.tensorflow.org/install/gpu for how to download and setup the required libraries for your platform.\n",
      "Skipping registering GPU devices...\n",
      "2025-03-25 21:39:35.832317: W tensorflow/core/common_runtime/gpu/gpu_device.cc:1766] Cannot dlopen some GPU libraries. Please make sure the missing libraries mentioned above are installed properly if you would like to use GPU. Follow the guide at https://www.tensorflow.org/install/gpu for how to download and setup the required libraries for your platform.\n",
      "Skipping registering GPU devices...\n",
      "2025-03-25 21:39:35.833075: W tensorflow/core/common_runtime/gpu/gpu_device.cc:1766] Cannot dlopen some GPU libraries. Please make sure the missing libraries mentioned above are installed properly if you would like to use GPU. Follow the guide at https://www.tensorflow.org/install/gpu for how to download and setup the required libraries for your platform.\n",
      "Skipping registering GPU devices...\n",
      "2025-03-25 21:39:35.851646: W tensorflow/core/common_runtime/gpu/gpu_device.cc:1766] Cannot dlopen some GPU libraries. Please make sure the missing libraries mentioned above are installed properly if you would like to use GPU. Follow the guide at https://www.tensorflow.org/install/gpu for how to download and setup the required libraries for your platform.\n",
      "Skipping registering GPU devices...\n",
      "2025-03-25 21:39:36.993596: W tensorflow/core/common_runtime/gpu/gpu_device.cc:1766] Cannot dlopen some GPU libraries. Please make sure the missing libraries mentioned above are installed properly if you would like to use GPU. Follow the guide at https://www.tensorflow.org/install/gpu for how to download and setup the required libraries for your platform.\n",
      "Skipping registering GPU devices...\n",
      "2025-03-25 21:39:36.997234: W tensorflow/core/common_runtime/gpu/gpu_device.cc:1766] Cannot dlopen some GPU libraries. Please make sure the missing libraries mentioned above are installed properly if you would like to use GPU. Follow the guide at https://www.tensorflow.org/install/gpu for how to download and setup the required libraries for your platform.\n",
      "Skipping registering GPU devices...\n",
      "2025-03-25 21:39:36.997837: W tensorflow/core/common_runtime/gpu/gpu_device.cc:1766] Cannot dlopen some GPU libraries. Please make sure the missing libraries mentioned above are installed properly if you would like to use GPU. Follow the guide at https://www.tensorflow.org/install/gpu for how to download and setup the required libraries for your platform.\n",
      "Skipping registering GPU devices...\n",
      "2025-03-25 21:39:36.998272: W tensorflow/core/common_runtime/gpu/gpu_device.cc:1766] Cannot dlopen some GPU libraries. Please make sure the missing libraries mentioned above are installed properly if you would like to use GPU. Follow the guide at https://www.tensorflow.org/install/gpu for how to download and setup the required libraries for your platform.\n",
      "Skipping registering GPU devices...\n",
      "2025-03-25 21:39:37.000897: W tensorflow/core/common_runtime/gpu/gpu_device.cc:1766] Cannot dlopen some GPU libraries. Please make sure the missing libraries mentioned above are installed properly if you would like to use GPU. Follow the guide at https://www.tensorflow.org/install/gpu for how to download and setup the required libraries for your platform.\n",
      "Skipping registering GPU devices...\n",
      "2025-03-25 21:39:37.003886: W tensorflow/core/common_runtime/gpu/gpu_device.cc:1766] Cannot dlopen some GPU libraries. Please make sure the missing libraries mentioned above are installed properly if you would like to use GPU. Follow the guide at https://www.tensorflow.org/install/gpu for how to download and setup the required libraries for your platform.\n",
      "Skipping registering GPU devices...\n",
      "2025-03-25 21:39:37.006604: W tensorflow/core/common_runtime/gpu/gpu_device.cc:1766] Cannot dlopen some GPU libraries. Please make sure the missing libraries mentioned above are installed properly if you would like to use GPU. Follow the guide at https://www.tensorflow.org/install/gpu for how to download and setup the required libraries for your platform.\n",
      "Skipping registering GPU devices...\n",
      "2025-03-25 21:39:37.009568: W tensorflow/core/common_runtime/gpu/gpu_device.cc:1766] Cannot dlopen some GPU libraries. Please make sure the missing libraries mentioned above are installed properly if you would like to use GPU. Follow the guide at https://www.tensorflow.org/install/gpu for how to download and setup the required libraries for your platform.\n",
      "Skipping registering GPU devices...\n",
      "2025-03-25 21:39:37.010141: W tensorflow/core/common_runtime/gpu/gpu_device.cc:1766] Cannot dlopen some GPU libraries. Please make sure the missing libraries mentioned above are installed properly if you would like to use GPU. Follow the guide at https://www.tensorflow.org/install/gpu for how to download and setup the required libraries for your platform.\n",
      "Skipping registering GPU devices...\n",
      "2025-03-25 21:39:37.010590: W tensorflow/core/common_runtime/gpu/gpu_device.cc:1766] Cannot dlopen some GPU libraries. Please make sure the missing libraries mentioned above are installed properly if you would like to use GPU. Follow the guide at https://www.tensorflow.org/install/gpu for how to download and setup the required libraries for your platform.\n",
      "Skipping registering GPU devices...\n",
      "2025-03-25 21:39:37.013367: W tensorflow/core/common_runtime/gpu/gpu_device.cc:1766] Cannot dlopen some GPU libraries. Please make sure the missing libraries mentioned above are installed properly if you would like to use GPU. Follow the guide at https://www.tensorflow.org/install/gpu for how to download and setup the required libraries for your platform.\n",
      "Skipping registering GPU devices...\n",
      "2025-03-25 21:39:37.016157: W tensorflow/core/common_runtime/gpu/gpu_device.cc:1766] Canno"
     ]
    }
   ],
   "source": [
    "analyze_song_parallel(track_links, 8)"
   ]
  }
 ],
 "metadata": {
  "kernelspec": {
   "display_name": "essentia",
   "language": "python",
   "name": "python3"
  },
  "language_info": {
   "codemirror_mode": {
    "name": "ipython",
    "version": 3
   },
   "file_extension": ".py",
   "mimetype": "text/x-python",
   "name": "python",
   "nbconvert_exporter": "python",
   "pygments_lexer": "ipython3",
   "version": "3.10.16"
  }
 },
 "nbformat": 4,
 "nbformat_minor": 2
}
