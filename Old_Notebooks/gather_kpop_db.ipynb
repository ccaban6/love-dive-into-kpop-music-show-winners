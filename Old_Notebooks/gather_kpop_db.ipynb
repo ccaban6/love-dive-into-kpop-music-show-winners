{
 "cells": [
  {
   "cell_type": "code",
   "execution_count": 2,
   "id": "289036f2",
   "metadata": {},
   "outputs": [],
   "source": [
    "import pandas as pd\n",
    "import mysql.connector"
   ]
  },
  {
   "cell_type": "code",
   "execution_count": 11,
   "id": "a8950079",
   "metadata": {},
   "outputs": [
    {
     "name": "stdout",
     "output_type": "stream",
     "text": [
      "[('app_kpop',), ('app_kpop_agrelation',), ('app_kpop_billboard',), ('app_kpop_company',), ('app_kpop_gaondigi',), ('app_kpop_group',), ('app_kpop_ms',), ('app_upcoming',)]\n"
     ]
    }
   ],
   "source": [
    "conn = mysql.connector.connect(\n",
    "    host='localhost',\n",
    "    user='root',\n",
    "    password='RedDevil#15',\n",
    "    database='kpop_db'\n",
    ")\n",
    "\n",
    "cursor = conn.cursor()\n",
    "cursor.execute(\"SHOW TABLES;\")\n",
    "print(cursor.fetchall())\n",
    "for table in cursor.fetchall():\n",
    "    df = pd.read_csv(f\"SELECT * FROM {table}\", conn)\n",
    "    df.to_csv(f\"data/sql/{table}.csv\", index=False)\n",
    "conn.close()"
   ]
  }
 ],
 "metadata": {
  "kernelspec": {
   "display_name": "essentia",
   "language": "python",
   "name": "python3"
  },
  "language_info": {
   "codemirror_mode": {
    "name": "ipython",
    "version": 3
   },
   "file_extension": ".py",
   "mimetype": "text/x-python",
   "name": "python",
   "nbconvert_exporter": "python",
   "pygments_lexer": "ipython3",
   "version": "3.10.16"
  }
 },
 "nbformat": 4,
 "nbformat_minor": 5
}
